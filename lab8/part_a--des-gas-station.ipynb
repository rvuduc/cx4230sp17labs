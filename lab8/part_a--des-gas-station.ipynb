{
 "cells": [
  {
   "cell_type": "markdown",
   "metadata": {
    "nbgrader": {
     "grade": false,
     "solution": false
    }
   },
   "source": [
    "# Important note!\n",
    "\n",
    "Before you turn this problem in, make sure everything runs as expected. First, **restart the kernel** (in the menubar, select Kernel$\\rightarrow$Restart) and then **run all cells** (in the menubar, select Cell$\\rightarrow$Run All).\n",
    "\n",
    "Make sure you fill in any place that says `YOUR CODE HERE` or \"YOUR ANSWER HERE\", as well as your GT login and the GT logins of any of your collaborators below. (The GT logins are worth 1 point per notebook, so don't miss the opportunity to get a free point!)"
   ]
  },
  {
   "cell_type": "code",
   "execution_count": null,
   "metadata": {
    "collapsed": false,
    "nbgrader": {
     "grade": false,
     "locked": false,
     "solution": false
    }
   },
   "outputs": [],
   "source": [
    "YOUR_ID = \"\" # Please enter your GT login, e.g., \"rvuduc3\" or \"gtg911x\"\n",
    "COLLABORATORS = [] # list of strings of your collaborators' IDs"
   ]
  },
  {
   "cell_type": "code",
   "execution_count": null,
   "metadata": {
    "collapsed": false,
    "deletable": false,
    "nbgrader": {
     "checksum": "b11295002cc2b9549d6a2b01721b6701",
     "grade": true,
     "grade_id": "who__test",
     "locked": true,
     "points": 1,
     "solution": false
    }
   },
   "outputs": [],
   "source": [
    "import re\n",
    "\n",
    "RE_CHECK_ID = re.compile (r'''[a-zA-Z]+\\d+|[gG][tT][gG]\\d+[a-zA-Z]''')\n",
    "assert RE_CHECK_ID.match (YOUR_ID) is not None\n",
    "\n",
    "collab_check = [RE_CHECK_ID.match (i) is not None for i in COLLABORATORS]\n",
    "assert all (collab_check)\n",
    "\n",
    "del collab_check\n",
    "del RE_CHECK_ID\n",
    "del re"
   ]
  },
  {
   "cell_type": "markdown",
   "metadata": {},
   "source": [
    "**Jupyter / IPython version check.** The following code cell verifies that you are using the correct version of Jupyter/IPython."
   ]
  },
  {
   "cell_type": "code",
   "execution_count": null,
   "metadata": {
    "collapsed": true
   },
   "outputs": [],
   "source": [
    "import IPython\n",
    "assert IPython.version_info[0] >= 3, \"Your version of IPython is too old, please update it.\""
   ]
  },
  {
   "cell_type": "markdown",
   "metadata": {},
   "source": [
    "# Queuing model and discrete event simulation of a gas station\n",
    "\n",
    "Recall the introduction to queuing models and discrete event simulators from the last class: [link](https://t-square.gatech.edu/access/content/group/gtc-239f-fc11-5690-9dae-2dc96b59f372/cx4230-sp17--22--queueing.pdf). In this notebook, you will implement it."
   ]
  },
  {
   "cell_type": "markdown",
   "metadata": {},
   "source": [
    "## Exponential random numbers\n",
    "\n",
    "Recall that in a queuing model, it is common to assume that customer interarrival times and service times are independent and identically distributed random variables. Classically, the most commonly assumed distribution is _exponential_.\n",
    "\n",
    "More specifically, an exponentially distributed random variable $X \\sim \\mathcal{E}(\\lambda)$ has the probability density function,\n",
    "\n",
    "$$\n",
    "  f_X(x) = \\lambda \\cdot \\exp\\left(-\\frac{x}{\\lambda}\\right),\n",
    "$$\n",
    "\n",
    "where $\\lambda$ is the mean of the distribution.\n",
    "\n",
    "Using Numpy, these are easy to generate using the function, [`numpy.random.exponential()`](https://docs.scipy.org/doc/numpy/reference/generated/numpy.random.exponential.html).\n",
    "\n",
    "Here is a quick demo."
   ]
  },
  {
   "cell_type": "code",
   "execution_count": null,
   "metadata": {
    "collapsed": false
   },
   "outputs": [],
   "source": [
    "from numpy.random import exponential, seed\n",
    "\n",
    "X_MEAN = 10.0\n",
    "X_COUNT = 5\n",
    "x_values = exponential (X_MEAN, X_COUNT)\n",
    "\n",
    "print (\"X ~ Exp(%g):\" % X_MEAN)\n",
    "for (i, x_i) in enumerate (x_values):\n",
    "    print (\"  X_%d = %g\" % (i, x_i))"
   ]
  },
  {
   "cell_type": "markdown",
   "metadata": {},
   "source": [
    "As a sanity check, let's generate a large number of values and compare the sample mean to the desired (true) mean."
   ]
  },
  {
   "cell_type": "code",
   "execution_count": null,
   "metadata": {
    "collapsed": false
   },
   "outputs": [],
   "source": [
    "from numpy import mean\n",
    "\n",
    "# Demo\n",
    "N_BIG = 1000\n",
    "big_mean = mean (exponential (X_MEAN, N_BIG))\n",
    "print (\"\\nSample mean of %d values: %g (true mean: %g)\" % (N_BIG, big_mean, X_MEAN))"
   ]
  },
  {
   "cell_type": "markdown",
   "metadata": {},
   "source": [
    "## Priority queues\n",
    "\n",
    "To maintain the future event list, you need some kind of priority queue data structure. One classical choice is to use a heap, for which there is a standard implementation in Python: [`heapq` link](http://www.bogotobogo.com/python/python_PriorityQueue_heapq_Data_Structure.php). The `heapq` interface includes the following operations:\n",
    "\n",
    "* `heapify(h)`: Convert an unordered input collection `h` into a min-heap *in-place*.\n",
    "* `heappush(h, x)`: Insert element `x` into the heap `h`.\n",
    "* `x = heappop(h)`: Remove the minimum element from the heap `h`.\n",
    "\n",
    "Here's a quick demo."
   ]
  },
  {
   "cell_type": "code",
   "execution_count": null,
   "metadata": {
    "collapsed": false
   },
   "outputs": [],
   "source": [
    "from heapq import heappush, heappop, heapify"
   ]
  },
  {
   "cell_type": "code",
   "execution_count": null,
   "metadata": {
    "collapsed": false
   },
   "outputs": [],
   "source": [
    "# Method 1: Convert any Python list into a heap\n",
    "h1 = list (x_values)\n",
    "print (\"Initial values:\", h1)\n",
    "\n",
    "heapify (h1)\n",
    "print (\"\\nHeapified:\", h1)\n",
    "\n",
    "print (\"\\nExtracting mins...\")\n",
    "for i in range (len (h1)):\n",
    "    print (i, \":\", heappop (h1), \"[heap: {}]\".format (h1))"
   ]
  },
  {
   "cell_type": "code",
   "execution_count": null,
   "metadata": {
    "collapsed": false
   },
   "outputs": [],
   "source": [
    "# Method 2: Insert values into the heap one at a time\n",
    "\n",
    "print (\"Inserting...\")\n",
    "h2 = []\n",
    "for (i, x_i) in enumerate (x_values):\n",
    "    print (i, \":\", x_i)\n",
    "    heappush (h2, x_i)\n",
    "    \n",
    "print (\"\\nHeap:\", h2)\n",
    "    \n",
    "print (\"\\nExtracting minima...\")\n",
    "for i in range (len (h2)):\n",
    "    print (i, \":\", heappop (h2))"
   ]
  },
  {
   "cell_type": "markdown",
   "metadata": {},
   "source": [
    "## A generic discrete event simulation engine\n",
    "\n",
    "We can build a simple, generic discrete event simulation engine. This engine manages the future event list, which you'll recall is a priority queue of timestamped events. It continually removes the event with the lowest timestamp and processes it."
   ]
  },
  {
   "cell_type": "markdown",
   "metadata": {},
   "source": [
    "Suppose we represent an event by a tuple, `(t, e)`, where `t` is the event's timestamp and `e` is an event handler. An event handler is simply a callback function. Let's suppose that this function takes two arguments, `e(t, s)`, where `t` is (again) the timestamp and `s` is the system state, encoded in an application-specific way. (That means the application developer decides what sort of object `s` represents.) When `e(t, s)` executes, it might update the state `s`."
   ]
  },
  {
   "cell_type": "markdown",
   "metadata": {},
   "source": [
    "**Exercise 1** (2 points). Complete the following function, which implements a generic discrete event simulation engine. The future events list is a heap named `events`. The initial system state is `initial_state`; the starter code below makes a copy of this state as a variable `s`, which your simulator is allowed to modify (and, as the scaffolding code shows, will eventually return)."
   ]
  },
  {
   "cell_type": "code",
   "execution_count": null,
   "metadata": {
    "collapsed": false,
    "deletable": false,
    "nbgrader": {
     "checksum": "fd47f13f8d794183fb9c1b50f12b6562",
     "grade": false,
     "grade_id": "simulate",
     "locked": false,
     "solution": true
    }
   },
   "outputs": [],
   "source": [
    "from copy import deepcopy\n",
    "\n",
    "def simulate (events, initial_state, trace=True):\n",
    "    s = deepcopy (initial_state)\n",
    "    \n",
    "    print (\"\\nFuture event list:\\n%s\" % str (events))\n",
    "    print (\"\\nt=0: %s\" % str (s))\n",
    "    \n",
    "    if trace:\n",
    "        s_all = []\n",
    "        \n",
    "    # `s` is the current simulation state\n",
    "    while events:\n",
    "        # Get event and process it, updating `s`\n",
    "        # YOUR CODE HERE\n",
    "        raise NotImplementedError()\n",
    "        \n",
    "        if trace:\n",
    "            s_all.append (deepcopy (s))\n",
    "            \n",
    "    if trace:\n",
    "        return s_all\n",
    "    else:\n",
    "        return s"
   ]
  },
  {
   "cell_type": "code",
   "execution_count": null,
   "metadata": {
    "collapsed": false,
    "deletable": false,
    "nbgrader": {
     "checksum": "a4bea85b34d2338ac95a212b15efa8ed",
     "grade": true,
     "grade_id": "simulate_test",
     "locked": true,
     "points": 2,
     "solution": false
    }
   },
   "outputs": [],
   "source": [
    "# Let the state be a dictionary with two fields:\n",
    "# 't', which stores a timestamp, and `c`, which\n",
    "# stores an integer count.\n",
    "def test_event_add (t, s):\n",
    "    s['t'] = t\n",
    "    s['c'] += 1\n",
    "    \n",
    "def test_event_sub (t, s):\n",
    "    s['t'] = t\n",
    "    s['c'] -= 1\n",
    "\n",
    "s_test_initial = {'t': 0, 'c': 0}\n",
    "print (\"Initial state:\", s_test_initial)\n",
    "\n",
    "events_test = [(1.23, test_event_add),\n",
    "               (4.72, test_event_add),\n",
    "               (5.1, test_event_add),\n",
    "               (0.75, test_event_sub),\n",
    "               (6.2, test_event_sub)]\n",
    "heapify (events_test)\n",
    "s_test_all = simulate (events_test, s_test_initial)\n",
    "print (\"\\n==> Events processed:\", s_test_all)\n",
    "\n",
    "assert [s_test_all[j]['c'] for j in range (len (s_test_all))] == [-1, 0, 1, 2, 1]\n",
    "assert [s_test_all[j]['t'] for j in range (len (s_test_all))] == [0.75, 1.23, 4.72, 5.1, 6.2]\n",
    "print (\"\\n(Passed.)\")"
   ]
  },
  {
   "cell_type": "markdown",
   "metadata": {},
   "source": [
    "## Instantiating the simulator\n",
    "\n",
    "For the gas station model, suppose we have an existing trace of five cars whose _interarrival times_ are as follows:"
   ]
  },
  {
   "cell_type": "code",
   "execution_count": null,
   "metadata": {
    "collapsed": false
   },
   "outputs": [],
   "source": [
    "car_interarrival_times = [3.6, 5.6, 10.5, 4.1, 1.8] # Minutes\n",
    "print (\"Interrival times (in minutes) of all cars:\\n\", car_interarrival_times)"
   ]
  },
  {
   "cell_type": "markdown",
   "metadata": {},
   "source": [
    "Furthermore, let's suppose that the pumping times and shopping times are exponentially distributed with mean times of 5 minutes and 10 minutes, respectively."
   ]
  },
  {
   "cell_type": "code",
   "execution_count": null,
   "metadata": {
    "collapsed": false
   },
   "outputs": [],
   "source": [
    "# Number of customers (cars)\n",
    "NUM_CARS = len (car_interarrival_times)\n",
    "\n",
    "# Event parameters\n",
    "MEAN_PUMPING_TIME = 5.0 # minutes\n",
    "MEAN_SHOPPING_TIME = 10.0 # minutes"
   ]
  },
  {
   "cell_type": "markdown",
   "metadata": {},
   "source": [
    "Recall that the state consists of the logical simulation time (`now`) and three state variables: `AtPump`, `AtStore`, and `PumpFree`. Let's create this state."
   ]
  },
  {
   "cell_type": "code",
   "execution_count": null,
   "metadata": {
    "collapsed": true
   },
   "outputs": [],
   "source": [
    "state = {'AtPump': 0          # no. cars at pump or waiting\n",
    "         , 'AtStore': 0       # no. cars at store\n",
    "         , 'PumpFree': True   # True <==> pump is available\n",
    "        }"
   ]
  },
  {
   "cell_type": "markdown",
   "metadata": {},
   "source": [
    "Let's represent an _event_ as a tuple, `(t, e)`, where `t` is the timestamp of the event and `e` is an event handler, implemented as a Python function.\n",
    "\n",
    "If the future event list is stored in a **global** priority queue called `events`, the following function will insert an event into that queue."
   ]
  },
  {
   "cell_type": "code",
   "execution_count": null,
   "metadata": {
    "collapsed": false,
    "scrolled": true
   },
   "outputs": [],
   "source": [
    "def schedule (t, e, debug=True):\n",
    "    \"\"\"\n",
    "    Schedules a new event `e` at time `t`.\n",
    "    \"\"\"\n",
    "    global events\n",
    "    if debug: print (\"  ==> '%s' @ t=%g\" % (e.__name__, t))\n",
    "    heappush (events, (t, e))"
   ]
  },
  {
   "cell_type": "markdown",
   "metadata": {},
   "source": [
    "**Defining events: arrivals.** Per the slides from class, let's suppose our simulator will have three possible events. (These event handlers take as input the event timestamp, `t`, and the current simulation state, `s`.)\n",
    "\n",
    "- `arrives(t, s)`: When the simulation is in state `s` at time `t`, a car arrives.\n",
    "- `finishes(t, s)`: When the simulation is in state `s` at time `t`, the car occupying the gas pump finishes pumping gas.\n",
    "- `departs(t, s)`: When the simulation is in state `s` at time `t`, a car at the store leaves the gas station.\n",
    "\n",
    "Below, we define the event handler for car arrival events. Compare it to the sample code in the slides from class. (See, in particular, slide/page 29.) In this case, recall that we pre-generated all car interarrival times in one of the earlier code cells; therefore, the implementation below skips one of the steps that is shown in the slides."
   ]
  },
  {
   "cell_type": "code",
   "execution_count": null,
   "metadata": {
    "collapsed": false
   },
   "outputs": [],
   "source": [
    "def arrives (t, s):\n",
    "    \"\"\"\n",
    "    Processes an arrival event at time `t` for a system in state `s`.\n",
    "    Schedules a pumping event if the pump is free. Returns the new\n",
    "    system state.\n",
    "    \"\"\"\n",
    "    s['AtPump'] += 1\n",
    "    if s['PumpFree']:\n",
    "        s['PumpFree'] = False\n",
    "        schedule (t + exponential (MEAN_PUMPING_TIME), finishes) # `finishes()` TBD, below.\n",
    "    return s"
   ]
  },
  {
   "cell_type": "markdown",
   "metadata": {},
   "source": [
    "**Exercise 2** (2 points). Create an initial future events list by converting the raw interarrival times into arrival events and inserting them into the future events list."
   ]
  },
  {
   "cell_type": "code",
   "execution_count": null,
   "metadata": {
    "collapsed": false,
    "deletable": false,
    "nbgrader": {
     "checksum": "5b0a37570c6b7be6941bd93cf68326fa",
     "grade": false,
     "grade_id": "create_events",
     "locked": false,
     "points": 2,
     "solution": true
    }
   },
   "outputs": [],
   "source": [
    "# Hint: This function may prove useful\n",
    "from numpy import cumsum\n",
    "\n",
    "events = []  # Future event list, initially empty\n",
    "\n",
    "def create_arrival_events (interarrival_times):\n",
    "    # YOUR CODE HERE\n",
    "    raise NotImplementedError()\n",
    "    \n",
    "create_arrival_events (car_interarrival_times)\n",
    "print (\"\\nContents of `events[:]`:\")\n",
    "for (i, event) in enumerate (events):\n",
    "    print (\"[%d] t=%g: %s\" % (i, event[0], event[1].__name__))"
   ]
  },
  {
   "cell_type": "code",
   "execution_count": null,
   "metadata": {
    "collapsed": false,
    "deletable": false,
    "nbgrader": {
     "checksum": "3d696d676bc0c4442f3ad3eab52f462e",
     "grade": true,
     "grade_id": "create_events_test",
     "locked": true,
     "points": 2,
     "solution": false
    }
   },
   "outputs": [],
   "source": [
    "# Test code\n",
    "assert len (events) == 5\n",
    "assert all ([events[i][0] < events[i+1][0] for i in range (len (events)-1)])\n",
    "assert events[-1][0] == sum (car_interarrival_times)\n",
    "print (\"\\n(Passed.)\")"
   ]
  },
  {
   "cell_type": "markdown",
   "metadata": {},
   "source": [
    "**Exercise 3** (4 points). Implement `finishes()` and `departs()`."
   ]
  },
  {
   "cell_type": "code",
   "execution_count": null,
   "metadata": {
    "collapsed": true,
    "deletable": false,
    "nbgrader": {
     "checksum": "f9005f9573eede79943d4eb2931981ef",
     "grade": false,
     "grade_id": "finishes",
     "locked": false,
     "solution": true
    }
   },
   "outputs": [],
   "source": [
    "# YOUR CODE HERE\n",
    "raise NotImplementedError()"
   ]
  },
  {
   "cell_type": "code",
   "execution_count": null,
   "metadata": {
    "collapsed": false,
    "deletable": false,
    "nbgrader": {
     "checksum": "29bd19d73a7c94b1a538aabda3608f40",
     "grade": true,
     "grade_id": "finishes_departs_test",
     "locked": true,
     "points": 4,
     "solution": false
    },
    "scrolled": true
   },
   "outputs": [],
   "source": [
    "state_0 = {'AtPump': 0          # no. cars at pump or waiting\n",
    "           , 'AtStore': 0       # no. cars at store\n",
    "           , 'PumpFree': True   # True <==> pump is available\n",
    "          }\n",
    "\n",
    "events = []\n",
    "create_arrival_events (car_interarrival_times)\n",
    "\n",
    "seed (1)\n",
    "states_all = simulate (events, state_0)\n",
    "\n",
    "assert [states_all[i]['AtPump'] for i in range (len (states_all))] == [1, 0, 1, 0, 0, 0, 1, 0, 0, 1, 0, 1, 0, 0, 0]\n",
    "assert [states_all[i]['AtStore'] for i in range (len (states_all))] == [0, 1, 1, 2, 1, 0, 0, 1, 0, 0, 1, 1, 2, 1, 0]\n",
    "assert [states_all[i]['PumpFree'] for i in range (len (states_all))] == [False, True, False, True, True, True, False, True, True, False, True, False, True, True, True]\n",
    "print (\"\\n(Passed.)\")"
   ]
  },
  {
   "cell_type": "code",
   "execution_count": null,
   "metadata": {
    "collapsed": false
   },
   "outputs": [],
   "source": [
    "# IGNORE this code:\n",
    "for f in ['AtPump', 'AtStore', 'PumpFree']:\n",
    "    values = []\n",
    "    for s in states_all:\n",
    "        values.append (str (s[f]))\n",
    "    print ('assert [states_all[i][\\'{}\\'] for i in range (len (states_all))] == [{}]'.format (f, ', '.join (values)))"
   ]
  }
 ],
 "metadata": {
  "kernelspec": {
   "display_name": "Python 3",
   "language": "python",
   "name": "python3"
  },
  "language_info": {
   "codemirror_mode": {
    "name": "ipython",
    "version": 3
   },
   "file_extension": ".py",
   "mimetype": "text/x-python",
   "name": "python",
   "nbconvert_exporter": "python",
   "pygments_lexer": "ipython3",
   "version": "3.5.1"
  }
 },
 "nbformat": 4,
 "nbformat_minor": 0
}
