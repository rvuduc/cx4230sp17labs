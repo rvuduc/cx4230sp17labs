{
 "cells": [
  {
   "cell_type": "markdown",
   "metadata": {
    "nbgrader": {
     "grade": false,
     "solution": false
    }
   },
   "source": [
    "# Important note!\n",
    "\n",
    "Before you turn this problem in, make sure everything runs as expected. First, **restart the kernel** (in the menubar, select Kernel$\\rightarrow$Restart) and then **run all cells** (in the menubar, select Cell$\\rightarrow$Run All).\n",
    "\n",
    "Make sure you fill in any place that says `YOUR CODE HERE` or \"YOUR ANSWER HERE\", as well as your GT login and the GT logins of any of your collaborators below. (The GT logins are worth 1 point per notebook, so don't miss the opportunity to get a free point!)"
   ]
  },
  {
   "cell_type": "code",
   "execution_count": null,
   "metadata": {
    "collapsed": false,
    "nbgrader": {
     "grade": false,
     "locked": false,
     "solution": false
    }
   },
   "outputs": [],
   "source": [
    "YOUR_ID = \"\" # Please enter your GT login, e.g., \"rvuduc3\" or \"gtg911x\"\n",
    "COLLABORATORS = [] # list of strings of your collaborators' IDs"
   ]
  },
  {
   "cell_type": "code",
   "execution_count": null,
   "metadata": {
    "collapsed": false,
    "deletable": false,
    "nbgrader": {
     "checksum": "b11295002cc2b9549d6a2b01721b6701",
     "grade": true,
     "grade_id": "who__test",
     "locked": true,
     "points": 1,
     "solution": false
    }
   },
   "outputs": [],
   "source": [
    "import re\n",
    "\n",
    "RE_CHECK_ID = re.compile (r'''[a-zA-Z]+\\d+|[gG][tT][gG]\\d+[a-zA-Z]''')\n",
    "assert RE_CHECK_ID.match (YOUR_ID) is not None\n",
    "\n",
    "collab_check = [RE_CHECK_ID.match (i) is not None for i in COLLABORATORS]\n",
    "assert all (collab_check)\n",
    "\n",
    "del collab_check\n",
    "del RE_CHECK_ID\n",
    "del re"
   ]
  },
  {
   "cell_type": "markdown",
   "metadata": {},
   "source": [
    "**Jupyter / IPython version check.** The following code cell verifies that you are using the correct version of Jupyter/IPython."
   ]
  },
  {
   "cell_type": "code",
   "execution_count": null,
   "metadata": {
    "collapsed": true
   },
   "outputs": [],
   "source": [
    "import IPython\n",
    "assert IPython.version_info[0] >= 3, \"Your version of IPython is too old, please update it.\""
   ]
  },
  {
   "cell_type": "markdown",
   "metadata": {},
   "source": [
    "# Is monthly rainfall in Atlanta stationary and homogeneous?"
   ]
  },
  {
   "cell_type": "markdown",
   "metadata": {},
   "source": [
    "In this part of the lab, you will download historical monthly rainfall data for Atlanta and, treating it as a random process, determine whether it appears to be a) stationary and b) homogeneous?\n",
    "\n",
    "First, let's download and plot the data, which is taken from [weather.gov](http://weather.gov) and covers the eleven year period from 1996-2016. Here is some code to inspect it. The main result are two variables, `months` and `rainfall`, which stores the time measured as number of months since January 1, 1996 and monthly precipitation in inches, respectively."
   ]
  },
  {
   "cell_type": "code",
   "execution_count": null,
   "metadata": {
    "collapsed": false
   },
   "outputs": [],
   "source": [
    "import numpy as np\n",
    "import pandas as pd\n",
    "\n",
    "rain_atl_raw = pd.read_table ('https://raw.githubusercontent.com/rvuduc/cx4230sp17labs/master/lab8/rain-atl-raw.txt', comment='#')\n",
    "months = ['Jan', 'Feb', 'Mar', 'Apr', 'May', 'Jun', 'Jul', 'Aug', 'Sep', 'Oct', 'Nov', 'Dec']\n",
    "month_ids = [i+1 for i in range (len (months))]\n",
    "rain_atl_raw.rename (columns={m: i for m, i in zip (months, month_ids)},\n",
    "                     inplace=True)\n",
    "rain_atl = pd.melt (rain_atl_raw,\n",
    "                    id_vars=['Year'],\n",
    "                    value_vars=month_ids,\n",
    "                    var_name='Month',\n",
    "                    value_name='Inches')\n",
    "rain_atl['MonthsFrom1996'] = (rain_atl['Year']-1996)*12 + rain_atl['Month']\n",
    "rain_atl.sort_values (by='MonthsFrom1996', inplace=True)\n",
    "\n",
    "months = np.array (rain_atl['MonthsFrom1996'])\n",
    "rainfall = np.array (rain_atl['Inches'])"
   ]
  },
  {
   "cell_type": "code",
   "execution_count": null,
   "metadata": {
    "collapsed": false
   },
   "outputs": [],
   "source": [
    "import matplotlib.pyplot as plt\n",
    "%matplotlib inline\n",
    "\n",
    "plt.figure (figsize=(15, 5))\n",
    "plt.plot (months, rainfall, 'o')\n",
    "plt.xlabel ('Months since January 1, 1996')\n",
    "plt.title ('Monthly rainfall in Atlanta (inches)')"
   ]
  },
  {
   "cell_type": "markdown",
   "metadata": {},
   "source": [
    "**Exercise 1** (2 points). Check whether \"learning\" is happening by testing whether the slope differs significantly from zero. Write your code below and explain your results in the Markdown cell that follows it.\n",
    "\n",
    "> What does it mean for the slope to differ from zero \"significantly?\" If you use [`scipy.stats.linregress()`](https://docs.scipy.org/doc/scipy/reference/generated/scipy.stats.linregress.html), it performs a diagnostic statistical test for you. In particular, the null hypothesis is that the slope *is* zero; you would reject that hypothesis only if the $p$-value reported by `linregress()` is below a pre-selected significance level. You can assume a significance level of 0.05 to start, which is a common choice. For a more detailed explanation of how such an analysis goes, see [this tutorial](http://stattrek.com/regression/slope-test.aspx?Tutorial=AP)."
   ]
  },
  {
   "cell_type": "code",
   "execution_count": null,
   "metadata": {
    "collapsed": false,
    "deletable": false,
    "nbgrader": {
     "checksum": "5b03396427e59ddbd29a3ba6969d2b76",
     "grade": false,
     "grade_id": "learning",
     "locked": false,
     "solution": true
    }
   },
   "outputs": [],
   "source": [
    "# YOUR CODE HERE\n",
    "raise NotImplementedError()"
   ]
  },
  {
   "cell_type": "markdown",
   "metadata": {
    "deletable": false,
    "nbgrader": {
     "checksum": "6c72140633bf2859f40c26f955a7b250",
     "grade": true,
     "grade_id": "learning_explanation",
     "locked": false,
     "points": 2,
     "solution": true
    }
   },
   "source": [
    "YOUR ANSWER HERE"
   ]
  },
  {
   "cell_type": "markdown",
   "metadata": {},
   "source": [
    "**Exercise 2** (2 points). Write a function to compute the \"disjoint windowed means\" of a sequence.\n",
    "\n",
    "That is, let $x_0, x_1, x_2, x_3, \\ldots, x_{n-1}$, denote the data sequence. Then to compute its disjoint windowed mean at a window size of $w$, you would do the following:\n",
    "\n",
    "1. Divide the sequence into $\\left\\lfloor \\frac{n}{w} \\right\\rfloor$ continguous groups of size $w$ consecutive elements each, i.e., the first group is $\\{x_0, \\ldots, x_{w-1}\\}$, the second group is $\\{x_w, \\ldots, x_{2w-1}\\}$, the third group is $\\{x_{2w}, \\ldots, x_{3w-1}\\}$, and so on. (If the last group contains fewer than $w$ elements, then exclude it.)\n",
    "2. Compute the mean of each group.\n",
    "3. Return the list of group means."
   ]
  },
  {
   "cell_type": "code",
   "execution_count": null,
   "metadata": {
    "collapsed": false,
    "deletable": false,
    "nbgrader": {
     "checksum": "d673d357000d86fe3466859db3f4bdc7",
     "grade": false,
     "grade_id": "dwm",
     "locked": false,
     "solution": true
    }
   },
   "outputs": [],
   "source": [
    "def disjoint_windowed_means (x, w):\n",
    "    n = len (x)\n",
    "    assert 1 <= w <= n\n",
    "    \n",
    "    # YOUR CODE HERE\n",
    "    raise NotImplementedError()"
   ]
  },
  {
   "cell_type": "code",
   "execution_count": null,
   "metadata": {
    "collapsed": false,
    "deletable": false,
    "nbgrader": {
     "checksum": "fa664922578927569992bb771fb3f7e5",
     "grade": true,
     "grade_id": "dwm_test",
     "locked": true,
     "points": 2,
     "solution": false
    }
   },
   "outputs": [],
   "source": [
    "x = rainfall[:12]\n",
    "assert (disjoint_windowed_means (x, 1) == x).all ()\n",
    "\n",
    "y1 = disjoint_windowed_means (x, 4)\n",
    "assert np.allclose (y1, [5.3525, 2.6550, 3.1425], atol=1e-5)\n",
    "\n",
    "y2 = disjoint_windowed_means (x, 5)\n",
    "assert np.allclose (y2, [4.706, 2.742, 3.680], atol=1e-4)\n",
    "\n",
    "print (\"\\n(Passed.)\")\n",
    "\n",
    "plt.figure (figsize=(15, 5))\n",
    "plt.plot (months, rainfall, 'o')\n",
    "plt.plot ([min (months), max (months)], [np.mean (rainfall), np.mean (rainfall)])\n",
    "plt.plot (months[::4], disjoint_windowed_means (rainfall, 4), '*--')\n",
    "plt.plot (months[::12], disjoint_windowed_means (rainfall, 12), 'v--')"
   ]
  },
  {
   "cell_type": "markdown",
   "metadata": {},
   "source": [
    "**Exercise 3** (3 points). For lags between 0 and 24, inclusive, compute the lag correlation and create a stem-and-dot plot of it. Place your code in the code cell below. Then, in the Markdown cell that follows, explain based on your result whether it is likely that the rainfall each month is independent of other months."
   ]
  },
  {
   "cell_type": "code",
   "execution_count": null,
   "metadata": {
    "collapsed": false,
    "deletable": false,
    "nbgrader": {
     "checksum": "821addb0959401021cf082685949bdf1",
     "grade": false,
     "grade_id": "lag_correlate",
     "locked": false,
     "solution": true
    }
   },
   "outputs": [],
   "source": [
    "# YOUR CODE HERE\n",
    "raise NotImplementedError()"
   ]
  },
  {
   "cell_type": "markdown",
   "metadata": {
    "deletable": false,
    "nbgrader": {
     "checksum": "e04e3933859b37a359c18643bc39c9ac",
     "grade": true,
     "grade_id": "explain",
     "locked": false,
     "points": 3,
     "solution": true
    }
   },
   "source": [
    "YOUR ANSWER HERE"
   ]
  },
  {
   "cell_type": "code",
   "execution_count": null,
   "metadata": {
    "collapsed": true
   },
   "outputs": [],
   "source": []
  }
 ],
 "metadata": {
  "kernelspec": {
   "display_name": "Python 3",
   "language": "python",
   "name": "python3"
  },
  "language_info": {
   "codemirror_mode": {
    "name": "ipython",
    "version": 3
   },
   "file_extension": ".py",
   "mimetype": "text/x-python",
   "name": "python",
   "nbconvert_exporter": "python",
   "pygments_lexer": "ipython3",
   "version": "3.5.1"
  }
 },
 "nbformat": 4,
 "nbformat_minor": 0
}
