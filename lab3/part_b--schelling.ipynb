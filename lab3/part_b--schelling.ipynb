{
 "cells": [
  {
   "cell_type": "markdown",
   "metadata": {
    "nbgrader": {
     "grade": false,
     "solution": false
    }
   },
   "source": [
    "# Important note!\n",
    "\n",
    "Before you turn this problem in, make sure everything runs as expected. First, **restart the kernel** (in the menubar, select Kernel$\\rightarrow$Restart) and then **run all cells** (in the menubar, select Cell$\\rightarrow$Run All).\n",
    "\n",
    "Make sure you fill in any place that says `YOUR CODE HERE` or \"YOUR ANSWER HERE\", as well as your GT login and the GT logins of any of your collaborators below. (The GT logins are worth 1 point per notebook, so don't miss the opportunity to get a free point!)"
   ]
  },
  {
   "cell_type": "code",
   "execution_count": null,
   "metadata": {
    "collapsed": false,
    "nbgrader": {
     "grade": false,
     "locked": false,
     "solution": false
    }
   },
   "outputs": [],
   "source": [
    "YOUR_ID = \"\" # Please enter your GT login, e.g., \"rvuduc3\" or \"gtg911x\"\n",
    "COLLABORATORS = [] # list of strings of your collaborators' IDs"
   ]
  },
  {
   "cell_type": "code",
   "execution_count": null,
   "metadata": {
    "collapsed": false,
    "deletable": false,
    "nbgrader": {
     "checksum": "b11295002cc2b9549d6a2b01721b6701",
     "grade": true,
     "grade_id": "who__test",
     "locked": true,
     "points": 1,
     "solution": false
    }
   },
   "outputs": [],
   "source": [
    "import re\n",
    "\n",
    "RE_CHECK_ID = re.compile (r'''[a-zA-Z]+\\d+|[gG][tT][gG]\\d+[a-zA-Z]''')\n",
    "assert RE_CHECK_ID.match (YOUR_ID) is not None\n",
    "\n",
    "collab_check = [RE_CHECK_ID.match (i) is not None for i in COLLABORATORS]\n",
    "assert all (collab_check)\n",
    "\n",
    "del collab_check\n",
    "del RE_CHECK_ID\n",
    "del re"
   ]
  },
  {
   "cell_type": "markdown",
   "metadata": {},
   "source": [
    "**Jupyter / IPython version check.** The following code cell verifies that you are using the correct version of Jupyter/IPython."
   ]
  },
  {
   "cell_type": "code",
   "execution_count": null,
   "metadata": {
    "collapsed": true
   },
   "outputs": [],
   "source": [
    "import IPython\n",
    "assert IPython.version_info[0] >= 3, \"Your version of IPython is too old, please update it.\""
   ]
  },
  {
   "cell_type": "code",
   "execution_count": null,
   "metadata": {
    "collapsed": true
   },
   "outputs": [],
   "source": [
    "# Some setup\n",
    "import numpy as np\n",
    "np.random.seed (1601134230) # Fixed seed, for debugging\n",
    "\n",
    "MACH_EPS = np.finfo(float).eps"
   ]
  },
  {
   "cell_type": "markdown",
   "metadata": {},
   "source": [
    "# Schelling model of segregation\n",
    "\n",
    "Let's explore a simple conceptual model and simulator of _segregation phenomena_. It's based on modeling ideas explored in some depth in Thomas C. Schelling's 2006 book, [_Micromotives and macrobehaviors_](http://www.amazon.com/Micromotives-Macrobehavior-Thomas-C-Schelling/dp/0393329461)."
   ]
  },
  {
   "cell_type": "markdown",
   "metadata": {},
   "source": [
    "## From \"fuzzy\" problem to conceptual model\n",
    "\n",
    "Recall our motivating problem, which came from this picture of Atlanta [taken from [Wikipedia](https://en.wikipedia.org/wiki/Racial_segregation_in_Atlanta)]:\n",
    "\n",
    "![title](https://upload.wikimedia.org/wikipedia/commons/7/7a/Race_and_ethnicity_Atlanta.png)\n",
    "\n",
    "Let's suppose the phenomenon we wish to model and simulate is as follows. Suppose the world consists of two \"tribes\" of individuals, referred to as \"Tribe A\" and \"Tribe B.\" These tribes are geographically distributed in some fashion. Each tribe has a natural and intrinsic preference or affinity for members of the same tribe; thus, if an individual of one tribe lives in a neighborhood dominated by the other tribe, then that individual might move to a different neighborhood. Under such a process, one would expect that even if all individuals were mixed \"uniformly randomly\" initially, it would over time segregate.\n",
    "\n",
    "> \"Affinity\" or \"preference\" represents a very abstract \"attractive\" tendency. It does _not_ necessarily imply a conscious choice.\n",
    "\n",
    "Our initial goal is just to come up with a simple model, with as fewer parameters as possible, that (qualitatively) reproduces such behavior. We can then separately ask what \"real-world\" phenomena can really be modeled by such a process."
   ]
  },
  {
   "cell_type": "markdown",
   "metadata": {},
   "source": [
    "**Cellular automaton.** One kind of simple conceptual model we could apply is the general class of models known as [_cellular automata_](https://en.wikipedia.org/wiki/Cellular_automaton) (plural). The basic idea of any cellular automaton (singular) is to model a system by a geometric collection of discrete cells, where each cell can be in one of a finite number of possible states; the system evolves in discrete time steps, where at each time step the state of every cell might change according to a state-transition rule."
   ]
  },
  {
   "cell_type": "markdown",
   "metadata": {},
   "source": [
    "## A formal conceptual model of segregation based on a cellular automaton"
   ]
  },
  {
   "cell_type": "markdown",
   "metadata": {},
   "source": [
    "Let's use a cellular automaton as the conceptual model for the \"segregation system.\" Using Python, we will simultaneously build the _simulator_ for that conceptual model."
   ]
  },
  {
   "cell_type": "markdown",
   "metadata": {},
   "source": [
    "### Setting up the initial world\n",
    "\n",
    "Let's suppose the members of our two tribes (\"A\" and \"B\") live in a physical world, which we represent by a 2-D Cartesian grid of cells of size $(m+2) \\times (n+2)$. Each cell has a location, given by a pair of integers $(i, j)$, where $0 \\leq i < m+2$ and $0 \\leq j < n+2$.\n",
    "\n",
    "Why the \"+2\"? The world will actually have two parts: an \"interior,\" where members of the two tribes can live, and a \"boundary layer,\" which is a 1-cell deep wall that encloses the interior cells. More formally, the interior cells are the $(i, j)$ such that $1 \\leq i \\leq m$ and $1 \\leq j \\leq n$; all remaining cells comprise the boundary. No one can live in the boundary layer; as it is a wall, it will (conceptually) prevent migration out of the world."
   ]
  },
  {
   "cell_type": "code",
   "execution_count": null,
   "metadata": {
    "collapsed": true
   },
   "outputs": [],
   "source": [
    "M, N = 10, 10  # Dimensions of the \"physical\" world are (M+2) x (N+2)"
   ]
  },
  {
   "cell_type": "markdown",
   "metadata": {},
   "source": [
    "Just one member of some tribe may occupy a cell at any moment in time. Time increases monotonically in discrete integer steps, starting at $t = 0$.\n",
    "\n",
    "Formally, let's encode these facts by defining a population grid, which is a collection of population cells at time $t$, $G(t) \\equiv \\{g_{ij}(t)\\}$. Each cell takes on one of three integer values: $g_{ij}(t) \\in \\{-1, 0, +1\\}$, where a $+1$ means a member of tribe A occupies cell $(i, j)$ at time $t$; a $-1$ means a member of tribe B occupies the cell; and a $0$ means the cell is empty.\n",
    "\n",
    "> Recall that no one can live in the wall, so its cells are always zero."
   ]
  },
  {
   "cell_type": "code",
   "execution_count": null,
   "metadata": {
    "collapsed": true
   },
   "outputs": [],
   "source": [
    "# Possible population cell states:\n",
    "EMPTY = 0\n",
    "TRIBE_A = 1\n",
    "TRIBE_B = -TRIBE_A"
   ]
  },
  {
   "cell_type": "markdown",
   "metadata": {},
   "source": [
    "We need to initialize this world. Let's do so probabilistically. That is, let's populate the world randomly according to some assumed distribution.\n",
    "\n",
    "> To see if the evolution of this world is sensitive to properties of this distribution, we can change the population parameters or distributions, do experiments (i.e., simulations), and analyze the results. Later in the semester, we will talk about _input modeling_ and _output modeling_, which are the principles and techniques for how to do our simulations systematically so we can interpret the results.\n",
    "\n",
    "At time $t=0$, suppose the chance that a cell is occupied is given by a Bernoulli trial, which is independent of cell's location. That is, for any interior cell $(i, j)$ such that $1 \\leq i \\leq m$ and $1 \\leq j \\leq n$,\n",
    "\n",
    "$$\n",
    "  Pr[g_{ij}(0) = \\pm 1] \\equiv \\rho,\n",
    "$$\n",
    "\n",
    "where $\\rho \\in [0, 1]$. Note that this implies the probability that the cell is empty is $Pr[g_{ij}(0) = 0] = 1 - \\rho$.\n",
    "\n",
    "If the cell is occupied, let's further suppose that tribe A occupies the cell with probability $\\alpha$. That is, the conditional probability,\n",
    "\n",
    "$$\n",
    "  Pr[g_{ij}(0) = +1|g_{ij}(0) = \\pm 1] \\equiv \\alpha .\n",
    "$$\n",
    "\n",
    "From these givens and facts of elementary probability, we may conclude that for all _interior_ cells,\n",
    "\n",
    "$$\n",
    "  Pr[g_{ij}(0) = k]\n",
    "    = \\left\\{\\begin{array}{ll}\n",
    "                 1 - \\rho & \\mathrm{if\\ } k = 0 \\\\\n",
    "              \\rho \\alpha & \\mathrm{if\\ } k = +1 \\\\\n",
    "        \\rho (1 - \\alpha) & \\mathrm{if\\ } k = -1\n",
    "      \\end{array}\\right..\n",
    "$$\n",
    "\n",
    "With these definitions, we can build the initial world."
   ]
  },
  {
   "cell_type": "code",
   "execution_count": null,
   "metadata": {
    "collapsed": true
   },
   "outputs": [],
   "source": [
    "PROB_OCCUPIED = 0.5 # Probability that a cell is occupied\n",
    "COND_PROB_A = 2.0/3 # Cond. prob. that occupied cell is +1 (tribe \"A\")"
   ]
  },
  {
   "cell_type": "code",
   "execution_count": null,
   "metadata": {
    "collapsed": true
   },
   "outputs": [],
   "source": [
    "def create_pop_grid (m, n, pr_occupied, pr_one):\n",
    "    \"\"\"\n",
    "    Returns an (m+2) x (n+2) grid of integer cells, representing\n",
    "    the population map of an abstract \"world.\"\n",
    "    \n",
    "    Each cell contains one of three possible values: {-1, 0, +1}.\n",
    "    The boundaries are set to 0, i.e., the world is \"padded.\"\n",
    "    \n",
    "    In the interior, the probability that a cell is non-zero is\n",
    "    pr_occupied. Cells are independent. The conditional\n",
    "    probability that an occupied cell is +1 given that it is\n",
    "    occupied is pr_one.\n",
    "    \"\"\"\n",
    "    \n",
    "    dims = (m+2, n+2)\n",
    "    \n",
    "    pr_a = pr_occupied * pr_one\n",
    "    pr_b = pr_occupied * (1.0 - pr_one)\n",
    "    pr_empty = (1.0 - pr_occupied)\n",
    "    \n",
    "    possible_values = np.array ([EMPTY, TRIBE_A, TRIBE_B])\n",
    "    pr_dist = np.array ([pr_empty, pr_a, pr_b])\n",
    "    \n",
    "    grid = np.random.choice (possible_values, size=dims, p=pr_dist)\n",
    "    \n",
    "    # Fix the boundary\n",
    "    grid[  0,   :] = 0\n",
    "    grid[m+1,   :] = 0\n",
    "    grid[  :,   0] = 0\n",
    "    grid[  :, n+1] = 0\n",
    "    \n",
    "    return grid"
   ]
  },
  {
   "cell_type": "code",
   "execution_count": null,
   "metadata": {
    "collapsed": false
   },
   "outputs": [],
   "source": [
    "peeps = create_pop_grid (M, N, PROB_OCCUPIED, COND_PROB_A)\n",
    "print (peeps)"
   ]
  },
  {
   "cell_type": "code",
   "execution_count": null,
   "metadata": {
    "collapsed": true
   },
   "outputs": [],
   "source": [
    "import matplotlib.pyplot as plt # Core plotting support\n",
    "%matplotlib inline"
   ]
  },
  {
   "cell_type": "code",
   "execution_count": null,
   "metadata": {
    "collapsed": false
   },
   "outputs": [],
   "source": [
    "def show_grid (grid, **args):\n",
    "    plt.matshow (grid, **args)\n",
    "    \n",
    "show_grid (peeps)"
   ]
  },
  {
   "cell_type": "markdown",
   "metadata": {},
   "source": [
    "**Exercise 1** (3 points). Complete the following function, which takes a binary grid as input and returns a copy in which every cell is normalized by the number of its neighbors.\n",
    "\n",
    "Note that corners and boundary cells have fewer neighbors than interior cells."
   ]
  },
  {
   "cell_type": "code",
   "execution_count": null,
   "metadata": {
    "collapsed": true,
    "deletable": false,
    "nbgrader": {
     "checksum": "f028ab7e05dc29789d775ad6c159c556",
     "grade": false,
     "grade_id": "normalize_neighborhoods",
     "locked": false,
     "solution": true
    }
   },
   "outputs": [],
   "source": [
    "def normalize_neighborhoods (grid):\n",
    "    \"\"\"\n",
    "    Given a grid of cells, normalize the value of each\n",
    "    grid cell by the count of its nearest neighbors.\n",
    "    \"\"\"\n",
    "    norm_grid = np.zeros (grid.shape)\n",
    "    \n",
    "    # YOUR CODE HERE\n",
    "    raise NotImplementedError()\n",
    "    \n",
    "    return norm_grid"
   ]
  },
  {
   "cell_type": "code",
   "execution_count": null,
   "metadata": {
    "collapsed": false,
    "deletable": false,
    "nbgrader": {
     "checksum": "90c34655dd65bb1452d26ca047388124",
     "grade": true,
     "grade_id": "normalize_neighborhoods_test",
     "locked": true,
     "points": 3,
     "solution": false
    }
   },
   "outputs": [],
   "source": [
    "M_Z, N_Z = np.random.randint (3, 10), np.random.randint (3, 10)\n",
    "Z_in = 9 * np.ones ((M_Z, N_Z), dtype=int)\n",
    "for i in range (-1, 1):\n",
    "    for j in range (-1, 1):\n",
    "        Z_in[i, j] = 4\n",
    "Z_in[1:-1, 0] = 6\n",
    "Z_in[1:-1, -1] = 6\n",
    "Z_in[0, 1:-1] = 6\n",
    "Z_in[-1, 1:-1] = 6\n",
    "\n",
    "Z = normalize_neighborhoods (Z_in).astype (int)\n",
    "\n",
    "assert (Z == 1).all ()\n",
    "print (\"\\n(Passed.)\")"
   ]
  },
  {
   "cell_type": "markdown",
   "metadata": {},
   "source": [
    "### Dominance is bliss: Measuring \"happiness\"\n",
    "\n",
    "Having set up the world, the next step is to model the mobility of the cells as _state transitions_ of the cellular automaton.\n",
    "\n",
    "At a high-level, we wish to define the function,\n",
    "\n",
    "$$\n",
    "  G(t+1) \\leftarrow F(G(t)).\n",
    "$$\n",
    "\n",
    "Intuitively, you might hypothesize that individuals prefer to be in neighborhoods that have more members of the same tribe. So, our process might be to first measure, for each cell $(i, j)$, some property that we can use to decide whether the occupant wants to move."
   ]
  },
  {
   "cell_type": "markdown",
   "metadata": {},
   "source": [
    "To define this property, let's start by defining the \"character\" or \"color\" $c_{ij}(t)$ of its neighborhood at time $t$. Let's adopt a convention that low values of color correspond to dissimilarity, and high values similarity.\n",
    "\n",
    "Define the _neighborhood_ $\\mathcal{N}_{ij}$ of cell $(i, j)$ to be the collection of cells right next to it, including $(i, j)$. That is,\n",
    "\n",
    "$$\n",
    "  \\mathcal{N}_{ij} \\equiv \\{(i', j') : |i' - i|, |j' - j| \\leq 1\\}.\n",
    "$$\n",
    "\n",
    "Let's measure the _raw color_ $c_{ij}(t)$ of $(i, j)$ at time $t$ as the sum of the population values in its neighorhood:\n",
    "\n",
    "$$\n",
    "  c_{ij}(t) \\equiv\n",
    "    \\displaystyle \\sum_{(r, s) \\in \\mathcal{N}_{ij}} g_{rs}(t).\n",
    "$$\n",
    "\n",
    "If the neighborhood has the same number of +1 and -1 values, then its color is zero. Otherwise, the sign of $c_{ij}(t)$ indicates whether the neighborhood has more members of tribe A (sum is positive) or B (sum is negative).\n",
    "\n",
    "For our conceptual model, we will be interested not in the raw color, but a normalized version of it, where the normalization factor is just the size of the neighborhood:\n",
    "\n",
    "$$\n",
    "  \\hat{c}_{ij}(t) \\equiv \\frac{c_{ij}(t)}\n",
    "                              {\\left| \\mathcal{N}_{ij} \\right|}.\n",
    "$$"
   ]
  },
  {
   "cell_type": "markdown",
   "metadata": {},
   "source": [
    "**Exercise 2** (3 points). Define a Python function, `measure_color(G)`, which takes an  grid `G` as input and returns a grid `C` of (raw) colors. Assume that `G` has a boundary layer (wall).\n",
    "\n",
    "> In the skeleton below, `measure_color()` takes an optional argument, `normalize`, which when `True` asks for the _normalized_ color instead. This normalization code has been filled in for you. Your task is to replace the `pass` statement with code to compute the color according to the conceptual model."
   ]
  },
  {
   "cell_type": "code",
   "execution_count": null,
   "metadata": {
    "collapsed": true,
    "deletable": false,
    "nbgrader": {
     "checksum": "b5a70e7d8e5dd89aaa0320c26124e152",
     "grade": false,
     "grade_id": "measure_color",
     "locked": false,
     "solution": true
    }
   },
   "outputs": [],
   "source": [
    "def measure_color (G, normalize=False):\n",
    "    if normalize:\n",
    "        C = np.zeros (G.shape, dtype=float)\n",
    "    else:\n",
    "        C = np.zeros (G.shape, dtype=G.dtype)\n",
    "    \n",
    "    # YOUR CODE HERE\n",
    "    raise NotImplementedError()\n",
    "\n",
    "    if normalize:\n",
    "        C[1:-1, 1:-1] = normalize_neighborhoods (C[1:-1, 1:-1])\n",
    "        \n",
    "    return C"
   ]
  },
  {
   "cell_type": "code",
   "execution_count": null,
   "metadata": {
    "collapsed": false,
    "deletable": false,
    "nbgrader": {
     "checksum": "963c1f32b7071b87b5cd664b49c7bc91",
     "grade": true,
     "grade_id": "measure_color_test",
     "locked": true,
     "points": 3,
     "solution": false
    }
   },
   "outputs": [],
   "source": [
    "!wget -nc --show-progress https://github.com/rvuduc/cx4230sp17labs/raw/master/lab3/demo_grid.npy\n",
    "!wget -nc --show-progress https://github.com/rvuduc/cx4230sp17labs/raw/master/lab3/demo_raw_color_grid.npy\n",
    "!wget -nc --show-progress https://github.com/rvuduc/cx4230sp17labs/raw/master/lab3/demo_norm_color_grid.npy\n",
    "\n",
    "demo_pop = np.load ('demo_grid.npy')\n",
    "raw_color_grid = measure_color (demo_pop)\n",
    "norm_color_grid = measure_color (demo_pop, normalize=True)\n",
    "\n",
    "print (\"\\nPopulation grid:\\n\", demo_pop)\n",
    "print (\"\\nRaw color grid:\\n\", raw_color_grid)\n",
    "\n",
    "np.set_printoptions (precision=1, linewidth=999)\n",
    "print (\"\\nNormalized color grid:\\n\", norm_color_grid)\n",
    "print (\"\\nNormalized color grid (only for occupied cells):\\n\",\n",
    "       np.multiply (norm_color_grid, demo_pop != 0))\n",
    "\n",
    "raw_color_grid_soln = np.load ('demo_raw_color_grid.npy')\n",
    "assert (raw_color_grid == raw_color_grid_soln).all ()\n",
    "norm_color_grid_soln = np.load ('demo_norm_color_grid.npy')\n",
    "assert (np.abs (norm_color_grid - norm_color_grid_soln) <= 10*MACH_EPS).all ()\n",
    "print (\"\\n(Passed.)\")"
   ]
  },
  {
   "cell_type": "markdown",
   "metadata": {},
   "source": [
    "Given the normalized color measurement, we can define a condition in which an individual _wants_ to move to a different neighborhood.\n",
    "\n",
    "Suppose $g_{ij}(t)$ is occupied. Then, let the _happiness_ at $(i, j)$ be\n",
    "\n",
    "$$\n",
    "  h_{ij}(t) \\equiv g_{ij}(t) \\cdot \\hat{c}_{ij}(t).\n",
    "$$\n",
    "\n",
    "This value is positive if $g_{ij}(t)$ and $\\hat{c}_{ij}(t)$ have the same sign, or negative otherwise. Thus, higher values of $h_{ij}(t)$ indicate that the tribe of $g_{ij}(t)$ is more prevalent. This suggests a simple rule for determining whether the occupant of cell $(i, j)$ is unhappy, namely, when $h_{ij}(t) < \\theta$ for some given threshold $\\theta$."
   ]
  },
  {
   "cell_type": "markdown",
   "metadata": {},
   "source": [
    "**Exercise 3** (2 points). Suppose you are given\n",
    "\n",
    "* a population grid, `G`;\n",
    "* a _normalized_ color grid, `C`;\n",
    "* and a threshold, `theta`.\n",
    "\n",
    "Then, define a function, `get_unhappy_grid(G, C, theta)`, which returns a new grid `G_unhappy` which has `G_unhappy[i, j] == G[i, j]` wherever an occupant `G[i, j]` is unhappy, i.e., has a $h_{ij}$ strictly less than $\\theta$; everywhere else, `G_unhappy` is zero."
   ]
  },
  {
   "cell_type": "code",
   "execution_count": null,
   "metadata": {
    "collapsed": false,
    "deletable": false,
    "nbgrader": {
     "checksum": "330ef35aeff37ba98d468e24b023ca33",
     "grade": false,
     "grade_id": "unhappy_grid",
     "locked": false,
     "solution": true
    }
   },
   "outputs": [],
   "source": [
    "UNHAPPY_COLOR_THRESHOLD = 0\n",
    "\n",
    "def get_unhappy_grid (G, C, threshold=UNHAPPY_COLOR_THRESHOLD):\n",
    "    # YOUR CODE HERE\n",
    "    raise NotImplementedError()"
   ]
  },
  {
   "cell_type": "code",
   "execution_count": null,
   "metadata": {
    "collapsed": false,
    "deletable": false,
    "nbgrader": {
     "checksum": "9c803c54007882807c5a6a18d13c523f",
     "grade": true,
     "grade_id": "unhappy_grid_test",
     "locked": true,
     "points": 2,
     "solution": false
    }
   },
   "outputs": [],
   "source": [
    "unhappy_campers = get_unhappy_grid (demo_pop, norm_color_grid)\n",
    "\n",
    "print (\"\\nUnhappy campers:\\n\", unhappy_campers)\n",
    "\n",
    "!wget -nc --show-progress https://github.com/rvuduc/cx4230sp17labs/raw/master/lab3/demo_unhappy_campers.npy\n",
    "unhappy_campers_soln = np.load ('demo_unhappy_campers.npy')\n",
    "assert (unhappy_campers == unhappy_campers_soln).all ()\n",
    "print (\"\\n(Passed.)\")"
   ]
  },
  {
   "cell_type": "markdown",
   "metadata": {},
   "source": [
    "Now that we know who is unhappy, we can finish defining the \"dynamics\" of our state transition function, $F(G(t))$.\n",
    "\n",
    "Let's start by getting a list of everyone who is unhappy, separated by tribe."
   ]
  },
  {
   "cell_type": "code",
   "execution_count": null,
   "metadata": {
    "collapsed": false
   },
   "outputs": [],
   "source": [
    "def get_locations (condition_grid):\n",
    "    \"\"\"\n",
    "    Given a grid of True/False values, returns a\n",
    "    list of tuples [..., (i, j), ...], where each\n",
    "    tuple is the location of a True value.\n",
    "    \"\"\"\n",
    "    locs = np.nonzero (condition_grid)\n",
    "    return list (zip (locs[0], locs[1]))\n",
    "\n",
    "# Determine the positions of the members of tribes\n",
    "# A (+1) and B (-1) who are unhappy\n",
    "locs_unhappy_A = get_locations (unhappy_campers == TRIBE_A)\n",
    "locs_unhappy_B = get_locations (unhappy_campers == TRIBE_B)\n",
    "\n",
    "print (\"\\nPositions of unhappy members of tribe A:\\n\", locs_unhappy_A)\n",
    "print (\"\\nPositions of unhappy members of tribe B:\\n\", locs_unhappy_B)"
   ]
  },
  {
   "cell_type": "markdown",
   "metadata": {},
   "source": [
    "Next, let's get a list of empty cells, i.e., \"available real estate\" for occupants who want to move out of their neighborhoods."
   ]
  },
  {
   "cell_type": "code",
   "execution_count": null,
   "metadata": {
    "collapsed": false
   },
   "outputs": [],
   "source": [
    "def is_free_grid (G):\n",
    "    free_spaces = np.zeros (G.shape, dtype=bool)\n",
    "    free_spaces[1:-1, 1:-1] = (G[1:-1, 1:-1] == EMPTY)\n",
    "    return free_spaces\n",
    "\n",
    "avail_grid = is_free_grid (peeps)\n",
    "\n",
    "print (peeps)\n",
    "print (\"\\nAvailable real estate:\\n\", avail_grid)"
   ]
  },
  {
   "cell_type": "markdown",
   "metadata": {},
   "source": [
    "Given the available real estate, we can then determine which ones each tribe might find appealing.\n",
    "\n",
    "Let's start with tribe A. Define those locations to be any empty cell $(i, j)$ such that the $\\hat{c}_{ij}(t) > \\theta$, i.e., the normalized color of the neighborhood is above the unhappiness threshold."
   ]
  },
  {
   "cell_type": "code",
   "execution_count": null,
   "metadata": {
    "collapsed": false
   },
   "outputs": [],
   "source": [
    "appeals_to_A = (norm_color_grid >= UNHAPPY_COLOR_THRESHOLD)\n",
    "locs_appeal_to_A = get_locations (avail_grid & appeals_to_A)\n",
    "print (\"\\nFree locations that might appeal to A:\\n\", locs_appeal_to_A)"
   ]
  },
  {
   "cell_type": "markdown",
   "metadata": {},
   "source": [
    "**Exercise 4** (1 point). What is an analogous condition for tribe B? That is, define a condition and then compute `locs_appeal_to_B`, a list of locations (tuples) that might be available and appealing to tribe B."
   ]
  },
  {
   "cell_type": "code",
   "execution_count": null,
   "metadata": {
    "collapsed": false,
    "deletable": false,
    "nbgrader": {
     "checksum": "f3a0cd37961ba6d42f473e9ae89e4726",
     "grade": false,
     "grade_id": "appeals_to_B",
     "locked": false,
     "solution": true
    }
   },
   "outputs": [],
   "source": [
    "# YOUR CODE HERE\n",
    "raise NotImplementedError()\n",
    "\n",
    "print (\"\\nFree locations that might appeal to B:\\n\", locs_appeal_to_B)"
   ]
  },
  {
   "cell_type": "code",
   "execution_count": null,
   "metadata": {
    "collapsed": false,
    "deletable": false,
    "nbgrader": {
     "checksum": "2e0c30125382992338a3e15bb20f2c15",
     "grade": true,
     "grade_id": "appeals_to_B_test",
     "locked": true,
     "points": 1,
     "solution": false
    }
   },
   "outputs": [],
   "source": [
    "!wget -nc --show-progress https://github.com/rvuduc/cx4230sp17labs/raw/master/lab3/locs_appeal_to_B.csv\n",
    "locs_appeal_to_B_soln = np.genfromtxt ('locs_appeal_to_B.csv', delimiter=',').astype (int)\n",
    "\n",
    "locs_appeal_to_B_set = {x for x in locs_appeal_to_B}\n",
    "locs_appeal_to_B_set_soln = {tuple (x) for x in list (locs_appeal_to_B_soln)}\n",
    "assert locs_appeal_to_B_set == locs_appeal_to_B_set_soln\n",
    "print (\"\\n(Passed.)\")"
   ]
  },
  {
   "cell_type": "markdown",
   "metadata": {},
   "source": [
    "Given members of a tribe that want to move and a list of possible locations, the last step is to execute the moves.\n",
    "\n",
    "Our procedure will be the following. Given the list of destinations (i.e., locations that are both available _and_ appealing), we will move as many unhappy members of the tribe to these destinations as possible. (The reason for \"as possible\" is that there may be fewer destinations than unhappy campers.)\n",
    "\n",
    "The following helper routine executes a batch of random swaps on a grid, given \"source\" and \"target\" indices."
   ]
  },
  {
   "cell_type": "markdown",
   "metadata": {},
   "source": [
    "**Exercise (not graded).** Make sure you understand what this function does before moving on."
   ]
  },
  {
   "cell_type": "code",
   "execution_count": null,
   "metadata": {
    "collapsed": false
   },
   "outputs": [],
   "source": [
    "import random # Python's built-in random number generator module\n",
    "\n",
    "def swap_grid_random (G, locs_x, locs_y):\n",
    "    \"\"\"\n",
    "    Given a grid and two possible collections of locations, X and Y,\n",
    "    this routine randomly swaps as many locations from X with those\n",
    "    from Y. This routine performs the swaps *in-place*, that is, it\n",
    "    modifies grid directly.\n",
    "    \"\"\"\n",
    "    \n",
    "    # Max swaps possible\n",
    "    n = min (len (locs_x), len (locs_y))\n",
    "    \n",
    "    # Choose random entries to swap\n",
    "    locs_x_to_swap = random.sample (locs_x, n)\n",
    "    locs_y_to_swap = random.sample (locs_y, n)\n",
    "    \n",
    "    # Execute swaps\n",
    "    for ((xi, xj), (yi, yj)) in zip (locs_x_to_swap, locs_y_to_swap):\n",
    "        G[xi, xj], G[yi, yj] = G[yi, yj], G[xi, xj]\n",
    "        \n",
    "    return G"
   ]
  },
  {
   "cell_type": "markdown",
   "metadata": {},
   "source": [
    "**Exercise 5** (2 points). Use the above function to execute one round of moves of unhappy campers for both tribes."
   ]
  },
  {
   "cell_type": "code",
   "execution_count": null,
   "metadata": {
    "collapsed": false,
    "deletable": false,
    "nbgrader": {
     "checksum": "1344d731aff1f27ba285c2bc93bc4028",
     "grade": false,
     "grade_id": "moves",
     "locked": false,
     "solution": true
    }
   },
   "outputs": [],
   "source": [
    "new_pop = np.copy (demo_pop)\n",
    "\n",
    "# Move as many unhappy campers as possible.\n",
    "# Store your result in `new_pop`.\n",
    "\n",
    "# YOUR CODE HERE\n",
    "raise NotImplementedError()"
   ]
  },
  {
   "cell_type": "code",
   "execution_count": null,
   "metadata": {
    "collapsed": false,
    "deletable": false,
    "nbgrader": {
     "checksum": "dc8c7a5f06ea89011f43d1f0199297b9",
     "grade": true,
     "grade_id": "moves_test",
     "locked": true,
     "points": 2,
     "solution": false
    }
   },
   "outputs": [],
   "source": [
    "# Sanity check: Make sure population counts have not changed!\n",
    "A_before = np.count_nonzero (demo_pop == TRIBE_A)\n",
    "A_after = np.count_nonzero (new_pop == TRIBE_A)\n",
    "print (\"Tribe A: before =\", A_before, \"and after =\", A_after)\n",
    "\n",
    "B_before = np.count_nonzero (demo_pop == TRIBE_B)\n",
    "B_after = np.count_nonzero (new_pop == TRIBE_B)\n",
    "print (\"Tribe B: before =\", B_before, \"and after =\", B_after)\n",
    "\n",
    "show_grid (demo_pop)\n",
    "show_grid (new_pop)\n",
    "\n",
    "assert (demo_pop != new_pop).any ()\n",
    "assert A_before == A_after\n",
    "assert B_before == B_after\n",
    "print (\"\\n(Passed.)\")"
   ]
  },
  {
   "cell_type": "markdown",
   "metadata": {
    "collapsed": true
   },
   "source": [
    "Final note: The preceding code gives you the _building blocks_ for implementing a full simulator, rather than giving you the full simulator itself. For instance, these code fragments lack an outer \"time loop,\" which would execute the process repeatedly until the states stabilize or some user-determined maximum time steps have executed."
   ]
  },
  {
   "cell_type": "code",
   "execution_count": null,
   "metadata": {
    "collapsed": false
   },
   "outputs": [],
   "source": [
    "def show_grid_big (grid):\n",
    "    fig = plt.figure (figsize=(6, 6))\n",
    "    ax = fig.add_subplot (111)\n",
    "    ax.matshow (grid)\n",
    "    \n",
    "show_grid_big (peeps)"
   ]
  },
  {
   "cell_type": "code",
   "execution_count": null,
   "metadata": {
    "collapsed": false
   },
   "outputs": [],
   "source": [
    "def simulate (n=20, pr_occ=0.5, cond_pr_A=0.5, unhappy_threshold=0, t_max=0, seed=50):\n",
    "    np.random.seed (seed)\n",
    "    random.seed (seed)\n",
    "    \n",
    "    G = create_pop_grid (n, n, pr_occ, cond_pr_A)\n",
    "    for t in range (1, t_max+1):\n",
    "        C = measure_color (G, normalize=True)\n",
    "        U = get_unhappy_grid (G, C, unhappy_threshold)\n",
    "\n",
    "        locs_unhappy_A = get_locations (U == TRIBE_A)\n",
    "        locs_unhappy_B = get_locations (U == TRIBE_B)\n",
    "        \n",
    "        F = is_free_grid (G)\n",
    "        appeals_to_A = (C >= unhappy_threshold)\n",
    "        locs_appeal_to_A = get_locations (F & appeals_to_A)\n",
    "        appeals_to_B = (C < -unhappy_threshold)\n",
    "        locs_appeal_to_B = get_locations (F & appeals_to_B)\n",
    "        \n",
    "        G_new = np.copy (G)\n",
    "        swap_grid_random (G_new, locs_unhappy_A, locs_appeal_to_A)\n",
    "        swap_grid_random (G_new, locs_unhappy_B, locs_appeal_to_B)\n",
    "        \n",
    "        G = G_new\n",
    "\n",
    "    show_grid_big (G)"
   ]
  },
  {
   "cell_type": "code",
   "execution_count": null,
   "metadata": {
    "collapsed": false
   },
   "outputs": [],
   "source": [
    "from ipywidgets import interact\n",
    "interact (simulate\n",
    "          , n=(10, 100, 10)\n",
    "          , pr_occ=(0.1, 1.0, 0.05)\n",
    "          , cond_pr_A=(0.1, 1.0, 0.05)\n",
    "          , unhappy_threshold=(-1.0, 1.0, 0.1)\n",
    "          , t_max=(0, 50, 1)\n",
    "          , seed=(0, 100, 1)\n",
    "         )"
   ]
  },
  {
   "cell_type": "markdown",
   "metadata": {
    "collapsed": true
   },
   "source": [
    "**Exercise 6** (10 points). Come up with a metric to measure how much segregation exists on a grid. Implement your metric as a function, `measure_segregation (G)`, which returns the value of your metric on a given population grid. Demonstrate your metric by computing it on a sequence of population grids during a simulation and plot how your metric behaves over (simulation) time.\n",
    "\n",
    "This question is open-ended: you will need to explain and justify your metric, in addition to implementing it. (Use the first Markdown cell below to describe your metric, and then use the code cell below that to implement and demonstrate your metric.)"
   ]
  },
  {
   "cell_type": "markdown",
   "metadata": {
    "deletable": false,
    "nbgrader": {
     "checksum": "743e610ae940159662764488a840c64b",
     "grade": true,
     "grade_id": "explain_metric",
     "locked": false,
     "points": 3,
     "solution": true
    }
   },
   "source": [
    "YOUR ANSWER HERE"
   ]
  },
  {
   "cell_type": "code",
   "execution_count": null,
   "metadata": {
    "collapsed": true,
    "deletable": false,
    "nbgrader": {
     "checksum": "538472400530a527f95c08e0f76748db",
     "grade": true,
     "grade_id": "demo_metric",
     "locked": false,
     "points": 7,
     "solution": true
    }
   },
   "outputs": [],
   "source": [
    "# YOUR CODE HERE\n",
    "raise NotImplementedError()"
   ]
  },
  {
   "cell_type": "code",
   "execution_count": null,
   "metadata": {
    "collapsed": true
   },
   "outputs": [],
   "source": []
  }
 ],
 "metadata": {
  "kernelspec": {
   "display_name": "Python 3",
   "language": "python",
   "name": "python3"
  },
  "language_info": {
   "codemirror_mode": {
    "name": "ipython",
    "version": 3
   },
   "file_extension": ".py",
   "mimetype": "text/x-python",
   "name": "python",
   "nbconvert_exporter": "python",
   "pygments_lexer": "ipython3",
   "version": "3.5.1"
  }
 },
 "nbformat": 4,
 "nbformat_minor": 0
}
