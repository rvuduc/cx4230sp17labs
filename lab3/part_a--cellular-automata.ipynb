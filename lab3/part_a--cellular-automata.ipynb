{
 "cells": [
  {
   "cell_type": "markdown",
   "metadata": {
    "nbgrader": {
     "grade": false,
     "solution": false
    }
   },
   "source": [
    "# Important note!\n",
    "\n",
    "Before you turn this problem in, make sure everything runs as expected. First, **restart the kernel** (in the menubar, select Kernel$\\rightarrow$Restart) and then **run all cells** (in the menubar, select Cell$\\rightarrow$Run All).\n",
    "\n",
    "Make sure you fill in any place that says `YOUR CODE HERE` or \"YOUR ANSWER HERE\", as well as your GT login and the GT logins of any of your collaborators below. (The GT logins are worth 1 point per notebook, so don't miss the opportunity to get a free point!)"
   ]
  },
  {
   "cell_type": "code",
   "execution_count": null,
   "metadata": {
    "collapsed": false,
    "nbgrader": {
     "grade": false,
     "locked": false,
     "solution": false
    }
   },
   "outputs": [],
   "source": [
    "YOUR_ID = \"\" # Please enter your GT login, e.g., \"rvuduc3\" or \"gtg911x\"\n",
    "COLLABORATORS = [] # list of strings of your collaborators' IDs"
   ]
  },
  {
   "cell_type": "code",
   "execution_count": null,
   "metadata": {
    "collapsed": false,
    "deletable": false,
    "nbgrader": {
     "checksum": "b11295002cc2b9549d6a2b01721b6701",
     "grade": true,
     "grade_id": "who__test",
     "locked": true,
     "points": 1,
     "solution": false
    }
   },
   "outputs": [],
   "source": [
    "import re\n",
    "\n",
    "RE_CHECK_ID = re.compile (r'''[a-zA-Z]+\\d+|[gG][tT][gG]\\d+[a-zA-Z]''')\n",
    "assert RE_CHECK_ID.match (YOUR_ID) is not None\n",
    "\n",
    "collab_check = [RE_CHECK_ID.match (i) is not None for i in COLLABORATORS]\n",
    "assert all (collab_check)\n",
    "\n",
    "del collab_check\n",
    "del RE_CHECK_ID\n",
    "del re"
   ]
  },
  {
   "cell_type": "markdown",
   "metadata": {},
   "source": [
    "**Jupyter / IPython version check.** The following code cell verifies that you are using the correct version of Jupyter/IPython."
   ]
  },
  {
   "cell_type": "code",
   "execution_count": null,
   "metadata": {
    "collapsed": true
   },
   "outputs": [],
   "source": [
    "import IPython\n",
    "assert IPython.version_info[0] >= 3, \"Your version of IPython is too old, please update it.\""
   ]
  },
  {
   "cell_type": "markdown",
   "metadata": {},
   "source": [
    "# Introduction to cellular automata\n",
    "\n",
    "The following exercises accompany the class slides on Wolfram's 1-D nearest neighbor cellular automata model. You can download a copy of those slides here: [PDF (6 MiB)](https://t-square.gatech.edu/access/content/group/gtc-239f-fc11-5690-9dae-2dc96b59f372/cx4230-sp17--08--lab3.pdf)"
   ]
  },
  {
   "cell_type": "markdown",
   "metadata": {},
   "source": [
    "## Setup"
   ]
  },
  {
   "cell_type": "code",
   "execution_count": null,
   "metadata": {
    "collapsed": false
   },
   "outputs": [],
   "source": [
    "import numpy as np\n",
    "import scipy as sp\n",
    "import scipy.sparse"
   ]
  },
  {
   "cell_type": "code",
   "execution_count": null,
   "metadata": {
    "collapsed": false
   },
   "outputs": [],
   "source": [
    "import matplotlib.pyplot as plt # Core plotting support\n",
    "%matplotlib inline\n",
    "\n",
    "def show_grid (grid, **args):\n",
    "    plt.matshow (grid, **args)\n",
    "    \n",
    "# Demo of `show_grid`\n",
    "grid = np.array ([[1, 2, 3],\n",
    "                  [4, 5, 6],\n",
    "                  [7, 8, 9]])\n",
    "show_grid (grid)\n",
    "plt.colorbar ()"
   ]
  },
  {
   "cell_type": "markdown",
   "metadata": {},
   "source": [
    "## Wolfram's 1-D near-neighbor CA"
   ]
  },
  {
   "cell_type": "markdown",
   "metadata": {},
   "source": [
    "Let's evolve a 1-D region of length `N` over `T` time steps.\n",
    "\n",
    "Start by creating a 2-D Numpy array (or _matrix_) `X[0:N, 0:T]`, which will eventually hold the sequence of all state changes over time. Our convention will be to store either a `0` or a `1` value in every cell."
   ]
  },
  {
   "cell_type": "code",
   "execution_count": null,
   "metadata": {
    "collapsed": false
   },
   "outputs": [],
   "source": [
    "N = 11\n",
    "T = 20\n",
    "\n",
    "X = np.zeros ((N, T), dtype=int)  # X[i, t] == cell i at time t\n",
    "\n",
    "show_grid (X.T, cmap='hot') # Transpose!"
   ]
  },
  {
   "cell_type": "markdown",
   "metadata": {},
   "source": [
    "**Exercise 1** (2 points). As the initial state of the 1-D system, let's put a single `1` bit at or close to the center at time 0."
   ]
  },
  {
   "cell_type": "code",
   "execution_count": null,
   "metadata": {
    "collapsed": false,
    "deletable": false,
    "nbgrader": {
     "checksum": "e97e1a918deaa8dfc1f1c27909eecfa5",
     "grade": true,
     "grade_id": "initial_condition",
     "locked": false,
     "points": 2,
     "solution": true
    }
   },
   "outputs": [],
   "source": [
    "# YOUR CODE HERE\n",
    "raise NotImplementedError()\n",
    "\n",
    "show_grid (X, cmap='hot')"
   ]
  },
  {
   "cell_type": "markdown",
   "metadata": {},
   "source": [
    "## Sparse matrices"
   ]
  },
  {
   "cell_type": "markdown",
   "metadata": {},
   "source": [
    "Suppose you are given a 1-D neighborhood as a 3-bit pattern, `011`$_2$. This value is the binary representation of the decimal value, $(2^2 \\cdot 0) + (2^1 \\cdot 1) + (2^0 \\cdot 1) = 3$. More generally, given a 3-bit string, $b_2b_1b_0$, let its _neighborhood index_ be the decimal integer $k$ such that\n",
    "\n",
    "$$\n",
    "  k \\equiv (4 \\cdot b_2) + (2 \\cdot b_1) + (1 \\cdot b_0).\n",
    "$$\n",
    "\n",
    "Given one of Wolfram's rules, you could then build a lookup table to convert every possible neighborhood index into the corresponding `0` or `1` state."
   ]
  },
  {
   "cell_type": "markdown",
   "metadata": {},
   "source": [
    "To implement this idea, try this notional trick from linear algebra. Let $\\vec{x}$ denote the 1-D grid of $n$ cells, represented as a _vector_ of $n$ bits,\n",
    "\n",
    "$$\\begin{eqnarray}\n",
    "  \\vec{x}\n",
    "    & = &\n",
    "      \\left(\\begin{array}{c}\n",
    "        x_0 \\\\\n",
    "        x_1 \\\\\n",
    "        \\vdots \\\\\n",
    "        x_{n-1}\n",
    "      \\end{array}\\right),\n",
    "\\end{eqnarray}$$\n",
    "\n",
    "where $x_i \\in \\{0, 1\\}$."
   ]
  },
  {
   "cell_type": "markdown",
   "metadata": {},
   "source": [
    "From this vector, you can enumerate all neighborhood indices using a _(sparse) matrix-vector product_. Let $k_i$ denote the neighborhood index of cell (bit) $x_i$. Then,\n",
    "\n",
    "$$\\begin{eqnarray}\n",
    "  k_0 & = & 2 x_0 + x_1 \\\\\n",
    "  k_1 & = & 4 x_0 + 2 x_1 + x_2 \\\\\n",
    "  k_2 & = & 4 x_1 + 2 x_2 + x_3 \\\\\n",
    "      & \\vdots & \\\\\n",
    "  k_i & = & 4 x_{i-1} + 2 x_i + x_{i+1} \\\\\n",
    "      & \\vdots & \\\\\n",
    "  k_{n-2} & = & 4 x_{n-3} + 2 x_{n-2} + x_{n-1} \\\\\n",
    "  k_{n-1} & = & 4 x_{n-2} + 2 x_{n-1}\n",
    "\\end{eqnarray}$$\n",
    "\n",
    "This system of equations can be written in matrix form as $\\vec{k} \\equiv A \\cdot \\vec{x}$, where\n",
    "\n",
    "$$\n",
    "\\vec{k} \\equiv \\left(\\begin{array}{c}\n",
    "                 k_0 \\\\\n",
    "                 k_1 \\\\\n",
    "                 k_2 \\\\\n",
    "                 \\vdots \\\\\n",
    "                 k_i \\\\\n",
    "                 \\vdots \\\\\n",
    "                 k_{n-2} \\\\\n",
    "                 k_{n-1}\n",
    "               \\end{array}\\right)\n",
    "=\n",
    "  \\underbrace{\\left(\\begin{array}{cccccccc}\n",
    "    2 & 1 &   &        &   &        &   & \\\\\n",
    "    4 & 2 & 1 &        &   &        &   & \\\\\n",
    "      & 4 & 2 & 1      &   &        &   & \\\\\n",
    "      &   &   & \\ddots &   &        &   & \\\\\n",
    "      &   &   &    4   & 2 & 1      &   & \\\\\n",
    "      &   &   &        &   & \\ddots &   & \\\\\n",
    "      &   &   &        &   &    4   & 2 & 1 \\\\\n",
    "      &   &   &        &   &        & 4 & 2\n",
    "  \\end{array}\\right)}_{\\equiv A}\n",
    "\\cdot\n",
    "  \\underbrace{\\left(\\begin{array}{c}\n",
    "                 x_0 \\\\\n",
    "                 x_1 \\\\\n",
    "                 x_2 \\\\\n",
    "                 \\vdots \\\\\n",
    "                 x_i \\\\\n",
    "                 \\vdots \\\\\n",
    "                 x_{n-2} \\\\\n",
    "                 x_{n-1}\n",
    "               \\end{array}\\right)}_{= \\vec{x}}.\n",
    "$$\n",
    "\n",
    "The matrix $A$ is _sparse_ because it is mostly zero.\n",
    "\n",
    "> Sparsity does not have a precise formal definition. However, one typically expects that the number of non-zeros in $n \\times n$ sparse matrix $A$ is $\\mathrm{nnz}(A) = \\mathcal{O}(n)$.\n",
    "\n",
    "In fact, $A$ has a more specific structure: it is _tridiagonal_, meaning that all of its non-zero entries are contained in the diagonal of $A$ plus the first sub- and super-diagonals."
   ]
  },
  {
   "cell_type": "markdown",
   "metadata": {},
   "source": [
    "Scipy has an especially handy function, `scipy.sparse.diags()`, which can easily construct sparse matrices consisting only of diagonals:  http://docs.scipy.org/doc/scipy/reference/generated/scipy.sparse.diags.html#scipy.sparse.diags\n",
    "\n",
    "**Exercise 2** (2 points). Read the documentation for this routine and construct $A$ as defined above. Store your result in a variable named, `A`."
   ]
  },
  {
   "cell_type": "code",
   "execution_count": null,
   "metadata": {
    "collapsed": false,
    "deletable": false,
    "nbgrader": {
     "checksum": "7fe2b42cd49ada91794ba444bc012433",
     "grade": false,
     "grade_id": "build_A",
     "locked": false,
     "solution": true
    }
   },
   "outputs": [],
   "source": [
    "# YOUR CODE HERE\n",
    "raise NotImplementedError()"
   ]
  },
  {
   "cell_type": "code",
   "execution_count": null,
   "metadata": {
    "collapsed": false,
    "deletable": false,
    "nbgrader": {
     "checksum": "5f8c30821a985092a21020856031f3de",
     "grade": true,
     "grade_id": "test_A",
     "locked": true,
     "points": 2,
     "solution": false
    }
   },
   "outputs": [],
   "source": [
    "assert type (A) is sp.sparse.dia.dia_matrix\n",
    "\n",
    "A_dense = A.toarray ()\n",
    "print (\"=== A (dense) ===\", A_dense, sep=\"\\n\")\n",
    "\n",
    "# Test values\n",
    "A_dense_diag_sub = np.diag (A_dense, -1)\n",
    "A_dense_diag = np.diag (A_dense)\n",
    "A_dense_diag_sup = np.diag (A_dense, 1)\n",
    "\n",
    "assert (A_dense_diag_sub == 4).all ()\n",
    "assert (A_dense_diag == 2).all ()\n",
    "assert (A_dense_diag_sup == 1).all ()\n",
    "assert ((A_dense\n",
    "         - np.diag (A_dense_diag)\n",
    "         - np.diag (A_dense_diag_sub, -1)\n",
    "         - np.diag (A_dense_diag_sup, 1)) == 0).all ()\n",
    "\n",
    "print (\"\\n(Passed.)\")"
   ]
  },
  {
   "cell_type": "markdown",
   "metadata": {},
   "source": [
    "As a sanity check, let's multiply $A$ by the initial 1-D grid. Denote this initial grid mathematically as $\\vec{x}(t=0)$, which is just the first column of the array `X`, i.e., `X[:, 0]`."
   ]
  },
  {
   "cell_type": "markdown",
   "metadata": {},
   "source": [
    "**Exercise 3** (2 point). Compute $A \\cdot \\vec{x}(0)$ by hand."
   ]
  },
  {
   "cell_type": "markdown",
   "metadata": {
    "deletable": false,
    "nbgrader": {
     "checksum": "317bc6902180426d8e5abb61e6dcecc7",
     "grade": true,
     "grade_id": "A_dot_x0",
     "locked": false,
     "points": 2,
     "solution": true
    }
   },
   "source": [
    "YOUR ANSWER HERE"
   ]
  },
  {
   "cell_type": "markdown",
   "metadata": {},
   "source": [
    "Let's check your answer using the Python code below to compute $\\vec{k}(0)$. It uses the `A` object's `dot()` member function."
   ]
  },
  {
   "cell_type": "code",
   "execution_count": null,
   "metadata": {
    "collapsed": false
   },
   "outputs": [],
   "source": [
    "K_0 = A.dot (X[:, 0])\n",
    "print (X[:, 0])\n",
    "print (K_0)"
   ]
  },
  {
   "cell_type": "markdown",
   "metadata": {},
   "source": [
    "**Exercise 4** (3 points). Recall that the rule number, for neighborhoods of size 3, is an integer between $0$ and $2^{2^3} -1 = 255$, inclusive. Its bit pattern determines which neighborhood patterns map to which states.\n",
    "\n",
    "Complete the following function: given a rule number, it should build and return a lookup table, `bits[:]`, that maps a neighborhood index `k` in `[0, 8)` to the output bit `bits[k]`. For example:\n",
    "\n",
    "```python\n",
    "    gen_rule_bits (90)[::-1] == np.array ([0, 1, 0, 1, 1, 0, 1, 0])\n",
    "    gen_rule_bits (150)[::-1] == np.array ([1, 0, 0, 1, 0, 1, 1, 0])\n",
    "```\n",
    "\n",
    "Note the `[::-1]` in this example, which aesthetically places the most significant bit first.\n",
    "\n",
    "Your function should have this signature:\n",
    "\n",
    "```python\n",
    "def gen_rule_bits (rule_num):\n",
    "    \"\"\"\n",
    "    Computes a bit lookup table for one of Wolfram's 1-D\n",
    "    cellular automata (CA), given a rule number.\n",
    "    \"\"\"\n",
    "    assert (0 <= rule_num < 256)\n",
    "    ... # Build bits[:8]\n",
    "    return bits\n",
    "```\n",
    "\n",
    "> Hint: Check out this handy [NumPy function](http://docs.scipy.org/doc/numpy-1.10.1/reference/generated/numpy.binary_repr.html)."
   ]
  },
  {
   "cell_type": "code",
   "execution_count": null,
   "metadata": {
    "collapsed": false,
    "deletable": false,
    "nbgrader": {
     "checksum": "25e216f1ad70aa3b224e08b2a5c938c5",
     "grade": false,
     "grade_id": "gen_rule_bits",
     "locked": false,
     "solution": true
    }
   },
   "outputs": [],
   "source": [
    "# YOUR CODE HERE\n",
    "raise NotImplementedError()"
   ]
  },
  {
   "cell_type": "code",
   "execution_count": null,
   "metadata": {
    "collapsed": false,
    "deletable": false,
    "nbgrader": {
     "checksum": "5631ec3636a169335f4f93ba5dfeb47e",
     "grade": true,
     "grade_id": "gen_rule_bits_test",
     "locked": true,
     "points": 3,
     "solution": false
    }
   },
   "outputs": [],
   "source": [
    "assert (gen_rule_bits (90)[::-1] == np.array ([0, 1, 0, 1, 1, 0, 1, 0])).all ()\n",
    "assert (gen_rule_bits (150)[::-1] == np.array ([1, 0, 0, 1, 0, 1, 1, 0])).all ()"
   ]
  },
  {
   "cell_type": "markdown",
   "metadata": {},
   "source": [
    "**Exercise 5** (1 point). Write some code to compute the complete state at time 1, `X[:, 1]`."
   ]
  },
  {
   "cell_type": "code",
   "execution_count": null,
   "metadata": {
    "collapsed": false,
    "deletable": false,
    "nbgrader": {
     "checksum": "dda6d0429765d68ba5ef9e766b2ff22a",
     "grade": false,
     "grade_id": "step1",
     "locked": false,
     "solution": true
    }
   },
   "outputs": [],
   "source": [
    "RULE = 90\n",
    "RULE_BITS = gen_rule_bits (RULE)\n",
    "\n",
    "# YOUR CODE HERE\n",
    "raise NotImplementedError()\n",
    "\n",
    "print (\"Rule:\", RULE, \"==>\", RULE_BITS[::-1])\n",
    "print (\"x(0):\", X[:, 0])\n",
    "print (\"k(0):\", K0)\n",
    "print (\"==>\\nx(1):\", X[:, 1])"
   ]
  },
  {
   "cell_type": "code",
   "execution_count": null,
   "metadata": {
    "collapsed": false,
    "deletable": false,
    "nbgrader": {
     "checksum": "e0e6ad77b0b35760e5e521aa02ab7fe8",
     "grade": true,
     "grade_id": "step1_test",
     "locked": true,
     "points": 1,
     "solution": false
    }
   },
   "outputs": [],
   "source": [
    "assert (X[:, 1] == np.array ([0, 0, 0, 0, 1, 0, 1, 0, 0, 0, 0])).all ()"
   ]
  },
  {
   "cell_type": "markdown",
   "metadata": {},
   "source": [
    "**Exercise 6** (4 points). Complete the following function, which runs a 1-D `n`-cell CA for `t_max` time steps, given an initial state `x0` and a rule number `rule_num`."
   ]
  },
  {
   "cell_type": "code",
   "execution_count": null,
   "metadata": {
    "collapsed": true,
    "deletable": false,
    "nbgrader": {
     "checksum": "2b19c2a31969eaf5d1c0906e3e15cf49",
     "grade": true,
     "grade_id": "run_ca",
     "locked": false,
     "points": 4,
     "solution": true
    }
   },
   "outputs": [],
   "source": [
    "def run_ca (rule_num, n, t_max, x0=None):\n",
    "    bits = gen_rule_bits (rule_num)\n",
    "    cells = np.zeros ((n, t_max), dtype=int)\n",
    "    \n",
    "    # Initial condition (default: centered impulse)\n",
    "    if not x0:\n",
    "        cells[int (n/2), 0] = 1\n",
    "    else:\n",
    "        cells[:, 0] = x0\n",
    "        \n",
    "    cells2idx = sp.sparse.diags ([4, 2, 1], [-1, 0, 1], \\\n",
    "                                 shape=(n, n), dtype=int)\n",
    "    \n",
    "    for t in range (1, t_max):\n",
    "        # YOUR CODE HERE\n",
    "        raise NotImplementedError()\n",
    "    return cells"
   ]
  },
  {
   "cell_type": "markdown",
   "metadata": {},
   "source": [
    "Check your results against these patterns: https://commons.wikimedia.org/wiki/Elementary_cellular_automata"
   ]
  },
  {
   "cell_type": "code",
   "execution_count": null,
   "metadata": {
    "collapsed": false,
    "scrolled": true
   },
   "outputs": [],
   "source": [
    "# Some test code:\n",
    "def irun_ca (rule_num=90, n=100, t_max=100):\n",
    "    show_grid (run_ca (rule_num, n, t_max).transpose (), cmap='hot')\n",
    "    \n",
    "irun_ca (90) # Try 90, 169, and 37"
   ]
  },
  {
   "cell_type": "markdown",
   "metadata": {},
   "source": [
    "Incidentally, we can create a little widget to create an interactive visualization of these 1-D automata."
   ]
  },
  {
   "cell_type": "code",
   "execution_count": null,
   "metadata": {
    "collapsed": false
   },
   "outputs": [],
   "source": [
    "from ipywidgets import interact\n",
    "\n",
    "interact (irun_ca\n",
    "          , rule_num=(0, 255, 1)\n",
    "          , n=(10, 100, 10)\n",
    "          , t_max=(10, 100, 10))"
   ]
  },
  {
   "cell_type": "code",
   "execution_count": null,
   "metadata": {
    "collapsed": true
   },
   "outputs": [],
   "source": []
  }
 ],
 "metadata": {
  "kernelspec": {
   "display_name": "Python 3",
   "language": "python",
   "name": "python3"
  },
  "language_info": {
   "codemirror_mode": {
    "name": "ipython",
    "version": 3
   },
   "file_extension": ".py",
   "mimetype": "text/x-python",
   "name": "python",
   "nbconvert_exporter": "python",
   "pygments_lexer": "ipython3",
   "version": "3.5.1"
  }
 },
 "nbformat": 4,
 "nbformat_minor": 0
}
