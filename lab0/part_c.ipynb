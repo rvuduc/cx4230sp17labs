{
 "cells": [
  {
   "cell_type": "markdown",
   "metadata": {
    "nbgrader": {
     "grade": false,
     "solution": false
    }
   },
   "source": [
    "# Important note!\n",
    "\n",
    "Before you turn this problem in, make sure everything runs as expected. First, **restart the kernel** (in the menubar, select Kernel$\\rightarrow$Restart) and then **run all cells** (in the menubar, select Cell$\\rightarrow$Run All).\n",
    "\n",
    "Make sure you fill in any place that says `YOUR CODE HERE` or \"YOUR ANSWER HERE\", as well as your GT login and the GT logins of any of your collaborators below. (The GT logins are worth 1 point per notebook, so don't miss the opportunity to get a free point!)"
   ]
  },
  {
   "cell_type": "code",
   "execution_count": null,
   "metadata": {
    "collapsed": false,
    "nbgrader": {
     "grade": false,
     "locked": false,
     "solution": false
    }
   },
   "outputs": [],
   "source": [
    "YOUR_ID = \"\" # Please enter your GT login, e.g., \"rvuduc3\" or \"gtg911x\"\n",
    "COLLABORATORS = [] # list of strings of your collaborators' IDs"
   ]
  },
  {
   "cell_type": "code",
   "execution_count": null,
   "metadata": {
    "collapsed": false,
    "deletable": false,
    "nbgrader": {
     "checksum": "b11295002cc2b9549d6a2b01721b6701",
     "grade": true,
     "grade_id": "who__test",
     "locked": true,
     "points": 1,
     "solution": false
    }
   },
   "outputs": [],
   "source": [
    "import re\n",
    "\n",
    "RE_CHECK_ID = re.compile (r'''[a-zA-Z]+\\d+|[gG][tT][gG]\\d+[a-zA-Z]''')\n",
    "assert RE_CHECK_ID.match (YOUR_ID) is not None\n",
    "\n",
    "collab_check = [RE_CHECK_ID.match (i) is not None for i in COLLABORATORS]\n",
    "assert all (collab_check)\n",
    "\n",
    "del collab_check\n",
    "del RE_CHECK_ID\n",
    "del re"
   ]
  },
  {
   "cell_type": "markdown",
   "metadata": {},
   "source": [
    "**Jupyter / IPython version check.** The following code cell verifies that you are using the correct version of Jupyter/IPython."
   ]
  },
  {
   "cell_type": "code",
   "execution_count": null,
   "metadata": {
    "collapsed": true
   },
   "outputs": [],
   "source": [
    "import IPython\n",
    "assert IPython.version_info[0] >= 3, \"Your version of IPython is too old, please update it.\""
   ]
  },
  {
   "cell_type": "markdown",
   "metadata": {},
   "source": [
    "# Lab 0-C: Oscillations\n",
    "\n",
    "The linear model only captures exponential growth (toward infinity) or decay (toward some constant). It does not appear to be able to capture other kinds of behavior, such as the simple cyclic behavior we saw in the \"trend setting\" example.\n",
    "\n",
    "Indeed, as the trend setting example suggests, we will need multiple variables to express oscillation within the linear framework. Let's see how."
   ]
  },
  {
   "cell_type": "code",
   "execution_count": null,
   "metadata": {
    "collapsed": false
   },
   "outputs": [],
   "source": [
    "import numpy as np\n",
    "MACH_EPS = np.finfo(float).eps\n",
    "\n",
    "import matplotlib.pyplot as plt\n",
    "\n",
    "%matplotlib inline"
   ]
  },
  {
   "cell_type": "markdown",
   "metadata": {},
   "source": [
    "**Exercise 1** (2 points). Implement the state transition function for the following system of two variables.\n",
    "\n",
    "$$\n",
    "\\begin{eqnarray}\n",
    "  x_t & = & \\frac{1}{2} x_{t-1} + y_{t-1} \\\\\n",
    "  y_t & = & -\\frac{1}{2} x_{t-1} + y_{t-1}\n",
    "\\end{eqnarray}\n",
    "$$\n",
    "\n",
    "In particular, given an input tuple `z = (x, y)` at some time step $t$, where $x_{t-1}=$`x` and $y_{t-1}=$`y`, it should return a new tuple `(u, v)` where `u`$=x_t$ and `v`$=y_t$."
   ]
  },
  {
   "cell_type": "code",
   "execution_count": null,
   "metadata": {
    "collapsed": true,
    "deletable": false,
    "nbgrader": {
     "checksum": "4608c5c96f96fe918e8295c415287a93",
     "grade": false,
     "grade_id": "F",
     "locked": false,
     "solution": true
    }
   },
   "outputs": [],
   "source": [
    "def F (z):\n",
    "    # YOUR CODE HERE\n",
    "    raise NotImplementedError()"
   ]
  },
  {
   "cell_type": "code",
   "execution_count": null,
   "metadata": {
    "collapsed": false,
    "deletable": false,
    "nbgrader": {
     "checksum": "485f724a487d9ceb468d2d893096bb62",
     "grade": true,
     "grade_id": "F_test",
     "locked": true,
     "points": 2,
     "solution": false
    }
   },
   "outputs": [],
   "source": [
    "assert F (F (F (F (F ((2, -1)))))) == (-0.75, 1.75)\n",
    "print (\"\\n(Passed.)\")"
   ]
  },
  {
   "cell_type": "markdown",
   "metadata": {},
   "source": [
    "**Exercise 2** (2 points). Implement a simulation loop for this system. Your implementation should be a function `sim (z0, t_max)` that takes the initial state `z0` and number of time steps `t_max` as inputs, and returns a list `Z[:t_max+1]` such that `Z[t]` is the state of the system at time step `t`, with `Z[0] == z0`."
   ]
  },
  {
   "cell_type": "code",
   "execution_count": null,
   "metadata": {
    "collapsed": false,
    "deletable": false,
    "nbgrader": {
     "checksum": "c270bacfd73852df95bebfe1a4d510b7",
     "grade": false,
     "grade_id": "sim",
     "locked": false,
     "solution": true
    }
   },
   "outputs": [],
   "source": [
    "# def sim (z0, t_max):\n",
    "#     ...\n",
    "\n",
    "# YOUR CODE HERE\n",
    "raise NotImplementedError()\n",
    "\n",
    "T_MAX = 50\n",
    "Z0 = (1, 1)\n",
    "Z = sim (Z0, T_MAX)\n",
    "\n",
    "T = list (range (T_MAX+1))\n",
    "X = [x for x, _ in Z]\n",
    "Y = [y for _, y in Z]\n",
    "plt.plot (T, X, 's-', T, Y, '*--')"
   ]
  },
  {
   "cell_type": "code",
   "execution_count": null,
   "metadata": {
    "collapsed": false,
    "deletable": false,
    "nbgrader": {
     "checksum": "45d12fa503ca89a935ac06606531b4f2",
     "grade": true,
     "grade_id": "sim_test",
     "locked": true,
     "points": 2,
     "solution": false
    }
   },
   "outputs": [],
   "source": [
    "Z_test = sim ((1, 1), 50)\n",
    "\n",
    "X_soln = []\n",
    "Y_soln = []\n",
    "with open ('Z_soln__1_1_50.csv', 'rt') as fp:\n",
    "    for line in fp.readlines ():\n",
    "        xs, ys = tuple (line.strip ().split (','))\n",
    "        X_soln.append (float (xs))\n",
    "        Y_soln.append (float (ys))\n",
    "\n",
    "X_test = [x for x, _ in Z_test]\n",
    "dX_test = [x-xs for x, xs in zip (X, X_soln)]\n",
    "Y_test = [y for _, y in Z_test]\n",
    "dY_test = [y-ys for y, ys in zip (Y_test, Y_soln)]\n",
    "\n",
    "assert all ([abs (dx) <= 4.*MACH_EPS for dx in dX_test])\n",
    "assert all ([abs (dy) <= 4.*MACH_EPS for dy in dY_test])\n",
    "\n",
    "print (\"\\n(Passed.)\")"
   ]
  },
  {
   "cell_type": "markdown",
   "metadata": {},
   "source": [
    "**Exercise 3** (2 points). This system may be written as a system of linear equations of the form,\n",
    "\n",
    "$$\n",
    "  z_t = M z_{t-1},\n",
    "$$\n",
    "\n",
    "where $M$ is a matrix. What is $M$ for this example?"
   ]
  },
  {
   "cell_type": "markdown",
   "metadata": {
    "deletable": false,
    "nbgrader": {
     "checksum": "3bda42559969c2ae0de7ccbd72329b45",
     "grade": true,
     "grade_id": "M",
     "locked": false,
     "points": 2,
     "solution": true
    }
   },
   "source": [
    "YOUR ANSWER HERE"
   ]
  },
  {
   "cell_type": "code",
   "execution_count": null,
   "metadata": {
    "collapsed": true
   },
   "outputs": [],
   "source": []
  }
 ],
 "metadata": {
  "kernelspec": {
   "display_name": "Python 3",
   "language": "python",
   "name": "python3"
  },
  "language_info": {
   "codemirror_mode": {
    "name": "ipython",
    "version": 3
   },
   "file_extension": ".py",
   "mimetype": "text/x-python",
   "name": "python",
   "nbconvert_exporter": "python",
   "pygments_lexer": "ipython3",
   "version": "3.5.1"
  }
 },
 "nbformat": 4,
 "nbformat_minor": 0
}
