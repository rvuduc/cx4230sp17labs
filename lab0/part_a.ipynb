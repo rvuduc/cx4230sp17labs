{
 "cells": [
  {
   "cell_type": "markdown",
   "metadata": {
    "nbgrader": {
     "grade": false,
     "solution": false
    }
   },
   "source": [
    "# Important note!\n",
    "\n",
    "Before you turn this problem in, make sure everything runs as expected. First, **restart the kernel** (in the menubar, select Kernel$\\rightarrow$Restart) and then **run all cells** (in the menubar, select Cell$\\rightarrow$Run All).\n",
    "\n",
    "Make sure you fill in any place that says `YOUR CODE HERE` or \"YOUR ANSWER HERE\", as well as your GT login and the GT logins of any of your collaborators below. (The GT logins are worth 1 point per notebook, so don't miss the opportunity to get a free point!)"
   ]
  },
  {
   "cell_type": "code",
   "execution_count": null,
   "metadata": {
    "collapsed": false,
    "nbgrader": {
     "grade": false,
     "locked": false,
     "solution": false
    }
   },
   "outputs": [],
   "source": [
    "YOUR_ID = \"\" # Please enter your GT login, e.g., \"rvuduc3\" or \"gtg911x\"\n",
    "COLLABORATORS = [] # list of strings of your collaborators' IDs"
   ]
  },
  {
   "cell_type": "code",
   "execution_count": null,
   "metadata": {
    "collapsed": false,
    "deletable": false,
    "nbgrader": {
     "checksum": "b11295002cc2b9549d6a2b01721b6701",
     "grade": true,
     "grade_id": "who__test",
     "locked": true,
     "points": 1,
     "solution": false
    }
   },
   "outputs": [],
   "source": [
    "import re\n",
    "\n",
    "RE_CHECK_ID = re.compile (r'''[a-zA-Z]+\\d+|[gG][tT][gG]\\d+[a-zA-Z]''')\n",
    "assert RE_CHECK_ID.match (YOUR_ID) is not None\n",
    "\n",
    "collab_check = [RE_CHECK_ID.match (i) is not None for i in COLLABORATORS]\n",
    "assert all (collab_check)\n",
    "\n",
    "del collab_check\n",
    "del RE_CHECK_ID\n",
    "del re"
   ]
  },
  {
   "cell_type": "markdown",
   "metadata": {},
   "source": [
    "**Jupyter / IPython version check.** The following code cell verifies that you are using the correct version of Jupyter/IPython."
   ]
  },
  {
   "cell_type": "code",
   "execution_count": null,
   "metadata": {
    "collapsed": true
   },
   "outputs": [],
   "source": [
    "import IPython\n",
    "assert IPython.version_info[0] >= 3, \"Your version of IPython is too old, please update it.\""
   ]
  },
  {
   "cell_type": "markdown",
   "metadata": {},
   "source": [
    "# Lab 0-A: Autonomous First-Order Discrete Dynamical Model\n",
    "\n",
    "Our first major modeling concept is that of an **autonomous first-order system** that is **discrete in both time and space.**\n",
    "\n",
    "Formally, let $t = 0, 1, 2, \\ldots$ denote time, and let $x_t$ be the system's state variable, which also takes on values from some discrete set $S$. Then the system evolves in time as\n",
    "\n",
    "$$\n",
    "  x_t = F(x_{t-1})\n",
    "$$\n",
    "\n",
    "where $F(\\cdot)$ is the system's _state transition function_. This system is _first-order_ because the state at time $t$ depends only on the state at time $t-1$; it is _autonomous_ because it does not depend explicitly on the variable $t$. (That is, it depends only implicitly on $t$ through $x_{t-1}$.)"
   ]
  },
  {
   "cell_type": "markdown",
   "metadata": {},
   "source": [
    "## Example: Trend setters and followers\n",
    "\n",
    "Consider a world in which sweaters come in two colors, black or white. Within this world, _trend setters_ decide what to wear and _trend followers_ mimic the style of trend setters.\n",
    "\n",
    "Let's model this world using two agents, $A$ and $B$. Agent $A$ is the trend setter and $B$ is the trend follower. Their sweaters come in two colors, 0 (black) or 1 (white). Initially, $A$ wears a black sweater and $B$ wears a white sweater. The two agents change their sweaters according to the following rules:\n",
    "\n",
    "- If agent $A$ observes that $B$ is wearing a sweater of the same color, then $A$ changes its sweater color.\n",
    "- Agent $B$ always changes his or her sweater color to match that of $A$."
   ]
  },
  {
   "cell_type": "markdown",
   "metadata": {},
   "source": [
    "**Exercise 1** (2 points). Assume $x_t$ is a tuple, $x_t \\equiv (a_t, b_t)$, where $a_t$ and $b_t$ denote the colors of $A$ and $B$ at time $t$. Write down the mathematical form of $F(x_{t-1})$. Use a Markdown cell (below) and LaTeX syntax for the mathematical bits.\n",
    "\n",
    "> Detexify is a neat site for \"looking up\" a math symbol in LaTeX: http://detexify.kirelabs.org/classify.html"
   ]
  },
  {
   "cell_type": "markdown",
   "metadata": {
    "deletable": false,
    "nbgrader": {
     "checksum": "7a032c1208a7f603ca9c628c26b4848a",
     "grade": true,
     "grade_id": "F_math",
     "locked": false,
     "points": 2,
     "solution": true
    }
   },
   "source": [
    "YOUR ANSWER HERE"
   ]
  },
  {
   "cell_type": "markdown",
   "metadata": {},
   "source": [
    "**Exercise 2** (2 points). Implement a state transition function, `F(a, b)`, that takes as input the colors `a` and `b` of agents $A$ and $B$, respectively, at the current time step and returns their updated colors according to the governing rule above. The function should return the new colors as a pair. The valid colors are 0 and 1."
   ]
  },
  {
   "cell_type": "code",
   "execution_count": null,
   "metadata": {
    "collapsed": true,
    "deletable": false,
    "nbgrader": {
     "checksum": "53d1f1bc5d1020d2df47adc0c3e7974a",
     "grade": false,
     "grade_id": "F_code",
     "locked": false,
     "solution": true
    }
   },
   "outputs": [],
   "source": [
    "def F (a, b):\n",
    "    assert a in [0, 1]\n",
    "    assert b in [0, 1]\n",
    "    \n",
    "    a_new, b_new = a, b\n",
    "    \n",
    "    # YOUR CODE HERE\n",
    "    raise NotImplementedError()\n",
    "    \n",
    "    return a_new, b_new"
   ]
  },
  {
   "cell_type": "code",
   "execution_count": null,
   "metadata": {
    "collapsed": false,
    "deletable": false,
    "nbgrader": {
     "checksum": "f9bbdc2c7bcd2950cf5004f17511aaff",
     "grade": true,
     "grade_id": "F_code_test",
     "locked": true,
     "points": 2,
     "solution": false
    }
   },
   "outputs": [],
   "source": [
    "# Test code\n",
    "assert F (0, 0) == (1, 0)\n",
    "assert F (0, 1) == (0, 0)\n",
    "assert F (1, 0) == (1, 1)\n",
    "assert F (1, 1) == (0, 1)\n",
    "\n",
    "print (\"\\n(Passed!)\")"
   ]
  },
  {
   "cell_type": "markdown",
   "metadata": {},
   "source": [
    "**Exercise 3** (2 points). Using your function, `F(a, b)`, complete the following simulation of this system. "
   ]
  },
  {
   "cell_type": "code",
   "execution_count": null,
   "metadata": {
    "collapsed": false,
    "deletable": false,
    "nbgrader": {
     "checksum": "4890a0afbbbe237cdb2b81f45afc2d3d",
     "grade": false,
     "grade_id": "sim",
     "locked": false,
     "solution": true
    }
   },
   "outputs": [],
   "source": [
    "t = 0 # Discrete time counter\n",
    "T_MAX = 10 # Number of simulation steps\n",
    "\n",
    "# Tracks all state changes over time:\n",
    "A = [0]\n",
    "B = [1]\n",
    "\n",
    "# YOUR CODE HERE\n",
    "raise NotImplementedError()\n",
    "    \n",
    "print (\"A:\", A)\n",
    "print (\"B:\", B)"
   ]
  },
  {
   "cell_type": "code",
   "execution_count": null,
   "metadata": {
    "collapsed": false,
    "deletable": false,
    "nbgrader": {
     "checksum": "f8158061479df4fc93ff19b9669df2ab",
     "grade": true,
     "grade_id": "sim_test",
     "locked": true,
     "points": 2,
     "solution": false
    }
   },
   "outputs": [],
   "source": [
    "assert len (A) == len (B)\n",
    "\n",
    "for i in range (1, len (A)):\n",
    "    a0, b0 = A[i-1], B[i-1]\n",
    "    a, b = A[i], B[i]\n",
    "    assert ((a0 != b0) and (a == b)) or ((a0 == b0) and (a != b))\n",
    "    \n",
    "print (\"\\n(Passed!)\")"
   ]
  },
  {
   "cell_type": "markdown",
   "metadata": {},
   "source": [
    "**Exercise 4** (1 point). Plot the result as a time series using Matplotlib's [`plot()` function](http://matplotlib.org/users/pyplot_tutorial.html) (in the `matplotlib.pyplot` module)."
   ]
  },
  {
   "cell_type": "code",
   "execution_count": null,
   "metadata": {
    "collapsed": false,
    "deletable": false,
    "nbgrader": {
     "checksum": "17599eb29fd6e3a1e2812f0ff7cba983",
     "grade": true,
     "grade_id": "plot",
     "locked": false,
     "points": 1,
     "solution": true
    }
   },
   "outputs": [],
   "source": [
    "# YOUR CODE HERE\n",
    "raise NotImplementedError()"
   ]
  },
  {
   "cell_type": "markdown",
   "metadata": {},
   "source": [
    "Hey, what do you know? Fashion trends are cyclical."
   ]
  },
  {
   "cell_type": "markdown",
   "metadata": {},
   "source": [
    "**Exercise 5** (2 points). Make a phase space plot of this system."
   ]
  },
  {
   "cell_type": "code",
   "execution_count": null,
   "metadata": {
    "collapsed": false,
    "deletable": false,
    "nbgrader": {
     "checksum": "4cfebcef378b90d83a4c7af94bef6c0a",
     "grade": true,
     "grade_id": "phase_plot",
     "locked": false,
     "points": 2,
     "solution": true
    }
   },
   "outputs": [],
   "source": [
    "# YOUR CODE HERE\n",
    "raise NotImplementedError()"
   ]
  },
  {
   "cell_type": "code",
   "execution_count": null,
   "metadata": {
    "collapsed": true
   },
   "outputs": [],
   "source": []
  }
 ],
 "metadata": {
  "kernelspec": {
   "display_name": "Python 3",
   "language": "python",
   "name": "python3"
  },
  "language_info": {
   "codemirror_mode": {
    "name": "ipython",
    "version": 3
   },
   "file_extension": ".py",
   "mimetype": "text/x-python",
   "name": "python",
   "nbconvert_exporter": "python",
   "pygments_lexer": "ipython3",
   "version": "3.5.1"
  }
 },
 "nbformat": 4,
 "nbformat_minor": 2
}
