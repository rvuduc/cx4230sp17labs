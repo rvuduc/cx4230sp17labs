{
 "cells": [
  {
   "cell_type": "markdown",
   "metadata": {
    "nbgrader": {
     "grade": false,
     "solution": false
    }
   },
   "source": [
    "# Important note!\n",
    "\n",
    "Before you turn this problem in, make sure everything runs as expected. First, **restart the kernel** (in the menubar, select Kernel$\\rightarrow$Restart) and then **run all cells** (in the menubar, select Cell$\\rightarrow$Run All).\n",
    "\n",
    "Make sure you fill in any place that says `YOUR CODE HERE` or \"YOUR ANSWER HERE\", as well as your GT login and the GT logins of any of your collaborators below. (The GT logins are worth 1 point per notebook, so don't miss the opportunity to get a free point!)"
   ]
  },
  {
   "cell_type": "code",
   "execution_count": null,
   "metadata": {
    "collapsed": false,
    "nbgrader": {
     "grade": false,
     "locked": false,
     "solution": false
    }
   },
   "outputs": [],
   "source": [
    "YOUR_ID = \"\" # Please enter your GT login, e.g., \"rvuduc3\" or \"gtg911x\"\n",
    "COLLABORATORS = [] # list of strings of your collaborators' IDs"
   ]
  },
  {
   "cell_type": "code",
   "execution_count": null,
   "metadata": {
    "collapsed": false,
    "deletable": false,
    "nbgrader": {
     "checksum": "b11295002cc2b9549d6a2b01721b6701",
     "grade": true,
     "grade_id": "who__test",
     "locked": true,
     "points": 1,
     "solution": false
    }
   },
   "outputs": [],
   "source": [
    "import re\n",
    "\n",
    "RE_CHECK_ID = re.compile (r'''[a-zA-Z]+\\d+|[gG][tT][gG]\\d+[a-zA-Z]''')\n",
    "assert RE_CHECK_ID.match (YOUR_ID) is not None\n",
    "\n",
    "collab_check = [RE_CHECK_ID.match (i) is not None for i in COLLABORATORS]\n",
    "assert all (collab_check)\n",
    "\n",
    "del collab_check\n",
    "del RE_CHECK_ID\n",
    "del re"
   ]
  },
  {
   "cell_type": "markdown",
   "metadata": {},
   "source": [
    "**Jupyter / IPython version check.** The following code cell verifies that you are using the correct version of Jupyter/IPython."
   ]
  },
  {
   "cell_type": "code",
   "execution_count": null,
   "metadata": {
    "collapsed": true
   },
   "outputs": [],
   "source": [
    "import IPython\n",
    "assert IPython.version_info[0] >= 3, \"Your version of IPython is too old, please update it.\""
   ]
  },
  {
   "cell_type": "markdown",
   "metadata": {},
   "source": [
    "# Lab 0-B: Linear models [6 points]\n",
    "\n",
    "We say $F(x_{t-1})$ is _linear_ if it may be written in the form,\n",
    "\n",
    "$$\n",
    "  F(x_{t-1}) \\equiv m x_{t-1} + b,\n",
    "$$\n",
    "\n",
    "where $m$ and $b$ are constants.\n",
    "\n",
    "Let's see how this model behaves as $m$ and $b$ vary."
   ]
  },
  {
   "cell_type": "code",
   "execution_count": null,
   "metadata": {
    "collapsed": true
   },
   "outputs": [],
   "source": [
    "from random import randint\n",
    "\n",
    "%matplotlib inline\n",
    "import matplotlib.pyplot as plt"
   ]
  },
  {
   "cell_type": "markdown",
   "metadata": {},
   "source": [
    "**Exercise 1** (1 point). Define a linear autonomous first-order state transition function, `F_linear(x, m=1, b=0)`, where the `m` and `b` arguments correspond to the constant coefficients, $m$ and $b$, which take on default values of $1$ and $0$, respectively."
   ]
  },
  {
   "cell_type": "code",
   "execution_count": null,
   "metadata": {
    "collapsed": true,
    "deletable": false,
    "nbgrader": {
     "checksum": "8422ae6851f90c19e206e768552e5912",
     "grade": false,
     "grade_id": "F_linear",
     "locked": false,
     "solution": true
    }
   },
   "outputs": [],
   "source": [
    "# YOUR CODE HERE\n",
    "raise NotImplementedError()"
   ]
  },
  {
   "cell_type": "code",
   "execution_count": null,
   "metadata": {
    "collapsed": false,
    "deletable": false,
    "nbgrader": {
     "checksum": "9280fc281e72383a7f721163a4d573a5",
     "grade": true,
     "grade_id": "F_linear_test",
     "locked": true,
     "points": 1,
     "solution": false
    }
   },
   "outputs": [],
   "source": [
    "from random import randint\n",
    "\n",
    "for trial in range (10):\n",
    "    m = randint (-10, 10)\n",
    "    b = randint (-10, 10)\n",
    "    x = randint (-10, 10)\n",
    "    y = F_linear (x, m, b)\n",
    "    assert (y - b) == (x*m)\n",
    "    \n",
    "print (\"\\n(Passed!)\")"
   ]
  },
  {
   "cell_type": "markdown",
   "metadata": {},
   "source": [
    "**Exercise 2** (2 points). Complete the simulator below. It is a function, `sim`, that takes the following arguments.\n",
    "\n",
    "- `fun`: A function that implements the autonomous first-order state transition function of a discrete dynamical system. It should have the calling signature, `fun(x, ...)`, where `x` is the current state and `...` can accept any additional (and optional) named arguments. See `fun_args` below.\n",
    "- `t_max`: The number of time steps to simulate.\n",
    "- `x0`: The value of the initial state.\n",
    "- `fun_args`: Any optional additional named arguments to be passed to `fun`.\n",
    "\n",
    "It should return a list `X[:t_max+1]` where `X[t]` is the state variable at time step `t`. Element `X[0] == x0`."
   ]
  },
  {
   "cell_type": "code",
   "execution_count": null,
   "metadata": {
    "collapsed": true,
    "deletable": false,
    "nbgrader": {
     "checksum": "f42aebf776134962069a6d38ec1fb567",
     "grade": false,
     "grade_id": "sim",
     "locked": false,
     "solution": true
    }
   },
   "outputs": [],
   "source": [
    "def sim (fun, t_max, x0, **fun_args):\n",
    "    X = [x0]\n",
    "    for t in range (1, t_max+1):\n",
    "        # YOUR CODE HERE\n",
    "        raise NotImplementedError()\n",
    "    return X"
   ]
  },
  {
   "cell_type": "code",
   "execution_count": null,
   "metadata": {
    "collapsed": false,
    "deletable": false,
    "nbgrader": {
     "checksum": "0124f36288e59e716918381df0d5cb04",
     "grade": true,
     "grade_id": "sim_test",
     "locked": true,
     "points": 2,
     "solution": false
    }
   },
   "outputs": [],
   "source": [
    "T_MAX = 30\n",
    "M = 1.1\n",
    "B = 0\n",
    "X0 = 1.0\n",
    "\n",
    "X = sim (F_linear, T_MAX, X0, m=M, b=B)\n",
    "T = list (range (T_MAX+1))\n",
    "plt.plot (T, X, 's')\n",
    "\n",
    "def f_lin_det (t, x0, m, b):\n",
    "    c = b / (m-1)\n",
    "    return (m**t)*(x0 + c) - c\n",
    "\n",
    "Y = [f_lin_det (t, X0, M, B) for t in T]\n",
    "plt.plot (T, Y, 'r-')\n",
    "\n",
    "import numpy as np\n",
    "MACH_EPS = np.finfo (float).eps\n",
    "\n",
    "rdy = [(y-x)/x for x, y in zip (X, Y)]\n",
    "assert all ([(abs (r) <= 2.*MACH_EPS) for r in rdy])\n",
    "\n",
    "print (\"\\n(Passed!)\")"
   ]
  },
  {
   "cell_type": "markdown",
   "metadata": {},
   "source": [
    "**Exercise 3** (3 points). For autonomous, first-order, discrete linear dynamical system, $x_t = m x_{t-1} + b$, show that\n",
    "\n",
    "$$\n",
    "  x_t = m^t (x_0 + c) - c,\n",
    "$$\n",
    "\n",
    "where $c \\equiv \\dfrac{b}{m-1}$.\n",
    "\n",
    "> You'll notice that the preceding testing code cell above compares the output of your simulator with a collection of values computed using this deterministic formula."
   ]
  },
  {
   "cell_type": "markdown",
   "metadata": {
    "deletable": false,
    "nbgrader": {
     "checksum": "9559eee984bd7a9350d43f0dad6cb94d",
     "grade": true,
     "grade_id": "proof",
     "locked": false,
     "points": 3,
     "solution": true
    }
   },
   "source": [
    "YOUR ANSWER HERE"
   ]
  },
  {
   "cell_type": "code",
   "execution_count": null,
   "metadata": {
    "collapsed": true
   },
   "outputs": [],
   "source": []
  }
 ],
 "metadata": {
  "kernelspec": {
   "display_name": "Python 3",
   "language": "python",
   "name": "python3"
  },
  "language_info": {
   "codemirror_mode": {
    "name": "ipython",
    "version": 3
   },
   "file_extension": ".py",
   "mimetype": "text/x-python",
   "name": "python",
   "nbconvert_exporter": "python",
   "pygments_lexer": "ipython3",
   "version": "3.5.1"
  }
 },
 "nbformat": 4,
 "nbformat_minor": 2
}
