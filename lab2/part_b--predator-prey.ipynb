{
 "cells": [
  {
   "cell_type": "markdown",
   "metadata": {
    "nbgrader": {
     "grade": false,
     "solution": false
    }
   },
   "source": [
    "# Important note!\n",
    "\n",
    "Before you turn this problem in, make sure everything runs as expected. First, **restart the kernel** (in the menubar, select Kernel$\\rightarrow$Restart) and then **run all cells** (in the menubar, select Cell$\\rightarrow$Run All).\n",
    "\n",
    "Make sure you fill in any place that says `YOUR CODE HERE` or \"YOUR ANSWER HERE\", as well as your GT login and the GT logins of any of your collaborators below. (The GT logins are worth 1 point per notebook, so don't miss the opportunity to get a free point!)"
   ]
  },
  {
   "cell_type": "code",
   "execution_count": null,
   "metadata": {
    "collapsed": false,
    "nbgrader": {
     "grade": false,
     "locked": false,
     "solution": false
    }
   },
   "outputs": [],
   "source": [
    "YOUR_ID = \"\" # Please enter your GT login, e.g., \"rvuduc3\" or \"gtg911x\"\n",
    "COLLABORATORS = [] # list of strings of your collaborators' IDs"
   ]
  },
  {
   "cell_type": "code",
   "execution_count": null,
   "metadata": {
    "collapsed": false,
    "deletable": false,
    "nbgrader": {
     "checksum": "b11295002cc2b9549d6a2b01721b6701",
     "grade": true,
     "grade_id": "who__test",
     "locked": true,
     "points": 1,
     "solution": false
    }
   },
   "outputs": [],
   "source": [
    "import re\n",
    "\n",
    "RE_CHECK_ID = re.compile (r'''[a-zA-Z]+\\d+|[gG][tT][gG]\\d+[a-zA-Z]''')\n",
    "assert RE_CHECK_ID.match (YOUR_ID) is not None\n",
    "\n",
    "collab_check = [RE_CHECK_ID.match (i) is not None for i in COLLABORATORS]\n",
    "assert all (collab_check)\n",
    "\n",
    "del collab_check\n",
    "del RE_CHECK_ID\n",
    "del re"
   ]
  },
  {
   "cell_type": "markdown",
   "metadata": {},
   "source": [
    "**Jupyter / IPython version check.** The following code cell verifies that you are using the correct version of Jupyter/IPython."
   ]
  },
  {
   "cell_type": "code",
   "execution_count": null,
   "metadata": {
    "collapsed": true
   },
   "outputs": [],
   "source": [
    "import IPython\n",
    "assert IPython.version_info[0] >= 3, \"Your version of IPython is too old, please update it.\""
   ]
  },
  {
   "cell_type": "markdown",
   "metadata": {},
   "source": [
    "# A predator-prey system\n",
    "\n",
    "Consider a population of hippos and lions. The lions are _predators_ and the hippos are _prey_, since the lions eat the hippos but not vice-versa. Suppose we wish to model these populations."
   ]
  },
  {
   "cell_type": "markdown",
   "metadata": {},
   "source": [
    "## Part 1: Population dynamics in isolation\n",
    "\n",
    "To develop a model, let's think first about the _intrinsic_ dynamics of each population separately from the other.\n",
    "\n",
    "- In the absence of lions, the hippos multiply.\n",
    "- In the absence of hippos, the lions die.\n",
    "\n",
    "Mathematically, if $H_t$ is the number of hippos at time $t$ and $L_t$ is the number of wolves at time $t$, then our simple growth and decay models would give us the following starting point.\n",
    "\n",
    "$$\n",
    "\\begin{eqnarray}\n",
    "  H_t & \\sim & \\left[ 1 + \\gamma \\left( 1 - \\frac{H_{t-1}}{\\kappa} \\right) \\right] H_{t-1} \\\\\n",
    "  L_t & \\sim & (1 - \\delta) L_{t-1},\n",
    "\\end{eqnarray}\n",
    "$$\n",
    "\n",
    "where $0 \\leq \\gamma, \\delta$ are the percent increase and decrease per unit time of the two populations, respectively; and $\\kappa$ is the maximum population capacity of the sheep."
   ]
  },
  {
   "cell_type": "markdown",
   "metadata": {},
   "source": [
    "## Part 2: Interactions\n",
    "\n",
    "Now let's add interaction terms between the two groups.\n",
    "\n",
    "Start by thinking about the number of hippos that will be eaten in some time period. As before, we might start by supposing that the number of hippos that die due to lions behaves like\n",
    "\n",
    "$$\n",
    "  d(L_{t-1}) \\cdot H_{t-1},\n",
    "$$\n",
    "\n",
    "where $d(l)$ is a function that lies between 0 and 1, inclusive. The case of $d(l)=0$ corresponds to no deaths, which should happen when $l=0$; and $d(l) \\rightarrow 1$ when there are many lions, i.e., as $w \\rightarrow \\infty$."
   ]
  },
  {
   "cell_type": "markdown",
   "metadata": {},
   "source": [
    "A simple function with this behavior is,\n",
    "\n",
    "$$\n",
    "  d(l) \\equiv 1 - \\frac{1}{\\beta l + 1},\n",
    "$$\n",
    "\n",
    "where $\\beta > 0$ is some parameter that can be used to control how quickly lions consume hippos."
   ]
  },
  {
   "cell_type": "markdown",
   "metadata": {},
   "source": [
    "**Exercise 1** (2 points). Plot $d(l)$ for the following four values of $\\beta$: 0.01, 0.1, 1, and 10."
   ]
  },
  {
   "cell_type": "code",
   "execution_count": null,
   "metadata": {
    "collapsed": false,
    "deletable": false,
    "nbgrader": {
     "checksum": "3cafedefad249aa6d0e024f84686128e",
     "grade": true,
     "grade_id": "plot_d_of_l",
     "locked": false,
     "points": 2,
     "solution": true
    }
   },
   "outputs": [],
   "source": [
    "from matplotlib.pyplot import plot, legend, xlabel, title\n",
    "%matplotlib inline\n",
    "\n",
    "# YOUR CODE HERE\n",
    "raise NotImplementedError()"
   ]
  },
  {
   "cell_type": "markdown",
   "metadata": {},
   "source": [
    "Similarly, we might expect the lion population to grow faster the more hippos there are:\n",
    "\n",
    "$$\n",
    "  L_t \\sim \\left[ 1 + g(H_{t-1}) \\right] L_{t-1}.\n",
    "$$\n",
    "\n",
    "The simplest function describing growth might be our usual $g(h) = \\eta h$, which measures percent growth (as a _function_ of $h$)."
   ]
  },
  {
   "cell_type": "markdown",
   "metadata": {},
   "source": [
    "Let's put these ideas together into the following mathematical model:\n",
    "\n",
    "$$\n",
    "\\begin{eqnarray}\n",
    "  H_t & \\equiv & \\left[ 1 + \\gamma \\left( 1 - \\frac{H_{t-1}}{\\kappa} \\right) - \\left( 1 - \\frac{1}{\\beta L_{t-1} + 1} \\right) \\right] H_{t-1} \\\\\n",
    "  L_t & \\equiv & (1 - \\delta + \\eta H_{t-1}) L_{t-1}.\n",
    "\\end{eqnarray}\n",
    "$$\n",
    "\n",
    "Since $d(l) h$ counts the number of the original $h$ hippos who are eaten by the $l$ lions, we subtract it from $H_{t-1}$ in the first equation; and since $\\eta h$ measures the percent increase in lions due to the presence of $h$ hippos, it offsets the percent decrease due to the lions natural death rate ($\\delta$)."
   ]
  },
  {
   "cell_type": "markdown",
   "metadata": {},
   "source": [
    "Let's simulate this model for the following parameter settings:\n",
    "- $\\gamma=1$: In isolation the prey naturally double in each time step.\n",
    "- $\\kappa=5$: The environment supports a maximum of five prey.\n",
    "- $\\beta=1$: This parameter does not have an easy interpretation, other than qualitative effect of increasing the death rate for larger $\\beta$. In practice, you would calibrate it against observations.\n",
    "- $\\delta=1$: The predators would naturally immediately die out if they were not able to feed within a given time step.\n",
    "- $\\eta=1$: Like $\\beta$, this parameter only has the qualitative interpretation previously discussed.\n",
    "\n",
    "Let's also use the initial conditions of $H_0=L_0=1$ (one hippo and one lion), and simulate for `t_max=100` time steps."
   ]
  },
  {
   "cell_type": "markdown",
   "metadata": {},
   "source": [
    "**Exercise 2** (4 points). Simulate this system for the parameters given above. In particular, it should produce its results in the form of a NumPy array, `X[:2, :t_max+1]`, where each column `X[:, t]` is the state of the simulation at time `t` as a vector with two components: `X[0, t]` being the population of hippos at time t and `X[1, t]` being the population of lions.\n",
    "\n",
    "The code that follows your simulation assumes `X` as input and creates both a time-series plot and a phase-space plot."
   ]
  },
  {
   "cell_type": "code",
   "execution_count": null,
   "metadata": {
    "collapsed": false,
    "deletable": false,
    "nbgrader": {
     "checksum": "887834e49c4d108c2a44a6a4984c2e1e",
     "grade": true,
     "grade_id": "HL_sim",
     "locked": false,
     "points": 4,
     "solution": true
    }
   },
   "outputs": [],
   "source": [
    "import numpy as np\n",
    "\n",
    "# Create a simulation and store your results\n",
    "# in a NumPy array, `X`, as instructed above.\n",
    "\n",
    "# YOUR CODE HERE\n",
    "raise NotImplementedError()\n",
    "\n",
    "# ==== The following plots your computed `X` ====\n",
    "\n",
    "# Helper function to create a plot\n",
    "def plot_sim (X):\n",
    "    assert type (X) is np.ndarray\n",
    "    assert len (X.shape) == 2 and X.shape[0] == 2\n",
    "    \n",
    "    H = X[0, :]\n",
    "    L = X[1, :]\n",
    "\n",
    "    from matplotlib.pyplot import subplots\n",
    "    f, ax = subplots (1, 2, figsize=(10, 5))\n",
    "    ax[0].plot (H, 'b-', label='hippos')\n",
    "    ax[0].plot (L, 'g-.', label='lions')\n",
    "    ax[0].set_title ('Populations')\n",
    "    ax[0].legend (loc='best')\n",
    "    ax[1].plot ([1], [1], 'rs')\n",
    "    ax[1].plot (H, L, '.-')\n",
    "    ax[1].set_title ('Phase space')\n",
    "    ax[1].set_xlabel ('hippos')\n",
    "    ax[1].set_ylabel ('lions', rotation=0)\n",
    "    \n",
    "plot_sim (X)"
   ]
  },
  {
   "cell_type": "markdown",
   "metadata": {},
   "source": [
    "## Capping the lion population\n",
    "\n",
    "**Exercise 3** (2 points). There are parameters for which the lion population \"blows up.\" Fill in the code cell below to re-run your simulation but for the parameters $\\gamma=1$, $\\kappa=50$, $\\beta=1$, $\\delta=1$, and $\\eta=1$. (Use the same initial conditions and number of time steps.) Store the result in a NumPy array, `Y`."
   ]
  },
  {
   "cell_type": "code",
   "execution_count": null,
   "metadata": {
    "collapsed": false,
    "deletable": false,
    "nbgrader": {
     "checksum": "e6c2d9394b8f822936015e685957976c",
     "grade": true,
     "grade_id": "blow_up",
     "locked": false,
     "points": 2,
     "solution": true
    }
   },
   "outputs": [],
   "source": [
    "# YOUR CODE HERE\n",
    "raise NotImplementedError()\n",
    "\n",
    "plot_sim (Y)"
   ]
  },
  {
   "cell_type": "markdown",
   "metadata": {},
   "source": [
    "A simple fix might be to cap the overall lion population in the same way we cap the hippo population, namely, by introducing population capacity parameters: $\\kappa_h$ for hippos and $\\kappa_l$ for lions.\n",
    "\n",
    "$$\n",
    "\\begin{eqnarray}\n",
    "  H_t & \\equiv & \\left[ 1 + \\gamma \\left( 1 - \\frac{H_{t-1}}{\\kappa_h} \\right) - \\left( 1 - \\frac{1}{\\beta L_{t-1} + 1} \\right) \\right] H_{t-1} \\\\\n",
    "  L_t & \\equiv & \\left[ 1 + \\eta H_{t-1} \\left( 1 - \\frac{L_{t-1}}{\\kappa_l} \\right) - \\delta \\right] L_{t-1}.\n",
    "\\end{eqnarray}\n",
    "$$"
   ]
  },
  {
   "cell_type": "markdown",
   "metadata": {},
   "source": [
    "**Exercise 4** (4 points). Simulate this system. Use the same simulation parameters as in Exercise 3, with tne new parameters $\\kappa_h=50$ and $\\kappa_l=250$. Store the simulation results in a NumPy array, `Z`."
   ]
  },
  {
   "cell_type": "code",
   "execution_count": null,
   "metadata": {
    "collapsed": false,
    "deletable": false,
    "nbgrader": {
     "checksum": "c20c5eb78806ebfb76b091c2dfe61819",
     "grade": true,
     "grade_id": "Z",
     "locked": false,
     "points": 4,
     "solution": true
    }
   },
   "outputs": [],
   "source": [
    "# Simulate and produce an output array, `Z`\n",
    "\n",
    "# YOUR CODE HERE\n",
    "raise NotImplementedError()\n",
    "\n",
    "# Plots your `Z`:\n",
    "plot_sim (Z)"
   ]
  },
  {
   "cell_type": "markdown",
   "metadata": {},
   "source": [
    "**Exercise 5** (3 points). In Exercises 2 and 4, you should have observed that the populations appear to tend toward an equilibrium point. Read about the root-finder, [`scipy.optimize.root()`](https://docs.scipy.org/doc/scipy-0.18.1/reference/generated/scipy.optimize.root.html). Write some code to determine this equilibrium point for the model of Exercise 2 and compute equilibrium point. Store the point as a NumPy array, `x_eq[:2]` where `x_eq[0]` is the hippo equilibrium value and `x_eq[1]` is the lion equilibrium value. Also find the roots of the model of Exercise 4 and store its results in `z_eq[:2]`."
   ]
  },
  {
   "cell_type": "code",
   "execution_count": null,
   "metadata": {
    "collapsed": false,
    "deletable": false,
    "nbgrader": {
     "checksum": "b305a8cddb569b4a1016ecf51895c8a0",
     "grade": true,
     "grade_id": "roots",
     "locked": false,
     "points": 3,
     "solution": true
    }
   },
   "outputs": [],
   "source": [
    "from scipy.optimize import root\n",
    "\n",
    "# Compute `x_eq[:2]` and `z_eq[:2]`\n",
    "# YOUR CODE HERE\n",
    "raise NotImplementedError()\n",
    "\n",
    "# Prints your computed results. Are they consistent with\n",
    "# the trends of your plots from Exercises 2 and 4?\n",
    "print (\"\\nYour x_eq:\", x_eq)\n",
    "print (\"Your z_eq:\", z_eq)"
   ]
  },
  {
   "cell_type": "code",
   "execution_count": null,
   "metadata": {
    "collapsed": true
   },
   "outputs": [],
   "source": []
  }
 ],
 "metadata": {
  "anaconda-cloud": {},
  "kernelspec": {
   "display_name": "Python [default]",
   "language": "python",
   "name": "python3"
  },
  "language_info": {
   "codemirror_mode": {
    "name": "ipython",
    "version": 3
   },
   "file_extension": ".py",
   "mimetype": "text/x-python",
   "name": "python",
   "nbconvert_exporter": "python",
   "pygments_lexer": "ipython3",
   "version": "3.5.2"
  }
 },
 "nbformat": 4,
 "nbformat_minor": 0
}
