{
 "cells": [
  {
   "cell_type": "markdown",
   "metadata": {
    "nbgrader": {
     "grade": false,
     "solution": false
    }
   },
   "source": [
    "# Important note!\n",
    "\n",
    "Before you turn this problem in, make sure everything runs as expected. First, **restart the kernel** (in the menubar, select Kernel$\\rightarrow$Restart) and then **run all cells** (in the menubar, select Cell$\\rightarrow$Run All).\n",
    "\n",
    "Make sure you fill in any place that says `YOUR CODE HERE` or \"YOUR ANSWER HERE\", as well as your GT login and the GT logins of any of your collaborators below. (The GT logins are worth 1 point per notebook, so don't miss the opportunity to get a free point!)"
   ]
  },
  {
   "cell_type": "code",
   "execution_count": null,
   "metadata": {
    "collapsed": false,
    "nbgrader": {
     "grade": false,
     "locked": false,
     "solution": false
    }
   },
   "outputs": [],
   "source": [
    "YOUR_ID = \"\" # Please enter your GT login, e.g., \"rvuduc3\" or \"gtg911x\"\n",
    "COLLABORATORS = [] # list of strings of your collaborators' IDs"
   ]
  },
  {
   "cell_type": "code",
   "execution_count": null,
   "metadata": {
    "collapsed": false,
    "deletable": false,
    "nbgrader": {
     "checksum": "b11295002cc2b9549d6a2b01721b6701",
     "grade": true,
     "grade_id": "who__test",
     "locked": true,
     "points": 1,
     "solution": false
    }
   },
   "outputs": [],
   "source": [
    "import re\n",
    "\n",
    "RE_CHECK_ID = re.compile (r'''[a-zA-Z]+\\d+|[gG][tT][gG]\\d+[a-zA-Z]''')\n",
    "assert RE_CHECK_ID.match (YOUR_ID) is not None\n",
    "\n",
    "collab_check = [RE_CHECK_ID.match (i) is not None for i in COLLABORATORS]\n",
    "assert all (collab_check)\n",
    "\n",
    "del collab_check\n",
    "del RE_CHECK_ID\n",
    "del re"
   ]
  },
  {
   "cell_type": "markdown",
   "metadata": {},
   "source": [
    "**Jupyter / IPython version check.** The following code cell verifies that you are using the correct version of Jupyter/IPython."
   ]
  },
  {
   "cell_type": "code",
   "execution_count": null,
   "metadata": {
    "collapsed": true
   },
   "outputs": [],
   "source": [
    "import IPython\n",
    "assert IPython.version_info[0] >= 3, \"Your version of IPython is too old, please update it.\""
   ]
  },
  {
   "cell_type": "markdown",
   "metadata": {},
   "source": [
    "# Logistic growth\n",
    "\n",
    "> These notes follow Sayama's procedure from Chapter 4 of his book, albeit with a different notation.\n",
    "\n",
    "Recall the simplest first-order autonomous linear system,\n",
    "\n",
    "$$\n",
    "  x_t = (1 + \\alpha) x_{t-1},\n",
    "$$\n",
    "\n",
    "where $x_t$ is the size of some population at time $t$ and $1 + \\alpha > 0$ is a parameter that describes the rate of growth or decline of this population. I have written this rate as \"$1 + \\alpha$\" so you can interpret $\\alpha$ as a \"percent growth\" or \"percent decay.\" \n",
    "\n",
    "> Typical populations grow or decay at a few percent annually. For instance, I might expect to see $\\alpha$ in the range of $\\pm \\, 3$%, or $\\alpha \\in [-0.03, +0.03]$.\n",
    "\n",
    "The solution to this recurrence in terms of $t$ is simply\n",
    "\n",
    "$$\n",
    "  x_t = (1 + \\alpha)^t x_0.\n",
    "$$\n",
    "\n",
    "Regarding the behavior of this model, there are three possibilities.\n",
    "\n",
    "- $-1 < \\alpha < 0$: The population contracts or decays in time toward 0.\n",
    "- $\\alpha > 0$: The population grows exponentially over time without bound.\n",
    "- $\\alpha = 0$: The population remains the same.\n",
    "\n",
    "This behavior is interesting but somewhat unrealistic. For example, we might expect a real population to grow but only to some limit, $x_t \\leq \\kappa$, where $\\kappa$ is some maximum capacity that the environment can support. How should we modify the model to enforce such a limit?"
   ]
  },
  {
   "cell_type": "markdown",
   "metadata": {},
   "source": [
    "Following Sayama's tips, let's see if we can hack this model to account for capacity. There are many potential strategies, but a good one is to take an existing parameter, factor, or term and try replacing it with some new function, $a(x)$, i.e.,\n",
    "\n",
    "$$\n",
    "  x_t = \\left[ 1 + a(x_{t-1}) \\right] \\cdot x_{t-1}.\n",
    "$$\n",
    "\n",
    "In this case, $1 + a(x)$ governs the rate of growth, which should slow down and eventually stop as the population approaches its maximum capacity. That is, as $x_t \\rightarrow \\kappa$, we want $a(x_t) \\rightarrow 0$."
   ]
  },
  {
   "cell_type": "markdown",
   "metadata": {},
   "source": [
    "Again, Sayama's advice is to start with a simple form for the unknown function $a(x)$, such as a line.\n",
    "\n",
    "Recall that two points define a line. In our case, when $x=0$, then $a(x) = \\alpha$, which is the \"natural\" or \"intrinsic\" growth rate of the original model. And when $x=\\kappa$, $a(x) = 0$. Thus,\n",
    "\n",
    "$$\n",
    "\\begin{eqnarray}\n",
    "  a(x) & = & (\\text{slope}) x + (\\text{intercept}) \\\\\n",
    "       & = & - \\frac{\\alpha}{\\kappa} x + \\alpha \\\\\n",
    "       & = & \\alpha \\left( 1 - \\frac{x}{\\kappa} \\right).\n",
    "\\end{eqnarray}\n",
    "$$"
   ]
  },
  {
   "cell_type": "markdown",
   "metadata": {},
   "source": [
    "The new hypothesized growth model is\n",
    "\n",
    "$$\n",
    "\\begin{eqnarray}\n",
    "  x_t & \\equiv & \\left[ 1 + \\alpha \\left( 1 - \\frac{x_{t-1}}{\\kappa} \\right) \\right] \\cdot x_{t-1}.\n",
    "%      &    =   & x_{t-1} + \\alpha x_{t-1} - \\alpha \\frac{x_{t-1}}{\\kappa} x_{t-1}.\n",
    "\\end{eqnarray}\n",
    "$$"
   ]
  },
  {
   "cell_type": "markdown",
   "metadata": {},
   "source": [
    "Let's try it out!"
   ]
  },
  {
   "cell_type": "markdown",
   "metadata": {},
   "source": [
    "**Exercise 1** (2 points). Implement a state transition function, $F(x)$, corresponding to the preceding model. That is, given some scalar input value, $x_{t-1}$, your function should return a value $F(x_{t-1}) = x_t$."
   ]
  },
  {
   "cell_type": "code",
   "execution_count": null,
   "metadata": {
    "collapsed": false,
    "deletable": false,
    "nbgrader": {
     "checksum": "18c816eb9a32c496806101dabad594b7",
     "grade": false,
     "grade_id": "F",
     "locked": false,
     "solution": true
    }
   },
   "outputs": [],
   "source": [
    "def F (x, alpha, kappa):\n",
    "    # YOUR CODE HERE\n",
    "    raise NotImplementedError()"
   ]
  },
  {
   "cell_type": "code",
   "execution_count": null,
   "metadata": {
    "collapsed": false,
    "deletable": false,
    "nbgrader": {
     "checksum": "e344353ca666483ef418c6647ba48994",
     "grade": true,
     "grade_id": "F__test",
     "locked": true,
     "points": 2,
     "solution": false
    }
   },
   "outputs": [],
   "source": [
    "import numpy as np\n",
    "MACH_EPS = np.finfo (float).eps\n",
    "\n",
    "assert np.abs (F (20, .025, 50) - 20.3) / 20.3 <= 5*MACH_EPS\n",
    "assert np.abs (F (100, .05, 50) - 95) / 95 <= 5*MACH_EPS"
   ]
  },
  {
   "cell_type": "markdown",
   "metadata": {},
   "source": [
    "**Exercise 2** (2 points). Implement a simulator for this system. In particular, your simulation should produce a NumPy array, `X[:t_max+1]`, containing all $x_t$ for $t \\in \\{1, 2, \\ldots, $ `t_max` $\\}$, given $x_0=$`X[0]`."
   ]
  },
  {
   "cell_type": "code",
   "execution_count": null,
   "metadata": {
    "collapsed": false,
    "deletable": false,
    "nbgrader": {
     "checksum": "d153821007689ce46d8395f200ab5bdd",
     "grade": true,
     "grade_id": "sim_F",
     "locked": false,
     "points": 2,
     "solution": true
    }
   },
   "outputs": [],
   "source": [
    "import numpy as np\n",
    "\n",
    "def sim (F, t_max, x0, **args):\n",
    "    \"\"\"\n",
    "    `sim (F, t_max, x0, **args)`: Given the state transition\n",
    "    function for a first-order scalar autonomous system, this\n",
    "    function simulates the system for `t_max` time steps.\n",
    "    \n",
    "    It returns a NumPy array, `X[:t_max+1]`, whose first\n",
    "    entry `X[0]` is the given initial state, `x0`, and whose\n",
    "    subsequent entries, `X[:, t]` for `1 <= t <= t_max` are\n",
    "    the system's state at each time step `t`.\n",
    "    \n",
    "    The state transition function may accept additional named\n",
    "    arguments, which can be passed to it via the variable\n",
    "    keyword parameter dictionary, `**args`.\n",
    "    \"\"\"\n",
    "    X = np.zeros (t_max+1)\n",
    "    # YOUR CODE HERE\n",
    "    raise NotImplementedError()\n",
    "    return X\n",
    "\n",
    "T_MAX = 200\n",
    "INIT_POP = 1\n",
    "ALPHA = .05 # 5% growth per unit time\n",
    "KAPPA = 100\n",
    "\n",
    "X = sim (F, t_max=T_MAX, x0=INIT_POP, alpha=ALPHA, kappa=KAPPA)\n",
    "\n",
    "# Prints first 10 steps and last 10 steps\n",
    "print (X[:10])\n",
    "print (\"...\")\n",
    "print (X[-10:])"
   ]
  },
  {
   "cell_type": "code",
   "execution_count": null,
   "metadata": {
    "collapsed": false
   },
   "outputs": [],
   "source": [
    "from matplotlib.pyplot import plot, suptitle, title, xlabel, axis\n",
    "%matplotlib inline\n",
    "\n",
    "plot (X, '.')\n",
    "plot ([0, T_MAX], [KAPPA, KAPPA], 'r-.')\n",
    "axis ([-1, T_MAX+1, 0, KAPPA*1.1])\n",
    "\n",
    "title (r'Population under the logistic growth model: $\\alpha={}$, $\\kappa={}$'.format (ALPHA, KAPPA))\n",
    "xlabel (r'Time')"
   ]
  },
  {
   "cell_type": "markdown",
   "metadata": {},
   "source": [
    "This model is known in the research literature as the _logistic growth model_."
   ]
  },
  {
   "cell_type": "markdown",
   "metadata": {},
   "source": [
    "**Exercise 3** (1 point). Repeat the above exercise keeping all parameters the same _except_ the initial population, which should start at 250 individuals. (Note that this value exceeds the capacity, `KAPPA=100`.) At what time step $t$ does $x_t$ first fall within 1% of $\\kappa=100$? Write your answer in the Markdown cell below (i.e., the one that initially reads, `YOUR ANSWER HERE`)."
   ]
  },
  {
   "cell_type": "code",
   "execution_count": null,
   "metadata": {
    "collapsed": false,
    "deletable": false,
    "nbgrader": {
     "checksum": "2fd0d293eb01dd66e1163f487d03da8d",
     "grade": false,
     "grade_id": "sim2",
     "locked": false,
     "solution": true
    }
   },
   "outputs": [],
   "source": [
    "# YOUR CODE HERE\n",
    "raise NotImplementedError()"
   ]
  },
  {
   "cell_type": "markdown",
   "metadata": {
    "deletable": false,
    "nbgrader": {
     "checksum": "de966c1963587d94ea6f94046ed4689a",
     "grade": true,
     "grade_id": "sim2_t_one_percent",
     "locked": false,
     "points": 1,
     "solution": true
    }
   },
   "source": [
    "YOUR ANSWER HERE"
   ]
  },
  {
   "cell_type": "code",
   "execution_count": null,
   "metadata": {
    "collapsed": true
   },
   "outputs": [],
   "source": []
  }
 ],
 "metadata": {
  "anaconda-cloud": {},
  "kernelspec": {
   "display_name": "Python [default]",
   "language": "python",
   "name": "python3"
  },
  "language_info": {
   "codemirror_mode": {
    "name": "ipython",
    "version": 3
   },
   "file_extension": ".py",
   "mimetype": "text/x-python",
   "name": "python",
   "nbconvert_exporter": "python",
   "pygments_lexer": "ipython3",
   "version": "3.5.2"
  }
 },
 "nbformat": 4,
 "nbformat_minor": 0
}
