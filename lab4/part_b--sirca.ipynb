{
 "cells": [
  {
   "cell_type": "markdown",
   "metadata": {
    "nbgrader": {
     "grade": false,
     "solution": false
    }
   },
   "source": [
    "# Important note!\n",
    "\n",
    "Before you turn this problem in, make sure everything runs as expected. First, **restart the kernel** (in the menubar, select Kernel$\\rightarrow$Restart) and then **run all cells** (in the menubar, select Cell$\\rightarrow$Run All).\n",
    "\n",
    "Make sure you fill in any place that says `YOUR CODE HERE` or \"YOUR ANSWER HERE\", as well as your GT login and the GT logins of any of your collaborators below. (The GT logins are worth 1 point per notebook, so don't miss the opportunity to get a free point!)"
   ]
  },
  {
   "cell_type": "code",
   "execution_count": null,
   "metadata": {
    "collapsed": false,
    "nbgrader": {
     "grade": false,
     "locked": false,
     "solution": false
    }
   },
   "outputs": [],
   "source": [
    "YOUR_ID = \"\" # Please enter your GT login, e.g., \"rvuduc3\" or \"gtg911x\"\n",
    "COLLABORATORS = [] # list of strings of your collaborators' IDs"
   ]
  },
  {
   "cell_type": "code",
   "execution_count": null,
   "metadata": {
    "collapsed": false,
    "deletable": false,
    "nbgrader": {
     "checksum": "b11295002cc2b9549d6a2b01721b6701",
     "grade": true,
     "grade_id": "who__test",
     "locked": true,
     "points": 1,
     "solution": false
    }
   },
   "outputs": [],
   "source": [
    "import re\n",
    "\n",
    "RE_CHECK_ID = re.compile (r'''[a-zA-Z]+\\d+|[gG][tT][gG]\\d+[a-zA-Z]''')\n",
    "assert RE_CHECK_ID.match (YOUR_ID) is not None\n",
    "\n",
    "collab_check = [RE_CHECK_ID.match (i) is not None for i in COLLABORATORS]\n",
    "assert all (collab_check)\n",
    "\n",
    "del collab_check\n",
    "del RE_CHECK_ID\n",
    "del re"
   ]
  },
  {
   "cell_type": "markdown",
   "metadata": {},
   "source": [
    "**Jupyter / IPython version check.** The following code cell verifies that you are using the correct version of Jupyter/IPython."
   ]
  },
  {
   "cell_type": "code",
   "execution_count": null,
   "metadata": {
    "collapsed": true
   },
   "outputs": [],
   "source": [
    "import IPython\n",
    "assert IPython.version_info[0] >= 3, \"Your version of IPython is too old, please update it.\""
   ]
  },
  {
   "cell_type": "markdown",
   "metadata": {},
   "source": [
    "# A cellular automaton for the S-I-R model of infection\n",
    "\n",
    "In this notebook, you will use a cellular automaton to implement a model of the spread of infection, which we will refer to as the susceptible-infectious-recovered CA (SIR-CA) model.\n",
    "\n",
    "The slides that accompany this notebook will be available on both Piazza and T-Square under \"Resources.\""
   ]
  },
  {
   "cell_type": "markdown",
   "metadata": {},
   "source": [
    "## Setup\n",
    "\n",
    "Some code setup: run these cells, declare victory, and move on."
   ]
  },
  {
   "cell_type": "code",
   "execution_count": null,
   "metadata": {
    "collapsed": true
   },
   "outputs": [],
   "source": [
    "import numpy as np\n",
    "import scipy as sp\n",
    "import scipy.sparse\n",
    "\n",
    "def count (G):\n",
    "    \"\"\"\n",
    "    Counts the number of locations in a NumPy array, `G`,\n",
    "    where `np.where (G)` holds.\n",
    "    \"\"\"\n",
    "    return len (np.where (G)[0])\n",
    "\n",
    "def find (G):\n",
    "    \"\"\"\n",
    "    Returns the set of locations of a NumPy array, `G`,\n",
    "    where `np.where (G)` holds.\n",
    "    \"\"\"\n",
    "    assert type (G) is np.ndarray\n",
    "    return {(i, j) for i, j in zip (*np.where (G))}"
   ]
  },
  {
   "cell_type": "code",
   "execution_count": null,
   "metadata": {
    "collapsed": true
   },
   "outputs": [],
   "source": [
    "import matplotlib.pyplot as plt # Core plotting support\n",
    "%matplotlib inline"
   ]
  },
  {
   "cell_type": "markdown",
   "metadata": {},
   "source": [
    "## The phenomenon to be modeled and simulated\n",
    "\n",
    "Suppose we wish to model the spread of an illness in a population distributed geographically. This illness is non-fatal, meaning a person who has it does not die from it; an ill person eventually recovers. The illness is also contagious, spreading by contact. After a roughly fixed and predictable period of time, an ill person recovers and develops an immunity to the illness, meaning he or she will never suffer from the same illness again."
   ]
  },
  {
   "cell_type": "markdown",
   "metadata": {},
   "source": [
    "## Conceptual model\n",
    "\n",
    "As a first cut, let's try using a cellular automaton (CA) as the conceptual model. We will refer to the specific model we develop as the SIR-CA model, as noted above."
   ]
  },
  {
   "cell_type": "markdown",
   "metadata": {},
   "source": [
    "Let the world be a square $n \\times n$ grid $G = G(t) \\equiv \\left(g_{ij}(t)\\right)$ of cells that evolve over time, which is discrete and measured in, say, (integer) days.\n",
    "\n",
    "Every cell of $G$ is a position that is either empty or occupied by a person, who exists in one of three possible states:\n",
    "\n",
    "1. **Susceptible (S)**: This person has never gotten the illness before. If he or she comes in close contact with a sick person, he or she is at risk of catching the illness.\n",
    "2. **Infected (I)**: This person has the illness and is contagious.\n",
    "3. **Recovered (R)**: This person had the illness but has developed the immunity. He or she cannot become sick again.\n",
    "\n",
    "Let's associate these states with the following integers:"
   ]
  },
  {
   "cell_type": "code",
   "execution_count": null,
   "metadata": {
    "collapsed": true
   },
   "outputs": [],
   "source": [
    "# Possible states:\n",
    "EMPTY = -1\n",
    "SUSCEPTIBLE = 0\n",
    "INFECTED = 1\n",
    "RECOVERED = 2"
   ]
  },
  {
   "cell_type": "markdown",
   "metadata": {},
   "source": [
    "**Exercise 1** (2 points). On the \"zeroth day\" ($t = 0$), the world is full of susceptible people and one of them (near the center) gets sick. This state is our initial condition.\n",
    "\n",
    "Complete the following function so that creates a world satisfying this initial condition. That is, given a dimension, `n`, it should return a `n`-by-`n` NumPy array of integer values that are empty on the boundary and susceptible everywhere in the interior except at the center, where there should be one \"index case\" (i.e., one infected person).\n",
    "\n",
    "> Define the \"center\" along a dimension of length $n$ to be $\\left\\lceil\\frac{n+2}{2}\\right\\rceil$. The \"+2\" accounts for the boundary cells."
   ]
  },
  {
   "cell_type": "code",
   "execution_count": null,
   "metadata": {
    "collapsed": false,
    "deletable": false,
    "nbgrader": {
     "checksum": "7d8f02be601c9e3bb002cdf151ed15ad",
     "grade": false,
     "grade_id": "set_ic",
     "locked": false,
     "points": 2,
     "solution": true
    }
   },
   "outputs": [],
   "source": [
    "def create_world (n):\n",
    "    # YOUR CODE HERE\n",
    "    raise NotImplementedError()\n",
    "    \n",
    "def show_peeps (G, vmin=EMPTY, vmax=RECOVERED, values=\"states\"):\n",
    "    # Set color range\n",
    "    assert values in [\"states\", \"bool\"]\n",
    "    if values == \"states\":\n",
    "        vticks = range (vmin, vmax+1)\n",
    "        vlabels = ['Empty', 'Susceptible', 'Infected', 'Recovered']\n",
    "    else:\n",
    "        vticks = [0, 1]\n",
    "        vlabels = ['False (0)', 'True (1)']\n",
    "    \n",
    "    m, n = G.shape[0]-2, G.shape[1]-2\n",
    "    plt.pcolor (G, vmin=vmin, vmax=vmax, edgecolor='black')\n",
    "    cb = plt.colorbar ()\n",
    "    cb.set_ticks (vticks)\n",
    "    cb.set_ticklabels (vlabels)\n",
    "    plt.axis ('square')\n",
    "    plt.axis ([0, m+2, 0, n+2])\n",
    "\n",
    "# Create an empty world at time t=0\n",
    "N = 9\n",
    "peeps_0 = create_world (N)\n",
    "show_peeps (peeps_0)"
   ]
  },
  {
   "cell_type": "code",
   "execution_count": null,
   "metadata": {
    "collapsed": false,
    "deletable": false,
    "nbgrader": {
     "checksum": "d78ec7df055da69982c3661e83819ffa",
     "grade": true,
     "grade_id": "set_ic_test",
     "locked": true,
     "points": 2,
     "solution": false
    }
   },
   "outputs": [],
   "source": [
    "assert peeps_0.shape == (N+2, N+2)\n",
    "assert np.sum (peeps_0) == ((4*N+4)*EMPTY + INFECTED)\n",
    "assert len (np.where (peeps_0 == INFECTED)[0]) == 1\n",
    "\n",
    "i_mid = int ((N+2) / 2)\n",
    "assert peeps_0[i_mid, i_mid] == INFECTED\n",
    "\n",
    "print (\"\\n(Passed.)\")"
   ]
  },
  {
   "cell_type": "markdown",
   "metadata": {},
   "source": [
    "Let's define some functions to help identify susceptible, infected, and recovered people in this world."
   ]
  },
  {
   "cell_type": "code",
   "execution_count": null,
   "metadata": {
    "collapsed": false
   },
   "outputs": [],
   "source": [
    "def susceptible (G):\n",
    "    \"\"\"\n",
    "    Given a grid, G, returns a grid S whose (i, j) entry\n",
    "    equals 1 if G[i, j] is susceptible or 0 otherwise.\n",
    "    \"\"\"\n",
    "    return (G == SUSCEPTIBLE).astype (int)\n",
    "\n",
    "print (\"There are\", count (susceptible (peeps_0)), \"susceptible patient(s) initially\")"
   ]
  },
  {
   "cell_type": "markdown",
   "metadata": {},
   "source": [
    "**Exercise 2** (1 point). Complete the following functions, which should find infected individuals in a given world."
   ]
  },
  {
   "cell_type": "code",
   "execution_count": null,
   "metadata": {
    "collapsed": false,
    "deletable": false,
    "nbgrader": {
     "checksum": "f16a2172224ea2b850d46823e81099ff",
     "grade": false,
     "grade_id": "infected",
     "locked": false,
     "solution": true
    }
   },
   "outputs": [],
   "source": [
    "def infected (G):\n",
    "    \"\"\"\n",
    "    Given a grid G, returns a grid I whose (i, j) entry equals 1 if\n",
    "    G[i, j] is infected or 0 otherwise.\n",
    "    \"\"\"\n",
    "    # YOUR CODE HERE\n",
    "    raise NotImplementedError()"
   ]
  },
  {
   "cell_type": "code",
   "execution_count": null,
   "metadata": {
    "collapsed": false,
    "deletable": false,
    "nbgrader": {
     "checksum": "549647256aaa10a3b0e0df4454f4f8c8",
     "grade": true,
     "grade_id": "infected_test",
     "locked": true,
     "points": 1,
     "solution": false
    }
   },
   "outputs": [],
   "source": [
    "assert (infected (peeps_0) >= 0).all ()\n",
    "assert (infected (peeps_0) <= 1).all ()\n",
    "print (\"There are\", count (infected (peeps_0)), \"infected patient(s) initially\")\n",
    "assert count (infected (peeps_0)) == 1"
   ]
  },
  {
   "cell_type": "markdown",
   "metadata": {},
   "source": [
    "**Exercise 3** (1 point). Complete the following function, which should find recovered individuals in a given world."
   ]
  },
  {
   "cell_type": "code",
   "execution_count": null,
   "metadata": {
    "collapsed": false,
    "deletable": false,
    "nbgrader": {
     "checksum": "84ef72a51d969b5584e2b04aed84589f",
     "grade": false,
     "grade_id": "recovered",
     "locked": false,
     "solution": true
    }
   },
   "outputs": [],
   "source": [
    "def recovered (G):\n",
    "    \"\"\"\n",
    "    Given a grid G, returns a grid R whose (i, j) entry equals 1 if\n",
    "    G[i, j] has recovered or 0 otherwise.\n",
    "    \"\"\"\n",
    "    # YOUR CODE HERE\n",
    "    raise NotImplementedError()"
   ]
  },
  {
   "cell_type": "code",
   "execution_count": null,
   "metadata": {
    "collapsed": false,
    "deletable": false,
    "nbgrader": {
     "checksum": "0dfaacb2b9cb0fc8838b3f5d8dcd7526",
     "grade": true,
     "grade_id": "recovered_test",
     "locked": true,
     "points": 1,
     "solution": false
    }
   },
   "outputs": [],
   "source": [
    "assert ((recovered (peeps_0) == 0) | (recovered (peeps_0) == 1)).all ()\n",
    "print (\"There are\", count (recovered (peeps_0)), \"patient(s) in recovery.\")\n",
    "assert count (recovered (peeps_0)) == 0"
   ]
  },
  {
   "cell_type": "markdown",
   "metadata": {},
   "source": [
    "**Time evolution.** Next, let's define the state evolution rules that determine how the sickness spreads on each subsequent day, $t \\geq 1$:\n",
    "\n",
    "* **R1**) A person is sick for only one day. That is, if he or she is sick on day $t$, then on day $t+1$ he or she will have recovered.\n",
    "* **R2**) The illness spreads from an infected persons to their north, south, east, and west neighbors, but it does so nondeterministically. More formally, let's call a person at $(i, j)$ _exposed_ if _any_ of her north, south, east, or west neighbors is infected. The _conditional_ probability that any exposed person becomes infected is $\\tau$, which is uniform and independent for all positions. Thus, this rule says that all exposed persons will become infected randomly with probability $\\tau$."
   ]
  },
  {
   "cell_type": "markdown",
   "metadata": {},
   "source": [
    "**Exercise 4** (2 points). To help determine who might catch the disease in a given time step, let's write a function that determines who is exposed. That is, given a grid $G$, this function returns a new grid $E$ such that $e_{ij}$ is `1` if $g_{ij}$ is susceptible and at least one neighbor of $g_{ij}$ is sick, and `0` otherwise."
   ]
  },
  {
   "cell_type": "code",
   "execution_count": null,
   "metadata": {
    "collapsed": false,
    "deletable": false,
    "nbgrader": {
     "checksum": "38ca391cbb90e0d5f430b5e0f8bcbab2",
     "grade": false,
     "grade_id": "exposed",
     "locked": false,
     "solution": true
    }
   },
   "outputs": [],
   "source": [
    "def exposed (G):\n",
    "    \"\"\"\n",
    "    Returns a grid whose (i, j) entry is 1 if it has\n",
    "    at least 1 infected neighbor, or 0 otherwise.\n",
    "    \"\"\"\n",
    "    E = np.zeros (G.shape, dtype=int) # exposed people\n",
    "    # YOUR CODE HERE\n",
    "    raise NotImplementedError()\n",
    "    return E\n",
    "\n",
    "# Visualizes your results:\n",
    "print (\"There are\", count (exposed (peeps_0)), \"exposed patient(s).\")\n",
    "show_peeps (exposed (peeps_0), values=\"bool\")"
   ]
  },
  {
   "cell_type": "code",
   "execution_count": null,
   "metadata": {
    "collapsed": false,
    "deletable": false,
    "nbgrader": {
     "checksum": "21666d4d20c80d5cee1fb8d06d96b6c2",
     "grade": true,
     "grade_id": "exposed_test",
     "locked": true,
     "points": 3,
     "solution": false
    }
   },
   "outputs": [],
   "source": [
    "peeps_0 = create_world (N)\n",
    "E_locs = find (exposed (peeps_0))\n",
    "assert len (E_locs) == 4\n",
    "\n",
    "i_mid = int ((N+2) / 2)\n",
    "assert (i_mid-1, i_mid) in E_locs\n",
    "assert (i_mid, i_mid+1) in E_locs\n",
    "assert (i_mid+1, i_mid) in E_locs\n",
    "assert (i_mid, i_mid-1) in E_locs\n",
    "print (\"\\n(Passed.)\")"
   ]
  },
  {
   "cell_type": "markdown",
   "metadata": {},
   "source": [
    "**Exercise 5** (2 points). Complete the following function, `spreads()`. It takes as input a grid `G[:,:]` of people and the conditional probability `p` of becoming infected given any sick neighbors. It should determine to which grid cells the infection spreads.\n",
    "\n",
    "In particular, it should return a binary (0-1) grid `G_s[:,:]` of the same size as `G[:,:]` where `G_s[i,j]` is `1` with probability `p` if `G[i,j]` is exposed, and `0` otherwise."
   ]
  },
  {
   "cell_type": "code",
   "execution_count": null,
   "metadata": {
    "collapsed": false,
    "deletable": false,
    "nbgrader": {
     "checksum": "f6bf908e9d1acfca07e9109fd93ee788",
     "grade": false,
     "grade_id": "spreads",
     "locked": false,
     "points": 2,
     "solution": true
    },
    "scrolled": true
   },
   "outputs": [],
   "source": [
    "COND_PROB_ILL = 0.5 # Probability of getting sick, given any sick neighbors\n",
    "\n",
    "def spreads (G, tau=COND_PROB_ILL):\n",
    "    # grid of uniformly random values\n",
    "    random_draw = np.random.uniform (size=G.shape)\n",
    "    # YOUR CODE HERE\n",
    "    raise NotImplementedError()\n",
    "    \n",
    "np.random.seed (1602034230) # Fixed seed, for debugging\n",
    "G_s = spreads (peeps_0)\n",
    "print (\"The infection is spreading to\", np.sum (G_s), \"patient(s)\")\n",
    "show_peeps (G_s, values=\"bool\")"
   ]
  },
  {
   "cell_type": "code",
   "execution_count": null,
   "metadata": {
    "collapsed": false,
    "deletable": false,
    "nbgrader": {
     "checksum": "817035e86e0da25c7a2ed611bbf307f3",
     "grade": true,
     "grade_id": "spreads_test",
     "locked": true,
     "points": 2,
     "solution": false
    }
   },
   "outputs": [],
   "source": [
    "assert ((G_s >= 0) & (G_s <= 1)).all ()\n",
    "assert np.sum (G_s) <= 4\n",
    "\n",
    "G_s_locs = np.where (G_s == 1)\n",
    "assert (((G_s_locs[0] == i_mid) & (np.abs (G_s_locs[1] - i_mid) == 1))\n",
    "        | ((G_s_locs[1] == i_mid) & (np.abs (G_s_locs[0] - i_mid) == 1))).all ()\n",
    "\n",
    "print (\"\\n(Passed.)\")"
   ]
  },
  {
   "cell_type": "markdown",
   "metadata": {},
   "source": [
    "**Exercise 6** (2 points). Write a function to simulate one time-step, given a grid `G[:,:]` and conditional probability `p` of infection when exposed."
   ]
  },
  {
   "cell_type": "code",
   "execution_count": null,
   "metadata": {
    "collapsed": false,
    "deletable": false,
    "nbgrader": {
     "checksum": "1bed6dbfcc8b2dde93e7a34b122f1a4e",
     "grade": false,
     "grade_id": "step",
     "locked": false,
     "points": 2,
     "solution": true
    }
   },
   "outputs": [],
   "source": [
    "def step (G, tau=COND_PROB_ILL):\n",
    "    \"\"\"\n",
    "    Simulates one time step and returns a grid\n",
    "    of the resulting states.\n",
    "    \"\"\"\n",
    "    # YOUR CODE HERE\n",
    "    raise NotImplementedError()\n",
    "    \n",
    "np.random.seed (1602034230) # Fixed seed, for debugging\n",
    "peeps_1 = step (peeps_0)\n",
    "\n",
    "fig = plt.figure (figsize=(12, 4))\n",
    "plt.subplot (1, 2, 1)\n",
    "show_peeps (peeps_0)\n",
    "plt.title ('Before')\n",
    "\n",
    "plt.subplot (1, 2, 2)\n",
    "show_peeps (peeps_1)\n",
    "plt.title ('After')"
   ]
  },
  {
   "cell_type": "code",
   "execution_count": null,
   "metadata": {
    "collapsed": false,
    "deletable": false,
    "nbgrader": {
     "checksum": "2f18370f04a0896554cf97880d33bcb1",
     "grade": true,
     "grade_id": "step_test",
     "locked": true,
     "points": 2,
     "solution": false
    }
   },
   "outputs": [],
   "source": [
    "E_0_locs = find (exposed (peeps_0))\n",
    "print (E_0_locs)\n",
    "\n",
    "I_1_locs = find (infected (peeps_1))\n",
    "print (I_1_locs)\n",
    "\n",
    "assert I_1_locs <= E_locs\n",
    "print (\"\\n(Passed.)\")"
   ]
  },
  {
   "cell_type": "markdown",
   "metadata": {},
   "source": [
    "## Putting it all together\n",
    "\n",
    "The preceding code lays the building blocks for the complete simulation, which the following function implements."
   ]
  },
  {
   "cell_type": "code",
   "execution_count": null,
   "metadata": {
    "collapsed": true
   },
   "outputs": [],
   "source": [
    "def summarize (G_t, verbose=True):\n",
    "    n_S = count (susceptible (G_t))\n",
    "    n_I = count (infected (G_t))\n",
    "    n_R = count (recovered (G_t))\n",
    "    if verbose:\n",
    "        print (\"# susceptible:\", n_S)\n",
    "        print (\"# infected:\", n_I)\n",
    "        print (\"# recovered:\", n_R)\n",
    "    return n_S, n_I, n_R\n",
    "    \n",
    "def sim (G_0, max_steps, tau=COND_PROB_ILL):\n",
    "    \"\"\"\n",
    "    Starting from a given initial state, `G_0`, this\n",
    "    function simulates up to `max_steps` time steps of\n",
    "    the S-I-R cellular automaton.\n",
    "    \n",
    "    It returns a tuple `(t, G_t)` containing the final\n",
    "    time step `t <= max_steps` and simulation state\n",
    "    `G_t`.\n",
    "    \"\"\"\n",
    "    t, G_t = 0, G_0.copy ()\n",
    "    (_, num_infected, _) = summarize (G_t, verbose=False)\n",
    "    while (num_infected > 0) and (t < max_steps):\n",
    "        t = t + 1\n",
    "        G_t = step (G_t, tau)\n",
    "        (_, num_infected, _) = summarize (G_t, verbose=False)\n",
    "    return (t, G_t)"
   ]
  },
  {
   "cell_type": "code",
   "execution_count": null,
   "metadata": {
    "collapsed": false,
    "scrolled": true
   },
   "outputs": [],
   "source": [
    "from ipywidgets import interact\n",
    "\n",
    "def isim (m, n, max_steps=0, tau=COND_PROB_ILL, seed=0):\n",
    "    np.random.seed (seed)\n",
    "    G_0 = EMPTY * np.ones ((m+2, n+2), dtype=int)\n",
    "    G_0[1:-1, 1:-1] = SUSCEPTIBLE\n",
    "    i_mid = int ((m+2) / 2)\n",
    "    j_mid = int ((n+2) / 2)\n",
    "    G_0[i_mid, j_mid] = INFECTED\n",
    "    (_, G_t) = sim (G_0, max_steps, tau)\n",
    "    show_peeps (G_t)\n",
    "    \n",
    "interact (isim\n",
    "          , m=(1, 50, 1)\n",
    "          , n=(1, 50, 1)\n",
    "          , max_steps=(0, 100, 1)\n",
    "          , tau=(0.0, 1.0, 0.125)\n",
    "          , seed=(0, 50, 1)\n",
    "         )"
   ]
  },
  {
   "cell_type": "markdown",
   "metadata": {},
   "source": [
    "Since the simulation is nondeterministic, we may need to run it many times to get a sense of the \"average\" behavior of this system.\n",
    "\n",
    "Suppose we run the simulation many times. For the $k$-th simulation, let $(S^{(k)}_t, I^{(k)}_t, R^{(k)}_t)$ denote the number of susceptible, infected, and recovered individuals at time $t$. Let's define the average behavior by the average at each time step taken over all simulations. That is, the averages $(\\bar{S_t}, \\bar{I_t}, \\bar{R_t})$ are\n",
    "\n",
    "$$\n",
    "\\begin{eqnarray}\n",
    "  \\bar{S_t} & = & \\sum_{k=0}^{M-1} S^{(k)}_t \\\\\n",
    "  \\bar{I_t} & = & \\sum_{k=0}^{M-1} I^{(k)}_t \\\\\n",
    "  \\bar{R_t} & = & \\sum_{k=0}^{M-1} R^{(k)}_t,\n",
    "\\end{eqnarray}\n",
    "$$\n",
    "\n",
    "where $M$ is the number of simulations.\n",
    "\n",
    "**Exercise 7** (4 points). Conduct $M=1000$ simulations with the following parameters:\n",
    "\n",
    "* The world is 25$\\times$25 (excluding the boundary).\n",
    "* Initial conditions: Each cell is infected independently with probability $\\alpha = 0.1$ (i.e., 10%).\n",
    "* The conditional probability of an individual becoming infected, given that he/she is exposed, is $\\tau=0.5$.\n",
    "* The maximum number of time steps per simulation should be capped at 25. (That is, the initial condition is taken to be $t=0$; beyond that, $t \\leq T=30$.)\n",
    "\n",
    "During each simulation, record $(S^{(k)}_t, I^{(k)}_t, R^{(k)}_t)$. Store these in three NumPy arrays each of size $(T+1) \\times M$. Lastly, also record the time step at which the infection ends in an array `T_stop[:]` of length $M$."
   ]
  },
  {
   "cell_type": "code",
   "execution_count": null,
   "metadata": {
    "collapsed": true
   },
   "outputs": [],
   "source": [
    "# === Simulation parameters ===\n",
    "\n",
    "N = 25 # World is N x N\n",
    "ALPHA = 0.1 # Initial probability of being infected\n",
    "TAU = 0.5 # Conditional probability of infection spreading\n",
    "MAX_STEPS = 30 # I.e., $T$\n",
    "NUM_SIMS = 1000 # I.e., $M$\n",
    "\n",
    "# === Holds simulation results ===\n",
    "S = np.zeros ((MAX_STEPS+1, NUM_SIMS))\n",
    "I = np.zeros ((MAX_STEPS+1, NUM_SIMS))\n",
    "R = np.zeros ((MAX_STEPS+1, NUM_SIMS))\n",
    "T_stop = np.zeros (NUM_SIMS)\n",
    "\n",
    "# === Define initial condition ===\n",
    "G_0 = EMPTY * np.ones ((N+2, N+2), dtype=int)\n",
    "G_0[1:-1, 1:-1] = np.random.choice ([SUSCEPTIBLE, INFECTED],\n",
    "                                    size=(N, N),\n",
    "                                    p=[1.0-ALPHA, ALPHA])"
   ]
  },
  {
   "cell_type": "code",
   "execution_count": null,
   "metadata": {
    "collapsed": false,
    "deletable": false,
    "nbgrader": {
     "checksum": "57e3cbe9a6df718a8a1c06ff92bf2ae3",
     "grade": true,
     "grade_id": "runs",
     "locked": false,
     "points": 4,
     "solution": true
    }
   },
   "outputs": [],
   "source": [
    "# === Simulation: Your code goes below ===\n",
    "\n",
    "# The initial condition is provided in `G_0`.\n",
    "# You should record your results in `S`, `I`, `R`\n",
    "# as described in the instructions.\n",
    "\n",
    "# YOUR CODE HERE\n",
    "raise NotImplementedError()"
   ]
  },
  {
   "cell_type": "code",
   "execution_count": null,
   "metadata": {
    "collapsed": false
   },
   "outputs": [],
   "source": [
    "# This code cell helps you visualize your results.\n",
    "\n",
    "# Computes the averages, $(\\bar{S_t}, \\bar{I_t}, \\bar{R_t})$.\n",
    "S_avg = np.mean (S, axis=1)\n",
    "I_avg = np.mean (I, axis=1)\n",
    "R_avg = np.mean (R, axis=1)\n",
    "t_stop_avg = np.mean (T_stop)\n",
    "\n",
    "S_std = np.std (S, axis=1)\n",
    "I_std = np.std (I, axis=1)\n",
    "R_std = np.std (R, axis=1)\n",
    "t_stop_std = np.std (T_stop)\n",
    "\n",
    "T = np.arange (MAX_STEPS+1)\n",
    "fig = plt.figure (figsize=(12, 6))\n",
    "\n",
    "SCALE = 1e2 / (N**2)\n",
    "plt.errorbar (T, S_avg*SCALE, yerr=S_std*SCALE, fmt='ys--')\n",
    "plt.errorbar (T, I_avg*SCALE, yerr=I_std*SCALE, fmt='r*--')\n",
    "plt.errorbar (T, R_avg*SCALE, yerr=R_std*SCALE, fmt='bo--')\n",
    "plt.plot ([t_stop_avg, t_stop_avg], [0., 100.], 'k-')\n",
    "plt.plot ([t_stop_avg-t_stop_std, t_stop_avg-t_stop_std], [0., 100.], 'k--')\n",
    "plt.plot ([t_stop_avg+t_stop_std, t_stop_avg+t_stop_std], [0., 100.], 'k--')\n",
    "plt.axis ([0, MAX_STEPS, 0.0, 100.0])\n",
    "plt.legend (['S', 'I', 'R'], loc=0)\n",
    "plt.title (\"Spread of infection (% of population)\")\n",
    "\n",
    "# Sanity check\n",
    "assert (np.abs ((S_avg + I_avg + R_avg)/(N**2) - 1.0) <= 1e-15).all ()"
   ]
  },
  {
   "cell_type": "code",
   "execution_count": null,
   "metadata": {
    "collapsed": true
   },
   "outputs": [],
   "source": []
  }
 ],
 "metadata": {
  "kernelspec": {
   "display_name": "Python 3",
   "language": "python",
   "name": "python3"
  },
  "language_info": {
   "codemirror_mode": {
    "name": "ipython",
    "version": 3
   },
   "file_extension": ".py",
   "mimetype": "text/x-python",
   "name": "python",
   "nbconvert_exporter": "python",
   "pygments_lexer": "ipython3",
   "version": "3.5.1"
  }
 },
 "nbformat": 4,
 "nbformat_minor": 0
}
