{
 "cells": [
  {
   "cell_type": "markdown",
   "metadata": {
    "nbgrader": {
     "grade": false,
     "solution": false
    }
   },
   "source": [
    "# Important note!\n",
    "\n",
    "Before you turn this problem in, make sure everything runs as expected. First, **restart the kernel** (in the menubar, select Kernel$\\rightarrow$Restart) and then **run all cells** (in the menubar, select Cell$\\rightarrow$Run All).\n",
    "\n",
    "Make sure you fill in any place that says `YOUR CODE HERE` or \"YOUR ANSWER HERE\", as well as your GT login and the GT logins of any of your collaborators below. (The GT logins are worth 1 point per notebook, so don't miss the opportunity to get a free point!)"
   ]
  },
  {
   "cell_type": "code",
   "execution_count": null,
   "metadata": {
    "collapsed": false,
    "nbgrader": {
     "grade": false,
     "locked": false,
     "solution": false
    }
   },
   "outputs": [],
   "source": [
    "YOUR_ID = \"\" # Please enter your GT login, e.g., \"rvuduc3\" or \"gtg911x\"\n",
    "COLLABORATORS = [] # list of strings of your collaborators' IDs"
   ]
  },
  {
   "cell_type": "code",
   "execution_count": null,
   "metadata": {
    "collapsed": false,
    "deletable": false,
    "nbgrader": {
     "checksum": "b11295002cc2b9549d6a2b01721b6701",
     "grade": true,
     "grade_id": "who__test",
     "locked": true,
     "points": 1,
     "solution": false
    }
   },
   "outputs": [],
   "source": [
    "import re\n",
    "\n",
    "RE_CHECK_ID = re.compile (r'''[a-zA-Z]+\\d+|[gG][tT][gG]\\d+[a-zA-Z]''')\n",
    "assert RE_CHECK_ID.match (YOUR_ID) is not None\n",
    "\n",
    "collab_check = [RE_CHECK_ID.match (i) is not None for i in COLLABORATORS]\n",
    "assert all (collab_check)\n",
    "\n",
    "del collab_check\n",
    "del RE_CHECK_ID\n",
    "del re"
   ]
  },
  {
   "cell_type": "markdown",
   "metadata": {},
   "source": [
    "**Jupyter / IPython version check.** The following code cell verifies that you are using the correct version of Jupyter/IPython."
   ]
  },
  {
   "cell_type": "code",
   "execution_count": null,
   "metadata": {
    "collapsed": true
   },
   "outputs": [],
   "source": [
    "import IPython\n",
    "assert IPython.version_info[0] >= 3, \"Your version of IPython is too old, please update it.\""
   ]
  },
  {
   "cell_type": "markdown",
   "metadata": {},
   "source": [
    "# Review: First-order autonomous linear discrete-time systems\n",
    "\n",
    "Recall the case of a pair of state variables that evolve discretely in time as a first-order autonomous linear system.\n",
    "\n",
    "$$\n",
    "  \\begin{array}{rcl}\n",
    "    x_t & = & a_0 x_{t-1} + b_0 y_{t-1} \\\\\n",
    "    y_t & = & c_0 x_{t-1} + d_0 y_{t-1}\n",
    "  \\end{array}\n",
    "  \\implies\n",
    "  \\left(\\begin{matrix} x_t \\\\ y_t \\end{matrix}\\right)\n",
    "  = \\underbrace{\\left(\\begin{matrix} a_0 & b_0 \\\\ c_0 & d_0 \\end{matrix}\\right)}_{\\equiv \\, A}\n",
    "    \\cdot \\left(\\begin{matrix} x_{t-1} \\\\ y_{t-1} \\end{matrix}\\right)\n",
    "  = A \\cdot \\left(\\begin{matrix} x_{t-1} \\\\ y_{t-1} \\end{matrix}\\right)\n",
    "  = A^t \\cdot \\left(\\begin{matrix} x_0 \\\\ y_0 \\end{matrix}\\right).\n",
    "$$\n",
    "\n",
    "Here is an implementation of a state transition function and subsequent simulation, for the case of $a_0 = d_0 = 0$ and $b_0 = -c_0 = 1.0$."
   ]
  },
  {
   "cell_type": "code",
   "execution_count": null,
   "metadata": {
    "collapsed": false
   },
   "outputs": [],
   "source": [
    "import numpy as np\n",
    "import matplotlib.pyplot as plt\n",
    "%matplotlib inline\n",
    "\n",
    "def F (y, a0=0.0, b0=0.0, c0=0.0, d0=0.0):\n",
    "    \"\"\"State transition for a 1st-order autonomous linear system.\"\"\"\n",
    "    A = np.array ([[a0, b0], [c0, d0]])\n",
    "    return A.dot (y)\n",
    "\n",
    "def sim_F (t_max, y0, **args):\n",
    "    \"\"\"Simulates the system defined by `F(...)`.\"\"\"\n",
    "    Z = np.zeros ((2, t_max+1))\n",
    "    Z[:, 0] = y0\n",
    "    for t in range (t_max):\n",
    "        Z[:, t+1] = F (Z[:, t], **args)\n",
    "    return Z\n",
    "        \n",
    "def plot_sim_F (t_max, y0, **args):\n",
    "    \"\"\"Plots results of `sim_F()`.\"\"\"\n",
    "    Z = sim_F (t_max, y0, **args)\n",
    "    z_min = np.min (Z)\n",
    "    z_max = np.max (Z)\n",
    "    \n",
    "    fig = plt.figure (figsize=(10, 5))\n",
    "    plt.subplot (1, 2, 1)\n",
    "    plt.plot (Z[0, :], 'o-')\n",
    "    plt.plot (Z[1, :], '*--')\n",
    "    plt.axis ([-1, t_max+1, 1.1*z_min, 1.1*z_max])\n",
    "    plt.title ('Time series')\n",
    "    \n",
    "    plt.subplot (1, 2, 2)\n",
    "    plt.plot (Z[0, :], Z[1, :], '*-')\n",
    "    plt.axis ('square')\n",
    "    plt.axis (1.1*np.array ([z_min, z_max, z_min, z_max]))\n",
    "    plt.title ('Phase space')\n",
    "    \n",
    "plot_sim_F (25, np.array ([1., -1.]), b0=1., c0=-1.)\n",
    "np.linalg.eigvals (np.array ([[0., 1.], [-1., 0.]]))"
   ]
  },
  {
   "cell_type": "markdown",
   "metadata": {},
   "source": [
    "# ODEs for Valentine's Day\n",
    "\n",
    "When time is continuous, you will need a different way to model systems. The most common approach in the physical sciences and engineering is to turn to differential equations.\n",
    "\n",
    "Let's start with _linear_ systems of ordinary differential equations, or ODEs, which have the form,\n",
    "\n",
    "$$\n",
    "  \\dfrac{d}{dt} \\vec{y}(t) = A \\cdot \\vec{y}(t),\n",
    "$$\n",
    "\n",
    "where $A$ is a matrix with (constant) coefficients. The goal of today's notebook is to help build your intuition through a lighthearted exercise, namely, modeling the \"dynamics\" of love! The specific example follows [an exercise](http://www.jstor.org/stable/2690328) suggested originally by Steven Strogatz."
   ]
  },
  {
   "cell_type": "markdown",
   "metadata": {},
   "source": [
    "## The setup\n",
    "\n",
    "Romeo and Juliet are looking for love and find one another. Let,\n",
    "\n",
    "* $R(t) \\equiv$ Romeo's love (positive values) or hate (negative values) for Juliet; and\n",
    "* $J(t) \\equiv$ Juliet's love or hate for Romeo,\n",
    "\n",
    "where both quantities are continuous functions of (continuous) time $t$."
   ]
  },
  {
   "cell_type": "markdown",
   "metadata": {},
   "source": [
    "Initially, Romeo immediately falls in love with Juliet, whereas Juliet has no opinion. Let's model this scenario as the initial condition of $R(0) = 1$ and $J(0) = 0$."
   ]
  },
  {
   "cell_type": "markdown",
   "metadata": {},
   "source": [
    "Romeo is the type of lover who mimics his partner: the more someone loves or hates him, the more he wants to return the same feeling. Juliet, by contrast, is fickle: the more someone loves her, the more she tends to dislike that person.\n",
    "\n",
    "Let's model the dynamics of Romeo and Juliet's love by a system of ordinary differential equations---because that's everyone's first instinct (`#sarcasm`)---where the derivatives of $R(t)$ and $J(t)$ depend only linearly on $R(t)$ and $J(t)$:\n",
    "\n",
    "$$\n",
    "\\begin{eqnarray}\n",
    "  \\begin{array}{rcl}\n",
    "    \\dfrac{dR(t)}{dt} & = & a_0 R(t) + b_0 J(t) \\\\\n",
    "    \\dfrac{dJ(t)}{dt} & = & c_0 R(t) + d_0 J(t)\n",
    "  \\end{array}\n",
    "  & \\qquad \\implies \\qquad &\n",
    "  \\begin{array}{rcl}\n",
    "    \\dfrac{d}{dt} \\left(\\begin{array}{c}\n",
    "                    R(t) \\\\\n",
    "                    J(t)\n",
    "                  \\end{array}\\right)\n",
    "    & = &\n",
    "      \\left(\\begin{array}{cc}\n",
    "        a_0 & b_0 \\\\\n",
    "        c_0 & d_0\n",
    "      \\end{array}\\right)\n",
    "      \\cdot\n",
    "      \\left(\\begin{array}{c}\n",
    "        R(t) \\\\\n",
    "        J(t)\n",
    "      \\end{array}\\right).\n",
    "  \\end{array}\n",
    "\\end{eqnarray}\n",
    "$$\n",
    "\n",
    "In general, the coefficients $a_0$, $b_0$, $c_0$, and $d_0$ could take on any values. But since Romeo is an eager beaver, it would be reasonable to let $a_0 = 0$ and $b_0 > 0$. For Juliet, we might choose her coefficients as $c_0 < 0$ and $d_0 = 0$."
   ]
  },
  {
   "cell_type": "markdown",
   "metadata": {},
   "source": [
    "Let's solve this system numerically. Let $\\vec{y}(t) = \\left(\\begin{array}{c} y_0(t) \\\\ y_1(t) \\end{array}\\right) \\equiv \\left(\\begin{array}{c} R(t) \\\\ J(t) \\end{array}\\right)$. Consider the system $\\dfrac{d\\vec{y}}{dt} = \\vec{f}(t, \\vec{y})$ for a suitable choice of $\\vec{f}(\\cdot, \\cdot)$ corresponding to the \"Romeo and Juliet\" system."
   ]
  },
  {
   "cell_type": "code",
   "execution_count": null,
   "metadata": {
    "collapsed": true
   },
   "outputs": [],
   "source": [
    "from scipy.integrate import odeint # ODE solver"
   ]
  },
  {
   "cell_type": "markdown",
   "metadata": {},
   "source": [
    "**Exercise 1** (2 points). Write a function to compute $\\vec{f}(t, \\vec{y})$ for the Romeo and Juliet system. Then run the simulation code below. Do Romeo and Juliet find true love?"
   ]
  },
  {
   "cell_type": "code",
   "execution_count": null,
   "metadata": {
    "collapsed": true,
    "deletable": false,
    "nbgrader": {
     "checksum": "1d2175a5be2da148d1b75f3d5a8b5508",
     "grade": false,
     "grade_id": "f_rj",
     "locked": false,
     "solution": true
    }
   },
   "outputs": [],
   "source": [
    "def f_rj (y, t, a0, b0, c0, d0):\n",
    "    \"\"\"Implements the right-hand side of the R-J ODE system.\"\"\"\n",
    "    # YOUR CODE HERE\n",
    "    raise NotImplementedError()"
   ]
  },
  {
   "cell_type": "code",
   "execution_count": null,
   "metadata": {
    "collapsed": false,
    "deletable": false,
    "nbgrader": {
     "checksum": "678af1c60146d8b420e88780e8fb777e",
     "grade": true,
     "grade_id": "f_rj_test",
     "locked": true,
     "points": 2,
     "solution": false
    }
   },
   "outputs": [],
   "source": [
    "assert (f_rj (np.array ([1.0, 0.0]), 0.2, 1., 2., 3., 4.) == np.array ([1., 3.])).all ()\n",
    "assert (f_rj (np.array ([1.0, 0.0]), -1.7, 1., 2., 3., 4.) == np.array ([1., 3.])).all ()\n",
    "assert (f_rj (np.array ([-1.0, 2.0]), -1.7, 1., 2., 3., 4.) == np.array ([3., 5.])).all ()"
   ]
  },
  {
   "cell_type": "markdown",
   "metadata": {},
   "source": [
    "**Exercise 2** (3 points). Read about the basic SciPy ODE solver, [`odeint()`](https://docs.scipy.org/doc/scipy-0.18.1/reference/generated/scipy.integrate.odeint.html), and \"integrate\" it into the simulation scaffold below. In particular, implement a function, `solve_rj_ode(y0, T, **args)`, which takes as input\n",
    "\n",
    "- `y0[:n_y]`, the initial conditions (assuming `n_y` state variables);\n",
    "- `T[:n_t]`, the time points at which to compute a solution (`n_t` time points);\n",
    "- `**args`, arguments to pass to `f_rj`;\n",
    "\n",
    "and returns\n",
    "\n",
    "- `y[:n_y, :n_t]`, a `n_y` (number of variables) by `n_t` (number of time points) array containing the solution `y[:, k]` at each time point `T[k]`."
   ]
  },
  {
   "cell_type": "code",
   "execution_count": null,
   "metadata": {
    "collapsed": true,
    "deletable": false,
    "nbgrader": {
     "checksum": "6ad3d1db4d48bfe02ca1f4fa714c8715",
     "grade": true,
     "grade_id": "solve_rj_ode",
     "locked": false,
     "points": 3,
     "solution": true
    }
   },
   "outputs": [],
   "source": [
    "def solve_rj_ode (y0, T, a0, b0, c0, d0):\n",
    "    # YOUR CODE HERE\n",
    "    raise NotImplementedError()"
   ]
  },
  {
   "cell_type": "code",
   "execution_count": null,
   "metadata": {
    "collapsed": false,
    "nbgrader": {
     "grade": false,
     "locked": false,
     "points": 3,
     "solution": false
    }
   },
   "outputs": [],
   "source": [
    "# Test code (simulator)\n",
    "def isim (r0=1.0, j0=-1.0, a0=0.0, b0=1.0, c0=-1.0, d0=0.0, t_max=20.0):\n",
    "    \"\"\"\n",
    "    Simulates the R-J system up to a given maximum time\n",
    "    and plots the results.\n",
    "    \"\"\"\n",
    "    # Simulate:\n",
    "    T = np.linspace (0, t_max, t_max*10+1)\n",
    "    y0 = np.array ([r0, j0])\n",
    "    Y = solve_rj_ode (y0, T, a0, b0, c0, d0)\n",
    "    \n",
    "    # Display results:\n",
    "    r, j = Y[0, :], Y[1, :]\n",
    "    plt.plot (T, r, 'r-', T, j, 'g-.')\n",
    "    plt.title ('Strength of their affection')\n",
    "    plt.xlabel ('Time')\n",
    "    plt.legend (['Romeo, R(t)', 'Juliet, J(t)'], loc=0)\n",
    "    \n",
    "    y_equals_zero = np.zeros (T.shape)\n",
    "    plt.plot (T, y_equals_zero, 'k-')\n",
    "    \n",
    "# Run a test case\n",
    "isim (r0=-1.0, j0=1.0, a0=0.0, b0=1.0, c0=-1.0, d0=0.0, t_max=20)"
   ]
  },
  {
   "cell_type": "markdown",
   "metadata": {},
   "source": [
    "**Exercise 3** (2 points). You should observe oscillatory behavior: Romeo and Juliet are engaged in an endless cycle of love and hate, where their feelings are mutual one-fourth of the time. Explain how you could have known to expect oscillatory behavior even before simulating the system."
   ]
  },
  {
   "cell_type": "markdown",
   "metadata": {
    "deletable": false,
    "nbgrader": {
     "checksum": "8cf004da2420a3fd280800d80940c4db",
     "grade": true,
     "grade_id": "analyze_rj",
     "locked": false,
     "points": 2,
     "solution": true
    }
   },
   "source": [
    "YOUR ANSWER HERE"
   ]
  },
  {
   "cell_type": "markdown",
   "metadata": {},
   "source": [
    "**Exercise 4** (2 points). Suppose our couple exhibits the following behavior.\n",
    "\n",
    "1. Romeo is an _eager beaver_, meaning he gets excited _both_ by his partner's feelings of love _and_ by his own affectionate feelings. This case might be modeled as $a_0 > 0$ _and_ $b_0 > 0$.\n",
    "2. Juliet is _cautiously self-aware_, meaning she resists Romeo's positive feelings but embraces her own positive feelings. This case might be modeled as $c_0 < 0$ and $d_0 > 0$.\n",
    "\n",
    "Can an eager beaver and cautiously self-aware lover find romance? Analyze this scenario and then run a simulation. Use the following code cell for your analysis and simulation. Then, summarize your findings in the Markdown cell that follows the code cell."
   ]
  },
  {
   "cell_type": "code",
   "execution_count": null,
   "metadata": {
    "collapsed": false,
    "deletable": false,
    "nbgrader": {
     "checksum": "6af7520ddfc80be1ae2f1b6e6e036b57",
     "grade": true,
     "grade_id": "eager_self_aware_sim",
     "locked": false,
     "points": 1,
     "solution": true
    }
   },
   "outputs": [],
   "source": [
    "# YOUR CODE HERE\n",
    "raise NotImplementedError()"
   ]
  },
  {
   "cell_type": "markdown",
   "metadata": {
    "deletable": false,
    "nbgrader": {
     "checksum": "fdf0450283b605785f3a40f42cbddc15",
     "grade": true,
     "grade_id": "eager_self_aware_explain",
     "locked": false,
     "points": 1,
     "solution": true
    }
   },
   "source": [
    "YOUR ANSWER HERE"
   ]
  },
  {
   "cell_type": "markdown",
   "metadata": {},
   "source": [
    "**Exercise 5** (2 point). Come up with your own Romeo and Juliet scenario, by picking some initial conditions and values for the coefficients. Submit your choice, including a description of your scenario, here: http://j.mp/gtloveshack. Professor Vuduc will consider a prize (e.g., extra credit) for the most entertaining submissions!"
   ]
  },
  {
   "cell_type": "code",
   "execution_count": null,
   "metadata": {
    "collapsed": false,
    "deletable": false,
    "nbgrader": {
     "checksum": "d1bc3aeb66ba5dc8bbb8172886ff2ce3",
     "grade": true,
     "grade_id": "choose_own_adventure",
     "locked": false,
     "points": 2,
     "solution": true
    }
   },
   "outputs": [],
   "source": [
    "# YOUR CODE HERE\n",
    "raise NotImplementedError()"
   ]
  },
  {
   "cell_type": "code",
   "execution_count": null,
   "metadata": {
    "collapsed": true
   },
   "outputs": [],
   "source": []
  }
 ],
 "metadata": {
  "kernelspec": {
   "display_name": "Python 3",
   "language": "python",
   "name": "python3"
  },
  "language_info": {
   "codemirror_mode": {
    "name": "ipython",
    "version": 3
   },
   "file_extension": ".py",
   "mimetype": "text/x-python",
   "name": "python",
   "nbconvert_exporter": "python",
   "pygments_lexer": "ipython3",
   "version": "3.5.1"
  }
 },
 "nbformat": 4,
 "nbformat_minor": 0
}
