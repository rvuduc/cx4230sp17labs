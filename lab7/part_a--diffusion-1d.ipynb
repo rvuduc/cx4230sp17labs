{
 "cells": [
  {
   "cell_type": "markdown",
   "metadata": {
    "nbgrader": {
     "grade": false,
     "solution": false
    }
   },
   "source": [
    "# Important note!\n",
    "\n",
    "Before you turn this problem in, make sure everything runs as expected. First, **restart the kernel** (in the menubar, select Kernel$\\rightarrow$Restart) and then **run all cells** (in the menubar, select Cell$\\rightarrow$Run All).\n",
    "\n",
    "Make sure you fill in any place that says `YOUR CODE HERE` or \"YOUR ANSWER HERE\", as well as your GT login and the GT logins of any of your collaborators below. (The GT logins are worth 1 point per notebook, so don't miss the opportunity to get a free point!)"
   ]
  },
  {
   "cell_type": "code",
   "execution_count": null,
   "metadata": {
    "collapsed": false,
    "nbgrader": {
     "grade": false,
     "locked": false,
     "solution": false
    }
   },
   "outputs": [],
   "source": [
    "YOUR_ID = \"\" # Please enter your GT login, e.g., \"rvuduc3\" or \"gtg911x\"\n",
    "COLLABORATORS = [] # list of strings of your collaborators' IDs"
   ]
  },
  {
   "cell_type": "code",
   "execution_count": null,
   "metadata": {
    "collapsed": false,
    "deletable": false,
    "nbgrader": {
     "checksum": "b11295002cc2b9549d6a2b01721b6701",
     "grade": true,
     "grade_id": "who__test",
     "locked": true,
     "points": 1,
     "solution": false
    }
   },
   "outputs": [],
   "source": [
    "import re\n",
    "\n",
    "RE_CHECK_ID = re.compile (r'''[a-zA-Z]+\\d+|[gG][tT][gG]\\d+[a-zA-Z]''')\n",
    "assert RE_CHECK_ID.match (YOUR_ID) is not None\n",
    "\n",
    "collab_check = [RE_CHECK_ID.match (i) is not None for i in COLLABORATORS]\n",
    "assert all (collab_check)\n",
    "\n",
    "del collab_check\n",
    "del RE_CHECK_ID\n",
    "del re"
   ]
  },
  {
   "cell_type": "markdown",
   "metadata": {},
   "source": [
    "**Jupyter / IPython version check.** The following code cell verifies that you are using the correct version of Jupyter/IPython."
   ]
  },
  {
   "cell_type": "code",
   "execution_count": null,
   "metadata": {
    "collapsed": true
   },
   "outputs": [],
   "source": [
    "import IPython\n",
    "assert IPython.version_info[0] >= 3, \"Your version of IPython is too old, please update it.\""
   ]
  },
  {
   "cell_type": "markdown",
   "metadata": {},
   "source": [
    "## Strategy: Convert the PDE to an ODE\n",
    "\n",
    "Given the conceptual model of the PDE, how do we build a \"simulator\" for it? One idea is to try to find a way to convert the system into a system of ordinary differential equations (ODEs), for which can then simply invoke a black-box ODE solver, such as `odeint()`, just like before. Recall that such a solver can compute approximate numerical solutions to the system,\n",
    "\n",
    "$$\\begin{eqnarray}\n",
    "  \\dfrac{d}{dt}\\vec{y}(t)\n",
    "    \\equiv\n",
    "      \\dfrac{d}{dt}\n",
    "      \\left(\\begin{array}{c}\n",
    "        y_0(t) \\\\\n",
    "        y_1(t) \\\\\n",
    "        \\vdots \\\\\n",
    "        y_{m-1}(t)\n",
    "      \\end{array}\\right)\n",
    "    & = &\n",
    "      \\left(\\begin{array}{c}\n",
    "        f_0(t, \\vec{y}) \\\\\n",
    "        f_1(t, \\vec{y}) \\\\\n",
    "        \\vdots \\\\\n",
    "        f_{m-1}(t, \\vec{y})\n",
    "      \\end{array}\\right)\n",
    "    \\equiv\n",
    "      \\vec{f}(t, \\vec{y}).\n",
    "\\end{eqnarray}$$\n",
    "\n",
    "Let's adopt this strategy by finding a way to transform the original 1-D diffusion model PDE into this form."
   ]
  },
  {
   "cell_type": "code",
   "execution_count": null,
   "metadata": {
    "collapsed": false,
    "deletable": false,
    "nbgrader": {
     "checksum": "cadcb764ed4aa9f69ceae06a1fc381eb",
     "grade": false,
     "grade_id": "setup",
     "locked": true,
     "solution": false
    }
   },
   "outputs": [],
   "source": [
    "import numpy as np\n",
    "import scipy as sp\n",
    "from scipy.integrate import odeint # Goal: Find a way to reuse this black-box!"
   ]
  },
  {
   "cell_type": "markdown",
   "metadata": {},
   "source": [
    "**Discretizing the PDE.** One technique to convert a PDE to a system of ODEs is to apply an _approximation_ known as the _finite differencing method_, or _FDM_. FDM consists of two steps.\n",
    "\n",
    "_Step 1_) Replace one or more derivatives by approximations expected to be valid under small perturbations. For example, you could try replacing the second-order spatial derivative in $x$ with a _centered difference approximation_,\n",
    "\n",
    "$$\\begin{eqnarray}\n",
    "  \\dfrac{\\partial^2 p(x,t)}\n",
    "        {\\partial x^2}\n",
    "    & \\approx &\n",
    "      \\dfrac{p(x+\\Delta x, t) - 2 p(x, t) + p(x-\\Delta x, t)}\n",
    "            {(\\Delta x)^2}.\n",
    "\\end{eqnarray}$$"
   ]
  },
  {
   "cell_type": "markdown",
   "metadata": {},
   "source": [
    "_Step 2_) _Discretize_ the corresponding independent variable(s). That means you pick a variable and replace it with samples at a discrete set of points.\n",
    "\n",
    "In this case, you approximated the second $x$ derivative so you would discretize $x$. In particular, suppose the system is defined on the finite interval $x \\in [0, \\lambda_0]$. Let's replace this continuous domain by a grid of $m$ evenly-spaced points. That is, let $\\Delta x \\equiv \\dfrac{\\lambda_0}{m-1}$ and let the grid consist of the $m$ points, $\\{x_0, x_1, \\ldots, x_{m-1}\\}$, where\n",
    "\n",
    "$$\\begin{eqnarray}\n",
    "  x_i & \\equiv & i \\Delta x = i \\dfrac{\\lambda_0}{m-1}.\n",
    "\\end{eqnarray}$$\n",
    "\n",
    "For instance, suppose $\\lambda_0 = 2$ and you choose to divide this interval into $m=21$ points."
   ]
  },
  {
   "cell_type": "code",
   "execution_count": null,
   "metadata": {
    "collapsed": false,
    "deletable": false,
    "nbgrader": {
     "checksum": "dc4f9d80c77ee4442fc72e6b5866be16",
     "grade": false,
     "grade_id": "create_grid",
     "locked": true,
     "solution": false
    }
   },
   "outputs": [],
   "source": [
    "def create_grid (lambda_0, m):\n",
    "    return np.linspace (0, lambda_0, m)\n",
    "\n",
    "LAMBDA_0 = 2.0\n",
    "M = 21\n",
    "DX = LAMBDA_0 / (M-1)\n",
    "\n",
    "X = create_grid (LAMBDA_0, M)\n",
    "print (\"Finite domain, X[:], is\\n\", X)"
   ]
  },
  {
   "cell_type": "markdown",
   "metadata": {},
   "source": [
    "Since we are replacing $x$ by the $m$ samples $\\{x_0, x_1, \\ldots, x_{m-1}\\}$, let's introduce a set of $m$ new state variables to represent the value of the solution $p(x,t)$ at those points:\n",
    "\n",
    "$$\\begin{eqnarray}\n",
    "  p_i(t) & \\equiv & p(x_i, t),\n",
    "\\end{eqnarray}$$\n",
    "\n",
    "where $0 \\leq i \\leq m$."
   ]
  },
  {
   "cell_type": "markdown",
   "metadata": {},
   "source": [
    "In doing so, you would naturally need to translate any initial conditions for the original system into initial conditions for each of these new state variables.\n",
    "\n",
    "For instance, suppose the random walker starts in the center of the domain, which in this example so far is $x = 1$ since $\\lambda_0 = 2$. Then the probability mass at time $t$ should be concentrated in a spike at the center, i.e., $p(x=1, 0)$. This corresponds to $p_{10}(0)$ in our example where $m=21$."
   ]
  },
  {
   "cell_type": "markdown",
   "metadata": {},
   "source": [
    "**Exercise 1** (2 points). Implement a function that returns a NumPy array corresponding to a probability distribution for a \"centered impulse,\" i.e., one whose mass is concentrated at the center. The domain should have `m` points and the cell width is `dx`.\n",
    "\n",
    "> How should you handle the cases of `m` being even versus odd?"
   ]
  },
  {
   "cell_type": "code",
   "execution_count": null,
   "metadata": {
    "collapsed": true,
    "deletable": false,
    "nbgrader": {
     "checksum": "d2b98b4c07214dd9d1b54dae95dd3b74",
     "grade": false,
     "grade_id": "create_centered_impulse",
     "locked": false,
     "solution": true
    }
   },
   "outputs": [],
   "source": [
    "def create_centered_impulse (m, dx):\n",
    "    assert (m >= 1) and (dx > 0)\n",
    "    y = np.zeros (m)\n",
    "    # YOUR CODE HERE\n",
    "    raise NotImplementedError()\n",
    "    return y"
   ]
  },
  {
   "cell_type": "code",
   "execution_count": null,
   "metadata": {
    "collapsed": false,
    "deletable": false,
    "nbgrader": {
     "checksum": "9c585d5407c155343f45b3d3a4421cc4",
     "grade": true,
     "grade_id": "create_centered_impulse_test",
     "locked": true,
     "points": 2,
     "solution": false
    }
   },
   "outputs": [],
   "source": [
    "# By the way, here is a handy function to display the grid of values.\n",
    "\n",
    "import matplotlib.pyplot as plt\n",
    "%matplotlib inline\n",
    "\n",
    "def show_grid (x, p):\n",
    "    plt.plot (x, p, 'o-')\n",
    "    \n",
    "x_test_odd = create_grid (2.5, 11)\n",
    "y_test_odd = create_centered_impulse (11, 0.25)\n",
    "\n",
    "x_test_even = create_grid (2.25, 10)\n",
    "y_test_even = create_centered_impulse (10, 0.25)\n",
    "\n",
    "plt.figure (figsize=[12, 5])\n",
    "\n",
    "plt.subplot (1, 2, 1)\n",
    "show_grid (x_test_odd, y_test_odd)\n",
    "plt.axis ([-0.25, 2.75, -0.1, 4.1])\n",
    "plt.title ('p_i(0): 11 points in [0, 2.5]')\n",
    "plt.xlabel ('x_i')\n",
    "\n",
    "plt.subplot (1, 2, 2)\n",
    "show_grid (x_test_even, y_test_even)\n",
    "plt.axis ([-0.25, 2.75, -0.1, 4.1])\n",
    "plt.title ('p_i(0): 10 points in [0, 2.25]')\n",
    "plt.xlabel ('x_i')\n",
    "\n",
    "assert y_test_odd[5] == 4.0\n",
    "assert np.isclose (np.sum (y_test_odd*0.25), 1.0, atol=1e-15)\n",
    "assert np.all (y_test_even[4:5] == 2.0)\n",
    "assert np.isclose (np.sum (y_test_even*0.25), 1.0, atol=1e-15)\n",
    "print (\"\\n(Passed.)\")"
   ]
  },
  {
   "cell_type": "markdown",
   "metadata": {},
   "source": [
    "**System of ODEs.** The net result of the preceding two steps is a system of ODEs that approximates the original PDE:\n",
    "\n",
    "$$\n",
    "\\begin{eqnarray}\n",
    "  \\dfrac{d}{dt} \\left(\\begin{array}{c}\n",
    "                   p_0(t) \\\\\n",
    "                   p_1(t) \\\\\n",
    "                   \\vdots \\\\\n",
    "                   p_{m-1}(t)\n",
    "                \\end{array}\\right)\n",
    "    & = &\n",
    "      \\dfrac{\\gamma}{(\\Delta x)^2}\\left(\\begin{array}{c}\n",
    "        p_{-1}(t) - 2p_0(t) + p_1(t) \\\\\n",
    "        p_{0}(t) - 2p_1(t) + p_2(t) \\\\\n",
    "        \\vdots \\\\\n",
    "        p_{m-3}(t) - 2p_{m-2}(t) + p_{m-1}(t) \\\\\n",
    "        p_{m-2}(t) - 2p_{m-1}(t) + p_{m}(t)\n",
    "      \\end{array}\\right).\n",
    "\\end{eqnarray}\n",
    "$$"
   ]
  },
  {
   "cell_type": "markdown",
   "metadata": {},
   "source": [
    "**Boundary conditions.** However, there's a hitch with this system: $p_{-1}(t)$ or $p_{m}(t)$ _do not exist!_\n",
    "\n",
    "Indeed, these are outside the boundaries of our domain. Thus, we need to figure out what to replace them with. And you have many potential options.\n",
    "\n",
    "For instance, one option is the case of \"leaky boundaries,\" meaning stuff escapes at the boundaries. At the right-hand side, $i=m-1$, recall that the stuff that leaves is proportional to $p_m - p_{m-1}$; therefore, to have all the mass at $m-1$ exit we could set $p_m=0$. Setting $p_{-1}=0$ would accomplish a similar feat at the left boundary. The resulting equations at the boundaries would be\n",
    "\n",
    "$$\n",
    "\\begin{eqnarray}\n",
    "      \\frac{d}{dt} p_0 & = & \\frac{\\gamma}{\\Delta x^2} (-2 p_0 + p_1) \\\\\n",
    "  \\frac{d}{dt} p_{m-1} & = & \\frac{\\gamma}{\\Delta x^2} (p_{m-2} - 2 p_{m-1}).\n",
    "\\end{eqnarray}\n",
    "$$\n",
    "\n",
    "\n",
    "A different option might be \"infinite walls,\" meaning nothing can escape. In that case, we want the change at, say, the right-hand side, which is $p_m - p_{m-1}$, to be zero. Setting $p_m = p_{m-1}$ would accomplish that. Applying similar reasoning at the left would make the boundary equations,\n",
    "\n",
    "$$\n",
    "\\begin{eqnarray}\n",
    "      \\frac{d}{dt} p_0 & = & \\frac{\\gamma}{\\Delta x^2} (-p_0 + p_1) \\\\\n",
    "  \\frac{d}{dt} p_{m-1} & = & \\frac{\\gamma}{\\Delta x^2} (p_{m-2} - p_{m-1}).\n",
    "\\end{eqnarray}\n",
    "$$"
   ]
  },
  {
   "cell_type": "markdown",
   "metadata": {},
   "source": [
    "**Exercise 2** (2 points). Implement a function that evaluates the right-hand side of the system of ODEs in the case of \"leaky boundaries.\""
   ]
  },
  {
   "cell_type": "code",
   "execution_count": null,
   "metadata": {
    "collapsed": true,
    "deletable": false,
    "nbgrader": {
     "checksum": "fc40b8847be8ce17ef84bacfbb788cba",
     "grade": false,
     "grade_id": "f_leaky",
     "locked": false,
     "solution": true
    }
   },
   "outputs": [],
   "source": [
    "def f_leaky (p, gamma, dx):\n",
    "    # YOUR CODE HERE\n",
    "    raise NotImplementedError()"
   ]
  },
  {
   "cell_type": "code",
   "execution_count": null,
   "metadata": {
    "collapsed": false,
    "deletable": false,
    "nbgrader": {
     "checksum": "519ecf61a9d0dc1717321383c178b682",
     "grade": true,
     "grade_id": "f_leaky_test",
     "locked": true,
     "points": 2,
     "solution": false
    }
   },
   "outputs": [],
   "source": [
    "x_test_leaky = create_grid (2.25, 10)\n",
    "y_test_leaky = np.zeros (10)\n",
    "y_test_leaky[0] = 1.0\n",
    "y_test_leaky[4:6] = 1.0\n",
    "y_test_leaky[-1] = 1.0\n",
    "dy_test_leaky = f_leaky (y_test_leaky, .03125, .25)\n",
    "show_grid (x_test_leaky, y_test_leaky)\n",
    "show_grid (x_test_leaky, dy_test_leaky)\n",
    "print (dy_test_leaky)\n",
    "plt.xlabel ('x_i')\n",
    "plt.legend (['y_i', 'dy_i/dt (approx)'], loc=0)\n",
    "plt.axis ([-0.25, 2.5, -2.25, 1.25])\n",
    "assert np.allclose (dy_test_leaky, [-1, 1/2, 0, 1/2, -1/2, -1/2, 1/2, 0, 1/2, -1], atol=1e-15)\n",
    "print (\"\\n(Passed.)\")"
   ]
  },
  {
   "cell_type": "markdown",
   "metadata": {},
   "source": [
    "**Exercise 3** (2 points). Implement a function that evaluates the right-hand side of the system of ODEs in the case of \"infinite walls.\""
   ]
  },
  {
   "cell_type": "code",
   "execution_count": null,
   "metadata": {
    "collapsed": true,
    "deletable": false,
    "nbgrader": {
     "checksum": "39702dab0f5e1af8923d2fb316131d34",
     "grade": false,
     "grade_id": "f_walls",
     "locked": false,
     "solution": true
    }
   },
   "outputs": [],
   "source": [
    "def f_walls (p, gamma, dx):\n",
    "    # YOUR CODE HERE\n",
    "    raise NotImplementedError()"
   ]
  },
  {
   "cell_type": "code",
   "execution_count": null,
   "metadata": {
    "collapsed": false,
    "deletable": false,
    "nbgrader": {
     "checksum": "b64724212e3d9c2bbd996d7f6ddc5836",
     "grade": true,
     "grade_id": "f_walls_test",
     "locked": true,
     "points": 2,
     "solution": false
    }
   },
   "outputs": [],
   "source": [
    "x_test_walls = create_grid (2.25, 10)\n",
    "y_test_walls = np.zeros (10)\n",
    "y_test_walls[0] = 1.0\n",
    "y_test_walls[4:6] = 1.0\n",
    "y_test_walls[-1] = 1.0\n",
    "dy_test_walls = f_walls (y_test_walls, .03125, .25)\n",
    "show_grid (x_test_walls, y_test_walls)\n",
    "show_grid (x_test_walls, dy_test_walls)\n",
    "print (dy_test_walls)\n",
    "plt.xlabel ('x_i')\n",
    "plt.legend (['y_i', 'dy_i/dt (approx)'], loc=0)\n",
    "plt.axis ([-0.25, 2.5, -2.25, 1.25])\n",
    "assert np.allclose (dy_test_walls, [-1/2, 1/2, 0, 1/2, -1/2, -1/2, 1/2, 0, 1/2, -1/2], atol=1e-15)\n",
    "print (\"\\n(Passed.)\")"
   ]
  },
  {
   "cell_type": "markdown",
   "metadata": {},
   "source": [
    "**Exercise 4** (2 point). Implement a simulator, `sim(f, p0, T, *args)`. It should take the following inputs:\n",
    "\n",
    "- `f(p, *args)`: A function that evaluates the right-hand side of the ODE approximation to the PDE system.\n",
    "- `p0[:]`: A NumPy array containing the initial condition at all (discretized) locations.\n",
    "- `T[:]`: The set of time points at which to compute a solution.\n",
    "- `*args`: Positional arguments to pass to `f()`.\n",
    "\n",
    "The simulator should return a two-dimensional NumPy array, `P[:, :]` where `P[i, k]` is the solution at position `i` at time `T[k]`. In other words, `P.shape == (len(p0), len(T))`."
   ]
  },
  {
   "cell_type": "code",
   "execution_count": null,
   "metadata": {
    "collapsed": false,
    "deletable": false,
    "nbgrader": {
     "checksum": "625bc11b0ad190f0704c0ac0551d638a",
     "grade": false,
     "grade_id": "sim",
     "locked": false,
     "solution": true
    }
   },
   "outputs": [],
   "source": [
    "def sim (f, p0, T, args):\n",
    "    # YOUR CODE HERE\n",
    "    raise NotImplementedError()"
   ]
  },
  {
   "cell_type": "code",
   "execution_count": null,
   "metadata": {
    "collapsed": false,
    "deletable": false,
    "nbgrader": {
     "checksum": "7f6cbb085811776468c86dacd6065561",
     "grade": true,
     "grade_id": "sim_test",
     "locked": true,
     "points": 2,
     "solution": false
    }
   },
   "outputs": [],
   "source": [
    "TMAX = 1.0\n",
    "NT = 5\n",
    "T = np.linspace (0, TMAX, NT)\n",
    "\n",
    "y_sim_leaky = sim (f_leaky, y_test_leaky, T, (0.03125, 0.25))\n",
    "assert y_sim_leaky.shape == (len (y_test_leaky), len (T))\n",
    "\n",
    "plt.figure (figsize=(12,5))\n",
    "for i_t in range (NT):\n",
    "    show_grid (x_test_leaky, y_sim_leaky[:, i_t])\n",
    "plt.legend (['t={}'.format (t) for t in T], loc=0)\n",
    "    \n",
    "print (\"Total mass over time:\\n\", np.sum (y_sim_leaky*0.25, axis=0))\n",
    "assert np.allclose (np.sum (y_sim_leaky, axis=0)/4, [1, 0.94456479, 0.90072522, 0.86550857, 0.83677142], atol=1e-7)\n",
    "print (\"\\n(Passed.)\")"
   ]
  },
  {
   "cell_type": "markdown",
   "metadata": {},
   "source": [
    "**Conservation of mass.** If you inspect the test run above, you'll see that (probability) mass is *not* conserved! That's to be expected with leaky boundaries. The following code runs the same test but with wall boundaries. Verify that mass *is* conserved in this case and observe the difference in the solutions."
   ]
  },
  {
   "cell_type": "code",
   "execution_count": null,
   "metadata": {
    "collapsed": false,
    "deletable": false,
    "nbgrader": {
     "checksum": "9c2da7609e123dbeb70a9338d600cca1",
     "grade": false,
     "grade_id": "mass_conservation",
     "locked": true,
     "solution": false
    }
   },
   "outputs": [],
   "source": [
    "y_sim_walls = sim (f_walls, y_test_walls, T, (0.03125, 0.25))\n",
    "assert y_sim_walls.shape == (len (y_test_walls), len (T))\n",
    "\n",
    "plt.figure (figsize=(12,5))\n",
    "for i_t in range (NT):\n",
    "    show_grid (x_test_walls, y_sim_walls[:, i_t])\n",
    "plt.legend (['t={}'.format (t) for t in T], loc=0)\n",
    "    \n",
    "print (\"Total mass over time:\\n\", np.sum (y_sim_walls*0.25, axis=0))\n",
    "assert np.allclose (np.sum (y_sim_walls, axis=0)/4, [1, 1, 1, 1, 1], atol=1e-8)\n",
    "print (\"\\n(Passed.)\")"
   ]
  },
  {
   "cell_type": "markdown",
   "metadata": {},
   "source": [
    "## Comparing the continuous and discrete random walks\n",
    "\n",
    "Consider the fully discrete, isotropic, 1-D random walk. Recall that if the walker starts at the origin an takes $k$ steps of size $\\Delta x$ each, then its position, $X_k$, is a random variable whose mean and variance are, respectively,\n",
    "\n",
    "$$\n",
    "\\begin{eqnarray}\n",
    "    \\mathrm{E}[X_k] & = & 0 \\\\\n",
    "  \\mathrm{Var}[X_k] & = & \\mathrm{E}[X_k^2 - {\\underbrace{\\mathrm{E}[X_k]}_{=0}}^2]\n",
    "                          = \\mathrm{E}[X_k^2]\n",
    "                          = (\\Delta x)^2 k.\n",
    "\\end{eqnarray}\n",
    "$$\n",
    "\n",
    "As a reminder, the actual distribution is approximately the normal shown in the following plot. The domain is taken to be $[-\\frac{\\lambda_0}{2}, \\frac{\\lambda_0}{2}]$, the step size is $\\Delta x = \\frac{\\lambda_0}{m}$, and the number of steps is approximately $\\sqrt{m}$."
   ]
  },
  {
   "cell_type": "code",
   "execution_count": null,
   "metadata": {
    "collapsed": false,
    "deletable": false,
    "nbgrader": {
     "checksum": "801faa0d58d88602477642d9c0f2b89f",
     "grade": false,
     "grade_id": "plot_normal",
     "locked": true,
     "solution": false
    }
   },
   "outputs": [],
   "source": [
    "M = 101\n",
    "LAMBDA_0 = 32\n",
    "DX = LAMBDA_0 / (M-1)\n",
    "NUM_STEPS = 50\n",
    "\n",
    "VAR_X_DISCRETE = DX*DX*NUM_STEPS\n",
    "\n",
    "X = np.linspace (-LAMBDA_0/2, LAMBDA_0/2, M)\n",
    "\n",
    "from scipy.stats import norm\n",
    "P_clt = norm.pdf (X, scale=DX*np.sqrt (NUM_STEPS))\n",
    "plt.plot (X, P_clt)\n",
    "plt.title (\"DX = {}, NUM_STEPS = {} => Var[X_{}] = {}\".format (DX,\n",
    "                                                               NUM_STEPS,\n",
    "                                                               NUM_STEPS,\n",
    "                                                               VAR_X_DISCRETE))"
   ]
  },
  {
   "cell_type": "markdown",
   "metadata": {},
   "source": [
    "In the case of continuous space and time, the distribution, $p(x, t)$, governs a continuous random variable, $\\hat{X}(t)$, which also has some mean and variance.\n",
    "\n",
    "**Exercise 5** (2 points). Suppose someone runs your simulator as follows:\n",
    "\n",
    "```python\n",
    "  p_t = sim (f_leaky, p0, [0, t], (gamma, dx))[:, 1]\n",
    "```\n",
    "\n",
    "In other words, this person provided some initial distribution, `p0`, supplied a diffusion coefficient, `gamma`, step size `dx`, requested the solution at time `t` assuming leaky boundaries, and stored just the approximate distribution at that ending time in a NumPy array, `p_t`. Further suppose that the domain of interest was `[-lambda_0/2, lambda_0/2]`.\n",
    "\n",
    "Implement a function that estimates the variance of this distribution.\n",
    "\n",
    "> Hint: Suppose a function $f(x)$ is sampled at $m$ equally-spaced points in the domain $[-\\frac{L}{2}, \\frac{L}{2}]$. Denote these points by $x_i = i \\cdot \\Delta x$ where $\\Delta x \\equiv \\frac{L}{m-1}$. Then,\n",
    ">\n",
    "> $$\n",
    "  \\begin{eqnarray}\n",
    "    \\int_{-\\frac{L}{2}}^{\\frac{L}{2}} f(x) \\, dx\n",
    "    & \\approx & \\sum_{i=0}^{m} f(x_i) \\cdot \\Delta x.\n",
    "  \\end{eqnarray}\n",
    "  $$"
   ]
  },
  {
   "cell_type": "code",
   "execution_count": null,
   "metadata": {
    "collapsed": true,
    "deletable": false,
    "nbgrader": {
     "checksum": "96b978d5f703024711a62f84a935da22",
     "grade": false,
     "grade_id": "var_dist",
     "locked": false,
     "solution": true
    }
   },
   "outputs": [],
   "source": [
    "def estimate_var_dist (p_t, lambda_0, dx):\n",
    "    m = int (1 + lambda_0/dx)\n",
    "    assert len (p_t) == m\n",
    "    \n",
    "    # YOUR CODE HERE\n",
    "    raise NotImplementedError()"
   ]
  },
  {
   "cell_type": "code",
   "execution_count": null,
   "metadata": {
    "collapsed": false,
    "deletable": false,
    "nbgrader": {
     "checksum": "772f4fbd07c8a446a18e1a877f9343ed",
     "grade": true,
     "grade_id": "var_dist_test",
     "locked": true,
     "points": 2,
     "solution": false
    }
   },
   "outputs": [],
   "source": [
    "var_test = estimate_var_dist (y_sim_leaky[:, -1], 2.25, 0.25)\n",
    "print (var_test)\n",
    "assert np.isclose (var_test, 0.388679586729, atol=1e-3)\n",
    "print (\"\\n(Passed.)\")"
   ]
  },
  {
   "cell_type": "markdown",
   "metadata": {},
   "source": [
    "**Exercise 6** (3 points). Consider a discrete random walk that begins at the origin and then takes `k` steps of size `dx` each. Recall that its variance is `(dx**2) * k`.\n",
    "\n",
    "Now suppose you wish to run your PDE simulator as\n",
    "\n",
    "```python\n",
    "p_t = sim (f_leaky, p0, [0, t], (gamma, dx))[:, 1]\n",
    "```\n",
    "\n",
    "where `gamma == 0.5*(dx**2)` and `p0` is a centered impulse on some domain `[-0.5*lambda_0, 0.5*lambda_0]`. Write some code to determine the value of `t` such that the estimated variance of `p_t` is close to `(dx**2) * k`. Store this value in a variable named, `t_match`.\n",
    "\n",
    "The scaffolding code below will print `t_match` and superimpose the distribution implied by your solution against a normal distribution whose variance is `(dx**2)*k`.\n",
    "\n",
    "> Note: The scaffolding code also defines the value of `dx` as `DX`, `k` as `NUM_STEPS`, `gamma` as `GAMMA`, and `(dx**2)*k` as `VAR_X_DISCRETE`."
   ]
  },
  {
   "cell_type": "code",
   "execution_count": null,
   "metadata": {
    "collapsed": false,
    "deletable": false,
    "nbgrader": {
     "checksum": "c79fe1a8f5204fcac6f2f2410c9714ba",
     "grade": false,
     "grade_id": "t_match",
     "locked": false,
     "points": 3,
     "solution": true
    }
   },
   "outputs": [],
   "source": [
    "M = 101\n",
    "LAMBDA_0 = 32\n",
    "DX = LAMBDA_0 / (M-1)\n",
    "NUM_STEPS = 25\n",
    "VAR_X_DISCRETE = DX * DX * NUM_STEPS\n",
    "GAMMA = 0.5 * DX * DX\n",
    "\n",
    "# YOUR CODE HERE\n",
    "raise NotImplementedError()\n",
    "\n",
    "print (\"The value of `t_match` you found is:\", t_match)"
   ]
  },
  {
   "cell_type": "code",
   "execution_count": null,
   "metadata": {
    "collapsed": false,
    "deletable": false,
    "nbgrader": {
     "checksum": "c9af42f8dffa41698054b6d3b93c0f63",
     "grade": true,
     "grade_id": "t_match_test",
     "locked": true,
     "points": 3,
     "solution": false
    }
   },
   "outputs": [],
   "source": [
    "x = np.linspace (-LAMBDA_0/2, LAMBDA_0/2, M)\n",
    "p_clt = norm.pdf (X, scale=DX*np.sqrt (NUM_STEPS))\n",
    "p_0 = create_centered_impulse (M, DX)\n",
    "p_pde = sim (f_leaky, p_0, [0, t_match], (GAMMA, DX))[:, 1]\n",
    "plt.plot (x, p_clt, '-')\n",
    "plt.plot (x, p_pde, 'o')\n",
    "plt.legend (['Normal', 'PDE'], loc=0)\n",
    "plt.title ('t_match = {}'.format (t_match))\n",
    "\n",
    "v_diff = np.max (np.abs (p_clt - p_pde))\n",
    "print (\"Maximum absolute difference:\", v_diff)\n",
    "assert v_diff <= 0.01\n",
    "print (\"\\n(Passed.)\")"
   ]
  },
  {
   "cell_type": "code",
   "execution_count": null,
   "metadata": {
    "collapsed": true
   },
   "outputs": [],
   "source": []
  }
 ],
 "metadata": {
  "kernelspec": {
   "display_name": "Python 3",
   "language": "python",
   "name": "python3"
  },
  "language_info": {
   "codemirror_mode": {
    "name": "ipython",
    "version": 3
   },
   "file_extension": ".py",
   "mimetype": "text/x-python",
   "name": "python",
   "nbconvert_exporter": "python",
   "pygments_lexer": "ipython3",
   "version": "3.5.1"
  }
 },
 "nbformat": 4,
 "nbformat_minor": 0
}
