{
 "cells": [
  {
   "cell_type": "markdown",
   "metadata": {
    "nbgrader": {
     "grade": false,
     "solution": false
    }
   },
   "source": [
    "# Important note!\n",
    "\n",
    "Before you turn this problem in, make sure everything runs as expected. First, **restart the kernel** (in the menubar, select Kernel$\\rightarrow$Restart) and then **run all cells** (in the menubar, select Cell$\\rightarrow$Run All).\n",
    "\n",
    "Make sure you fill in any place that says `YOUR CODE HERE` or \"YOUR ANSWER HERE\", as well as your GT login and the GT logins of any of your collaborators below. (The GT logins are worth 1 point per notebook, so don't miss the opportunity to get a free point!)"
   ]
  },
  {
   "cell_type": "code",
   "execution_count": null,
   "metadata": {
    "collapsed": false,
    "nbgrader": {
     "grade": false,
     "locked": false,
     "solution": false
    }
   },
   "outputs": [],
   "source": [
    "YOUR_ID = \"\" # Please enter your GT login, e.g., \"rvuduc3\" or \"gtg911x\"\n",
    "COLLABORATORS = [] # list of strings of your collaborators' IDs"
   ]
  },
  {
   "cell_type": "code",
   "execution_count": null,
   "metadata": {
    "collapsed": false,
    "deletable": false,
    "nbgrader": {
     "checksum": "b11295002cc2b9549d6a2b01721b6701",
     "grade": true,
     "grade_id": "who__test",
     "locked": true,
     "points": 1,
     "solution": false
    }
   },
   "outputs": [],
   "source": [
    "import re\n",
    "\n",
    "RE_CHECK_ID = re.compile (r'''[a-zA-Z]+\\d+|[gG][tT][gG]\\d+[a-zA-Z]''')\n",
    "assert RE_CHECK_ID.match (YOUR_ID) is not None\n",
    "\n",
    "collab_check = [RE_CHECK_ID.match (i) is not None for i in COLLABORATORS]\n",
    "assert all (collab_check)\n",
    "\n",
    "del collab_check\n",
    "del RE_CHECK_ID\n",
    "del re"
   ]
  },
  {
   "cell_type": "markdown",
   "metadata": {},
   "source": [
    "**Jupyter / IPython version check.** The following code cell verifies that you are using the correct version of Jupyter/IPython."
   ]
  },
  {
   "cell_type": "code",
   "execution_count": null,
   "metadata": {
    "collapsed": true
   },
   "outputs": [],
   "source": [
    "import IPython\n",
    "assert IPython.version_info[0] >= 3, \"Your version of IPython is too old, please update it.\""
   ]
  },
  {
   "cell_type": "markdown",
   "metadata": {},
   "source": [
    "# Infection via the continuous SIR-PDE model\n",
    "\n",
    "The [O'Leary (2008) reading](https://t-square.gatech.edu/access/content/group/gtc-239f-fc11-5690-9dae-2dc96b59f372/OLeary-2008-sccs--infection.pdf) presents the following version of a continuous partial differential equation (PDE)-based version of the susceptible-infected-recovered (SIR) model in two spatial dimensions, where $S = S(x, y, t)$, $I = I(x, y, t)$, and $R = R(x, y, t)$.\n",
    "\n",
    "$$\n",
    "\\begin{eqnarray}\n",
    "  \\dfrac{\\partial S}{\\partial t}\n",
    "  & = & -\\tau_0 \\cdot I \\cdot S - \\delta_0 \\cdot \\left( \\dfrac{\\partial^2 I}{\\partial x^2} + \\dfrac{\\partial^2 I}{\\partial y^2} \\right) \\cdot S \\\\\n",
    "  \\dfrac{\\partial I}{\\partial t}\n",
    "  & = & \\tau_0 \\cdot I \\cdot S + \\delta_0 \\cdot \\left( \\dfrac{\\partial^2 I}{\\partial x^2} + \\dfrac{\\partial^2 I}{\\partial y^2} \\right) \\cdot S - \\dfrac{I}{\\kappa_0} \\\\\n",
    "  \\dfrac{\\partial R}{\\partial t}\n",
    "  & = & \\dfrac{I}{\\kappa_0}\n",
    "\\end{eqnarray}\n",
    "$$"
   ]
  },
  {
   "cell_type": "markdown",
   "metadata": {},
   "source": [
    "In vector form,\n",
    "\n",
    "$$\n",
    "  \\dfrac{\\partial}{\\partial t} \\vec{y}(t)\n",
    "  \\equiv\n",
    "  \\dfrac{\\partial}{\\partial t} \\left( \\begin{matrix} S \\\\ I \\\\ R \\end{matrix} \\right)\n",
    "  =\n",
    "  \\left( \\begin{matrix}\n",
    "    -\\tau_0 \\cdot I \\cdot S - \\delta_0 \\cdot \\left( \\dfrac{\\partial^2 I}{\\partial x^2} + \\dfrac{\\partial^2 I}{\\partial y^2} \\right) \\cdot S \\\\\n",
    "    \\tau_0 \\cdot I \\cdot S + \\delta_0 \\cdot \\left( \\dfrac{\\partial^2 I}{\\partial x^2} + \\dfrac{\\partial^2 I}{\\partial y^2} \\right) \\cdot S - \\dfrac{I}{\\kappa_0} \\\\\n",
    "    \\dfrac{I}{\\kappa_0}\n",
    "  \\end{matrix} \\right)\n",
    "  \\equiv\n",
    "  \\vec{f}(\\vec{y}).\n",
    "$$\n",
    "\n",
    "Per our usual convention, we'll refer to $\\vec{f}(\\vec{y})$ as the \"right-hand side\" of this model."
   ]
  },
  {
   "cell_type": "markdown",
   "metadata": {},
   "source": [
    "If the population density is uniform, then we can choose $S(x, y, t)$, $I(x, y, t)$, and $R(x, y, t)$ to be concentrations (fractions per unit area) such that\n",
    "\n",
    "$$\n",
    "  \\int_{\\Omega} \\left[ S(x, y, t) + I(x, y, t) + R(x, y, t) \\right] \\, dx \\, dy = 1.\n",
    "$$\n",
    "\n",
    "In this notebook, you will implement a simulator for this model, which we'll refer to as the _continous (space-time) SIR system_."
   ]
  },
  {
   "cell_type": "markdown",
   "metadata": {},
   "source": [
    "## Setup\n",
    "\n",
    "To reuse an ODE solver (e.g., `odeint()`), we need to eliminate all but one independent variable. Let's do so by discretizing the spatial variables, $x$ and $y$.\n",
    "\n",
    "Suppose the spatial \"world\" is a square domain with $0 \\leq x, y \\leq \\lambda_0$. Let's represent the world instead on a finite $n \\times n$ domain at a discrete set of equally-spaced discrete points, $\\{(x_i, y_j) \\,|\\, 0 \\leq i, j \\leq n\\}$, where $x_i \\equiv i \\Delta x$, $y_j \\equiv j \\Delta y$, and $\\Delta x = \\Delta y = \\frac{\\lambda_0}{n-1}$."
   ]
  },
  {
   "cell_type": "code",
   "execution_count": null,
   "metadata": {
    "collapsed": false,
    "deletable": false,
    "nbgrader": {
     "checksum": "f4267856a0d69388da0cbc5d6f704332",
     "grade": false,
     "grade_id": "params",
     "locked": true,
     "solution": false
    }
   },
   "outputs": [],
   "source": [
    "import numpy as np\n",
    "\n",
    "LAMBDA_0_DEMO = 2.0\n",
    "N_DEMO = 5\n",
    "DX_DEMO = LAMBDA_0_DEMO / (N_DEMO-1)\n",
    "\n",
    "print (\"Domain: 0 <= x, y <= {}\".format (LAMBDA_0_DEMO))\n",
    "print (\"Finite representation: {} x {}\".format (N_DEMO, N_DEMO))\n",
    "print (\"Grid spacing: {} x {}\".format (DX_DEMO, DX_DEMO))\n",
    "\n",
    "points_demo = np.linspace (0, LAMBDA_0_DEMO, N_DEMO)\n",
    "print (\"{{x_i}} = {{y_j}} = {}\".format (set (points_demo)))"
   ]
  },
  {
   "cell_type": "markdown",
   "metadata": {},
   "source": [
    "**\"World\" abstraction.** With this discretization, $\\left\\{ \\hat{S}_{ij}(t) \\equiv S(x_i, y_j, t) \\right\\}$, is the concentration of susceptible individuals at position $(x_i, y_j)$ at time $t$. Similarly, we can define $\\left\\{ \\hat{I}_{ij}(t) \\right\\}$ and $\\left\\{ \\hat{R}_{ij}(t) \\right\\}$ for infected and recovered populations as well. Furthermore, we will assume that\n",
    "\n",
    "$$\n",
    "\\begin{eqnarray}\n",
    "  \\sum_{i=0}^{n-1} \\sum_{j=0}^{n-1} \\left[ \\hat{S}_{ij}(t) + \\hat{I}_{ij}(t) + \\hat{R}_{ij}(t) \\right] \\cdot \\Delta x \\cdot \\Delta y & \\approx & 1.\n",
    "\\end{eqnarray}\n",
    "$$\n",
    "\n",
    "At a given time $t$, let's store the state variables in a 3-D NumPy array, `W[:, :, :]`, where\n",
    "\n",
    "* `W[0, i, j]` is the `n`-by-`n` NumPy array corresponding to the susceptible concentration, $\\hat{S}_{ij}(t)$;\n",
    "* `W[1, i, j]` for $\\hat{I}_{ij}(t)$; and\n",
    "* `W[2, i, j]` for $\\hat{R}_{ij}(t)$.\n",
    "\n",
    "This definition motivates the following functions."
   ]
  },
  {
   "cell_type": "code",
   "execution_count": null,
   "metadata": {
    "collapsed": false,
    "deletable": false,
    "nbgrader": {
     "checksum": "cd46b1c8120a1489f0ca5b28ad3a6641",
     "grade": false,
     "grade_id": "getters",
     "locked": true,
     "solution": false
    }
   },
   "outputs": [],
   "source": [
    "def susceptible (world):\n",
    "    \"\"\"Returns the susceptible concentration of a world.\"\"\"\n",
    "    return world[0, :, :]\n",
    "\n",
    "def infected (world):\n",
    "    \"\"\"Returns the infected concentration of a world.\"\"\"\n",
    "    return world[1, :, :]\n",
    "\n",
    "def recovered (world):\n",
    "    \"\"\"Returns the recovered concentration of a world.\"\"\"\n",
    "    return world[2, :, :]\n",
    "\n",
    "def len_dim (world):\n",
    "    \"\"\"Returns the number of discrete cells along one dimension of a world.\"\"\"\n",
    "    assert world.ndim == 3\n",
    "    assert world.shape[1] == world.shape[2]\n",
    "    return world.shape[1]"
   ]
  },
  {
   "cell_type": "markdown",
   "metadata": {},
   "source": [
    "**Exercise 1** (3 points). Complete the following function, which should create a new discretized world of size $n \\times n$ to represent a domain on $[0, \\lambda_0] \\times [0, \\lambda_0]$.\n",
    "\n",
    "This world should be returned as a 3-D NumPy array, `W[:, :, :]`, where `W[0, i, j]` is the $n \\times n$ grid rerepsenting the susceptible concentration in the immediate neighborhood of `(i, j)`; and, similarly, `W[1, :, :]` and `W[2, :, :]` representing the infected and recovered concentrations, respectively.\n",
    "\n",
    "The concentrations at the approximate center should be fully infected; everywhere else, the concentrations should be fully susceptible.\n",
    "\n",
    "> _Note:_ Recall that the sum of concentrations, multipled by the area $\\Delta x \\Delta y$, should equal 1.0."
   ]
  },
  {
   "cell_type": "code",
   "execution_count": null,
   "metadata": {
    "collapsed": true,
    "deletable": false,
    "nbgrader": {
     "checksum": "d8603ac364de11fb2f2c74ca5ec9d42a",
     "grade": false,
     "grade_id": "create_world",
     "locked": false,
     "solution": true
    }
   },
   "outputs": [],
   "source": [
    "def create_world (lambda_0, n):\n",
    "    \"\"\"Returns a new world with a pocket of infection in the center.\"\"\"\n",
    "    W = np.zeros ((3, n, n))\n",
    "    # YOUR CODE HERE\n",
    "    raise NotImplementedError()\n",
    "    return W\n",
    "\n",
    "def print_world (world):\n",
    "    print (world[:, ::-1, ::-1])"
   ]
  },
  {
   "cell_type": "code",
   "execution_count": null,
   "metadata": {
    "collapsed": false,
    "deletable": false,
    "nbgrader": {
     "checksum": "08e8715063d2f3e30ce0f4791a221ec5",
     "grade": true,
     "grade_id": "create_world_test",
     "locked": true,
     "points": 3,
     "solution": false
    }
   },
   "outputs": [],
   "source": [
    "W_demo = create_world (LAMBDA_0_DEMO, N_DEMO)\n",
    "print (\"World: {} x {}, length lambda_0 = {} on each side.\\n\".format (N_DEMO, N_DEMO, LAMBDA_0_DEMO))\n",
    "print_world (W_demo)\n",
    "assert W_demo.shape == (3, N_DEMO, N_DEMO)\n",
    "assert np.allclose (susceptible (W_demo) + infected (W_demo), 0.16, atol=1e-3)\n",
    "assert np.isclose (infected (W_demo)[2, 2], 0.16, atol=1e-3)\n",
    "assert np.isclose (np.sum (infected (W_demo)), 0.16, atol=1e-3)\n",
    "assert np.allclose (recovered (W_demo), 0.0, atol=1e-15)\n",
    "\n",
    "W_demo_even = create_world (4.0, 4)\n",
    "print (\"\\nWorld (even): {} x {}, length lambda_0 = {} on each side.\\n\".format (4, 4, LAMBDA_0_DEMO))\n",
    "print_world (W_demo_even)\n",
    "assert W_demo_even.shape == (3, 4, 4)\n",
    "assert np.allclose (susceptible (W_demo_even) + infected (W_demo_even), 0.03515625, atol=1e-8)\n",
    "assert np.allclose (infected (W_demo_even)[1:3, 1:3], 0.03515625, atol=1e-8)\n",
    "assert np.allclose (recovered (W_demo_even), 0.0, atol=1e-15)\n",
    "\n",
    "print (\"\\n(Passed.)\")"
   ]
  },
  {
   "cell_type": "markdown",
   "metadata": {},
   "source": [
    "**Pretty printing.** Here is some additional support code to draw a picture of the state of the world."
   ]
  },
  {
   "cell_type": "code",
   "execution_count": null,
   "metadata": {
    "collapsed": false,
    "deletable": false,
    "nbgrader": {
     "checksum": "f5bfba937dc2d49eef5e0283749d7f94",
     "grade": false,
     "grade_id": "plotter",
     "locked": true,
     "solution": false
    },
    "scrolled": true
   },
   "outputs": [],
   "source": [
    "import matplotlib.pyplot as plt\n",
    "%matplotlib inline\n",
    "\n",
    "def show_grid (G,\n",
    "               xticks=None, xlabels=None,\n",
    "               yticks=None, ylabels=None,\n",
    "               vticks=None, vlabels=None):\n",
    "    \"\"\"Displays a checkerboard plot of the values in a 2-D NumPy array.\"\"\"\n",
    "    m, n = G.shape\n",
    "    \n",
    "    if vticks is None:\n",
    "        vticks = np.linspace (0, 1, 11)\n",
    "\n",
    "    plt.pcolor (G, vmin=min (vticks), vmax=max (vticks), edgecolor='black')\n",
    "    if m == n: plt.axis ('square')\n",
    "    plt.axis ([0, m, 0, n])\n",
    "    \n",
    "    if xticks is not None:\n",
    "        if xlabels is not None:\n",
    "            plt.xticks (xticks, xlabels)\n",
    "        else:\n",
    "            plt.xticks (xticks)\n",
    "            \n",
    "    if yticks is not None:\n",
    "        if ylabels is not None:\n",
    "            plt.yticks (yticks, ylabels)\n",
    "        else:\n",
    "            plt.yticks (yticks)\n",
    "\n",
    "    cb = plt.colorbar ()\n",
    "    cb.set_ticks (vticks)\n",
    "    if vlabels:\n",
    "        cb.set_ticklabels (vlabels)\n",
    "        \n",
    "def show_world (W, lambda_0=None, t=None):\n",
    "    assert W.ndim == 3\n",
    "    assert W.shape[1] == W.shape[2] # Square worlds only\n",
    "    \n",
    "    n = W.shape[1]\n",
    "    nticks = 5\n",
    "    dn = int (n/nticks)\n",
    "    \n",
    "    if lambda_0 is None:\n",
    "        lambda_0 = 1.0\n",
    "\n",
    "    dx = lambda_0 / (n-1)\n",
    "    xticks = np.arange (0, dn*nticks + 1, dn)\n",
    "    xlabels = xticks*dx\n",
    "    \n",
    "    if t is None:\n",
    "        title_args = ''\n",
    "    else:\n",
    "        title_args = ' (t={})'.format (t)\n",
    "        \n",
    "    W_plot = W * (dx*dx)\n",
    "    vticks = np.linspace (0, np.max (W_plot), 11)\n",
    "    args = {'xticks': xticks+dn/2, 'xlabels': xlabels,\n",
    "            'yticks': xticks+dn/2, 'ylabels': xlabels,\n",
    "            'vticks': vticks}\n",
    "    plt.subplot (1, 3, 1)\n",
    "    show_grid (susceptible (W_plot), **args)\n",
    "    plt.title ('Susceptible' + title_args)\n",
    "    plt.subplot (1, 3, 2)\n",
    "    show_grid (infected (W_plot), **args)\n",
    "    plt.title ('Infected' + title_args)\n",
    "    plt.subplot (1, 3, 3)\n",
    "    show_grid (recovered (W_plot), **args)\n",
    "    plt.title ('Recovered' + title_args)\n",
    "    \n",
    "plt.figure (figsize=(15, 5))\n",
    "show_world (W_demo, LAMBDA_0_DEMO)"
   ]
  },
  {
   "cell_type": "markdown",
   "metadata": {},
   "source": [
    "**Exercise 2** (2 points). Recall that the sum of the concentrations should integrate to 1. Implement a function that, given the discretized concentrations, approximates that integral."
   ]
  },
  {
   "cell_type": "code",
   "execution_count": null,
   "metadata": {
    "collapsed": true,
    "deletable": false,
    "nbgrader": {
     "checksum": "85b823e7e21196405b7805b3f89261ba",
     "grade": false,
     "grade_id": "integrate_domain",
     "locked": false,
     "solution": true
    }
   },
   "outputs": [],
   "source": [
    "def integrate_domain (W, lambda_0=1.0):\n",
    "    # YOUR CODE HERE\n",
    "    raise NotImplementedError()"
   ]
  },
  {
   "cell_type": "code",
   "execution_count": null,
   "metadata": {
    "collapsed": false,
    "deletable": false,
    "nbgrader": {
     "checksum": "3f34d3dfcfba1d35c87f7394d70c96e6",
     "grade": true,
     "grade_id": "integrate_domain_test",
     "locked": true,
     "points": 2,
     "solution": false
    }
   },
   "outputs": [],
   "source": [
    "integral_demo = integrate_domain (W_demo, lambda_0=LAMBDA_0_DEMO)\n",
    "print (\"Integral:\", integral_demo)\n",
    "assert np.isclose (integral_demo, 1.0, 1e-15*N_DEMO*N_DEMO)\n",
    "print (\"\\n(Passed.)\")"
   ]
  },
  {
   "cell_type": "markdown",
   "metadata": {},
   "source": [
    "**Centered finite differences.** Recall that in the discretized domain we may estimate the second derivative of a function $f(x)$ by the centered finite difference approximation,\n",
    "\n",
    "$$\n",
    "  \\frac{d^2 f(x)}{d x^2} \\approx \\dfrac{f(x - \\Delta x) - 2 f(x) + f(x + \\Delta x)}{(\\Delta x)^2}.\n",
    "$$\n",
    "\n",
    "Thus, if we create state variables $f_i \\equiv f(x_i)$ at a set of discrete points $\\{x_i\\}$, then\n",
    "\n",
    "$$\n",
    "  \\left. \\frac{d^2 f(x)}{d x^2} \\right|_{x=x_i}\n",
    "     \\approx \\dfrac{f_{i-1} - 2 f_i + f_{i+1}}{(\\Delta x)^2}.\n",
    "$$"
   ]
  },
  {
   "cell_type": "markdown",
   "metadata": {},
   "source": [
    "**Exercise 3** (3 points). Given a 2-D grid of values, `G[:, :]`, complete the function `diffuse2d(G, delta_0, dx)`, that computes the centered finite difference approximation of the second derivative in each direction, $x$ and $y$.\n",
    "\n",
    "That is, suppose `G[i, j]` is the discretized value of a function $g_{i,j} \\equiv g(x_i, y_j)$; then `diffuse2d(G, delta_0, dx)` should compute the 2-D centered finite difference approximation,\n",
    "\n",
    "$$\n",
    "\\begin{eqnarray}\n",
    "  \\left. \\delta_0 \\left(\\frac{\\partial^2}{\\partial x^2} + \\frac{\\partial^2}{\\partial y^2}\\right) g(x, y) \\right|_{x=x_i, y=y_j}\n",
    "     & \\approx & \\delta_0 \\left(\n",
    "       \\dfrac{g_{i-1,j} - 2 g_{i, j} + g_{i+1, j}}{(\\Delta x)^2}\n",
    "       + \\dfrac{g_{i,j-1} - 2 g_{i, j} + g_{i, j+1}}{(\\Delta y)^2}\n",
    "     \\right) \\\\\n",
    "     & = & \\dfrac{\\delta_0}{(\\Delta x)^2} \\left( g_{i-1, j} + g_{i, j-1} - 4 g_{i, j} + g_{i+1, j} + g_{i, j+1} \\right),\n",
    "\\end{eqnarray}\n",
    "$$\n",
    "\n",
    "assuming uniform step sizes $\\Delta x = \\Delta y$ and a square $n \\times n$ grid. At the boundaries, assume infinte walls, e.g., $g_{-1, j} = g_{0, j}$, $g_{n, j} = g_{n-1, j}$, $g_{i, -1} = g_{i, 0}$, and $g_{i, n} = g_{i, n-1}$.\n",
    "\n",
    "> _Note:_ The scaffolding below creates a variable, `d2G[:, :]`, to hold and return this approximation. The parameter `delta_0` corresponds to the diffusion coefficient $\\delta_0$; the parameter `dx` corresponds to the grid spacing $\\Delta x = \\Delta y$. The scaffolding applies the scaling $\\frac{\\delta_0}{\\Delta x^2}$ to `d2G` just before returning, so apply the finite differences accordingly."
   ]
  },
  {
   "cell_type": "code",
   "execution_count": null,
   "metadata": {
    "collapsed": true,
    "deletable": false,
    "nbgrader": {
     "checksum": "e96628ffc64dd140f252b84fad66b751",
     "grade": false,
     "grade_id": "diffuse2d",
     "locked": false,
     "solution": true
    }
   },
   "outputs": [],
   "source": [
    "def diffuse2d (G, delta_0=1.0, dx=1.0):\n",
    "    assert G.ndim == 2\n",
    "    d2G = np.zeros (G.shape)\n",
    "    \n",
    "    # YOUR CODE HERE\n",
    "    raise NotImplementedError()\n",
    "    \n",
    "    # Scale factor\n",
    "    d2G *= delta_0 / (dx*dx)\n",
    "    return d2G"
   ]
  },
  {
   "cell_type": "code",
   "execution_count": null,
   "metadata": {
    "collapsed": false,
    "deletable": false,
    "nbgrader": {
     "checksum": "75a59f9713ed8f481cee7f2009c20eb5",
     "grade": true,
     "grade_id": "diffuse2d_test",
     "locked": true,
     "points": 3,
     "solution": false
    }
   },
   "outputs": [],
   "source": [
    "dI = diffuse2d (infected (W_demo), delta_0=0.01, dx=0.2)\n",
    "print (dI)\n",
    "assert np.allclose (dI[1:4, 1:4],\n",
    "                    np.array ([[0., 0.04, 0.],\n",
    "                               [0.04, -0.16, 0.04],\n",
    "                               [0., 0.04, 0.]]),\n",
    "                    atol=1e-3)\n",
    "assert np.isclose (np.sum (dI), 0.0, atol=1e-15*(len_dim(W_demo)**2))\n",
    "print (\"\\n(Passed.)\")"
   ]
  },
  {
   "cell_type": "markdown",
   "metadata": {},
   "source": [
    "**Exercise 4** (2 points). Given the current state of the world, `W[:, :, :]`, complete a function `f_pde2d(W, lambda_0, tau_0, kappa_0, delta_0)` that implements the approximate right-hand side of the continuous SIR system."
   ]
  },
  {
   "cell_type": "code",
   "execution_count": null,
   "metadata": {
    "collapsed": true,
    "deletable": false,
    "nbgrader": {
     "checksum": "d0e440241ba1c62e9df6f73553e2051e",
     "grade": false,
     "grade_id": "f_pde2d",
     "locked": false,
     "solution": true
    }
   },
   "outputs": [],
   "source": [
    "def f_pde2d (W, lambda_0=1.0, tau_0=1.0, kappa_0=1.0, delta_0=1.0):\n",
    "    dW = np.zeros (W.shape)\n",
    "\n",
    "    # YOUR CODE HERE\n",
    "    raise NotImplementedError()\n",
    "    \n",
    "    return dW"
   ]
  },
  {
   "cell_type": "code",
   "execution_count": null,
   "metadata": {
    "collapsed": false,
    "deletable": false,
    "nbgrader": {
     "checksum": "95454d73908cf13b7d1258d93b7c8d23",
     "grade": true,
     "grade_id": "f_pde2d_test",
     "locked": true,
     "points": 2,
     "solution": false
    }
   },
   "outputs": [],
   "source": [
    "TAU_0_DEMO = 0.8\n",
    "KAPPA_0_DEMO = 4.0\n",
    "DELTA_0_DEMO = 0.2\n",
    "\n",
    "dW_demo = f_pde2d (W_demo,\n",
    "                   lambda_0=LAMBDA_0_DEMO,\n",
    "                   tau_0=TAU_0_DEMO,\n",
    "                   kappa_0=KAPPA_0_DEMO,\n",
    "                   delta_0=DELTA_0_DEMO)\n",
    "print (dW_demo)\n",
    "\n",
    "assert np.allclose (susceptible (dW_demo), np.array ([[0, 0, 0, 0, 0],\n",
    "                                                      [0, 0, -.02048, 0, 0],\n",
    "                                                      [0, -.02048, 0, -.02048, 0],\n",
    "                                                      [0, 0, -.02048, 0, 0],\n",
    "                                                      [0, 0, 0, 0, 0]]),\n",
    "                    atol=1e-5)\n",
    "assert np.allclose (infected (dW_demo), np.array ([[0, 0, 0, 0, 0],\n",
    "                                                   [0, 0, .02048, 0, 0],\n",
    "                                                   [0, .02048, -0.04, .02048, 0],\n",
    "                                                   [0, 0, .02048, 0, 0],\n",
    "                                                   [0, 0, 0, 0, 0]]),\n",
    "                    atol=1e-5)\n",
    "assert np.allclose (recovered (dW_demo), np.array ([[0, 0, 0, 0, 0],\n",
    "                                                    [0, 0, 0, 0, 0],\n",
    "                                                    [0, 0, 0.04, 0, 0],\n",
    "                                                    [0, 0, 0, 0, 0],\n",
    "                                                    [0, 0, 0, 0, 0]]),\n",
    "                    atol=1e-5)\n",
    "assert np.isclose (np.sum (dW_demo), 0, atol=1e-5)\n",
    "print (\"\\n(Passed.)\")"
   ]
  },
  {
   "cell_type": "markdown",
   "metadata": {},
   "source": [
    "**Exercise 5** (2 points). Recall that the black-box ODE solver, `odeint(f, y0, ...)`, expects a the function `f()` to return a _vector_, i.e., a 1-D NumPy array. (Similarly, the initial condition `y0` must also be a vector.) However, our representation of the world is a 3-D NumPy array.\n",
    "\n",
    "Implement a pair of functions, `y = world_to_vec(W)` and `W = vec_to_world(y)`, that can convert from the world abstract to a vector and back again.\n",
    "\n",
    "> _Hint:_ Consider using NumPy's [`reshape()`](https://docs.scipy.org/doc/numpy/reference/generated/numpy.reshape.html#numpy.reshape) function. You may assume that the world has shape `W[:3, :n, :n]`."
   ]
  },
  {
   "cell_type": "code",
   "execution_count": null,
   "metadata": {
    "collapsed": true,
    "deletable": false,
    "nbgrader": {
     "checksum": "f82ec9875e6509f29097ce90d5303ab5",
     "grade": false,
     "grade_id": "vec_conv",
     "locked": false,
     "solution": true
    }
   },
   "outputs": [],
   "source": [
    "def world_to_vec (W):\n",
    "    assert W.ndim == 3 and W.shape[0] == 3 and W.shape[1] == W.shape[2]\n",
    "    # YOUR CODE HERE\n",
    "    raise NotImplementedError()\n",
    "    \n",
    "def vec_to_world (v):\n",
    "    assert v.ndim == 1 and (v.shape[0] % 3) == 0\n",
    "    # YOUR CODE HERE\n",
    "    raise NotImplementedError()"
   ]
  },
  {
   "cell_type": "code",
   "execution_count": null,
   "metadata": {
    "collapsed": false,
    "deletable": false,
    "nbgrader": {
     "checksum": "c5e7643061b40dd74077cb96292fbe86",
     "grade": true,
     "grade_id": "vec_conv_test",
     "locked": true,
     "points": 2,
     "solution": false
    }
   },
   "outputs": [],
   "source": [
    "v_demo = world_to_vec (W_demo)\n",
    "assert v_demo.shape == (3*N_DEMO*N_DEMO,)\n",
    "V_demo = vec_to_world (v_demo)\n",
    "assert W_demo.shape == V_demo.shape\n",
    "assert (W_demo == V_demo).all ()\n",
    "print (\"\\n(Passed.)\")"
   ]
  },
  {
   "cell_type": "markdown",
   "metadata": {},
   "source": [
    "**Exercise 6** (1 point). Lastly, recall that [`odeint(f, ...)`](https://docs.scipy.org/doc/scipy/reference/generated/scipy.integrate.odeint.html#scipy.integrate.odeint) requires that `f()` be a callback function with the signature,\n",
    "\n",
    "```python\n",
    "def f (y, t, *args):\n",
    "    ...\n",
    "```\n",
    "\n",
    "where `y[:]` is a vector (1-D NumPy array). Implement a right-hand side function, `f_pde2d_vec()` that is compatible with this interface.\n",
    "\n",
    "> _Note:_ The testing code cell performs a simulation using `odeint()` and your `f_pde2d_vec()` at various time steps. It then creates an interactive widget you can use to draw the grids corresponding to the result. (The slider corresponds to a time step index.)"
   ]
  },
  {
   "cell_type": "code",
   "execution_count": null,
   "metadata": {
    "collapsed": true,
    "deletable": false,
    "nbgrader": {
     "checksum": "d5c002c12cbfd912d9b70cd9cabec7e2",
     "grade": true,
     "grade_id": "f_pde2d_vec",
     "locked": false,
     "points": 1,
     "solution": true
    }
   },
   "outputs": [],
   "source": [
    "def f_pde2d_vec (v, t, *args):\n",
    "    # YOUR CODE HERE\n",
    "    raise NotImplementedError()"
   ]
  },
  {
   "cell_type": "code",
   "execution_count": null,
   "metadata": {
    "collapsed": false,
    "deletable": false,
    "nbgrader": {
     "checksum": "0357d473a024adf86e29eeb19d6b4523",
     "grade": false,
     "grade_id": "f_pde2d_vec_test",
     "locked": true,
     "points": 1,
     "solution": false
    }
   },
   "outputs": [],
   "source": [
    "import scipy as sp\n",
    "from scipy.integrate import odeint\n",
    "\n",
    "# Test cell for `f_pde2d_vec()`\n",
    "ARGS_DEMO = (LAMBDA_0_DEMO, TAU_0_DEMO, KAPPA_0_DEMO, DELTA_0_DEMO)\n",
    "T_MAX_DEMO = 25\n",
    "NT_DEMO = 101\n",
    "T_demo = np.linspace (0, 25, NT_DEMO)\n",
    "y_demo = odeint (f_pde2d_vec, world_to_vec (W_demo), T_demo, args=ARGS_DEMO)\n",
    "Y_demo = y_demo.reshape ((len (T_demo), 3, N_DEMO, N_DEMO))\n",
    "\n",
    "def view_demo (i=0):\n",
    "    W = Y_demo[i, :, :, :]\n",
    "    plt.figure (figsize=(15, 5))\n",
    "    show_world (W, LAMBDA_0_DEMO, t=T_demo[i])\n",
    "    \n",
    "from ipywidgets import interact\n",
    "interact (view_demo, i=(0, NT_DEMO-1, max (1, int (NT_DEMO/20))))"
   ]
  },
  {
   "cell_type": "code",
   "execution_count": null,
   "metadata": {
    "collapsed": false,
    "deletable": false,
    "nbgrader": {
     "checksum": "5ed1380b660d9324123ca563f00892ff",
     "grade": false,
     "grade_id": "view_demo_static",
     "locked": true,
     "solution": false
    }
   },
   "outputs": [],
   "source": [
    "# Static output of the final result:\n",
    "view_demo (NT_DEMO-1)"
   ]
  },
  {
   "cell_type": "code",
   "execution_count": null,
   "metadata": {
    "collapsed": true
   },
   "outputs": [],
   "source": []
  }
 ],
 "metadata": {
  "kernelspec": {
   "display_name": "Python 3",
   "language": "python",
   "name": "python3"
  },
  "language_info": {
   "codemirror_mode": {
    "name": "ipython",
    "version": 3
   },
   "file_extension": ".py",
   "mimetype": "text/x-python",
   "name": "python",
   "nbconvert_exporter": "python",
   "pygments_lexer": "ipython3",
   "version": "3.5.1"
  }
 },
 "nbformat": 4,
 "nbformat_minor": 0
}
