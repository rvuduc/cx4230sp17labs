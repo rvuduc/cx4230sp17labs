{
 "cells": [
  {
   "cell_type": "markdown",
   "metadata": {
    "nbgrader": {
     "grade": false,
     "solution": false
    }
   },
   "source": [
    "# Important note!\n",
    "\n",
    "Before you turn this problem in, make sure everything runs as expected. First, **restart the kernel** (in the menubar, select Kernel$\\rightarrow$Restart) and then **run all cells** (in the menubar, select Cell$\\rightarrow$Run All).\n",
    "\n",
    "Make sure you fill in any place that says `YOUR CODE HERE` or \"YOUR ANSWER HERE\", as well as your GT login and the GT logins of any of your collaborators below. (The GT logins are worth 1 point per notebook, so don't miss the opportunity to get a free point!)"
   ]
  },
  {
   "cell_type": "code",
   "execution_count": null,
   "metadata": {
    "collapsed": false,
    "nbgrader": {
     "grade": false,
     "locked": false,
     "solution": false
    }
   },
   "outputs": [],
   "source": [
    "YOUR_ID = \"\" # Please enter your GT login, e.g., \"rvuduc3\" or \"gtg911x\"\n",
    "COLLABORATORS = [] # list of strings of your collaborators' IDs"
   ]
  },
  {
   "cell_type": "code",
   "execution_count": null,
   "metadata": {
    "collapsed": false,
    "deletable": false,
    "nbgrader": {
     "checksum": "b11295002cc2b9549d6a2b01721b6701",
     "grade": true,
     "grade_id": "who__test",
     "locked": true,
     "points": 1,
     "solution": false
    }
   },
   "outputs": [],
   "source": [
    "import re\n",
    "\n",
    "RE_CHECK_ID = re.compile (r'''[a-zA-Z]+\\d+|[gG][tT][gG]\\d+[a-zA-Z]''')\n",
    "assert RE_CHECK_ID.match (YOUR_ID) is not None\n",
    "\n",
    "collab_check = [RE_CHECK_ID.match (i) is not None for i in COLLABORATORS]\n",
    "assert all (collab_check)\n",
    "\n",
    "del collab_check\n",
    "del RE_CHECK_ID\n",
    "del re"
   ]
  },
  {
   "cell_type": "markdown",
   "metadata": {},
   "source": [
    "**Jupyter / IPython version check.** The following code cell verifies that you are using the correct version of Jupyter/IPython."
   ]
  },
  {
   "cell_type": "code",
   "execution_count": null,
   "metadata": {
    "collapsed": true
   },
   "outputs": [],
   "source": [
    "import IPython\n",
    "assert IPython.version_info[0] >= 3, \"Your version of IPython is too old, please update it.\""
   ]
  },
  {
   "cell_type": "markdown",
   "metadata": {},
   "source": [
    "# Interacting agents\n",
    "\n",
    "Recall the Romeo and Juliet model, which had two \"agents\" that reacted to one another. Any model or simulation where there are interacting agents are sometimes referred to as _agent-based models_. This notebook introduces another example of an agent-based model known as the _aggressor-defender_ model."
   ]
  },
  {
   "cell_type": "code",
   "execution_count": null,
   "metadata": {
    "collapsed": true,
    "deletable": false,
    "nbgrader": {
     "checksum": "eb4f9cf9a83fef1c7a9cf67ba192ea9f",
     "grade": false,
     "grade_id": "setup_numpy",
     "locked": true,
     "solution": false
    }
   },
   "outputs": [],
   "source": [
    "import numpy as np\n",
    "import scipy as sp"
   ]
  },
  {
   "cell_type": "code",
   "execution_count": null,
   "metadata": {
    "collapsed": false,
    "deletable": false,
    "nbgrader": {
     "checksum": "15ea0ba1c0fbe906808f3b01180755f3",
     "grade": false,
     "grade_id": "setup_plots",
     "locked": true,
     "solution": false
    }
   },
   "outputs": [],
   "source": [
    "import matplotlib.pyplot as plt\n",
    "%matplotlib inline"
   ]
  },
  {
   "cell_type": "markdown",
   "metadata": {},
   "source": [
    "Let's generate a set of `N` points, distributed uniformly at random in the 2-D domain $[0, 1.0] \\times [0, 1.0]$."
   ]
  },
  {
   "cell_type": "code",
   "execution_count": null,
   "metadata": {
    "collapsed": false,
    "deletable": false,
    "nbgrader": {
     "checksum": "ac2e47c23857411990490912b6615c64",
     "grade": false,
     "grade_id": "setup_points",
     "locked": true,
     "solution": false
    }
   },
   "outputs": [],
   "source": [
    "N = 10\n",
    "points_0 = np.random.uniform (low=0.0, high=1.0, size=(N, 2))\n",
    "print (points_0)"
   ]
  },
  {
   "cell_type": "markdown",
   "metadata": {},
   "source": [
    "Here is some code to plot these points."
   ]
  },
  {
   "cell_type": "code",
   "execution_count": null,
   "metadata": {
    "collapsed": false,
    "deletable": false,
    "nbgrader": {
     "checksum": "b5cae65d55100a221fa71cd8da97cea4",
     "grade": false,
     "grade_id": "plot_points",
     "locked": true,
     "solution": false
    }
   },
   "outputs": [],
   "source": [
    "IX, IY = 0, 1\n",
    "\n",
    "def plot_points (points):\n",
    "    plt.scatter (points[:, IX], points[:, IY], s=100.0)\n",
    "    plt.axis ('square')\n",
    "    plt.axis ([0.0, 1.0, 0.0, 1.0])\n",
    "    \n",
    "def plot_points_triplet (lpoints, ltitle, mpoints, mtitle, rpoints, rtitle):\n",
    "    plt.figure (figsize=(15, 5))\n",
    "    plt.subplot (1, 3, 1)\n",
    "    plot_points (lpoints)\n",
    "    plt.title (ltitle)\n",
    "    plt.subplot (1, 3, 2)\n",
    "    plot_points (mpoints)\n",
    "    plt.title (mtitle)\n",
    "    plt.subplot (1, 3, 3)\n",
    "    plot_points (rpoints)\n",
    "    plt.title (rtitle)\n",
    "\n",
    "plot_points (points_0)"
   ]
  },
  {
   "cell_type": "markdown",
   "metadata": {},
   "source": [
    "Consider an index set $I = \\{0, 1, 2, \\ldots, n-1\\}$. For each $i \\in I$, the following function selects a pair of \"partners\" $(a_i, b_i)$ where $a_i \\neq b_i$ and $a_i, b_i \\in I - \\{i\\}$."
   ]
  },
  {
   "cell_type": "code",
   "execution_count": null,
   "metadata": {
    "collapsed": false,
    "deletable": false,
    "nbgrader": {
     "checksum": "e8bb7929a4e54b1c2360b662ca1fdc0b",
     "grade": false,
     "grade_id": "select_partners",
     "locked": true,
     "solution": false
    }
   },
   "outputs": [],
   "source": [
    "def select_partners (n):\n",
    "    ids = np.arange (n)\n",
    "    partners = np.zeros ((n, 2), dtype=int)\n",
    "    for i in range (n):\n",
    "        # Swap out i\n",
    "        ids[i], ids[-1] = ids[-1], ids[i]\n",
    "        \n",
    "        # Select partners\n",
    "        partners[i, :] = np.random.choice (ids[:-1], 2, replace=False)\n",
    "        \n",
    "        # Swap i back in\n",
    "        ids[i], ids[-1] = ids[-1], ids[i]\n",
    "    return partners\n",
    "\n",
    "partners = select_partners (N)\n",
    "print (partners)"
   ]
  },
  {
   "cell_type": "markdown",
   "metadata": {},
   "source": [
    "**Exercise 1** (1 point). Complete the function, `step_chicken()`, which implements the \"chicken\" behavior. That is, consider a point $i$ whose partners are $(a_i, b_i)$. When $i$ is a chicken, then $a_i$ is the \"aggressor\" and $b_i$ is the \"defender\"; $i$ tries to move itself so that $b_i$ is between it and $a_i$."
   ]
  },
  {
   "cell_type": "code",
   "execution_count": null,
   "metadata": {
    "collapsed": false,
    "deletable": false,
    "nbgrader": {
     "checksum": "9064f0a71cfc563210b055f5e7ba0577",
     "grade": true,
     "grade_id": "step_chicken",
     "locked": false,
     "points": 1,
     "solution": true
    }
   },
   "outputs": [],
   "source": [
    "DELTA_T = 0.05 # Some \"time-step\" constant\n",
    "\n",
    "def wrap (points):\n",
    "    n = len (points)\n",
    "    for i in range (n):\n",
    "        if points[i, 0] < 0:\n",
    "            points[i, 0] += 1.0\n",
    "        elif points[i, 0] > 1.0:\n",
    "            points[i, 0] -= 1.0\n",
    "        if points[i, 1] < 0:\n",
    "            points[i, 1] += 1.0\n",
    "        elif points[i, 1] > 1.0:\n",
    "            points[i, 1] -= 1.0\n",
    "        \n",
    "def step_chicken (points, partners, dt=DELTA_T):\n",
    "    n = len (points)\n",
    "    points_new = np.zeros (points.shape)\n",
    "    for i in range (n):\n",
    "        a = partners[i, 0] # aggressor\n",
    "        d = partners[i, 1] # defender\n",
    "        \n",
    "        # Compute a \"velocity\" v for point i\n",
    "        #v = ...\n",
    "        # YOUR CODE HERE\n",
    "        raise NotImplementedError()\n",
    "        \n",
    "        points_new[i, :] = points[i, :] + dt*v\n",
    "        \n",
    "    # Wraparound boundaries\n",
    "    wrap (points_new)\n",
    "    return points_new"
   ]
  },
  {
   "cell_type": "code",
   "execution_count": null,
   "metadata": {
    "collapsed": false,
    "deletable": false,
    "nbgrader": {
     "checksum": "b29bdd9d124fff882e70705def270a46",
     "grade": false,
     "grade_id": "sim_chicken",
     "locked": true,
     "solution": false
    }
   },
   "outputs": [],
   "source": [
    "def sim (f_step, t_max):\n",
    "    points = np.zeros ((t_max+1, points_0.shape[0], points_0.shape[1]))\n",
    "    points[0, :, :] = points_0\n",
    "    for t in range (t_max):\n",
    "        points[t+1, :, :] = f_step (points[t, :, :], partners)\n",
    "    return points\n",
    "\n",
    "points_chicken = sim (step_chicken, 200)\n",
    "plot_points_triplet (points_chicken[0, :, :], 'Before',\n",
    "                     points_chicken[int (len (points_chicken)/2), :, :], \"Middle\",\n",
    "                     points_chicken[-1, :, :], 'After')"
   ]
  },
  {
   "cell_type": "code",
   "execution_count": null,
   "metadata": {
    "collapsed": false,
    "deletable": false,
    "nbgrader": {
     "checksum": "ee894a0ea2fe7c0c575b9b0c69b94fe9",
     "grade": false,
     "grade_id": "interact_chicken",
     "locked": true,
     "solution": false
    }
   },
   "outputs": [],
   "source": [
    "from ipywidgets import interact\n",
    "def isim_chicken (t=0):\n",
    "    plot_points (points_chicken[t, :, :])\n",
    "\n",
    "interact (isim_chicken, t=(0, len (points_chicken)-1, 1))"
   ]
  },
  {
   "cell_type": "markdown",
   "metadata": {},
   "source": [
    "**Exercise 2** (1 point). Now implement the \"defender\" behavior. That is, let $i$ be a defender point whose partners are $(a_i, b_i)$. Then $a_i$ is the aggressor, $b_i$ is the chicken, and $i$ will try to move toward the center of $a_i$ and $b_i$."
   ]
  },
  {
   "cell_type": "code",
   "execution_count": null,
   "metadata": {
    "collapsed": false,
    "deletable": false,
    "nbgrader": {
     "checksum": "fff88720d999d457fe9349d33fef2d41",
     "grade": true,
     "grade_id": "step_defender",
     "locked": false,
     "points": 1,
     "solution": true
    }
   },
   "outputs": [],
   "source": [
    "def step_defender (points, partners, dt=DELTA_T):\n",
    "    n = len (points)\n",
    "    points_new = np.zeros (points.shape)\n",
    "    for i in range (n):\n",
    "        a = partners[i, 0] # aggressor\n",
    "        c = partners[i, 1] # chicken\n",
    "        \n",
    "        # Compute a \"velocity\" v for the defender i\n",
    "        # YOUR CODE HERE\n",
    "        raise NotImplementedError()\n",
    "        \n",
    "        points_new[i, :] = points[i, :] + dt*v\n",
    "        \n",
    "    # Wraparound boundaries\n",
    "    wrap (points_new)\n",
    "    return points_new"
   ]
  },
  {
   "cell_type": "code",
   "execution_count": null,
   "metadata": {
    "collapsed": false,
    "deletable": false,
    "nbgrader": {
     "checksum": "39026863d23d55db43c11126db81088e",
     "grade": false,
     "grade_id": "plot_defender",
     "locked": true,
     "solution": false
    }
   },
   "outputs": [],
   "source": [
    "points_defender = sim (step_defender, 200)\n",
    "plot_points_triplet (points_defender[0, :, :], 'Before',\n",
    "                     points_defender[int (len (points_defender)/2), :, :], 'Middle',\n",
    "                     points_defender[-1, :, :], 'After')"
   ]
  },
  {
   "cell_type": "code",
   "execution_count": null,
   "metadata": {
    "collapsed": false,
    "deletable": false,
    "nbgrader": {
     "checksum": "06dc85ae2c83b3492e74708cc7b131c7",
     "grade": false,
     "grade_id": "interact_defender",
     "locked": true,
     "solution": false
    }
   },
   "outputs": [],
   "source": [
    "def isim_defender (t=0):\n",
    "    plot_points (points_defender[t, :, :])\n",
    "    \n",
    "interact (isim_defender, t=(0, len (points_defender)-1, 1)) ;"
   ]
  },
  {
   "cell_type": "markdown",
   "metadata": {
    "collapsed": true
   },
   "source": [
    "For a more dynamic demo of this simple model, see [The Game](http://www.icosystem.com/labsdemos/the-game/)."
   ]
  }
 ],
 "metadata": {
  "kernelspec": {
   "display_name": "Python 3",
   "language": "python",
   "name": "python3"
  },
  "language_info": {
   "codemirror_mode": {
    "name": "ipython",
    "version": 3
   },
   "file_extension": ".py",
   "mimetype": "text/x-python",
   "name": "python",
   "nbconvert_exporter": "python",
   "pygments_lexer": "ipython3",
   "version": "3.5.1"
  }
 },
 "nbformat": 4,
 "nbformat_minor": 0
}
