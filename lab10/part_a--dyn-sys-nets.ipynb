{
 "cells": [
  {
   "cell_type": "markdown",
   "metadata": {
    "nbgrader": {
     "grade": false,
     "solution": false
    }
   },
   "source": [
    "# Important note!\n",
    "\n",
    "Before you turn this problem in, make sure everything runs as expected. First, **restart the kernel** (in the menubar, select Kernel$\\rightarrow$Restart) and then **run all cells** (in the menubar, select Cell$\\rightarrow$Run All).\n",
    "\n",
    "Make sure you fill in any place that says `YOUR CODE HERE` or \"YOUR ANSWER HERE\", as well as your GT login and the GT logins of any of your collaborators below. (The GT logins are worth 1 point per notebook, so don't miss the opportunity to get a free point!)"
   ]
  },
  {
   "cell_type": "code",
   "execution_count": null,
   "metadata": {
    "collapsed": false,
    "nbgrader": {
     "grade": false,
     "locked": false,
     "solution": false
    }
   },
   "outputs": [],
   "source": [
    "YOUR_ID = \"\" # Please enter your GT login, e.g., \"rvuduc3\" or \"gtg911x\"\n",
    "COLLABORATORS = [] # list of strings of your collaborators' IDs"
   ]
  },
  {
   "cell_type": "code",
   "execution_count": null,
   "metadata": {
    "collapsed": false,
    "deletable": false,
    "nbgrader": {
     "checksum": "b11295002cc2b9549d6a2b01721b6701",
     "grade": true,
     "grade_id": "who__test",
     "locked": true,
     "points": 1,
     "solution": false
    }
   },
   "outputs": [],
   "source": [
    "import re\n",
    "\n",
    "RE_CHECK_ID = re.compile (r'''[a-zA-Z]+\\d+|[gG][tT][gG]\\d+[a-zA-Z]''')\n",
    "assert RE_CHECK_ID.match (YOUR_ID) is not None\n",
    "\n",
    "collab_check = [RE_CHECK_ID.match (i) is not None for i in COLLABORATORS]\n",
    "assert all (collab_check)\n",
    "\n",
    "del collab_check\n",
    "del RE_CHECK_ID\n",
    "del re"
   ]
  },
  {
   "cell_type": "markdown",
   "metadata": {},
   "source": [
    "**Jupyter / IPython version check.** The following code cell verifies that you are using the correct version of Jupyter/IPython."
   ]
  },
  {
   "cell_type": "code",
   "execution_count": null,
   "metadata": {
    "collapsed": true
   },
   "outputs": [],
   "source": [
    "import IPython\n",
    "assert IPython.version_info[0] >= 3, \"Your version of IPython is too old, please update it.\""
   ]
  },
  {
   "cell_type": "markdown",
   "metadata": {},
   "source": [
    "# Part A: A dynamical system on a network\n",
    "\n",
    "This lab accompanies the slides from class: [PDF slides on T-Square](https://t-square.gatech.edu/access/content/group/gtc-239f-fc11-5690-9dae-2dc96b59f372/cx4230-sp17--25--dyn-sys-nets.pdf)"
   ]
  },
  {
   "cell_type": "markdown",
   "metadata": {},
   "source": [
    "## A conceptual model of \"opinion dynamics\"\n",
    "\n",
    "To illustrate the interesting dynamics possible on a network, we'll look at an example considered by [Pluchino et al. (2005)](http://arxiv.org/abs/cond-mat/0410217v2). This paper asked the following question about a network of interacting agents:\n",
    "\n",
    "> Can agents with different intitial states converge to one or a few uniform states?\n",
    "\n",
    "They were especially interested in a social network of people where the \"states\" are differing opinions: if everyone has a different opinion initally, can they still reach agreement? They were inspired by biological systems, like [synchronizing fireflies](https://www.youtube.com/watch?v=a-Vy7NZTGos). For more fun background on this topic, see this TED talk by Steven Strogatz: https://www.youtube.com/watch?v=aSNrKS-sCE0"
   ]
  },
  {
   "cell_type": "markdown",
   "metadata": {},
   "source": [
    "In Pluchino et al.'s mathematical model, they considered $x_i \\equiv x_i(t) \\in \\mathcal{R}$ to be some measure of the \"opinion\" of person $i$. It can be positive or negative, and it can take any value in $(-\\infty, +\\infty)$. These people are connected in a social network, represented as an undirected graph given by its adjacency matrix, $A \\equiv (a_{ij})$, where $a_{ij} = 1$ if persons $i$ and $j$ are connected, and 0 otherwise.\n",
    "\n",
    "They hypothesized a model of the dynamics of $x_i(t)$ by the system of ODEs,\n",
    "\n",
    "$$\\dfrac{dx_i}{dt} \\equiv f_i(\\vec{x}) \\equiv w_i + \\dfrac{K}{d_i} \\sum_j a_{ij} \\cdot \\sin \\theta_{ij} \\cdot \\exp \\left( -\\alpha \\cdot \\theta_{ij}^2 \\right),$$\n",
    "\n",
    "where $K$ and $\\alpha$ are model parameters, $d_i$ is the degree (number of neighbors) of $i$, and $\\theta_{ij} \\equiv x_j - x_i$, that is, the difference between the opinions of person $i$ and $j$. This formula expresses several modeling ideas."
   ]
  },
  {
   "cell_type": "markdown",
   "metadata": {},
   "source": [
    "One idea is that there is a person-specific rate of change, $w_i$. They took $w_i$ in a population to be randomly distributed; in this notebook, let's assume a normal distribution with some prescribed variance $\\sigma^2$, so that $w_i \\sim \\mathcal{N}(0, \\sigma^2)$."
   ]
  },
  {
   "cell_type": "markdown",
   "metadata": {},
   "source": [
    "The other ideas are about how the interaction between a pair $(i, j)$ of _connected_ people (i.e., $a_{ij} = 1$), expressed relative to their difference, $\\theta_{ij}$.\n",
    "\n",
    "Consider small positive values of $\\theta_{ij}$, meaning person $j$ feels a little more positively than person $i$; then $\\sin \\theta_{ij}$ will be positive and thus influencing the change in person $i$'s opinion to be more positive. Then, at a certain point ($\\theta_{ij} = \\pi$), the two differ by enough that they start to polarize ($\\sin \\theta_{ij} < 0$). These oscillations continue for still larger $\\theta_{ij}$. However, the oscillatory behavior is moderated by the difference, as expressed in the $\\exp \\left( -\\alpha \\cdot \\theta_{ij}^2 \\right)$ term: the farther the difference the less the influence. The interactions are summed across all neighbors $j$. Lastly, there is a final normalizing factor consisting of a parameter $K$ and normalization by the number of neighbors, or degree, $d_i$."
   ]
  },
  {
   "cell_type": "markdown",
   "metadata": {},
   "source": [
    "Lastly, observe that the $a_{ij}$ in the sum acts as a filter: only $\\theta_{ij}$ where $a_{ij} \\neq 0$ contribute. Let's use this fact to simplify the notation of the system accordingly. Let\n",
    "\n",
    "* $\\vec{w} \\equiv (w_i)$ be the vector of person-specific change rates;\n",
    "* $D \\equiv \\mbox{diag}(d_i)$ be the _diagonal_ matrix of degrees;\n",
    "* $\\Theta \\equiv (\\theta_{ij})$ be the matrix of all pairwise differences;\n",
    "* $A \\odot B$ denote elementwise multiplication of matrices $A$ and $B$; and\n",
    "* $\\vec{u} \\equiv (1, ..., 1)^T$ be the vector of all ones.\n",
    "\n",
    "The the (sparse) matrix of _filtered_ pairwise differences is $\\hat{\\Theta} \\equiv A \\odot \\Theta$.\n",
    "\n",
    "Now the entire system of ODEs can be written as,\n",
    "\n",
    "$$\n",
    "  \\dfrac{d\\vec{x}}{dt} = \\vec{f}(\\vec{x}) = \\vec{w} + K D^{-1} \\cdot \\sin (\\hat{\\Theta}) \\cdot \\exp (-\\alpha \\cdot \\hat{\\Theta} \\odot \\hat{\\Theta}) \\cdot \\vec{u}.\n",
    "$$"
   ]
  },
  {
   "cell_type": "markdown",
   "metadata": {},
   "source": [
    "## Implementing the model: Preliminaries"
   ]
  },
  {
   "cell_type": "code",
   "execution_count": null,
   "metadata": {
    "collapsed": true
   },
   "outputs": [],
   "source": [
    "import numpy as np\n",
    "import scipy as sp\n",
    "import scipy.sparse\n",
    "from scipy.integrate import odeint\n",
    "import math"
   ]
  },
  {
   "cell_type": "code",
   "execution_count": null,
   "metadata": {
    "collapsed": true
   },
   "outputs": [],
   "source": [
    "# Core plotting support\n",
    "import matplotlib.pyplot as plt\n",
    "%matplotlib inline"
   ]
  },
  {
   "cell_type": "markdown",
   "metadata": {},
   "source": [
    "For simplicity, let's assume a 2-D grid graph, that is, the graph that is an $n \\times n$ lattice of nodes, where each node is connected to its 8 nearest neighbors. The following code cell downloads a handy module that helps construct the matrix $A$ corresponding to this graph."
   ]
  },
  {
   "cell_type": "code",
   "execution_count": null,
   "metadata": {
    "collapsed": false
   },
   "outputs": [],
   "source": [
    "import os ; os.makedirs ('cx4230', exist_ok=True)\n",
    "\n",
    "# http://stackoverflow.com/questions/7243750/download-file-from-web-in-python-3\n",
    "import urllib.request\n",
    "MOD_URL = 'https://raw.githubusercontent.com/rvuduc/cx4230sp17labs/master/lab10/pyamg_stencil.py'\n",
    "MOD_LOCAL = 'cx4230/pyamg_stencil.py'\n",
    "urllib.request.urlretrieve (MOD_URL, MOD_LOCAL)"
   ]
  },
  {
   "cell_type": "code",
   "execution_count": null,
   "metadata": {
    "collapsed": true
   },
   "outputs": [],
   "source": [
    "%reload_ext autoreload\n",
    "%autoreload 2\n",
    "\n",
    "from cx4230 import pyamg_stencil\n",
    "from cx4230.pyamg_stencil import stencil_grid"
   ]
  },
  {
   "cell_type": "code",
   "execution_count": null,
   "metadata": {
    "collapsed": false
   },
   "outputs": [],
   "source": [
    "# Demo\n",
    "def gen_grid_graph (n):\n",
    "    S_2d_8nn = np.array ([[1, 1, 1],\n",
    "                          [1, 0, 1],\n",
    "                          [1, 1, 1]])\n",
    "    return stencil_grid (S_2d_8nn, (n, n)).tocsr ()\n",
    "\n",
    "n = 4\n",
    "A_2d = gen_grid_graph (n)\n",
    "\n",
    "print (A_2d.shape)\n",
    "print (A_2d.todense ())"
   ]
  },
  {
   "cell_type": "markdown",
   "metadata": {},
   "source": [
    "Given an arbitrary binary adjacency matrix for an undirected graph, the following function computes the degree of each node."
   ]
  },
  {
   "cell_type": "code",
   "execution_count": null,
   "metadata": {
    "collapsed": false
   },
   "outputs": [],
   "source": [
    "def degrees (A):\n",
    "    return np.squeeze (np.asarray (A.sum (axis=1)))\n",
    "\n",
    "# Demo\n",
    "np.reshape (degrees (A_2d), (n, n))"
   ]
  },
  {
   "cell_type": "markdown",
   "metadata": {},
   "source": [
    "**Exercise 1** (2 points). Write a Python function that, given\n",
    "\n",
    "* a vector `x[:]` of state values, $\\vec{x} \\equiv (x_i)$; and\n",
    "* a matrix `A[:, :]`, which is the adjacency matrix $A \\equiv (a_{ij})$ for an undirected graph stored as a [sparse matrix](http://docs.scipy.org/doc/scipy/reference/sparse.html);\n",
    "\n",
    "write a function that returns the matrix $\\hat{\\Theta} \\equiv (a_{ij} \\cdot (x_j - x_i))$ of differences, also stored as a _sparse matrix_."
   ]
  },
  {
   "cell_type": "code",
   "execution_count": null,
   "metadata": {
    "collapsed": false,
    "deletable": false,
    "nbgrader": {
     "checksum": "255c4303be5668653f5ec3499dbec3cd",
     "grade": true,
     "grade_id": "calc_sparse_diff_pairs",
     "locked": false,
     "points": 2,
     "solution": true
    }
   },
   "outputs": [],
   "source": [
    "def calc_sparse_diff_pairs (x, A):\n",
    "    # YOUR CODE HERE\n",
    "    raise NotImplementedError()\n",
    "\n",
    "# Demo\n",
    "np.set_printoptions (linewidth=100)\n",
    "calc_sparse_diff_pairs (np.arange (25), A_2d).todense ()"
   ]
  },
  {
   "cell_type": "markdown",
   "metadata": {},
   "source": [
    "Given the preceding function, we can implement the right-hand side of the model, $\\vec{f} \\equiv (f_i(\\vec{x}))$:\n",
    "\n",
    "$$\n",
    "  \\dfrac{d\\vec{x}}{dt} = \\vec{f}(\\vec{x}) = \\vec{w} + K D^{-1} \\cdot \\sin (\\hat{\\Theta}) \\cdot \\exp (-\\alpha \\cdot \\hat{\\Theta} \\odot \\hat{\\Theta}) \\cdot \\vec{u}.\n",
    "$$"
   ]
  },
  {
   "cell_type": "code",
   "execution_count": null,
   "metadata": {
    "collapsed": false
   },
   "outputs": [],
   "source": [
    "def F (x, A, w, k, alpha):\n",
    "    d = degrees (A)\n",
    "    Theta_hat = calc_sparse_diff_pairs (x, A)\n",
    "\n",
    "    I, J = np.nonzero (A)\n",
    "    V = Theta_hat[I, J] # non-zero values of Theta_hat\n",
    "    \n",
    "    V_S = np.sin (V)\n",
    "    V_E = np.exp (-alpha * np.multiply (V, V))\n",
    "    V = np.multiply (V_S, V_E)\n",
    "    V = np.squeeze (np.asarray (V))\n",
    "    S = sp.sparse.coo_matrix ((V, (I, J)))\n",
    "    \n",
    "    u = np.ones (x.shape)\n",
    "    \n",
    "    return w + k/d * (S.dot (u))"
   ]
  },
  {
   "cell_type": "code",
   "execution_count": null,
   "metadata": {
    "collapsed": false
   },
   "outputs": [],
   "source": [
    "n = 8\n",
    "SIGMA = 1.0\n",
    "N = n*n\n",
    "w = np.random.normal (scale=SIGMA, size=N)\n",
    "K = 0.1\n",
    "ALPHA = 1.0\n",
    "A_2d = gen_grid_graph (n)\n",
    "\n",
    "x_0 = np.zeros (N)\n",
    "print (\"x_0:\", x_0)\n",
    "print (\"F (x_0):\", F (x_0, A_2d, w, K, ALPHA))\n",
    "\n",
    "def F_ode (x, t, A, w, k, alpha):\n",
    "    return F (x, A, w, k, alpha)\n",
    "\n",
    "t_all = [0.0, 10.0]\n",
    "x_t = odeint (F_ode, x_0, t_all, args=(A_2d, w, K, ALPHA))\n",
    "print (\"x_t:\", x_t)\n",
    "plt.pcolor (np.reshape (x_t[1], (n, n)))\n",
    "plt.colorbar ()\n",
    "plt.axes().set_aspect('equal')"
   ]
  },
  {
   "cell_type": "code",
   "execution_count": null,
   "metadata": {
    "collapsed": false
   },
   "outputs": [],
   "source": [
    "n = 8\n",
    "SIGMA = 1.0\n",
    "N = n*n\n",
    "w = np.random.normal (scale=SIGMA, size=N)\n",
    "print (\"n:\", n)\n",
    "print (\"w:\", w)\n",
    "\n",
    "def sim (x_0, k, alpha, t):\n",
    "    t_all = np.array ([0.0, t])\n",
    "    x_t = odeint (F_ode, x_0, t_all, args=(A_2d, w, k, alpha))\n",
    "    return x_t[1]"
   ]
  },
  {
   "cell_type": "code",
   "execution_count": null,
   "metadata": {
    "collapsed": true
   },
   "outputs": [],
   "source": [
    "def isim (k=0.0, alpha=1.0, t=0.0):\n",
    "    x_t = sim (x_0, k, alpha, t)\n",
    "    plt.pcolor (np.reshape (x_t, (n, n)))\n",
    "    plt.colorbar ()\n",
    "    plt.axes().set_aspect('equal')\n",
    "    print (\"(k=%g, alpha=%g, t=%g) done!\" % (k, alpha, t))"
   ]
  },
  {
   "cell_type": "code",
   "execution_count": null,
   "metadata": {
    "collapsed": false
   },
   "outputs": [],
   "source": [
    "from ipywidgets import interact\n",
    "interact (isim, k=(0.0, 10.0, 1.0), alpha=(0.1, 1.0, 0.1), t=(0.0, 10.0, 1.0)) ;"
   ]
  },
  {
   "cell_type": "markdown",
   "metadata": {},
   "source": [
    "**Exercise 2** (2 points). What do you observe as `k` increases from `0` to `10`? Does it depend on `alpha`?"
   ]
  },
  {
   "cell_type": "markdown",
   "metadata": {
    "deletable": false,
    "nbgrader": {
     "checksum": "f255e6676a5bd4472efe4d18f1bece76",
     "grade": true,
     "grade_id": "k_increases",
     "locked": false,
     "points": 2,
     "solution": true
    }
   },
   "source": [
    "YOUR ANSWER HERE"
   ]
  },
  {
   "cell_type": "code",
   "execution_count": null,
   "metadata": {
    "collapsed": true
   },
   "outputs": [],
   "source": []
  }
 ],
 "metadata": {
  "kernelspec": {
   "display_name": "Python 3",
   "language": "python",
   "name": "python3"
  },
  "language_info": {
   "codemirror_mode": {
    "name": "ipython",
    "version": 3
   },
   "file_extension": ".py",
   "mimetype": "text/x-python",
   "name": "python",
   "nbconvert_exporter": "python",
   "pygments_lexer": "ipython3",
   "version": "3.5.1"
  }
 },
 "nbformat": 4,
 "nbformat_minor": 0
}
