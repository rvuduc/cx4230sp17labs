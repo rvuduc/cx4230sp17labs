{
 "cells": [
  {
   "cell_type": "markdown",
   "metadata": {
    "nbgrader": {
     "grade": false,
     "solution": false
    }
   },
   "source": [
    "# Important note!\n",
    "\n",
    "Before you turn this problem in, make sure everything runs as expected. First, **restart the kernel** (in the menubar, select Kernel$\\rightarrow$Restart) and then **run all cells** (in the menubar, select Cell$\\rightarrow$Run All).\n",
    "\n",
    "Make sure you fill in any place that says `YOUR CODE HERE` or \"YOUR ANSWER HERE\", as well as your GT login and the GT logins of any of your collaborators below. (The GT logins are worth 1 point per notebook, so don't miss the opportunity to get a free point!)"
   ]
  },
  {
   "cell_type": "code",
   "execution_count": null,
   "metadata": {
    "collapsed": false,
    "nbgrader": {
     "grade": false,
     "locked": false,
     "solution": false
    }
   },
   "outputs": [],
   "source": [
    "YOUR_ID = \"\" # Please enter your GT login, e.g., \"rvuduc3\" or \"gtg911x\"\n",
    "COLLABORATORS = [] # list of strings of your collaborators' IDs"
   ]
  },
  {
   "cell_type": "code",
   "execution_count": null,
   "metadata": {
    "collapsed": false,
    "deletable": false,
    "nbgrader": {
     "checksum": "b11295002cc2b9549d6a2b01721b6701",
     "grade": true,
     "grade_id": "who__test",
     "locked": true,
     "points": 1,
     "solution": false
    }
   },
   "outputs": [],
   "source": [
    "import re\n",
    "\n",
    "RE_CHECK_ID = re.compile (r'''[a-zA-Z]+\\d+|[gG][tT][gG]\\d+[a-zA-Z]''')\n",
    "assert RE_CHECK_ID.match (YOUR_ID) is not None\n",
    "\n",
    "collab_check = [RE_CHECK_ID.match (i) is not None for i in COLLABORATORS]\n",
    "assert all (collab_check)\n",
    "\n",
    "del collab_check\n",
    "del RE_CHECK_ID\n",
    "del re"
   ]
  },
  {
   "cell_type": "markdown",
   "metadata": {},
   "source": [
    "**Jupyter / IPython version check.** The following code cell verifies that you are using the correct version of Jupyter/IPython."
   ]
  },
  {
   "cell_type": "code",
   "execution_count": null,
   "metadata": {
    "collapsed": true
   },
   "outputs": [],
   "source": [
    "import IPython\n",
    "assert IPython.version_info[0] >= 3, \"Your version of IPython is too old, please update it.\""
   ]
  },
  {
   "cell_type": "markdown",
   "metadata": {},
   "source": [
    "# Mean-field models\n",
    "\n",
    "One way to simplify both the cellular automata (CA) and Markov chain (MC) models---which suffer from state-space explosion when the number of state variables becomes large---is to derive a \"mean-field\" approximation.\n",
    "\n",
    "When applying this approach to a CA model, you typically throw away connectivity information of cells, instead assuming that cells are fully-connected. Then, you try to model the fraction of the population that exists in each state.\n",
    "\n",
    "Chapter 12.3 of [Sayama's book](http://bingweb.binghamton.edu/~sayama/textbook/) has some discussion on this idea, though the way we will derive it for SIR is different."
   ]
  },
  {
   "cell_type": "markdown",
   "metadata": {},
   "source": [
    "## Example: Applying the mean-field technique to the SIR system\n",
    "\n",
    "For instance, recall that in the susceptible-infected-recovered (SIR) model of infection that each cell exists in one of three possible states (the \"S\", \"I\", and \"R\" states). In a mean-field model, you would first define a time-dependent variable for each state, which you interpret as the fraction of the population in that state. That is, let\n",
    "\n",
    "- $S_t$ be the fraction of the population that is susceptible at (discrete) time $t$;\n",
    "- $I_t$ be the fraction that is infected at $t$; and\n",
    "- $R_t$ be the fraction that is recovered at $t$,\n",
    "\n",
    "where $S_t + I_t + R_t = 1$. We will implicitly assume that the number of individuals is large enough that we can treat these fractions as being continuous.\n",
    "\n",
    "In class, we discussed a model for this system that closely approximates the CA and Markov models. Recall that\n",
    "\n",
    "- $I_t S_t$ measures the fraction of total encounters that can cause disease transmission;\n",
    "- $\\tau$ is a parameter that represents the fraction (or probability) of such encounters transmitting disease in any time step; and\n",
    "- $\\frac{1}{\\kappa}$ is a parameter that represents the fraction (probability) of infected individuals recovering in any time step.\n",
    "\n",
    "Then, a corresponding discrete-time dynamical system might be\n",
    "\n",
    "$$\n",
    "\\begin{eqnarray}\n",
    "  S_{t+1} & \\equiv & S_t - \\tau I_t S_t = S_t (1 - \\tau I_t) \\\\\n",
    "  I_{t+1} & \\equiv & I_t + \\tau I_t S_t - \\frac{1}{\\kappa} I_t = I_t \\left( 1 + \\tau S_t - \\frac{1}{\\kappa} \\right) \\\\\n",
    "  R_{t+1} & \\equiv & R_t + \\frac{1}{k} I_t = R_t \\left( 1 + \\frac{1}{k} \\frac{I_t}{R_t} \\right).\n",
    "\\end{eqnarray}\n",
    "$$"
   ]
  },
  {
   "cell_type": "markdown",
   "metadata": {},
   "source": [
    "**Exercise 1** (1 point). Find the equilibrium points of this system."
   ]
  },
  {
   "cell_type": "markdown",
   "metadata": {
    "deletable": false,
    "nbgrader": {
     "checksum": "c1b79117b318aa19cfe5bf71df159f29",
     "grade": true,
     "grade_id": "equal",
     "locked": false,
     "points": 1,
     "solution": true
    }
   },
   "source": [
    "YOUR ANSWER HERE"
   ]
  },
  {
   "cell_type": "markdown",
   "metadata": {},
   "source": [
    "## Implementing the mean-field SIR system\n",
    "\n",
    "Let's implement the mean-field SIR system.\n",
    "\n",
    "Since $S_t + I_t + R_t = 1$, you can also just represent any two of the three state variables and recover the third from them. In the simulation you build below, let's directly represent $S_t$ and $I_t$ and leave $R_t$ implicit."
   ]
  },
  {
   "cell_type": "code",
   "execution_count": null,
   "metadata": {
    "collapsed": true
   },
   "outputs": [],
   "source": [
    "import numpy as np\n",
    "\n",
    "import matplotlib.pyplot as plt\n",
    "%matplotlib inline"
   ]
  },
  {
   "cell_type": "markdown",
   "metadata": {},
   "source": [
    "**Exercise 2** (2 points). Let `x[:2]` be a length-2 NumPy vector representing the state of the system, where `x[0]` is the susceptible fraction and `x[1]` is the infected fraction. Implement a function, `F_sir(x, tau, kappa)`, that computes the next state given `x`."
   ]
  },
  {
   "cell_type": "code",
   "execution_count": null,
   "metadata": {
    "collapsed": true,
    "deletable": false,
    "nbgrader": {
     "checksum": "2e948aecc2a4400818fe59bb62753503",
     "grade": false,
     "grade_id": "F_sir",
     "locked": false,
     "solution": true
    }
   },
   "outputs": [],
   "source": [
    "def F_sir (x, tau, kappa):\n",
    "    # x = (s, i)\n",
    "    x_next = x.copy ()\n",
    "    # YOUR CODE HERE\n",
    "    raise NotImplementedError()\n",
    "    return x_next"
   ]
  },
  {
   "cell_type": "code",
   "execution_count": null,
   "metadata": {
    "collapsed": false,
    "deletable": false,
    "nbgrader": {
     "checksum": "ecdb9a06c65db0f84bdf0d766de2d4dc",
     "grade": true,
     "grade_id": "F_sir_test",
     "locked": true,
     "points": 2,
     "solution": false
    }
   },
   "outputs": [],
   "source": [
    "assert np.allclose (F_sir (np.array ([0.75, 0.25]), 2./3, 2.0), np.array ([5./8, 1./4]))\n",
    "print (\"\\n(Passed!)\")"
   ]
  },
  {
   "cell_type": "markdown",
   "metadata": {},
   "source": [
    "**Exercise 3** (2 points). Implement a function, `sim(t_max, alpha, tau, kappa)`, that simulates the system for `t_max` time steps. The parameter `alpha` is the initial fraction of the population that is infected; assume all other individuals are susceptible."
   ]
  },
  {
   "cell_type": "code",
   "execution_count": null,
   "metadata": {
    "collapsed": true,
    "deletable": false,
    "nbgrader": {
     "checksum": "353c8b8ead3c6046a9eb5844485fdf09",
     "grade": false,
     "grade_id": "sim",
     "locked": false,
     "solution": true
    }
   },
   "outputs": [],
   "source": [
    "def sim (t_max, alpha, tau, kappa):\n",
    "    X = np.zeros ((2, t_max+1)) # X[:, t] = [S_t, I_t]\n",
    "    # YOUR CODE HERE\n",
    "    raise NotImplementedError()\n",
    "    return X"
   ]
  },
  {
   "cell_type": "code",
   "execution_count": null,
   "metadata": {
    "collapsed": false,
    "deletable": false,
    "nbgrader": {
     "checksum": "225fc45d94618ed1ac54cf75814b5983",
     "grade": true,
     "grade_id": "sim_test",
     "locked": true,
     "points": 2,
     "solution": false
    }
   },
   "outputs": [],
   "source": [
    "def summarize_sim (X, alpha, tau, kappa):\n",
    "    assert len (X.shape) == 2 and X.shape[0] == 2\n",
    "    t_max = X.shape[1] - 1\n",
    "\n",
    "    print (\"Simulation results: t_max = {}, alpha = {}, tau = {}, kappa = {}\".format (t_max, alpha, tau, kappa))\n",
    "    s, i = X[0, -1], X[1, -1]\n",
    "    print (\"- S_{{{}}} = {:.3f}\".format (t_max, s))\n",
    "    print (\"- I_{{{}}} = {:.3f}\".format (t_max, i))\n",
    "    print (\"- R_{{{}}} = {:.3f}\".format (t_max, 1-s-i))\n",
    "    \n",
    "def plot_sim (X, alpha, tau, kappa):\n",
    "    assert len (X.shape) == 2 and X.shape[0] == 2\n",
    "    t_max = X.shape[1] - 1\n",
    "    \n",
    "    T = np.arange (t_max+1)\n",
    "    use_points = len (T) <= 30\n",
    "    plt.plot (T, X[0, :], 'ys--' if use_points else 'y-')\n",
    "    plt.plot (T, X[1, :], 'r*--' if use_points else 'r--')\n",
    "    plt.plot (T, 1. - X[0, :] - X[1, :], 'bo--' if use_points else 'b--')\n",
    "    plt.legend (['S', 'I', 'R'])\n",
    "    plt.axis ([0, t_max+1, 0, 1])\n",
    "    plt.title (\"alpha = {}, tau = {}, kappa = {}\".format (alpha, tau, kappa))\n",
    "    \n",
    "T_MAX = 30\n",
    "ALPHA = 1. / 3\n",
    "TAU = 0.2\n",
    "KAPPA = 2\n",
    "\n",
    "X = sim (T_MAX, ALPHA, TAU, KAPPA)\n",
    "summarize_sim (X, ALPHA, TAU, KAPPA)\n",
    "plot_sim (X, ALPHA, TAU, KAPPA)\n",
    "\n",
    "assert np.allclose (X[:, -1], np.array ([0.556, 0.0]), atol=0.001)\n",
    "print (\"\\n(Passed!)\")"
   ]
  },
  {
   "cell_type": "markdown",
   "metadata": {},
   "source": [
    "The simulation above uses parameters that closely approximate those of the one-dimensional, three-cell model from Lab 5, Part B, where you applied Markov chain analysis to estimate the average fraction of the population in the recovered state in equilibrium. The output from Lab 5, Part B, Exercise 5 should have looked something like,\n",
    "\n",
    "```\n",
    "=== Parameter summary ===\n",
    "N: 3\n",
    "TAU: 0.2\n",
    "K: 2\n",
    "\n",
    "=== Results ===\n",
    "\n",
    "4 state(s) have a non-zero steady-state probability:\n",
    "  39: Pr[(0, 3, 0)] == 0.4096\n",
    "  13: Pr[(3, 3, 0)] == 0.2304\n",
    "  33: Pr[(0, 3, 3)] == 0.2304\n",
    "  16: Pr[(3, 3, 3)] == 0.1296\n",
    "\n",
    "Probability of k persons being infected:\n",
    "  Pr[0 recovered] == 0\n",
    "  Pr[1 recovered] == 0.4096\n",
    "  Pr[2 recovered] == 0.4608\n",
    "  Pr[3 recovered] == 0.1296\n",
    "  ==> Expected value of k == 1.72\n",
    "  ==> Expected fraction infected == 0.573333333333\n",
    "```\n",
    "\n",
    "In the simulation test code above, `ALPHA` is set to 1/3 since one of the three grid cells begins in the infected state. You should see that the recovery fraction predicted by the CA model ($\\approx 0.573$) differs from the one predicted by the mean-field approximation ($\\approx 0.444$)."
   ]
  },
  {
   "cell_type": "markdown",
   "metadata": {},
   "source": [
    "**Exercise 4** (2 points). Find values of $\\tau$ and $\\kappa$ that approximate the recovered fraction of $\\approx 0.573$ produced by the CA model as closely as possible. In particular, in the code below, create two variables, `tau_adj` and `kappa_adj`, corresponding to your values. The testing code will print the $(S, I, R)$ fractions and create a plot, as was done above.\n",
    "\n",
    "Since `T_MAX` is also somewhat arbitrary, you may, if you wish, change its value as well. We've bumped it up to 50 time steps by default.\n",
    "\n",
    "> Hint: You can certainly use trial and error to find suitable values. But can you also think of a more systematic and programmatic way to find them, using tools or ideas from earlier labs?"
   ]
  },
  {
   "cell_type": "code",
   "execution_count": null,
   "metadata": {
    "collapsed": false,
    "deletable": false,
    "nbgrader": {
     "checksum": "e473d09a1881f01e2849fd5970cffcd9",
     "grade": false,
     "grade_id": "match_params",
     "locked": false,
     "solution": true
    }
   },
   "outputs": [],
   "source": [
    "T_MAX = 30\n",
    "ALPHA = 1. / 3\n",
    "\n",
    "# Create `tau_adj` and `kappa_adj` as instructed\n",
    "# YOUR CODE HERE\n",
    "raise NotImplementedError()\n",
    "\n",
    "# The following show what happens with your\n",
    "# values of `tau_adj` and `kappa_adj`:\n",
    "print (\"Your parameters: tau_adj = {}, kappa_adj = {}\".format (tau_adj, kappa_adj))\n",
    "X_adj = sim (T_MAX, ALPHA, tau_adj, kappa_adj)\n",
    "summarize_sim (X_adj, ALPHA, tau_adj, kappa_adj)\n",
    "plot_sim (X_adj, ALPHA, tau_adj, kappa_adj)"
   ]
  },
  {
   "cell_type": "code",
   "execution_count": null,
   "metadata": {
    "collapsed": false,
    "deletable": false,
    "nbgrader": {
     "checksum": "8044e83b4252d11ef514c816bc6d0738",
     "grade": true,
     "grade_id": "match_params_test",
     "locked": true,
     "points": 2,
     "solution": false
    }
   },
   "outputs": [],
   "source": [
    "assert np.allclose (X_adj[:, -1], np.array ([1-0.573, 0.0]), atol=1e-3)\n",
    "print (\"\\n(Passed!)\")"
   ]
  },
  {
   "cell_type": "markdown",
   "metadata": {},
   "source": [
    "## Extension to continuous time\n",
    "\n",
    "Next, suppose we wish to treat time as a continuous, rather than discrete, variable. Doing so gives rise to a system of ordinary differential equations (ODEs):\n",
    "\n",
    "$$\n",
    "\\begin{eqnarray}\n",
    "  \\dfrac{d\\vec{y}}{dt}\n",
    "  = \\dfrac{d}{dt}\\left(\\begin{matrix}\n",
    "      S(t) \\\\\n",
    "      I(t) \\\\\n",
    "      R(t)\n",
    "    \\end{matrix}\\right)\n",
    "  & = & \\left(\\begin{matrix}\n",
    "      - \\tau_0 I(t) S(t) \\\\\n",
    "      \\tau_0 S(t) (It) - \\dfrac{1}{\\kappa_0} I(t) \\\\\n",
    "      \\dfrac{1}{\\kappa_0} I(t)\n",
    "    \\end{matrix}\\right)\n",
    "  \\equiv \\vec{F}(\\vec{y}),\n",
    "\\end{eqnarray}\n",
    "$$\n",
    "\n",
    "where $\\vec{y}(t)$ is the state vector and both $\\tau_0$ and $\\kappa_0$ are now rate parameters, having units of \"fractions per unit time.\""
   ]
  },
  {
   "cell_type": "markdown",
   "metadata": {},
   "source": [
    "**Exercise 5** (3 points). Simulate the continuous time system. You may find it helpful to refer back to [Lab 4's exercises on solving ODEs](https://github.com/rvuduc/cx4230sp17labs/blob/master/lab4/part_a--loveshack.ipynb).\n",
    "\n",
    "Your solution should do the following:\n",
    "- Use the $\\alpha$, $\\tau_0$, and $\\kappa_0$ constants defined at the top of the following code cell, i.e., `ALPHA`, `TAU_0`, and `KAPPA_0`, respectively. (They are set to be the same as those from Exercise 3, the discrete-time model that computed `X`.)\n",
    "- Use the initial population parameters $S(0) = 1 - \\alpha$, $I(0) = \\alpha$, and $R(0) = 0$. These values are set in the `y0[:3]` array, below.\n",
    "- Compute solutions at the time points 0, 1, 2, ..., 30, which are stored in the `T[:31]` array, below.\n",
    "- Store the results for $S(t)$, $I(t)$, and $R(t)$ for these 31 time points (i.e., including $t=0$) in three NumPy arrays named `S_ode[:31]`, `I_ode[:31]`, and `R_ode[:31]`, respectively. The summary and plotting code fragments below assume these names.\n",
    "\n",
    "> The main point of this exercise is to show you the qualitative similarity between the discrete-time results and continuous-time results."
   ]
  },
  {
   "cell_type": "code",
   "execution_count": null,
   "metadata": {
    "collapsed": false,
    "deletable": false,
    "nbgrader": {
     "checksum": "1f318c9edc752dcc9ab071fa4539a5e8",
     "grade": false,
     "grade_id": "sim_ode",
     "locked": false,
     "solution": true
    }
   },
   "outputs": [],
   "source": [
    "# Initially, suppose these rate parameters have\n",
    "# the same values as the CA model, i.e.,\n",
    "\n",
    "# Use same ALPHA as Exercise 3's test code;\n",
    "# use the following $\\tau_0$ and $\\kappa_0$:\n",
    "TAU_0 = TAU\n",
    "KAPPA_0 = KAPPA\n",
    "\n",
    "# Initial populations, i.e., [S(0), I(0), R(0)]\n",
    "y0 = np.array ([1.0 - ALPHA, ALPHA, 0.])\n",
    "\n",
    "# Time points at which to compute the solutions:\n",
    "T = np.arange (31).astype (float)\n",
    "\n",
    "# YOUR CODE HERE\n",
    "raise NotImplementedError()\n",
    "\n",
    "def summarize_sim_ode (S, I, T, alpha, tau_0, kappa_0):\n",
    "    t_max = T[-1]\n",
    "    print (\"ODE simulation parameters:\")\n",
    "    print (\"  - t_max = {}\".format (t_max))\n",
    "    print (\"  - alpha = {}\".format (alpha))\n",
    "    print (\"  - tau_0 = {}\".format (tau_0))\n",
    "    print (\"  - kappa_0 = {}\".format (kappa_0))\n",
    "    print (\"\\nResults:\")\n",
    "    print (\"- S_{{{}}} = {:.3f}\".format (t_max, S[-1]))\n",
    "    print (\"- I_{{{}}} = {:.3f}\".format (t_max, I[-1]))\n",
    "    print (\"- R_{{{}}} = {:.3f}\".format (t_max, 1-S[-1]-I[-1]))\n",
    "    \n",
    "summarize_sim_ode (S_ode, I_ode, T, ALPHA, TAU_0, KAPPA_0)"
   ]
  },
  {
   "cell_type": "code",
   "execution_count": null,
   "metadata": {
    "collapsed": false,
    "deletable": false,
    "nbgrader": {
     "checksum": "3022301db9c6c889473f624fed1f2dd7",
     "grade": true,
     "grade_id": "sim_ode_test",
     "locked": true,
     "points": 3,
     "solution": false
    }
   },
   "outputs": [],
   "source": [
    "def plot_sim_ode (S, I, T, alpha, tau, kappa):\n",
    "    t_max = T[-1]\n",
    "    use_points = len (T) <= 35\n",
    "    plt.plot (T, S, 'ys--' if use_points else 'y-')\n",
    "    plt.plot (T, I, 'r*--' if use_points else 'r--')\n",
    "    plt.plot (T, 1. - S - I, 'bo--' if use_points else 'b--')\n",
    "    plt.legend (['S', 'I', 'R'])\n",
    "    plt.axis ([0, t_max+1, 0, 1])\n",
    "    plt.title (\"alpha = {}, tau = {}, kappa = {}\".format (alpha, tau, kappa))\n",
    "        \n",
    "# Figure to compare discrete-time and continuous-time models\n",
    "plt.figure (figsize=(12, 6))\n",
    "plt.subplot (1, 2, 1)\n",
    "plot_sim (X, ALPHA, TAU, KAPPA)\n",
    "plt.subplot (1, 2, 2)\n",
    "plot_sim_ode (S_ode, I_ode, T, ALPHA, TAU_0, KAPPA_0)\n",
    "\n",
    "assert np.linalg.norm (X[0, :] - S_ode, ord=np.inf) <= 0.05\n",
    "assert np.linalg.norm (X[1, :] - I_ode, ord=np.inf) <= 0.05\n",
    "assert np.linalg.norm (1-X[0, :]-X[1, :] - R_ode, ord=np.inf) <= 0.05\n",
    "print (\"\\n(Passed!)\")"
   ]
  },
  {
   "cell_type": "code",
   "execution_count": null,
   "metadata": {
    "collapsed": true
   },
   "outputs": [],
   "source": []
  }
 ],
 "metadata": {
  "kernelspec": {
   "display_name": "Python 3",
   "language": "python",
   "name": "python3"
  },
  "language_info": {
   "codemirror_mode": {
    "name": "ipython",
    "version": 3
   },
   "file_extension": ".py",
   "mimetype": "text/x-python",
   "name": "python",
   "nbconvert_exporter": "python",
   "pygments_lexer": "ipython3",
   "version": "3.5.1"
  }
 },
 "nbformat": 4,
 "nbformat_minor": 2
}
