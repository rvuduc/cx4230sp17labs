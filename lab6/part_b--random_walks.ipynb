{
 "cells": [
  {
   "cell_type": "markdown",
   "metadata": {
    "nbgrader": {
     "grade": false,
     "solution": false
    }
   },
   "source": [
    "# Important note!\n",
    "\n",
    "Before you turn this problem in, make sure everything runs as expected. First, **restart the kernel** (in the menubar, select Kernel$\\rightarrow$Restart) and then **run all cells** (in the menubar, select Cell$\\rightarrow$Run All).\n",
    "\n",
    "Make sure you fill in any place that says `YOUR CODE HERE` or \"YOUR ANSWER HERE\", as well as your GT login and the GT logins of any of your collaborators below. (The GT logins are worth 1 point per notebook, so don't miss the opportunity to get a free point!)"
   ]
  },
  {
   "cell_type": "code",
   "execution_count": null,
   "metadata": {
    "collapsed": false,
    "nbgrader": {
     "grade": false,
     "locked": false,
     "solution": false
    }
   },
   "outputs": [],
   "source": [
    "YOUR_ID = \"\" # Please enter your GT login, e.g., \"rvuduc3\" or \"gtg911x\"\n",
    "COLLABORATORS = [] # list of strings of your collaborators' IDs"
   ]
  },
  {
   "cell_type": "code",
   "execution_count": null,
   "metadata": {
    "collapsed": false,
    "deletable": false,
    "nbgrader": {
     "checksum": "b11295002cc2b9549d6a2b01721b6701",
     "grade": true,
     "grade_id": "who__test",
     "locked": true,
     "points": 1,
     "solution": false
    }
   },
   "outputs": [],
   "source": [
    "import re\n",
    "\n",
    "RE_CHECK_ID = re.compile (r'''[a-zA-Z]+\\d+|[gG][tT][gG]\\d+[a-zA-Z]''')\n",
    "assert RE_CHECK_ID.match (YOUR_ID) is not None\n",
    "\n",
    "collab_check = [RE_CHECK_ID.match (i) is not None for i in COLLABORATORS]\n",
    "assert all (collab_check)\n",
    "\n",
    "del collab_check\n",
    "del RE_CHECK_ID\n",
    "del re"
   ]
  },
  {
   "cell_type": "markdown",
   "metadata": {},
   "source": [
    "**Jupyter / IPython version check.** The following code cell verifies that you are using the correct version of Jupyter/IPython."
   ]
  },
  {
   "cell_type": "code",
   "execution_count": null,
   "metadata": {
    "collapsed": true
   },
   "outputs": [],
   "source": [
    "import IPython\n",
    "assert IPython.version_info[0] >= 3, \"Your version of IPython is too old, please update it.\""
   ]
  },
  {
   "cell_type": "markdown",
   "metadata": {},
   "source": [
    "# Random walks (1-D)\n",
    "\n",
    "The mean-field SIR model of the previous part does not model the flow of infection in space. To develop a better approach, we will need ways to reason about spatial flows. This notebook considers one such model, known as a random walk.\n",
    "\n",
    "> We will adapt these ideas about \"random walkers\" to modeling zombies, in anticipation of [HvZ@GT](https://hvz.gatech.edu), though we probably won't look in detail at that modeling problem until right _after_ HvZ and the midterm.\n",
    "\n",
    "Some of this discussion is based on freely available [notes by Kai Norlund (2006)](http://www.acclab.helsinki.fi/~knordlun/mc/mc7nc.pdf), a copy of which is also [posted on T-Square](https://t-square.gatech.edu/access/content/group/gtc-239f-fc11-5690-9dae-2dc96b59f372/Nordlund-2006-random-walk-notes.pdf)."
   ]
  },
  {
   "cell_type": "markdown",
   "metadata": {},
   "source": [
    "## Setup"
   ]
  },
  {
   "cell_type": "code",
   "execution_count": null,
   "metadata": {
    "collapsed": false
   },
   "outputs": [],
   "source": [
    "import numpy as np\n",
    "\n",
    "%matplotlib inline\n",
    "import matplotlib.pyplot as plt"
   ]
  },
  {
   "cell_type": "markdown",
   "metadata": {
    "collapsed": true
   },
   "source": [
    "## The statistics of random steps\n",
    "\n",
    "Let $S_t \\in \\{\\pm 1\\}$ be a random variable denoting the direction of the step $\\Delta x$ at time $t$, where all $\\{S_t\\}$ are independent and identically distributed (i.i.d.) with\n",
    "\n",
    "$$\n",
    "\\begin{eqnarray}\n",
    "  \\mathrm{Pr}[S_t=+1] & \\equiv & \\alpha \\\\\n",
    "  \\mathrm{Pr}[S_t=-1] & \\equiv & 1 - \\alpha.\n",
    "\\end{eqnarray}\n",
    "$$\n",
    "\n",
    "The parameter $\\alpha$ is sometimes called the \"anisotropy\" parameter, which indicates whether the walker is biased toward one direction. When $\\alpha=0.5$, the walker is equally likely to go in either direction and we say its movement is \"isotropic\" (equally likely to go in all directions). When $\\alpha \\neq 0.5$, its movement is \"anisotropic.\""
   ]
  },
  {
   "cell_type": "markdown",
   "metadata": {},
   "source": [
    "**Exercise 1** (2 point). Write a function `s[:num_steps] = random_steps(num_steps, dx, alpha)` that returns a NumPy array of i.i.d. random steps, as defined above. That is, `s[t]` should be a realization of the random variable, $S_t$; each `s[t]` should be either `+dx` or `-dx`, chosen independently with probability `alpha` and `1.0-alpha`, respectively."
   ]
  },
  {
   "cell_type": "code",
   "execution_count": null,
   "metadata": {
    "collapsed": true,
    "deletable": false,
    "nbgrader": {
     "checksum": "fb1649d46e9097edc478b8e0b80f58e9",
     "grade": false,
     "grade_id": "random_steps",
     "locked": false,
     "solution": true
    }
   },
   "outputs": [],
   "source": [
    "def random_steps (num_steps, dx=1.0, alpha=0.5):\n",
    "    assert dx >= 0\n",
    "    assert 0 <= alpha <= 1\n",
    "    assert num_steps > 0\n",
    "    # YOUR CODE HERE\n",
    "    raise NotImplementedError()"
   ]
  },
  {
   "cell_type": "code",
   "execution_count": null,
   "metadata": {
    "collapsed": false,
    "deletable": false,
    "nbgrader": {
     "checksum": "55ff89bdf4d0e7004485f43958432384",
     "grade": true,
     "grade_id": "random_steps_test",
     "locked": true,
     "points": 2,
     "solution": false
    }
   },
   "outputs": [],
   "source": [
    "n_test = 100000\n",
    "dx_test = 2.0\n",
    "alpha_test = 0.25\n",
    "s_test = random_steps (n_test, dx=dx_test, alpha=alpha_test)\n",
    "\n",
    "print (\"average size of the {} steps (dx={}, alpha={}): {:.3f}\".format (n_test,\n",
    "                                                                        dx_test,\n",
    "                                                                        alpha_test,\n",
    "                                                                        np.mean (s_test)))\n",
    "assert len (s_test) == n_test\n",
    "assert ((s_test == -dx_test) | (s_test == dx_test)).all ()\n",
    "assert np.isclose (np.mean (s_test), dx_test*(2*alpha_test - 1), atol=0.05)"
   ]
  },
  {
   "cell_type": "markdown",
   "metadata": {},
   "source": [
    "**Step statistics.** As shown in class,\n",
    "\n",
    "$$\n",
    "\\begin{eqnarray}\n",
    "  \\mathrm{E}[S_t] & = & 2 \\alpha - 1 \\equiv \\mu_s \\\\\n",
    "  \\mathrm{Var}[S_t] & = & 1 - \\mu_s^2 \\equiv \\sigma_s^2.\n",
    "\\end{eqnarray}\n",
    "$$"
   ]
  },
  {
   "cell_type": "markdown",
   "metadata": {},
   "source": [
    "**Exercise 2** (2 points). Compute the step statistics shown above for various values of the anisotropy parameter.\n",
    "\n",
    "That is, for each value of $\\alpha$ defined in the array of different anisotropy parameters to try, called `ALPHAS`, compute $\\mu_s$ and $\\sigma_s$ (i.e., **not** $\\sigma_s^2$ but rather its square root). Store your results in two NumPy arrays, `E_mu_s[:]` and `E_sigma_s[:]`, each of size `len(ALPHAS)`, such that\n",
    "\n",
    "- `E_mu_s[i]` is the $\\mu_s$ value for $\\alpha=$`ALPHAS[i]`; and\n",
    "\n",
    "- `E_sigma_s[i]` is the $\\sigma_s$ value for $\\alpha=$`ALPHAS[i]`."
   ]
  },
  {
   "cell_type": "code",
   "execution_count": null,
   "metadata": {
    "collapsed": false,
    "deletable": false,
    "nbgrader": {
     "checksum": "445380a8dc9fd9e6e2bbfd2c4b336aea",
     "grade": false,
     "grade_id": "E_star_s",
     "locked": false,
     "solution": true
    }
   },
   "outputs": [],
   "source": [
    "ALPHAS = np.array ([0.1, 0.25, 0.33, 0.5, 0.67, 0.75, 0.9]) # Anisotropy parameters\n",
    "\n",
    "# YOUR CODE HERE\n",
    "raise NotImplementedError()\n",
    "\n",
    "print (\"The theory says that the step size mean +/- (1-s.d.) values are:\")\n",
    "for i, a in enumerate (ALPHAS):\n",
    "    print (\"  alpha={} => E[S_t] = {:.2f} +/- {:.2f}\".format (a, E_mu_s[i], E_sigma_s[i]))"
   ]
  },
  {
   "cell_type": "code",
   "execution_count": null,
   "metadata": {
    "collapsed": false,
    "deletable": false,
    "nbgrader": {
     "checksum": "b7238170679fec421ced04987b42a23b",
     "grade": true,
     "grade_id": "E_star_s_test",
     "locked": true,
     "points": 2,
     "solution": false
    }
   },
   "outputs": [],
   "source": [
    "assert (np.abs (E_mu_s) < 1.0).all ()\n",
    "assert (E_sigma_s > 0).all ()\n",
    "assert np.allclose (E_mu_s, -E_mu_s[::-1], atol=0.01)\n",
    "assert np.allclose (E_sigma_s, E_sigma_s[::-1], atol=0.01)\n",
    "assert np.isclose (E_mu_s[int (len (ALPHAS)/2)], 0.0, atol=0.01)\n",
    "assert np.isclose (E_sigma_s[int (len (ALPHAS)/2)], 1.0, atol=0.01)\n",
    "print (\"\\n(Passed!)\")"
   ]
  },
  {
   "cell_type": "markdown",
   "metadata": {},
   "source": [
    "**Exercise 3** (2 points). For each $\\alpha=$`ALPHAS[i]`, generate 500,000 steps using `random_steps()` and compute the sample mean and standard deviation. Store your results in `Mu_s[i]` and `Sigma_s[i]`, respectively."
   ]
  },
  {
   "cell_type": "code",
   "execution_count": null,
   "metadata": {
    "collapsed": false,
    "deletable": false,
    "nbgrader": {
     "checksum": "4b60ceaf50b21404ae9dd929ab66b769",
     "grade": false,
     "grade_id": "sim_steps",
     "locked": false,
     "solution": true
    }
   },
   "outputs": [],
   "source": [
    "Mu_s = np.zeros (len (ALPHAS))\n",
    "Sigma_s = np.zeros (len (ALPHAS))\n",
    "\n",
    "# YOUR CODE HERE\n",
    "raise NotImplementedError()\n",
    "\n",
    "print (\"Experiment says:\")\n",
    "for i, a in enumerate (ALPHAS):\n",
    "    print (\"  alpha={} => E[S_t] ~ {:.2f} +/- {:.2f}\".format (a, Mu_s[i], Sigma_s[i]))"
   ]
  },
  {
   "cell_type": "code",
   "execution_count": null,
   "metadata": {
    "collapsed": false,
    "deletable": false,
    "nbgrader": {
     "checksum": "441653c47af3a24796068cff4d57b196",
     "grade": true,
     "grade_id": "sim_steps_test",
     "locked": true,
     "points": 2,
     "solution": false
    }
   },
   "outputs": [],
   "source": [
    "mu_err_test = np.linalg.norm (Mu_s - E_mu_s, ord=np.inf)\n",
    "sigma_err_test = np.linalg.norm (Sigma_s - E_sigma_s, ord=np.inf)\n",
    "\n",
    "print (\"For {} steps:\".format (NUM_STEPS))\n",
    "print (\"- ||Mu_s - E_mu_s||_inf = {:.3f}\".format (mu_err_test))\n",
    "print (\"- ||Sigma_s - E_sigma_s||_inf = {:.3f}\".format (sigma_err_test))\n",
    "\n",
    "assert mu_err_test <= 0.01\n",
    "assert sigma_err_test <= 0.01\n",
    "\n",
    "print (\"\\n(Passed!)\")"
   ]
  },
  {
   "cell_type": "markdown",
   "metadata": {},
   "source": [
    "## The statistics of random walks\n",
    "\n",
    "Let the position of the random walker be the random variable\n",
    "\n",
    "$$\n",
    "X_t \\equiv \\Delta x \\sum_{k=1}^{t} S_k,\n",
    "$$\n",
    "\n",
    "where $S_k$ are the i.i.d. step directions and $\\Delta x$ is the step distance."
   ]
  },
  {
   "cell_type": "markdown",
   "metadata": {},
   "source": [
    "**CLT approximation.** From the Central Limit Theorem (CLT),\n",
    "\n",
    "$$\n",
    "\\begin{eqnarray}\n",
    "    \\mathrm{E}[X_t] \\equiv \\mu_t & \\approx & \\mu_s \\cdot {\\Delta x} \\cdot t \\\\\n",
    "  \\mathrm{Var}[X_t] \\equiv \\sigma_t^2 & \\approx & \\sigma_s^2 \\cdot {\\Delta x}^2 \\cdot t.\n",
    "\\end{eqnarray}\n",
    "$$"
   ]
  },
  {
   "cell_type": "markdown",
   "metadata": {},
   "source": [
    "**Exercise 4** (2 points). For each anisotropy parameter $\\alpha_i$ listed in `ALPHAS[i]`, compute $\\mu_t$ and $\\sigma_t$ (i.e., **not** $\\sigma_t^2$ but rather its square root) for the value of $t$ given below by `T_MAX`. Use a value for $\\Delta x$ of 1.0.\n",
    "\n",
    "Store your results in `E_mu_t[i]` and `E_sigma_t[i]`, two NumPy arrays of the same length as `ALPHAS`."
   ]
  },
  {
   "cell_type": "code",
   "execution_count": null,
   "metadata": {
    "collapsed": false,
    "deletable": false,
    "nbgrader": {
     "checksum": "bf26835f99870348e0633606942323fe",
     "grade": false,
     "grade_id": "clt_stats",
     "locked": false,
     "solution": true
    }
   },
   "outputs": [],
   "source": [
    "T_MAX = 100\n",
    "\n",
    "# YOUR CODE HERE\n",
    "raise NotImplementedError()\n",
    "\n",
    "print (\"The central limit theorem suggests that the mean position, +/- (1-sd), of a random walker is:\")\n",
    "for i, a in enumerate (ALPHAS):\n",
    "    print (\"  alpha={} => E[S_t] = {:.2f} +/- {:.2f}\".format (a, E_mu_t[i], E_sigma_t[i]))"
   ]
  },
  {
   "cell_type": "code",
   "execution_count": null,
   "metadata": {
    "collapsed": false,
    "deletable": false,
    "nbgrader": {
     "checksum": "92c166332f09b24f77a12eaa4a1f832d",
     "grade": true,
     "grade_id": "clt_stats_test",
     "locked": true,
     "points": 2,
     "solution": false
    }
   },
   "outputs": [],
   "source": [
    "assert np.allclose (E_mu_t, -E_mu_t[::-1], atol=0.01)\n",
    "assert np.allclose (E_sigma_t, E_sigma_t[::-1], atol=0.01)\n",
    "assert np.allclose (E_mu_t / E_sigma_t / np.sqrt (T_MAX), np.array ([-1.333, -0.577, -0.362, 0., 0.362, 0.577, 1.333]), atol=0.01)\n",
    "print (\"\\n(Passed!)\")"
   ]
  },
  {
   "cell_type": "markdown",
   "metadata": {},
   "source": [
    "**Exercise 5** (2 point). Write a function that returns the positions of a random walker who takes `t_max` steps of size `dx` each, with a probability of moving in the `+dx` direction of `alpha` and in the `-dx` direction with probability `1.0-alpha`. The return value should be a one-dimensional NumPy array of the positions."
   ]
  },
  {
   "cell_type": "code",
   "execution_count": null,
   "metadata": {
    "collapsed": true,
    "deletable": false,
    "nbgrader": {
     "checksum": "cfa28ca99b1347ada1195d46e5a170fe",
     "grade": false,
     "grade_id": "random_walk",
     "locked": false,
     "solution": true
    }
   },
   "outputs": [],
   "source": [
    "def random_walk (t_max, dx=1.0, alpha=0.5):\n",
    "    # YOUR CODE HERE\n",
    "    raise NotImplementedError()"
   ]
  },
  {
   "cell_type": "code",
   "execution_count": null,
   "metadata": {
    "collapsed": false,
    "deletable": false,
    "nbgrader": {
     "checksum": "8ae7a04d6dba5572403a73a6f9934357",
     "grade": true,
     "grade_id": "random_walk_test",
     "locked": true,
     "points": 2,
     "solution": false
    }
   },
   "outputs": [],
   "source": [
    "t_test = 100\n",
    "dx_test = 2.0\n",
    "alpha_test = 0.25\n",
    "x_test = random_walk (t_test, dx=dx_test, alpha=alpha_test)\n",
    "\n",
    "print (\"position after {} steps (dx={}, alpha={}): {:.3f}\".format (t_test,\n",
    "                                                                   dx_test,\n",
    "                                                                   alpha_test,\n",
    "                                                                   x_test[-1]))\n",
    "assert x_test[-1] < 0\n",
    "print (\"\\n(Passed.)\")"
   ]
  },
  {
   "cell_type": "markdown",
   "metadata": {},
   "source": [
    "**Exercise 6** (3 points). For each $\\alpha_i$ (i.e., `ALPHAS[i]`), conduct 1,000 random walks of 100 steps each, and use the results to estimate the mean and compute a 99% confidence interval. Store the sample mean, sample standard deviation, and the confidence interval width in `Mu_t[i]`, `Sigma_t[i]`, and `Confint_t[i]`, respectively."
   ]
  },
  {
   "cell_type": "code",
   "execution_count": null,
   "metadata": {
    "collapsed": false,
    "deletable": false,
    "nbgrader": {
     "checksum": "be4a63dbc731daac05835ac41aa13d2b",
     "grade": false,
     "grade_id": "mu_t",
     "locked": false,
     "solution": true
    }
   },
   "outputs": [],
   "source": [
    "T_MAX = 100 # Random walk length\n",
    "Mu_t = np.zeros (len (ALPHAS))\n",
    "Sigma_t = np.zeros (len (ALPHAS))\n",
    "Confint_t = np.zeros (len (ALPHAS))\n",
    "\n",
    "# YOUR CODE HERE\n",
    "raise NotImplementedError()\n",
    "    \n",
    "print (\"Your simulation results:\")\n",
    "for i, a in enumerate (ALPHAS):\n",
    "    print (\"  alpha={} => E[X_t] ≈ {:.2f} +/- {:.2f} [sd: {:.2f}]\".format (a,\n",
    "                                                                           Mu_t[i],\n",
    "                                                                           Confint_t[i],\n",
    "                                                                           Sigma_t[i]))"
   ]
  },
  {
   "cell_type": "code",
   "execution_count": null,
   "metadata": {
    "collapsed": false,
    "deletable": false,
    "nbgrader": {
     "checksum": "7d27caecf729b0fbf127965bcba2bd2c",
     "grade": true,
     "grade_id": "mu_t_test",
     "locked": true,
     "points": 3,
     "solution": false
    }
   },
   "outputs": [],
   "source": [
    "Lower_test = Mu_t - Confint_t\n",
    "Upper_test = Mu_t + Confint_t\n",
    "for i, a in enumerate (ALPHAS):\n",
    "    result_i = Lower_test[i] <= E_mu_t[i] <= Upper_test[i]\n",
    "    result_i_str = \"is\" if result_i else \"**is not**\"\n",
    "    print (\"[alpha={:.2f}] True mean of {:.1f} {} in [{:.3f}, {:.3f}].\".format (ALPHAS[i], E_mu_t[i], result_i_str, Lower_test[i], Upper_test[i]))\n",
    "assert ((Lower_test <= E_mu_t) & (E_mu_t <= Upper_test)).all ()\n",
    "print (\"\\n(Passed!)\")"
   ]
  },
  {
   "cell_type": "markdown",
   "metadata": {},
   "source": [
    "Here is a picture of some realizations of random walks consisting of $t=25$ steps at different isotropies, $\\alpha$ ($\\Delta x = 1$)."
   ]
  },
  {
   "cell_type": "code",
   "execution_count": null,
   "metadata": {
    "collapsed": false
   },
   "outputs": [],
   "source": [
    "T_MAX = 40\n",
    "X_t = np.zeros ((T_MAX, len (ALPHAS)))\n",
    "for i, a in enumerate (ALPHAS):\n",
    "    X_t[:, i] = random_walk (T_MAX, alpha=a)\n",
    "    \n",
    "plt.figure (figsize=(8, 5))\n",
    "for i, _ in enumerate (ALPHAS):\n",
    "    plt.plot (np.arange (T_MAX)+1, X_t[:, i], '*-')\n",
    "plt.legend (['{:.2f}'.format (a) for a in ALPHAS], loc=0)"
   ]
  },
  {
   "cell_type": "markdown",
   "metadata": {},
   "source": [
    "## Position distributions\n",
    "\n",
    "Consider a random walker who takes $t$ steps. Assume each step is of unit size, i.e., $\\Delta x = 1$. Let the walker's *position distribution* be the probability that the walker lands on position $k$ at time $t$, i.e., $Pr[X_t = k]$.\n",
    "\n",
    "Note that after $t$ unit-sized steps, $|k| \\leq t$."
   ]
  },
  {
   "cell_type": "markdown",
   "metadata": {},
   "source": [
    "**Exercise 7** (3 points). Write a function that estimates this distribution, given\n",
    "\n",
    "- the positive-step probability, $\\alpha$, and\n",
    "- the number of steps, $t$.\n",
    "\n",
    "Your function should have the following signature:\n",
    "\n",
    "```python\n",
    "def estimate_posdist (alpha, t, num_trials=1):\n",
    "    ...\n",
    "```\n",
    "\n",
    "It should perform `num_trials` simulation experiments to estimate the position distribution. It should return this estimate as a NumPy array, `Pos_dist[:2*t+1]` of length $2t+1$. In particular, for all $-t \\leq k \\leq t$, the empirical estimate of $\\mathrm{Pr}[X_t=k]$ should appear in `P_dist[t+k]`."
   ]
  },
  {
   "cell_type": "code",
   "execution_count": null,
   "metadata": {
    "collapsed": false,
    "deletable": false,
    "nbgrader": {
     "checksum": "4206cc82184e7da5f9960d5e0d6748a3",
     "grade": true,
     "grade_id": "estimate_posdist",
     "locked": false,
     "points": 3,
     "solution": true
    }
   },
   "outputs": [],
   "source": [
    "def estimate_posdist (alpha, t, num_trials=1):\n",
    "    P_dist = np.zeros (2*t + 1)\n",
    "    # YOUR CODE HERE\n",
    "    raise NotImplementedError()\n",
    "    return P_dist\n",
    "\n",
    "ALPHA = 0.5\n",
    "T_MAX = 20\n",
    "NUM_TRIALS = T_MAX**3\n",
    "P_dist = estimate_posdist (ALPHA, T_MAX, num_trials=NUM_TRIALS)\n",
    "\n",
    "from scipy.stats import norm\n",
    "plt.figure (figsize=(8, 4))\n",
    "K = -T_MAX + np.arange (2*T_MAX+1)\n",
    "mu_t = (2.0 * ALPHA - 1.0) * T_MAX\n",
    "sigma_t = np.sqrt ((1.0 - (2.0*ALPHA-1.0)**2) * T_MAX)\n",
    "plt.plot (K, P_dist, '*-',\n",
    "          K, norm.pdf (K, loc=mu_t, scale=sigma_t), 'r-')"
   ]
  },
  {
   "cell_type": "markdown",
   "metadata": {
    "collapsed": true
   },
   "source": [
    "**Exercise (OPTIONAL).** Notice that the diagnostic plot for Exercise 7 overlays the normal distribution predicted by the CLT approximation. Try repeating Exercise 7 for different values of $\\alpha$ and $t$. What do you notice about the results? Do they make sense?"
   ]
  },
  {
   "cell_type": "code",
   "execution_count": null,
   "metadata": {
    "collapsed": true
   },
   "outputs": [],
   "source": []
  }
 ],
 "metadata": {
  "kernelspec": {
   "display_name": "Python 3",
   "language": "python",
   "name": "python3"
  },
  "language_info": {
   "codemirror_mode": {
    "name": "ipython",
    "version": 3
   },
   "file_extension": ".py",
   "mimetype": "text/x-python",
   "name": "python",
   "nbconvert_exporter": "python",
   "pygments_lexer": "ipython3",
   "version": "3.5.1"
  }
 },
 "nbformat": 4,
 "nbformat_minor": 2
}
