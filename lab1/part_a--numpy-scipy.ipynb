{
 "cells": [
  {
   "cell_type": "markdown",
   "metadata": {
    "nbgrader": {
     "grade": false,
     "solution": false
    }
   },
   "source": [
    "# Important note!\n",
    "\n",
    "Before you turn this problem in, make sure everything runs as expected. First, **restart the kernel** (in the menubar, select Kernel$\\rightarrow$Restart) and then **run all cells** (in the menubar, select Cell$\\rightarrow$Run All).\n",
    "\n",
    "Make sure you fill in any place that says `YOUR CODE HERE` or \"YOUR ANSWER HERE\", as well as your GT login and the GT logins of any of your collaborators below. (The GT logins are worth 1 point per notebook, so don't miss the opportunity to get a free point!)"
   ]
  },
  {
   "cell_type": "code",
   "execution_count": null,
   "metadata": {
    "collapsed": false,
    "nbgrader": {
     "grade": false,
     "locked": false,
     "solution": false
    }
   },
   "outputs": [],
   "source": [
    "YOUR_ID = \"\" # Please enter your GT login, e.g., \"rvuduc3\" or \"gtg911x\"\n",
    "COLLABORATORS = [] # list of strings of your collaborators' IDs"
   ]
  },
  {
   "cell_type": "code",
   "execution_count": null,
   "metadata": {
    "collapsed": false,
    "deletable": false,
    "nbgrader": {
     "checksum": "b11295002cc2b9549d6a2b01721b6701",
     "grade": true,
     "grade_id": "who__test",
     "locked": true,
     "points": 1,
     "solution": false
    }
   },
   "outputs": [],
   "source": [
    "import re\n",
    "\n",
    "RE_CHECK_ID = re.compile (r'''[a-zA-Z]+\\d+|[gG][tT][gG]\\d+[a-zA-Z]''')\n",
    "assert RE_CHECK_ID.match (YOUR_ID) is not None\n",
    "\n",
    "collab_check = [RE_CHECK_ID.match (i) is not None for i in COLLABORATORS]\n",
    "assert all (collab_check)\n",
    "\n",
    "del collab_check\n",
    "del RE_CHECK_ID\n",
    "del re"
   ]
  },
  {
   "cell_type": "markdown",
   "metadata": {},
   "source": [
    "**Jupyter / IPython version check.** The following code cell verifies that you are using the correct version of Jupyter/IPython."
   ]
  },
  {
   "cell_type": "code",
   "execution_count": null,
   "metadata": {
    "collapsed": true
   },
   "outputs": [],
   "source": [
    "import IPython\n",
    "assert IPython.version_info[0] >= 3, \"Your version of IPython is too old, please update it.\""
   ]
  },
  {
   "cell_type": "markdown",
   "metadata": {},
   "source": [
    "# Intro to NumPy/SciPy [12 points]\n",
    "\n",
    "There is a nice package, called [SciPy](http://scipy.github.io), to support numerical computations in Python, including matrix computations. Partly for historical reasons, it consists of a base package called [NumPy](http://www.numpy.org) that provides basic support for multidimensional arrays, which we can use to store and operate on vectors and matrices. Matrix computations using these packages will usually be much faster than doing the equivalent purely in Python's native list, array, and dictionary types.\n",
    "\n",
    "Some of the material from this lesson is lifted from the following more comprehensive tutorial: [link](http://www.scipy-lectures.org/intro/numpy/index.html)"
   ]
  },
  {
   "cell_type": "markdown",
   "metadata": {},
   "source": [
    "**Quick demo.** The recommended importing idiom is:"
   ]
  },
  {
   "cell_type": "code",
   "execution_count": null,
   "metadata": {
    "collapsed": true
   },
   "outputs": [],
   "source": [
    "import numpy as np"
   ]
  },
  {
   "cell_type": "markdown",
   "metadata": {},
   "source": [
    "Numpy provides some natural types and operations on arrays. For instance:"
   ]
  },
  {
   "cell_type": "code",
   "execution_count": null,
   "metadata": {
    "collapsed": false
   },
   "outputs": [],
   "source": [
    "a_1d = np.array ([0, 1, 2, 3]) # a vector\n",
    "print (a_1d)\n",
    "\n",
    "b_1d = np.array ([4, 5, 6, 7]) # another vector\n",
    "print (b_1d)\n",
    "\n",
    "print (a_1d + b_1d)"
   ]
  },
  {
   "cell_type": "code",
   "execution_count": null,
   "metadata": {
    "collapsed": false
   },
   "outputs": [],
   "source": [
    "print (5*a_1d)"
   ]
  },
  {
   "cell_type": "code",
   "execution_count": null,
   "metadata": {
    "collapsed": false
   },
   "outputs": [],
   "source": [
    "print (a_1d**2)"
   ]
  },
  {
   "cell_type": "markdown",
   "metadata": {},
   "source": [
    "**Getting help.** By the way, if you need help getting documentation from within this notebook, here are some handy shortcuts."
   ]
  },
  {
   "cell_type": "code",
   "execution_count": null,
   "metadata": {
    "collapsed": false
   },
   "outputs": [],
   "source": [
    "# Append '?' to get help on a specific routine\n",
    "np.array?"
   ]
  },
  {
   "cell_type": "code",
   "execution_count": null,
   "metadata": {
    "collapsed": true
   },
   "outputs": [],
   "source": [
    "# Wildcard search\n",
    "np.con*?"
   ]
  },
  {
   "cell_type": "code",
   "execution_count": null,
   "metadata": {
    "collapsed": false
   },
   "outputs": [],
   "source": [
    "# Search for key text\n",
    "np.lookfor (\"creating array\")"
   ]
  },
  {
   "cell_type": "markdown",
   "metadata": {},
   "source": [
    "## Why bother with NumPy? A motivating example\n",
    "\n",
    "We already have lists and dictionary types, which are pretty easy to use and very flexible. So why bother with this special type?\n",
    "\n",
    "One reason to consider Numpy is that it \"can be much faster,\" as noted above. But how much faster is that?"
   ]
  },
  {
   "cell_type": "code",
   "execution_count": null,
   "metadata": {
    "collapsed": true
   },
   "outputs": [],
   "source": [
    "n = 1000000"
   ]
  },
  {
   "cell_type": "code",
   "execution_count": null,
   "metadata": {
    "collapsed": false
   },
   "outputs": [],
   "source": [
    "L = range (n)\n",
    "%timeit [i**2 for i in L]"
   ]
  },
  {
   "cell_type": "code",
   "execution_count": null,
   "metadata": {
    "collapsed": false
   },
   "outputs": [],
   "source": [
    "np.arange (10) # Moral equivalent to `range`"
   ]
  },
  {
   "cell_type": "code",
   "execution_count": null,
   "metadata": {
    "collapsed": false
   },
   "outputs": [],
   "source": [
    "A = np.arange (n)\n",
    "%timeit A**2"
   ]
  },
  {
   "cell_type": "markdown",
   "metadata": {},
   "source": [
    "**Exercise 1** (1 point). Recall the definition of the _2-norm_ of an $n$-vector (or _Euclidean length_ of a vector with $n$ components):\n",
    "\n",
    "$$\n",
    "  \\|x\\|_2 = \\left( \\sum_{i=0}^{n-1} |x_i|^2 \\right)^{\\frac{1}{2}}\n",
    "$$\n",
    "\n",
    "> Background reading: For a quick review of important concepts in linear algebra, see [these notes](https://t-square.gatech.edu/access/content/group/gtc-239f-fc11-5690-9dae-2dc96b59f372/Kuang-2014-linalg-notes-2.pdf) by former Georgia Tech PhD student, [Da Kuang](http://math.ucla.edu/~dakuang/).\n",
    "\n",
    "Look for a NumPy routine to compute the two-norm. Compare its speed when using native Python lists versus Numpy arrays."
   ]
  },
  {
   "cell_type": "code",
   "execution_count": null,
   "metadata": {
    "collapsed": false,
    "deletable": false,
    "nbgrader": {
     "checksum": "6aa9e407b6146fa4fd5b63ab44f42805",
     "grade": true,
     "grade_id": "norm",
     "locked": false,
     "points": 1,
     "solution": true
    }
   },
   "outputs": [],
   "source": [
    "from random import gauss # Generates random numbers from a Gaussian\n",
    "from math import sqrt # Computes the square root of a number\n",
    "\n",
    "n = 1000000\n",
    "X_py = [gauss (0, 1) for i in range (n)]\n",
    "X_np = np.array (X_py)\n",
    "\n",
    "print (\"==> Native Python lists:\")\n",
    "%timeit sqrt (sum ([x**2 for x in X_py]))\n",
    "\n",
    "print (\"\\n==> Numpy:\")\n",
    "# YOUR CODE HERE\n",
    "raise NotImplementedError()"
   ]
  },
  {
   "cell_type": "markdown",
   "metadata": {},
   "source": [
    "## Creating multidimensional arrays\n",
    "\n",
    "Beyond simple arrays, Numpy supports multidimensional arrays. To do more than one dimension, call `numpy.array()` but nest each new dimension within a list.\n",
    "\n",
    "Huh? Let's look at some examples."
   ]
  },
  {
   "cell_type": "code",
   "execution_count": null,
   "metadata": {
    "collapsed": false
   },
   "outputs": [],
   "source": [
    "# Create a two-dimensional array of size 3 rows x 4 columns:\n",
    "B = np.array([[0, 1, 2, 3],\n",
    "              [4, 5, 6, 7],\n",
    "              [8, 9, 10, 11]])\n",
    "\n",
    "print (B)\n",
    "print (B.ndim) # What does this do?\n",
    "print (B.shape) # What does this do?\n",
    "print (len (B)) # What does this do?"
   ]
  },
  {
   "cell_type": "markdown",
   "metadata": {},
   "source": [
    "Here is a 3-D array example."
   ]
  },
  {
   "cell_type": "code",
   "execution_count": null,
   "metadata": {
    "collapsed": false
   },
   "outputs": [],
   "source": [
    "C1 = [[0, 1, 2, 3],\n",
    "      [4, 5, 6, 7],\n",
    "      [8, 9, 10, 11]]\n",
    "\n",
    "C2 = [[12, 13, 14, 15],\n",
    "      [16, 17, 18, 19],\n",
    "      [20, 21, 22, 23]]\n",
    "\n",
    "C = np.array ([C1, C2])\n",
    "\n",
    "print (C)\n",
    "print (C.ndim)\n",
    "print (C.shape)\n",
    "print (len (C))"
   ]
  },
  {
   "cell_type": "markdown",
   "metadata": {},
   "source": [
    "Besides `arange()`, you can also define an interval and a number of points. What does the following code do?"
   ]
  },
  {
   "cell_type": "code",
   "execution_count": null,
   "metadata": {
    "collapsed": false
   },
   "outputs": [],
   "source": [
    "print (np.linspace (0, 1, 10))"
   ]
  },
  {
   "cell_type": "code",
   "execution_count": null,
   "metadata": {
    "collapsed": false
   },
   "outputs": [],
   "source": [
    "print (np.linspace (0, 1, 10, endpoint=False))"
   ]
  },
  {
   "cell_type": "markdown",
   "metadata": {},
   "source": [
    "There are routines for creating various kinds of structured matrices as well, which are similar to those found in [MATLAB](http://www.mathworks.com/products/matlab/) and [Octave](https://www.gnu.org/software/octave/)."
   ]
  },
  {
   "cell_type": "code",
   "execution_count": null,
   "metadata": {
    "collapsed": false
   },
   "outputs": [],
   "source": [
    "print (np.ones ((3, 4)))"
   ]
  },
  {
   "cell_type": "code",
   "execution_count": null,
   "metadata": {
    "collapsed": false
   },
   "outputs": [],
   "source": [
    "print (np.zeros ((3, 4)))"
   ]
  },
  {
   "cell_type": "code",
   "execution_count": null,
   "metadata": {
    "collapsed": false
   },
   "outputs": [],
   "source": [
    "print (np.eye (3))"
   ]
  },
  {
   "cell_type": "code",
   "execution_count": null,
   "metadata": {
    "collapsed": false
   },
   "outputs": [],
   "source": [
    "print (np.diag ([1, 2, 3]))"
   ]
  },
  {
   "cell_type": "markdown",
   "metadata": {},
   "source": [
    "**Exercise 2** (1 point). The following code creates an identity matrix in two different ways, which are found to be equal according to the assertion. But in fact there is a subtle difference between the `I` and `I_u` matrices created below; can you spot it? Explain that difference in the `YOUR ANSWER HERE` (Markdown) cell that follows the code."
   ]
  },
  {
   "cell_type": "code",
   "execution_count": null,
   "metadata": {
    "collapsed": false
   },
   "outputs": [],
   "source": [
    "n = 3\n",
    "I = np.eye (n)\n",
    "\n",
    "print (\"==> I = eye(n):\")\n",
    "print (I)\n",
    "\n",
    "u = [1] * n\n",
    "I_u = np.diag (u)\n",
    "\n",
    "print (\"\\n==> u:\\n\", u)\n",
    "print (\"==> I_u = diag (u):\\n\", I_u)\n",
    "\n",
    "assert np.all (I_u == I)"
   ]
  },
  {
   "cell_type": "markdown",
   "metadata": {
    "deletable": false,
    "nbgrader": {
     "checksum": "7e3f36ad8ac2cb7a5d9383312b73a6d2",
     "grade": true,
     "grade_id": "explain_diff",
     "locked": false,
     "points": 1,
     "solution": true
    }
   },
   "source": [
    "YOUR ANSWER HERE"
   ]
  },
  {
   "cell_type": "markdown",
   "metadata": {},
   "source": [
    "You can also create empty (uninitialized) arrays. What does the following produce?"
   ]
  },
  {
   "cell_type": "code",
   "execution_count": null,
   "metadata": {
    "collapsed": false
   },
   "outputs": [],
   "source": [
    "A = np.empty ((3, 4)) # An \"empty\" 3 x 4 matrix\n",
    "print (A)"
   ]
  },
  {
   "cell_type": "markdown",
   "metadata": {},
   "source": [
    "## Indexing and slicing\n",
    "\n",
    "The usual 0-based slicing and indexing notation you know and love from lists is also supported for Numpy arrays. In the multidimensional case,  including their natural multidimensional analogues with index ranges separated by commas."
   ]
  },
  {
   "cell_type": "code",
   "execution_count": null,
   "metadata": {
    "collapsed": false
   },
   "outputs": [],
   "source": [
    "# Recall: C\n",
    "print (C)"
   ]
  },
  {
   "cell_type": "markdown",
   "metadata": {},
   "source": [
    "What part of C will the following slice extract? Run the code to find out."
   ]
  },
  {
   "cell_type": "code",
   "execution_count": null,
   "metadata": {
    "collapsed": false
   },
   "outputs": [],
   "source": [
    "print (C[0, 2, :])"
   ]
  },
  {
   "cell_type": "markdown",
   "metadata": {},
   "source": [
    "What will the following slice return? Run the code to find out."
   ]
  },
  {
   "cell_type": "code",
   "execution_count": null,
   "metadata": {
    "collapsed": false
   },
   "outputs": [],
   "source": [
    "print (C[1, 0, ::-1])"
   ]
  },
  {
   "cell_type": "markdown",
   "metadata": {},
   "source": [
    "**Exercise 3** (5 points). Consider the following $6 \\times 6$ matrix, which has 4 different subsets highlighted.\n",
    "\n",
    "<img src=\"slicing-exercise.png\" alt=\"Exercise: Extract these slices\" width=\"240\">\n",
    "\n",
    "Write some code to generate this matrix, named `Z`. Then, for each subset illustrated above, write an indexing or slicing expression that extracts the subset. Store the result of each slice into `Z_green`, `Z_red`, `Z_orange`, and `Z_cyan`."
   ]
  },
  {
   "cell_type": "code",
   "execution_count": null,
   "metadata": {
    "collapsed": false,
    "deletable": false,
    "nbgrader": {
     "checksum": "1f3caf7a4069d85724d3da968de64a1d",
     "grade": false,
     "grade_id": "create_Z",
     "locked": false,
     "solution": true
    }
   },
   "outputs": [],
   "source": [
    "# Hint: What do the following do?\n",
    "#   np.arange (0, 51, 10)\n",
    "#   np.arange (0, 51, 10)[:, np.newaxis]\n",
    "\n",
    "# YOUR CODE HERE\n",
    "raise NotImplementedError()"
   ]
  },
  {
   "cell_type": "code",
   "execution_count": null,
   "metadata": {
    "collapsed": false,
    "deletable": false,
    "nbgrader": {
     "checksum": "5ba2d769c7f7534e17eab32ec1e3d2c8",
     "grade": true,
     "grade_id": "check_Z",
     "locked": true,
     "points": 5,
     "solution": false
    }
   },
   "outputs": [],
   "source": [
    "print (\"==> Z:\\n\", Z)\n",
    "assert (Z == np.array ([np.arange (0, 6),\n",
    "                        np.arange (10, 16),\n",
    "                        np.arange (20, 26),\n",
    "                        np.arange (30, 36),\n",
    "                        np.arange (40, 46),\n",
    "                        np.arange (50, 56)])).all ()\n",
    "\n",
    "print (\"\\n==> Orange slice:\\n\", Z_orange)\n",
    "assert (Z_orange == np.array ([3, 4])).all ()\n",
    "\n",
    "print (\"\\n==> Red slice:\\n\", Z_red)\n",
    "assert (Z_red == np.array ([2, 12, 22, 32, 42, 52])).all ()\n",
    "\n",
    "print (\"\\n==> Cyan slice:\\n\", Z_cyan)\n",
    "assert (Z_cyan == np.array ([[44, 45], [54, 55]])).all ()\n",
    "\n",
    "print (\"\\n==> Green slice:\\n\", Z_green)\n",
    "assert (Z_green == np.array ([[20, 22, 24], [40, 42, 44]])).all ()"
   ]
  },
  {
   "cell_type": "markdown",
   "metadata": {},
   "source": [
    "## Slices are views\n",
    "\n",
    "To help save memory, when you slice a NumPy array, you are actually creating a _view_ into that array. That means modifications through the view will modify the original array."
   ]
  },
  {
   "cell_type": "code",
   "execution_count": null,
   "metadata": {
    "collapsed": false
   },
   "outputs": [],
   "source": [
    "print (\"==> Recall C: %s\" % str (C.shape))\n",
    "print (C)"
   ]
  },
  {
   "cell_type": "code",
   "execution_count": null,
   "metadata": {
    "collapsed": false
   },
   "outputs": [],
   "source": [
    "C_view = C[1, 0::2, 1::2] # Question: What does this produce?\n",
    "print (\"==> C_view: %s\" % str (C_view.shape))\n",
    "print (C_view)"
   ]
  },
  {
   "cell_type": "code",
   "execution_count": null,
   "metadata": {
    "collapsed": false
   },
   "outputs": [],
   "source": [
    "C_view[:, :] = -C_view[::-1, ::-1] # Question: What does this do?\n",
    "print (C_view)"
   ]
  },
  {
   "cell_type": "code",
   "execution_count": null,
   "metadata": {
    "collapsed": false
   },
   "outputs": [],
   "source": [
    "print (C)"
   ]
  },
  {
   "cell_type": "markdown",
   "metadata": {},
   "source": [
    "You can force a copy using the `.copy()` method:"
   ]
  },
  {
   "cell_type": "code",
   "execution_count": null,
   "metadata": {
    "collapsed": false
   },
   "outputs": [],
   "source": [
    "C_copy = C[1, 0::2, 1::2].copy ()\n",
    "C_copy[:, :] = -C_copy[::-1, ::-1]\n",
    "\n",
    "print (\"==> C_view:\")\n",
    "print (C_view)\n",
    "\n",
    "print (\"\\n==> C_copy:\")\n",
    "print (C_copy)"
   ]
  },
  {
   "cell_type": "markdown",
   "metadata": {},
   "source": [
    "And to check whether two Numpy array variables point to the same object, you can use the `numpy.may_share_memory()` function:"
   ]
  },
  {
   "cell_type": "code",
   "execution_count": null,
   "metadata": {
    "collapsed": false
   },
   "outputs": [],
   "source": [
    "print (\"C and C_view share memory: %s\" % np.may_share_memory (C, C_view))\n",
    "print (\"C and C_copy share memory: %s\" % np.may_share_memory (C, C_copy))"
   ]
  },
  {
   "cell_type": "markdown",
   "metadata": {},
   "source": [
    "**Exercise 4** (3 points). Complete the prime number sieve algorithm, which is illustrated below.\n",
    "\n",
    "<img src=\"prime-sieve.png\" alt=\"Exercise: Extract these slices\" width=\"480\">\n",
    "\n",
    "That is, given a positive integer $n$, the algorithm iterates from $i \\in \\{2, 3, 4, \\ldots, \\left\\lfloor\\sqrt{n}\\right\\rfloor\\}$, repeatedly \"crossing out\" values that are strict multiples of $i$. \"Crossing out\" means maintaining an array of, say, booleans, and setting values that are multiples of $i$ to `False`."
   ]
  },
  {
   "cell_type": "code",
   "execution_count": null,
   "metadata": {
    "collapsed": false,
    "deletable": false,
    "nbgrader": {
     "checksum": "2eeb476bfd7cfcf266c8af9efe5cc8de",
     "grade": false,
     "grade_id": "prime_sieve",
     "locked": false,
     "solution": true
    }
   },
   "outputs": [],
   "source": [
    "from math import sqrt\n",
    "\n",
    "def sieve (n):\n",
    "    \"\"\"\n",
    "    Returns the prime number 'sieve' shown above.\n",
    "    \n",
    "    That is, this function returns an array `X[0:n+1]`\n",
    "    such that `X[i]` is true if and only if `i` is prime.\n",
    "    \"\"\"\n",
    "    is_prime = np.empty (n+1, dtype=bool) # the \"sieve\"\n",
    "\n",
    "    # Initial values\n",
    "    is_prime[0:2] = False # {0, 1} are _not_ considered prime\n",
    "    is_prime[2:] = True # All other values might be prime\n",
    "\n",
    "    # Implement the sieving loop\n",
    "    # YOUR CODE HERE\n",
    "    raise NotImplementedError()\n",
    "    \n",
    "    return is_prime\n",
    "\n",
    "# Prints your primes\n",
    "print (\"==> Primes through 20:\\n\", np.nonzero (sieve (20))[0])"
   ]
  },
  {
   "cell_type": "code",
   "execution_count": null,
   "metadata": {
    "collapsed": false,
    "deletable": false,
    "nbgrader": {
     "checksum": "99a64fc0190abc8cdba6386398befdb5",
     "grade": true,
     "grade_id": "prime_sieve_test",
     "locked": true,
     "points": 3,
     "solution": false
    }
   },
   "outputs": [],
   "source": [
    "is_prime = sieve (20)\n",
    "assert len (is_prime) == 21\n",
    "assert (is_prime == np.array ([False, False, True, True, False, True, False, True, False, False, False, True, False, True, False, False, False, True, False, True, False])).all ()"
   ]
  },
  {
   "cell_type": "markdown",
   "metadata": {},
   "source": [
    "## Indirect addressing\n",
    "\n",
    "Two other common ways to index a Numpy array are to use a boolean mask or to use a set of integer indices."
   ]
  },
  {
   "cell_type": "code",
   "execution_count": null,
   "metadata": {
    "collapsed": false
   },
   "outputs": [],
   "source": [
    "np.random.seed(3)\n",
    "x = np.random.randint(0, 20, 15) # 15 random ints in [0, 20)\n",
    "print (x)"
   ]
  },
  {
   "cell_type": "markdown",
   "metadata": {},
   "source": [
    "Before looking at how to use a boolean mask for indexing, let's create one.\n",
    "\n",
    "**Exercise 5** (1 point). Given the input array, `x[:]`, above, create an array, `mask_mult_3[:]` such that `mask_mult_3[i]` is true only if `x[i]` is a positive multiple of 3."
   ]
  },
  {
   "cell_type": "code",
   "execution_count": null,
   "metadata": {
    "collapsed": false,
    "deletable": false,
    "nbgrader": {
     "checksum": "8e07e2c94176962381e0f8b39cf70602",
     "grade": false,
     "grade_id": "mask_mult_3",
     "locked": false,
     "solution": true
    }
   },
   "outputs": [],
   "source": [
    "# YOUR CODE HERE\n",
    "raise NotImplementedError()"
   ]
  },
  {
   "cell_type": "code",
   "execution_count": null,
   "metadata": {
    "collapsed": false,
    "deletable": false,
    "nbgrader": {
     "checksum": "9a226b25ac1f6e3e9dedc154362f2342",
     "grade": true,
     "grade_id": "mask_mult_3_test",
     "locked": true,
     "points": 1,
     "solution": false
    }
   },
   "outputs": [],
   "source": [
    "print (\"x:\", x)\n",
    "print (\"mask_mult_3:\", mask_mult_3)\n",
    "print (\"==> x[mask_mult_3]:\", x[mask_mult_3])\n",
    "\n",
    "inv_mask_mult_3 = np.invert (mask_mult_3)\n",
    "assert ((x[mask_mult_3] % 3) == np.zeros (sum (mask_mult_3))).all ()\n",
    "assert (((x[inv_mask_mult_3] % 3) != np.zeros (sum (inv_mask_mult_3))) | (x[inv_mask_mult_3] == 0)).all ()"
   ]
  },
  {
   "cell_type": "code",
   "execution_count": null,
   "metadata": {
    "collapsed": false
   },
   "outputs": [],
   "source": [
    "# Pull out an arbitrary subset of elements\n",
    "inds = np.array ([3, 7, 8, 12])\n",
    "print (x[inds])"
   ]
  },
  {
   "cell_type": "code",
   "execution_count": null,
   "metadata": {
    "collapsed": true
   },
   "outputs": [],
   "source": []
  }
 ],
 "metadata": {
  "kernelspec": {
   "display_name": "Python 3",
   "language": "python",
   "name": "python3"
  },
  "language_info": {
   "codemirror_mode": {
    "name": "ipython",
    "version": 3
   },
   "file_extension": ".py",
   "mimetype": "text/x-python",
   "name": "python",
   "nbconvert_exporter": "python",
   "pygments_lexer": "ipython3",
   "version": "3.5.1"
  }
 },
 "nbformat": 4,
 "nbformat_minor": 0
}
