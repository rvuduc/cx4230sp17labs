{
 "cells": [
  {
   "cell_type": "markdown",
   "metadata": {
    "nbgrader": {
     "grade": false,
     "solution": false
    }
   },
   "source": [
    "# Important note!\n",
    "\n",
    "Before you turn this problem in, make sure everything runs as expected. First, **restart the kernel** (in the menubar, select Kernel$\\rightarrow$Restart) and then **run all cells** (in the menubar, select Cell$\\rightarrow$Run All).\n",
    "\n",
    "Make sure you fill in any place that says `YOUR CODE HERE` or \"YOUR ANSWER HERE\", as well as your GT login and the GT logins of any of your collaborators below. (The GT logins are worth 1 point per notebook, so don't miss the opportunity to get a free point!)"
   ]
  },
  {
   "cell_type": "code",
   "execution_count": null,
   "metadata": {
    "collapsed": false,
    "nbgrader": {
     "grade": false,
     "locked": false,
     "solution": false
    }
   },
   "outputs": [],
   "source": [
    "YOUR_ID = \"\" # Please enter your GT login, e.g., \"rvuduc3\" or \"gtg911x\"\n",
    "COLLABORATORS = [] # list of strings of your collaborators' IDs"
   ]
  },
  {
   "cell_type": "code",
   "execution_count": null,
   "metadata": {
    "collapsed": false,
    "deletable": false,
    "nbgrader": {
     "checksum": "b11295002cc2b9549d6a2b01721b6701",
     "grade": true,
     "grade_id": "who__test",
     "locked": true,
     "points": 1,
     "solution": false
    }
   },
   "outputs": [],
   "source": [
    "import re\n",
    "\n",
    "RE_CHECK_ID = re.compile (r'''[a-zA-Z]+\\d+|[gG][tT][gG]\\d+[a-zA-Z]''')\n",
    "assert RE_CHECK_ID.match (YOUR_ID) is not None\n",
    "\n",
    "collab_check = [RE_CHECK_ID.match (i) is not None for i in COLLABORATORS]\n",
    "assert all (collab_check)\n",
    "\n",
    "del collab_check\n",
    "del RE_CHECK_ID\n",
    "del re"
   ]
  },
  {
   "cell_type": "markdown",
   "metadata": {},
   "source": [
    "**Jupyter / IPython version check.** The following code cell verifies that you are using the correct version of Jupyter/IPython."
   ]
  },
  {
   "cell_type": "code",
   "execution_count": null,
   "metadata": {
    "collapsed": true
   },
   "outputs": [],
   "source": [
    "import IPython\n",
    "assert IPython.version_info[0] >= 3, \"Your version of IPython is too old, please update it.\""
   ]
  },
  {
   "cell_type": "markdown",
   "metadata": {},
   "source": [
    "# The Fibonacci series [7 points]\n",
    "\n",
    "Recall the recurrence that defines the Fibonacci sequence,\n",
    "\n",
    "$$\n",
    "\\begin{eqnarray}\n",
    "    y_t & = & y_{t-1} + y_{t-2},\n",
    "\\end{eqnarray}\n",
    "$$\n",
    "\n",
    "where $y_0 = 0$ and $y_1 = 1$. You can view it as a second-order linear discrete-time dynamical system."
   ]
  },
  {
   "cell_type": "markdown",
   "metadata": {},
   "source": [
    "Let's convert this recurrence into a first-order system in two variables. Let $x_t \\equiv y_{t-1}$. Then the system becomes,\n",
    "\n",
    "$$\n",
    "\\begin{array}{rclcl}\n",
    "  x_t & = &         &   & y_{t-1} \\\\\n",
    "  y_t & = & x_{t-1} & + & y_{t-1}.\n",
    "\\end{array}\n",
    "$$\n",
    "\n",
    "**The Fibonacci sequence as a population model.** Fibonacci proposed this system as an [idealized model of population growth](https://en.wikipedia.org/wiki/Fibonacci_number) in rabbits in the absence of predators and death. Let $t$ denote time, measured in \"reproductive cycles.\" The number of adult rabbits at time $t-1$ is $y_{t-1}$ and the number of baby rabbits is $x_{t-1}$. By the next cycle, the babies become adults, meaning the new adult population $y_t$ is $y_{t-1} + x_{t-1}$. Meanwhile, the adults at time $t-1$ \"get busy\" breeding, effectively doubling the population; that is, those $y_{t-1}$ adults produce $x_t = y_{t-1}$ new babies.\n",
    "\n",
    "> I suppose one would, in this case, interpret the initial conditions of $x_0=0$ and $y_0=1$ producing some offspring at $t=1$ as a case of immaculate [Leoporidic](https://en.wikipedia.org/wiki/Leporidae) conception."
   ]
  },
  {
   "cell_type": "markdown",
   "metadata": {},
   "source": [
    "**Matrix interpretation.** This model can be compactly rewritten using matrix notation. Let\n",
    "\n",
    "$$\n",
    "\\begin{eqnarray}\n",
    "  z_t & = & \\left( \\begin{array}{c} x_t \\\\ y_t \\end{array} \\right) \\\\\n",
    "    M & = & \\left( \\begin{array}{cc}\n",
    "                     0 & 1 \\\\\n",
    "                     1 & 1\n",
    "                   \\end{array} \\right).\n",
    "\\end{eqnarray}\n",
    "$$\n",
    "\n",
    "where $z_0 \\equiv \\left( \\begin{array}{cc} 1 & 1 \\end{array} \\right)^T$. Then the system is\n",
    "\n",
    "$$\n",
    "\\begin{eqnarray}\n",
    "  z_t & = & M z_{t-1},\n",
    "\\end{eqnarray}\n",
    "$$\n",
    "\n",
    "which is first-order. You can expand this recurrence to see that the state $z_t$ at time $t$ is, in terms of just the initial state $z_0$,\n",
    "\n",
    "$$\n",
    "\\begin{eqnarray}\n",
    "  z_t & = & M^t z_0.\n",
    "\\end{eqnarray}\n",
    "$$"
   ]
  },
  {
   "cell_type": "markdown",
   "metadata": {},
   "source": [
    "## A NumPy/SciPy implementation\n",
    "\n",
    "**Exercise 1** (3 points). Implement a Fibonacci \"simulator\" using the NumPy/SciPy API. In particular, given $z_0$ it should compute $z_i = M z_{i-1}$ for all $1 \\leq i \\leq t$. It should return a NumPy matrix `Z` of size $2 \\times (t+1)$, where each column $i$ is a state vector $z_i$ for $i \\in [0, t]$."
   ]
  },
  {
   "cell_type": "code",
   "execution_count": null,
   "metadata": {
    "collapsed": false,
    "deletable": false,
    "nbgrader": {
     "checksum": "d087901ad7cc04ac0ff6d24dbcf0183b",
     "grade": false,
     "grade_id": "fib_sim",
     "locked": false,
     "solution": true
    }
   },
   "outputs": [],
   "source": [
    "import numpy as np\n",
    "\n",
    "def fib_sim (t_max, z0=None):\n",
    "    if z0 is None:\n",
    "        z0 = np.array ([0, 1], dtype=int)\n",
    "        \n",
    "    assert type (z0) is np.ndarray\n",
    "        \n",
    "    Z = np.zeros ((2, t_max+1), dtype=z0.dtype)\n",
    "    Z[:, 0] = z0\n",
    "\n",
    "    # YOUR CODE HERE\n",
    "    raise NotImplementedError()\n",
    "    \n",
    "    return Z"
   ]
  },
  {
   "cell_type": "code",
   "execution_count": null,
   "metadata": {
    "collapsed": false,
    "deletable": false,
    "nbgrader": {
     "checksum": "c662696e024eba2db6cbcb3f1f28fdd4",
     "grade": true,
     "grade_id": "fib_sim_test",
     "locked": true,
     "points": 3,
     "solution": false
    }
   },
   "outputs": [],
   "source": [
    "Z = fib_sim (10)\n",
    "assert type (Z) is np.ndarray\n",
    "assert Z.dtype == int\n",
    "assert Z.shape == (2, 11)\n",
    "assert (Z[1, 10] == 89)\n",
    "assert (Z[:, 0] == np.array ([0, 1])).all ()\n",
    "assert (Z[1, :-1] == Z[0, 1:]).all ()\n",
    "assert (Z[0, :-1] == (Z[1, 1:] - Z[1, :-1])).all ()\n",
    "print (Z)"
   ]
  },
  {
   "cell_type": "markdown",
   "metadata": {},
   "source": [
    "Let's also make a log-log plot of the sequence result. To what value does the ratio of $y_t/x_t$ converge in the limit of $t \\rightarrow \\infty$?"
   ]
  },
  {
   "cell_type": "code",
   "execution_count": null,
   "metadata": {
    "collapsed": false
   },
   "outputs": [],
   "source": [
    "%matplotlib inline\n",
    "import matplotlib.pyplot as plt\n",
    "\n",
    "plt.loglog (Z[0, :], Z[1, :], '*--')\n",
    "print (Z[1, :] / Z[0, :])"
   ]
  },
  {
   "cell_type": "markdown",
   "metadata": {},
   "source": [
    "## Asymptotic behavior\n",
    "\n",
    "To understand the long-term behavior of this system, we'll need an important tool from linear algebra, namely, _eigenvalues_ and _eigenvectors_. We'll discuss this topic on the whiteboard in class; for a visual review, see also: http://setosa.io/ev/eigenvectors-and-eigenvalues/\n",
    "\n",
    "After seeing that theory, here is the SciPy code you could use to compute the eigenvalues and eigenvectors of $M$ for the Fibonacci matrix."
   ]
  },
  {
   "cell_type": "code",
   "execution_count": null,
   "metadata": {
    "collapsed": false
   },
   "outputs": [],
   "source": [
    "# For pretty-printing the results\n",
    "from IPython.display import display, Markdown, Latex\n",
    "from pandas import DataFrame"
   ]
  },
  {
   "cell_type": "code",
   "execution_count": null,
   "metadata": {
    "collapsed": true
   },
   "outputs": [],
   "source": [
    "from scipy.linalg import eig\n",
    "\n",
    "def eig_ordered (A):\n",
    "    \"\"\"\n",
    "    Returns the eigenvalues and eigenvectors of a matrix.\n",
    "    The eigenvalues will be returned as an array whose values\n",
    "    are sorted in descending order of magnitude; the\n",
    "    eigenvectors will be returned as columns of a matrix in\n",
    "    the same order as the eigenvalues.\n",
    "    \"\"\"\n",
    "    l, V = eig (A)\n",
    "    order = np.argsort (-np.abs (l))\n",
    "    return l[order], V[:, order]"
   ]
  },
  {
   "cell_type": "code",
   "execution_count": null,
   "metadata": {
    "collapsed": true
   },
   "outputs": [],
   "source": [
    "M = np.array ([[0, 1],\n",
    "               [1, 1]])\n",
    "\n",
    "l, V = eig_ordered (M)\n",
    "L = np.diag (l)"
   ]
  },
  {
   "cell_type": "code",
   "execution_count": null,
   "metadata": {
    "collapsed": false
   },
   "outputs": [],
   "source": [
    "display (Markdown (r\"Eigendecomposition, $M V = V \\Lambda$, where:\"))\n",
    "display (Markdown (r\"$M = $\"), DataFrame (M))\n",
    "display (Markdown (r\"$\\Lambda =$\"), DataFrame (L))\n",
    "display (Markdown (r\"$V =$\"), DataFrame (V))"
   ]
  },
  {
   "cell_type": "code",
   "execution_count": null,
   "metadata": {
    "collapsed": false
   },
   "outputs": [],
   "source": [
    "LIM = 100\n",
    "RES = 101\n",
    "x = np.linspace (-LIM, LIM, RES)\n",
    "y = np.linspace (-LIM, LIM, RES)[::-1, np.newaxis]\n",
    "\n",
    "X = np.tile (x, (RES, 1))\n",
    "Y = np.tile (y, (1, RES))\n",
    "XY = np.transpose (np.array ([X, Y]), (1, 0, 2))\n",
    "Z = M.dot (XY)\n",
    "\n",
    "plt.streamplot (x, y, Z[0, :, :], Z[1, :, :])\n",
    "plt.plot (x, V[1, 0]/V[0, 0]*x, 'r--')\n",
    "plt.axis ('square')\n",
    "plt.axis ([-LIM, LIM, -LIM, LIM])"
   ]
  },
  {
   "cell_type": "markdown",
   "metadata": {},
   "source": [
    "**Exercise 2** (3 points). Analyze the eigendecomposition of the oscillatory system from Lab 0, Part C. Use the blank space for code and explain your results, below."
   ]
  },
  {
   "cell_type": "code",
   "execution_count": null,
   "metadata": {
    "collapsed": false,
    "deletable": false,
    "nbgrader": {
     "checksum": "0191424eec3d579b3e13e4b407932865",
     "grade": true,
     "grade_id": "oscillator_py",
     "locked": false,
     "points": 1,
     "solution": true
    }
   },
   "outputs": [],
   "source": [
    "# Use this code cell for your experiment(s)\n",
    "\n",
    "# YOUR CODE HERE\n",
    "raise NotImplementedError()"
   ]
  },
  {
   "cell_type": "markdown",
   "metadata": {
    "collapsed": true,
    "deletable": false,
    "nbgrader": {
     "checksum": "c2b18da06627597f8661c5432723a0ac",
     "grade": true,
     "grade_id": "oscillator_md",
     "locked": false,
     "points": 2,
     "solution": true
    }
   },
   "source": [
    "YOUR ANSWER HERE"
   ]
  },
  {
   "cell_type": "code",
   "execution_count": null,
   "metadata": {
    "collapsed": true
   },
   "outputs": [],
   "source": []
  }
 ],
 "metadata": {
  "kernelspec": {
   "display_name": "Python 3",
   "language": "python",
   "name": "python3"
  },
  "language_info": {
   "codemirror_mode": {
    "name": "ipython",
    "version": 3
   },
   "file_extension": ".py",
   "mimetype": "text/x-python",
   "name": "python",
   "nbconvert_exporter": "python",
   "pygments_lexer": "ipython3",
   "version": "3.5.1"
  }
 },
 "nbformat": 4,
 "nbformat_minor": 0
}
