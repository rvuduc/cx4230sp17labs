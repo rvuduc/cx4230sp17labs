{
 "cells": [
  {
   "cell_type": "markdown",
   "metadata": {
    "nbgrader": {
     "grade": false,
     "solution": false
    }
   },
   "source": [
    "# Important note!\n",
    "\n",
    "Before you turn this problem in, make sure everything runs as expected. First, **restart the kernel** (in the menubar, select Kernel$\\rightarrow$Restart) and then **run all cells** (in the menubar, select Cell$\\rightarrow$Run All).\n",
    "\n",
    "Make sure you fill in any place that says `YOUR CODE HERE` or \"YOUR ANSWER HERE\", as well as your GT login and the GT logins of any of your collaborators below. (The GT logins are worth 1 point per notebook, so don't miss the opportunity to get a free point!)"
   ]
  },
  {
   "cell_type": "code",
   "execution_count": null,
   "metadata": {
    "collapsed": false,
    "nbgrader": {
     "grade": false,
     "locked": false,
     "solution": false
    }
   },
   "outputs": [],
   "source": [
    "YOUR_ID = \"\" # Please enter your GT login, e.g., \"rvuduc3\" or \"gtg911x\"\n",
    "COLLABORATORS = [] # list of strings of your collaborators' IDs"
   ]
  },
  {
   "cell_type": "code",
   "execution_count": null,
   "metadata": {
    "collapsed": false,
    "deletable": false,
    "nbgrader": {
     "checksum": "b11295002cc2b9549d6a2b01721b6701",
     "grade": true,
     "grade_id": "who__test",
     "locked": true,
     "points": 1,
     "solution": false
    }
   },
   "outputs": [],
   "source": [
    "import re\n",
    "\n",
    "RE_CHECK_ID = re.compile (r'''[a-zA-Z]+\\d+|[gG][tT][gG]\\d+[a-zA-Z]''')\n",
    "assert RE_CHECK_ID.match (YOUR_ID) is not None\n",
    "\n",
    "collab_check = [RE_CHECK_ID.match (i) is not None for i in COLLABORATORS]\n",
    "assert all (collab_check)\n",
    "\n",
    "del collab_check\n",
    "del RE_CHECK_ID\n",
    "del re"
   ]
  },
  {
   "cell_type": "markdown",
   "metadata": {},
   "source": [
    "**Jupyter / IPython version check.** The following code cell verifies that you are using the correct version of Jupyter/IPython."
   ]
  },
  {
   "cell_type": "code",
   "execution_count": null,
   "metadata": {
    "collapsed": true
   },
   "outputs": [],
   "source": [
    "import IPython\n",
    "assert IPython.version_info[0] >= 3, \"Your version of IPython is too old, please update it.\""
   ]
  },
  {
   "cell_type": "markdown",
   "metadata": {},
   "source": [
    "# Analyzing the SIR-CA infection model\n",
    "\n",
    "The goal of this notebook is to analyze theoretically the SIR-CA model of [Lab 4](https://github.com/rvuduc/cx4230sp17labs/tree/master/lab4). The SIR-CA model is special in the sense that this analysis is tractable, using the mathematical tool of Markov chains."
   ]
  },
  {
   "cell_type": "markdown",
   "metadata": {},
   "source": [
    "## Setup\n",
    "\n",
    "Run the following code cells to get started."
   ]
  },
  {
   "cell_type": "code",
   "execution_count": null,
   "metadata": {
    "collapsed": true
   },
   "outputs": [],
   "source": [
    "# Our usual multidimensional array tools\n",
    "import numpy as np\n",
    "import scipy as sp\n",
    "import scipy.sparse\n",
    "\n",
    "# Some handy combinatorial functions, e.g.,\n",
    "# for generating permutations and combinations.\n",
    "# See: https://docs.python.org/3/library/itertools.html\n",
    "import itertools"
   ]
  },
  {
   "cell_type": "code",
   "execution_count": null,
   "metadata": {
    "collapsed": true
   },
   "outputs": [],
   "source": [
    " # Core plotting support\n",
    "import matplotlib.pyplot as plt\n",
    "%matplotlib inline"
   ]
  },
  {
   "cell_type": "markdown",
   "metadata": {},
   "source": [
    "## Monte Carlo simulations for a 1-D, 3-cell grid\n",
    "\n",
    "Let's start by experimentally analyzing the simplest case, which is a one-dimensional grid consisting of just three (3) cells.\n",
    "\n",
    "The following code cell helps implement an SIR-CA model for the case of a 1-D world with empty left-right boundaries. Note that some functions accept additional parameters for the length of infection, $k$ (variable `k`), and conditional probability of infection given exposure, $\\tau$ (variable `tau`)."
   ]
  },
  {
   "cell_type": "code",
   "execution_count": null,
   "metadata": {
    "collapsed": false
   },
   "outputs": [],
   "source": [
    "EMPTY = -1\n",
    "SUSCEPTIBLE = 0\n",
    "INFECTED = 1\n",
    "\n",
    "def count (G):\n",
    "    \"\"\"\n",
    "    Counts the number of locations in a NumPy array, `G`,\n",
    "    where `np.where (G)` holds.\n",
    "    \"\"\"\n",
    "    return len (np.where (G)[0])\n",
    "\n",
    "def find (G):\n",
    "    \"\"\"\n",
    "    Returns the set of locations of a NumPy array, `G`,\n",
    "    where `np.where (G)` holds.\n",
    "    \"\"\"\n",
    "    assert type (G) is np.ndarray\n",
    "    return {i for i in np.where (G)[0]}\n",
    "\n",
    "def create_world_1d (init_state):\n",
    "    \"\"\"\n",
    "    Creates a one-dimensional world. If the initial\n",
    "    state is not given, creates a world full of\n",
    "    susceptible individuals with a single index case\n",
    "    (approximately in the center).\n",
    "    \"\"\"\n",
    "    if type (init_state) is int: # Interpret as a dimension\n",
    "        n = init_state\n",
    "        G = EMPTY * np.ones (n+2)\n",
    "        G[1:-1] = SUSCEPTIBLE\n",
    "        G[int ((n+2)/2)] = INFECTED\n",
    "    else:\n",
    "        G = np.append (np.append ([EMPTY], init_state), [EMPTY])\n",
    "    return G\n",
    "\n",
    "def empty (G):\n",
    "    \"\"\"\n",
    "    Given a grid, returns a new grid whose entries are\n",
    "    1 wherever the original grid is EMPTY or 0\n",
    "    otherwise.\n",
    "    \"\"\"\n",
    "    return (G == EMPTY).astype (int)\n",
    "\n",
    "def susceptible (G):\n",
    "    \"\"\"\n",
    "    Given a grid, returns a new grid whose entries are\n",
    "    1 wherever the original grid is SUSCEPTIBLE or 0 \n",
    "    otherwise.\n",
    "    \"\"\"\n",
    "    return (G == SUSCEPTIBLE).astype (int)\n",
    "\n",
    "def infected (G, k):\n",
    "    \"\"\"\n",
    "    Given a grid, returns a new grid whose entries are\n",
    "    1 wherever the original grid is in any day of\n",
    "    infection [INFECTED, INFECTED+k) or 0 otherwise.\n",
    "    \"\"\"\n",
    "    assert k >= INFECTED\n",
    "    return ((G >= INFECTED) & (G < INFECTED+k)).astype (int)\n",
    "\n",
    "def recovered (G, k):\n",
    "    \"\"\"\n",
    "    Given a grid, returns a new grid whose entries are\n",
    "    1 wherever the original grid is RECOVERED or 0 \n",
    "    otherwise.\n",
    "    \"\"\"\n",
    "    return (G == INFECTED+k).astype (int)\n",
    "\n",
    "def exposed (G, k):\n",
    "    \"\"\"\n",
    "    Given a grid, returns a new grid whose entries are\n",
    "    1 wherever the original grid is exposed to infection\n",
    "    or 0 otherwise.\n",
    "    \"\"\"\n",
    "    S = susceptible (G)\n",
    "    I = infected (G, k)\n",
    "    E = np.zeros (G.shape, dtype=int)\n",
    "    E[1:-1] = S[1:-1] & (I[0:-2] | I[2:])\n",
    "    return E\n",
    "\n",
    "def spreads (G, k, tau):\n",
    "    \"\"\"\n",
    "    Given a grid `G`, returns a new grid of newly infected\n",
    "    cells. That is, this function assigns a 1 to a\n",
    "    fraction of exposed cells and 0 to all other cells.\n",
    "    The new infections are chosen independently and\n",
    "    uniformly at random with the prescribed probability\n",
    "    (`tau`).\n",
    "    \"\"\"\n",
    "    R = np.random.uniform (size=G.shape)\n",
    "    return exposed (G, k) * (R < tau)\n",
    "\n",
    "def step (G, k, tau):\n",
    "    \"\"\"\n",
    "    Given a grid, computes a new grid state by applying\n",
    "    the SIR-CA model.\n",
    "    \"\"\"\n",
    "    return G + infected (G, k) + spreads (G, k, tau)\n",
    "\n",
    "def sim (init_state, k, tau, t_max=None):\n",
    "    \"\"\"\n",
    "    Simulates a 1-D SIR-CA system.\n",
    "    \"\"\"\n",
    "    G = create_world_1d (init_state)\n",
    "\n",
    "    if t_max is None:\n",
    "        t_max = (len (G)-2) * (k+1)\n",
    "        \n",
    "    for t in range (t_max):\n",
    "        G = step (G, k, tau)\n",
    "    return G"
   ]
  },
  {
   "cell_type": "markdown",
   "metadata": {},
   "source": [
    "**Exercise 1** (2 points). Use the above functions to conduct the following experiment. Simulate the SIR-CA system for $n=3$ cells (excluding the boundaries), $\\tau=0.2$ and $k=2$. Perform $s$ simulations; for each simulation, count and record the number of susceptible, infected, and recovered individuals. Record these results in three NumPy arrays, `num_S`, `num_I`, and `num_R`, each of length $s$.\n",
    "\n",
    "In the code below, a constant `NUM_SIMS` initializes $s=10$. Later, in exercise 3, you will adjust this value."
   ]
  },
  {
   "cell_type": "code",
   "execution_count": null,
   "metadata": {
    "collapsed": false,
    "deletable": false,
    "nbgrader": {
     "checksum": "36bb5cde25700d7ab9582b67cc60c0a8",
     "grade": false,
     "grade_id": "sim",
     "locked": false,
     "solution": true
    },
    "scrolled": true
   },
   "outputs": [],
   "source": [
    "# Size of the 1-D world (excluding boundaries)\n",
    "N = 3\n",
    "\n",
    "# Pr[infected|exposed]\n",
    "TAU = 0.2\n",
    "\n",
    "# Length of an infection in simulation timesteps\n",
    "K = 2\n",
    "\n",
    "# Counts of {S, I, R} at the end of each simulation\n",
    "NUM_SIMS = 10\n",
    "num_S = np.zeros (NUM_SIMS, dtype=int)\n",
    "num_I = np.zeros (NUM_SIMS, dtype=int)\n",
    "num_R = np.zeros (NUM_SIMS, dtype=int)\n",
    "\n",
    "# Implement the experiment below\n",
    "\n",
    "# YOUR CODE HERE\n",
    "raise NotImplementedError()\n",
    "\n",
    "# Prints your results:\n",
    "print (\"Susceptible: {:.1f}% <= {} ...\".format (1e2/N*np.mean (num_S), num_S[:10]))\n",
    "print (\"Infected: {:.1f}% <= {} ...\".format (1e2/N*np.mean (num_I), num_I[:10]))\n",
    "print (\"Recovered: {:.1f}% <= {} ...\".format (1e2/N*np.mean (num_R), num_R[:10]))"
   ]
  },
  {
   "cell_type": "code",
   "execution_count": null,
   "metadata": {
    "collapsed": false,
    "deletable": false,
    "nbgrader": {
     "checksum": "313dd2fdcdef5dfdb44b814978dc4018",
     "grade": true,
     "grade_id": "sim_test",
     "locked": true,
     "points": 2,
     "solution": false
    }
   },
   "outputs": [],
   "source": [
    "assert (num_S + num_I + num_R == N).all ()\n",
    "assert (num_I == 0).all ()\n",
    "print (\"\\n(Passed.)\")"
   ]
  },
  {
   "cell_type": "markdown",
   "metadata": {},
   "source": [
    "**Exercise 2** (2 points). Suppose we wish to estimate the steady-state probability that the number of recovered individuals is $\\rho$. (The number of recovered individuals indicates how many individuals became infected.)\n",
    "\n",
    "Using your `num_R[:]` computed above, estimate these probabilities for $\\rho \\in \\{0, 1, 2, \\ldots, n\\}$ where $n$ is the number of individuals. Store your results in the array, `pr_R[:]`."
   ]
  },
  {
   "cell_type": "code",
   "execution_count": null,
   "metadata": {
    "collapsed": false,
    "deletable": false,
    "nbgrader": {
     "checksum": "2f22ac0a525d30d7bf87055b3160e539",
     "grade": false,
     "grade_id": "pr_R",
     "locked": false,
     "solution": true
    }
   },
   "outputs": [],
   "source": [
    "pr_R = np.zeros (N+1) # pr_R[k] == estimate of Pr[R == k]\n",
    "\n",
    "# YOUR CODE HERE\n",
    "raise NotImplementedError()\n",
    "\n",
    "for k in range (0, N+1):\n",
    "    print (\"Pr[R={}] ~ {:.3f}\".format (k, pr_R[k]))"
   ]
  },
  {
   "cell_type": "code",
   "execution_count": null,
   "metadata": {
    "collapsed": false,
    "deletable": false,
    "nbgrader": {
     "checksum": "51b32a5de31634b87ca3b4f9fa07706c",
     "grade": true,
     "grade_id": "pr_R_test",
     "locked": true,
     "points": 2,
     "solution": false
    }
   },
   "outputs": [],
   "source": [
    "assert len (pr_R) == N+1\n",
    "assert pr_R[0] == 0.0\n",
    "assert (np.abs (np.sum (pr_R) - 1.0) < 1e-15)\n",
    "print (\"\\n(Passed.)\")"
   ]
  },
  {
   "cell_type": "markdown",
   "metadata": {},
   "source": [
    "**Exercise 3** (3 points). Determine how many simulations you need to run to get a 90% confidence interval that estimates $Pr[R=k]$ to within $\\pm 0.005$. That is, adjust the number of simulations until the confidence interval for all $Pr[R=k]$ falls below $\\pm 0.005$.\n",
    "\n",
    "Your solution should print each estimate of $Pr[R=k]$ and its associated 90% confidence interval. That is, include print statements that produce output that looks something like (for `N=3`):\n",
    "\n",
    "```\n",
    "  After XX simulations:\n",
    "    Pr[R=1] = 0.### +/- 0.00###\n",
    "    Pr[R=2] = 0.### +/- 0.00###\n",
    "    Pr[R=3] = 0.### +/- 0.00###\n",
    "```"
   ]
  },
  {
   "cell_type": "code",
   "execution_count": null,
   "metadata": {
    "collapsed": false,
    "deletable": false,
    "nbgrader": {
     "checksum": "b02eb3e4d8cac192b961746df56c7ccd",
     "grade": true,
     "grade_id": "conf_int_est",
     "locked": false,
     "points": 3,
     "solution": true
    }
   },
   "outputs": [],
   "source": [
    "# YOUR CODE HERE\n",
    "raise NotImplementedError()"
   ]
  },
  {
   "cell_type": "markdown",
   "metadata": {},
   "source": [
    "## Markov chain analysis\n",
    "\n",
    "To carry out the Markov chain analysis, recall that you need to do the following.\n",
    "\n",
    "1. Define the state space, $\\Sigma$.\n",
    "2. Construct a probability transition matrix, $P \\equiv \\left(p_{ij}\\right)$ where $p_{ij} \\equiv \\mathrm{Pr}[\\sigma_j\\,|\\,\\sigma_i]$ is the conditional probability of moving to state $\\sigma_j$ starting from state $\\sigma_i$ for every pair of states $\\sigma_i, \\sigma_j \\in \\Sigma$."
   ]
  },
  {
   "cell_type": "markdown",
   "metadata": {},
   "source": [
    "For the 1-D, 3-cell system, the state space $\\Sigma$ consists of all possible grid states, $\\sigma \\equiv (g_1, g_2, g_3)$ where $g_i \\in \\left\\{ \\mathtt{S}, \\mathtt{I}_1, \\ldots, \\mathtt{I}_k, \\mathtt{R} \\right\\}$."
   ]
  },
  {
   "cell_type": "markdown",
   "metadata": {},
   "source": [
    "**Exercise 3** (2 points). Generate a Python [set()](https://docs.python.org/3/library/stdtypes.html#set) named `Sigma` that contains all possible grid-state triples.\n",
    "\n",
    "> Hint: Take a look at [`itertools.product()`](https://docs.python.org/3/library/itertools.html#itertools.product)."
   ]
  },
  {
   "cell_type": "code",
   "execution_count": null,
   "metadata": {
    "collapsed": false,
    "deletable": false,
    "nbgrader": {
     "checksum": "8caf8847adfc7dc42fbbc9f50fc69dbc",
     "grade": false,
     "grade_id": "gen_sigma",
     "locked": false,
     "solution": true
    }
   },
   "outputs": [],
   "source": [
    "CELL_VALUES = [SUSCEPTIBLE] + list (range (INFECTED, INFECTED+K+1))\n",
    "\n",
    "# Generate Sigma\n",
    "#Sigma = set (...)\n",
    "# YOUR CODE HERE\n",
    "raise NotImplementedError()\n",
    "\n",
    "print (\"For k ==\", K, \"each cell may have these values:\", CELL_VALUES)\n",
    "print (\"==>\", len (Sigma), \"possible states in total.\\n\")\n",
    "print (\"Here are the states:\")\n",
    "print (Sigma)"
   ]
  },
  {
   "cell_type": "code",
   "execution_count": null,
   "metadata": {
    "collapsed": false,
    "deletable": false,
    "nbgrader": {
     "checksum": "e57366b6913e8eb1b9346ec8e0e5c147",
     "grade": true,
     "grade_id": "gen_sigma_test",
     "locked": true,
     "points": 2,
     "solution": false
    }
   },
   "outputs": [],
   "source": [
    "assert len (Sigma) == (K+2)**N\n",
    "for i in range (0, K+2):\n",
    "    for j in range (0, K+2):\n",
    "        for k in range (0, K+2):\n",
    "            assert (i, j, k) in Sigma\n",
    "print (\"\\n(Passed.)\")"
   ]
  },
  {
   "cell_type": "markdown",
   "metadata": {},
   "source": [
    "To construct the probability transition matrix, $P$, we will eventually need to map individual states to integer indices. The following code builds two lookup tables for converting grid states to integers and vice-versa."
   ]
  },
  {
   "cell_type": "code",
   "execution_count": null,
   "metadata": {
    "collapsed": false
   },
   "outputs": [],
   "source": [
    "INDEX_TO_SIGMA = dict (enumerate (Sigma))\n",
    "SIGMA_TO_INDEX = {val: key for (key, val) in INDEX_TO_SIGMA.items ()}\n",
    "\n",
    "print (\"==> Index to state table:\\n\", INDEX_TO_SIGMA, \"\\n\")\n",
    "print (\"==> State to index table:\\n\", SIGMA_TO_INDEX)"
   ]
  },
  {
   "cell_type": "markdown",
   "metadata": {},
   "source": [
    "The states are tuples whereas the grid in our simulation is a 2-D array (with an artificial empty boundary). Here are some handy functions to convert between a grid and a state."
   ]
  },
  {
   "cell_type": "code",
   "execution_count": null,
   "metadata": {
    "collapsed": false
   },
   "outputs": [],
   "source": [
    "def convert_state_to_grid (s):\n",
    "    \"\"\"\n",
    "    Converts a state, given as a tuple `s`, into an equivalent\n",
    "    1-D grid with `len (s)` cells.\n",
    "    \"\"\"\n",
    "    G = create_world_1d (s)\n",
    "    return G\n",
    "\n",
    "def convert_grid_to_state (G):\n",
    "    \"\"\"\n",
    "    Converts a 1-D grid (with its empty boundary)\n",
    "    into a state tuple.\n",
    "    \"\"\"\n",
    "    G_interior = G[1:-1]\n",
    "    return tuple (G[1:-1])"
   ]
  },
  {
   "cell_type": "code",
   "execution_count": null,
   "metadata": {
    "collapsed": false
   },
   "outputs": [],
   "source": [
    "# Test\n",
    "assert N == 3\n",
    "SIGMA0 = (SUSCEPTIBLE, INFECTED, SUSCEPTIBLE)\n",
    "G0 = create_world_1d (SIGMA0)\n",
    "\n",
    "print (\"==> Original grid:\")\n",
    "print (G0, \"\\n\")\n",
    "\n",
    "print (\"==> Equivalent state (id):\")\n",
    "s0 = convert_grid_to_state (G0)\n",
    "i0 = SIGMA_TO_INDEX[s0]\n",
    "print (\"State\", s0, \"--> index\", i0, \"\\n\")\n",
    "\n",
    "print (\"==> Convert back to grid:\")\n",
    "s0_prime = INDEX_TO_SIGMA[i0]\n",
    "G0_prime = convert_state_to_grid (s0_prime)\n",
    "print (G0_prime, \"\\n\")\n",
    "\n",
    "assert (G0 == G0_prime).all ()\n",
    "print (\"==> Passed!\")"
   ]
  },
  {
   "cell_type": "markdown",
   "metadata": {},
   "source": [
    "## Reachability\n",
    "\n",
    "The last thing you need to compute $p_{ij}$ is a way to enumerate all _reachable_ $j$ values, given $i$. The following code cells build a function to determine reachability."
   ]
  },
  {
   "cell_type": "markdown",
   "metadata": {},
   "source": [
    "**Exercise 4** (2 points). Let $\\tau$ be the conditional probability that an exposed individual becomes infected. Further suppose the grid contains $n_e$ exposed individuals.\n",
    "\n",
    "1. How many different ways are there for $n_s$ individuals to become infected? (Assume $0 \\leq n_s \\leq n_e$.)\n",
    "2. What is the probability of $n_s$ of the $n_e$ individuals becoming infected?"
   ]
  },
  {
   "cell_type": "markdown",
   "metadata": {
    "deletable": false,
    "nbgrader": {
     "checksum": "0ff53802a56ee6f22ebcd13589540945",
     "grade": true,
     "grade_id": "analysis",
     "locked": false,
     "points": 2,
     "solution": true
    }
   },
   "source": [
    "YOUR ANSWER HERE"
   ]
  },
  {
   "cell_type": "code",
   "execution_count": null,
   "metadata": {
    "collapsed": false
   },
   "outputs": [],
   "source": [
    "def reachable (G, k, tau):\n",
    "    \"\"\"\n",
    "    Generator to enumerate all worlds reachable in one\n",
    "    simulation step from a given world.\n",
    "    \"\"\"\n",
    "    # Find all infected cells\n",
    "    I = infected (G, k)\n",
    "    if np.sum (I) == 0: # No infected cells\n",
    "        yield (1.0, G)\n",
    "    else: # >= 1 infected cell\n",
    "        # Find number and locations of all exposed cells\n",
    "        locs_E = find (exposed (G, k))\n",
    "        n_E = len (locs_E)\n",
    "\n",
    "        # Try all possible spreading combinations\n",
    "        for k in range (n_E+1):\n",
    "            # Probability that a particular set of k exposed people become infected:\n",
    "            prob_k = (tau**k) * ((1.0 - tau)**(n_E - k))\n",
    "\n",
    "            # Enumerate all reachable infection states\n",
    "            for spread_locs_k in itertools.combinations (locs_E, k):\n",
    "                G_next = np.copy (G) + I\n",
    "                for i in spread_locs_k:\n",
    "                    G_next[i] = INFECTED\n",
    "                yield (prob_k, G_next)"
   ]
  },
  {
   "cell_type": "code",
   "execution_count": null,
   "metadata": {
    "collapsed": false
   },
   "outputs": [],
   "source": [
    "n_states = len (Sigma)\n",
    "nz_i = []\n",
    "nz_j = []\n",
    "nz_val = []\n",
    "for s_i in Sigma:\n",
    "    i = SIGMA_TO_INDEX[s_i]\n",
    "    G_i = convert_state_to_grid (s_i)\n",
    "    \n",
    "    for (p_ij, G_j) in reachable (G_i, K, TAU):\n",
    "        s_j = convert_grid_to_state (G_j)\n",
    "        j = SIGMA_TO_INDEX[s_j]\n",
    "        nz_i.append (i)\n",
    "        nz_j.append (j)\n",
    "        nz_val.append (p_ij)\n",
    "            \n",
    "P = sp.sparse.coo_matrix ((nz_val, (nz_i, nz_j)), (n_states, n_states))\n",
    "print (\"no. of states ==\", n_states)\n",
    "print (\"tau ==\", TAU, \"; P = (p_{ij}) =\\n\", P)\n",
    "print (\"nnz(P) ==\", P.nnz)\n",
    "print (\"row sums ==\", P.sum (axis=1))\n",
    "\n",
    "plt.spy (P, markersize=5, precision=.1)"
   ]
  },
  {
   "cell_type": "markdown",
   "metadata": {},
   "source": [
    "**Exercise 5** (1 point). Compute the steady-state distribution, using the initial distribution `x0` defined below and the state-transition matrix `P` defined above. Store this distribution in a NumPy array `x[:n_states]`."
   ]
  },
  {
   "cell_type": "code",
   "execution_count": null,
   "metadata": {
    "collapsed": false,
    "deletable": false,
    "nbgrader": {
     "checksum": "7c1ecf4aeee55e123649be20eef03680",
     "grade": false,
     "grade_id": "markov_chain",
     "locked": false,
     "points": 1,
     "solution": true
    }
   },
   "outputs": [],
   "source": [
    "x0 = np.zeros ((n_states, 1))\n",
    "x0[SIGMA_TO_INDEX[(SUSCEPTIBLE, INFECTED, SUSCEPTIBLE)]] = 1.0\n",
    "\n",
    "# YOUR CODE HERE\n",
    "raise NotImplementedError()\n",
    "\n",
    "# Summarize the \"interesting\" states\n",
    "x_sorted = sorted (list (enumerate (x)), key=lambda t: t[1], reverse=True)\n",
    "x_interesting = list (filter (lambda t: t[1] > 0.0, x_sorted))\n",
    "\n",
    "print (\"=== Parameter summary ===\")\n",
    "print (\"N:\", N)\n",
    "print (\"TAU:\", TAU)\n",
    "print (\"K:\", K)\n",
    "\n",
    "print (\"\\n=== Results ===\\n\")\n",
    "\n",
    "print (len (x_interesting), \"state(s) have a non-zero steady-state probability:\")\n",
    "for (i, x_i) in x_interesting:\n",
    "    print (\"  %d:\" % i, \"Pr[%s] ==\" % str(INDEX_TO_SIGMA[i]), x_i[0])\n",
    "\n",
    "nnz_hist = np.zeros (N+1)\n",
    "for (i, x_i) in x_interesting:\n",
    "    nnz = sum ([j > 0 for j in INDEX_TO_SIGMA[i]])\n",
    "    nnz_hist[nnz] += x_i[0]\n",
    "    \n",
    "print (\"\\nProbability of k persons being infected:\")\n",
    "E_k = 0.0\n",
    "for (k, p_k) in enumerate (nnz_hist):\n",
    "    print (\"  Pr[%d recovered] == %g\" % (k, p_k))\n",
    "    E_k += k * p_k\n",
    "print (\"  ==> Expected value of k ==\", E_k)\n",
    "print (\"  ==> Expected fraction infected ==\", E_k/N)"
   ]
  },
  {
   "cell_type": "code",
   "execution_count": null,
   "metadata": {
    "collapsed": false,
    "deletable": false,
    "nbgrader": {
     "checksum": "9e32c6320cd9b05a0274a76b1598c007",
     "grade": true,
     "grade_id": "markov_chain_test",
     "locked": true,
     "points": 1,
     "solution": false
    }
   },
   "outputs": [],
   "source": [
    "assert abs (E_k - 1.72) <= 1e-15\n",
    "print (\"\\n(Passed.)\")"
   ]
  },
  {
   "cell_type": "code",
   "execution_count": null,
   "metadata": {
    "collapsed": true
   },
   "outputs": [],
   "source": []
  }
 ],
 "metadata": {
  "kernelspec": {
   "display_name": "Python 3",
   "language": "python",
   "name": "python3"
  },
  "language_info": {
   "codemirror_mode": {
    "name": "ipython",
    "version": 3
   },
   "file_extension": ".py",
   "mimetype": "text/x-python",
   "name": "python",
   "nbconvert_exporter": "python",
   "pygments_lexer": "ipython3",
   "version": "3.5.1"
  }
 },
 "nbformat": 4,
 "nbformat_minor": 0
}
